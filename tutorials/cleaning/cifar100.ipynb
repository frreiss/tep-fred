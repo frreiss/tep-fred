{
 "cells": [
  {
   "cell_type": "markdown",
   "id": "66886c3e-b34f-4683-b014-c1480183b269",
   "metadata": {},
   "source": []
  },
  {
   "cell_type": "markdown",
   "id": "7c288415-8836-43e3-ab80-5393fb723807",
   "metadata": {},
   "source": [
    "# Experiments on CIFAR-100"
   ]
  },
  {
   "cell_type": "code",
   "execution_count": 1,
   "id": "2f636c74-7cd8-4920-94eb-3c84e1edcef4",
   "metadata": {},
   "outputs": [],
   "source": [
    "# Try to keep all imports in this cell\n",
    "\n",
    "import torch\n",
    "import torchvision.datasets\n",
    "import numpy as np\n",
    "import pandas as pd\n",
    "import os\n",
    "import sklearn.pipeline\n",
    "import sklearn.linear_model\n",
    "import sklearn.random_projection\n",
    "import matplotlib.pyplot as plt\n",
    "import scipy\n",
    "import IPython\n",
    "import random\n",
    "\n",
    "try:\n",
    "    import text_extensions_for_pandas as tp\n",
    "except ModuleNotFoundError:\n",
    "    raise Exception(\"text_extensions_for_pandas package not found on the Jupyter \"\n",
    "                    \"kernel's path. Please either run:\\n\"\n",
    "                    \"   ln -s ../../text_extensions_for_pandas .\\n\"\n",
    "                    \"from the directory containing this notebook, or use a Python \"\n",
    "                    \"environment on which you have used `pip` to install the package.\")\n",
    "\n",
    "# Keep the inputs and outputs of this script in their own subdirectories.\n",
    "OUTPUT_DIR = \"outputs/cifar100\"\n",
    "DATA_DIR = \"data/cifar100\"\n",
    "os.makedirs(DATA_DIR, exist_ok=True)\n",
    "os.makedirs(OUTPUT_DIR, exist_ok=True)"
   ]
  },
  {
   "cell_type": "markdown",
   "id": "c3548579-8062-4ecb-bd97-e1b0035ab99f",
   "metadata": {},
   "source": [
    "## Load the data set"
   ]
  },
  {
   "cell_type": "code",
   "execution_count": 2,
   "id": "739b87fb-4049-4689-be5b-ac216d75fc00",
   "metadata": {},
   "outputs": [
    {
     "name": "stdout",
     "output_type": "stream",
     "text": [
      "Files already downloaded and verified\n",
      "Files already downloaded and verified\n"
     ]
    },
    {
     "data": {
      "text/plain": [
       "Dataset CIFAR100\n",
       "    Number of datapoints: 10000\n",
       "    Root location: data/cifar100\n",
       "    Split: Test"
      ]
     },
     "execution_count": 2,
     "metadata": {},
     "output_type": "execute_result"
    }
   ],
   "source": [
    "# Grab the data set\n",
    "cifar100_train = torchvision.datasets.CIFAR100(DATA_DIR, train=True, download=True)\n",
    "cifar100_test = torchvision.datasets.CIFAR100(DATA_DIR, train=False, download=True)\n",
    "cifar100_test"
   ]
  },
  {
   "cell_type": "code",
   "execution_count": 3,
   "id": "50aebb78-61e9-4355-a4b6-435d4a55a8e8",
   "metadata": {},
   "outputs": [
    {
     "data": {
      "image/png": "[encoded data removed]",
      "text/plain": [
       "<PIL.Image.Image image mode=RGB size=32x32 at 0x7FBDD01A5E20>"
      ]
     },
     "execution_count": 3,
     "metadata": {},
     "output_type": "execute_result"
    }
   ],
   "source": [
    "# PyTorch Dataset objects store images with PIL.\n",
    "image, label = cifar100_test[3]\n",
    "image"
   ]
  },
  {
   "cell_type": "code",
   "execution_count": 4,
   "id": "c0a498df-0e70-4c8d-a0dd-d6626ac378df",
   "metadata": {},
   "outputs": [
    {
     "data": {
      "text/plain": [
       "(51, 'mushroom')"
      ]
     },
     "execution_count": 4,
     "metadata": {},
     "output_type": "execute_result"
    }
   ],
   "source": [
    "label, cifar100_train.classes[label]"
   ]
  },
  {
   "cell_type": "code",
   "execution_count": 5,
   "id": "9d206368-619a-4721-974f-238072b2d15d",
   "metadata": {},
   "outputs": [
    {
     "data": {
      "text/plain": [
       "100"
      ]
     },
     "execution_count": 5,
     "metadata": {},
     "output_type": "execute_result"
    }
   ],
   "source": [
    "# We'll need this number later on.\n",
    "num_classes = len(cifar100_train.classes)\n",
    "num_classes"
   ]
  },
  {
   "cell_type": "markdown",
   "id": "8180783f-6cb9-411a-bfa2-623f33d354c7",
   "metadata": {},
   "source": [
    "## Load and run pretrained model"
   ]
  },
  {
   "cell_type": "code",
   "execution_count": 6,
   "id": "c585aa89-a4fd-43bc-8bfb-9f89510da33b",
   "metadata": {},
   "outputs": [
    {
     "name": "stderr",
     "output_type": "stream",
     "text": [
      "Using cache found in /Users/freiss/.cache/torch/hub/chenyaofo_pytorch-cifar-models_master\n",
      "Using cache found in /Users/freiss/.cache/torch/hub/chenyaofo_pytorch-cifar-models_master\n"
     ]
    },
    {
     "name": "stdout",
     "output_type": "stream",
     "text": [
      "Available models:\n",
      "['cifar100_mobilenetv2_x0_5', 'cifar100_mobilenetv2_x0_75', 'cifar100_mobilenetv2_x1_0', 'cifar100_mobilenetv2_x1_4', 'cifar100_repvgg_a0', 'cifar100_repvgg_a1', 'cifar100_repvgg_a2', 'cifar100_resnet20', 'cifar100_resnet32', 'cifar100_resnet44', 'cifar100_resnet56', 'cifar100_shufflenetv2_x0_5', 'cifar100_shufflenetv2_x1_0', 'cifar100_shufflenetv2_x1_5', 'cifar100_shufflenetv2_x2_0', 'cifar100_vgg11_bn', 'cifar100_vgg13_bn', 'cifar100_vgg16_bn', 'cifar100_vgg19_bn', 'cifar100_vit_b16', 'cifar100_vit_b32', 'cifar100_vit_h14', 'cifar100_vit_l16', 'cifar100_vit_l32', 'cifar10_mobilenetv2_x0_5', 'cifar10_mobilenetv2_x0_75', 'cifar10_mobilenetv2_x1_0', 'cifar10_mobilenetv2_x1_4', 'cifar10_repvgg_a0', 'cifar10_repvgg_a1', 'cifar10_repvgg_a2', 'cifar10_resnet20', 'cifar10_resnet32', 'cifar10_resnet44', 'cifar10_resnet56', 'cifar10_shufflenetv2_x0_5', 'cifar10_shufflenetv2_x1_0', 'cifar10_shufflenetv2_x1_5', 'cifar10_shufflenetv2_x2_0', 'cifar10_vgg11_bn', 'cifar10_vgg13_bn', 'cifar10_vgg16_bn', 'cifar10_vgg19_bn', 'cifar10_vit_b16', 'cifar10_vit_b32', 'cifar10_vit_h14', 'cifar10_vit_l16', 'cifar10_vit_l32']\n",
      "Using model: cifar100_mobilenetv2_x1_4\n"
     ]
    }
   ],
   "source": [
    "# Grab a pretrained model from https://github.com/chenyaofo/pytorch-cifar-models\n",
    "model_repo_name = \"chenyaofo/pytorch-cifar-models\"\n",
    "print(f\"Available models:\\n{torch.hub.list(model_repo_name)}\")\n",
    "\n",
    "# This model gets 75.98% top-1 and 93.44% top-5 accuracy on CIFAR-100.\n",
    "model_name_core = \"mobilenetv2_x1_4\"\n",
    "\n",
    "# Alternate model: VGG19. Much slower with similar accuracy to the\n",
    "# mobilenetv2_x1_4 model, but closer in structure to the model used \n",
    "# in previous work.\n",
    "# model_name_core = \"repvgg_a2\"\n",
    "\n",
    "# model_name_core = \"resnet20\"\n",
    "\n",
    "model_name = f\"cifar100_{model_name_core}\"\n",
    "\n",
    "print(f\"Using model: {model_name}\")\n",
    "\n",
    "model = torch.hub.load(model_repo_name, model_name, pretrained=True)\n",
    "_ = model.eval()  # VERY IMPORTANT. Turns off dropout."
   ]
  },
  {
   "cell_type": "code",
   "execution_count": 7,
   "id": "ff3638e7-d8b6-492a-a95b-d0a57af35cb2",
   "metadata": {},
   "outputs": [],
   "source": [
    "# Metadata required for inference, from\n",
    "# https://github.com/chenyaofo/image-classification-codebase/blob/master/conf/cifar100.conf\n",
    "image_size = 32\n",
    "rgb_means = [0.5070, 0.4865, 0.4409]\n",
    "rgb_stdevs = [0.2673, 0.2564, 0.2761]\n",
    "\n",
    "# See https://github.com/chenyaofo/image-classification-codebase/blob/master/codebase/data/cifar.py\n",
    "def preprocess_image(img) -> torch.Tensor:\n",
    "    img_tensor = torchvision.transforms.ToTensor()(img)\n",
    "    img_tensor = torchvision.transforms.Normalize(mean=rgb_means, std=rgb_stdevs)(img_tensor)\n",
    "    img_tensor = img_tensor.unsqueeze(0) # Convert to singleton batch\n",
    "    return img_tensor"
   ]
  },
  {
   "cell_type": "code",
   "execution_count": 8,
   "id": "bd7df06c-cef1-49e9-9b76-a176e9362e69",
   "metadata": {},
   "outputs": [
    {
     "name": "stdout",
     "output_type": "stream",
     "text": [
      "Class Probabilities:\n",
      "tensor([8.5950e-06, 4.6022e-05, 6.5347e-07, 1.6395e-05, 3.0538e-06, 6.4615e-07,\n",
      "        1.4084e-06, 1.7868e-06, 1.8923e-06, 2.5074e-05, 5.1697e-06, 8.7581e-06,\n",
      "        2.6024e-06, 8.9292e-07, 1.6432e-06, 6.3570e-06, 2.0365e-04, 1.4186e-05,\n",
      "        9.5952e-05, 1.5198e-05, 3.2176e-05, 4.2045e-06, 3.0191e-05, 1.2927e-06,\n",
      "        2.3027e-05, 4.4596e-06, 1.5781e-05, 2.5413e-06, 7.8990e-06, 3.8344e-05,\n",
      "        2.3863e-05, 7.8507e-05, 3.3953e-05, 8.2356e-05, 1.8366e-05, 5.1161e-06,\n",
      "        3.1476e-07, 1.0010e-03, 7.3645e-05, 2.4696e-06, 1.0808e-04, 1.4148e-06,\n",
      "        1.9303e-06, 2.0691e-06, 3.1149e-05, 3.5173e-06, 1.3798e-05, 7.9174e-07,\n",
      "        5.0428e-06, 3.7497e-06, 2.7426e-06, 9.9217e-01, 6.1359e-08, 1.3346e-06,\n",
      "        4.7322e-05, 1.8139e-06, 8.0463e-06, 3.1280e-06, 7.9280e-07, 7.6722e-06,\n",
      "        3.4295e-07, 3.6008e-06, 1.1946e-06, 1.7977e-06, 2.0841e-05, 2.9919e-05,\n",
      "        5.7613e-06, 5.3407e-06, 9.6131e-07, 3.8248e-06, 3.0532e-06, 1.0396e-06,\n",
      "        6.8870e-06, 4.2783e-04, 6.2033e-05, 4.7419e-05, 3.0703e-06, 3.8533e-04,\n",
      "        2.1212e-04, 2.3254e-07, 1.5843e-05, 4.9321e-06, 7.6155e-06, 2.1627e-06,\n",
      "        6.0322e-05, 5.8074e-06, 1.2395e-06, 3.1302e-06, 1.6858e-06, 2.4050e-05,\n",
      "        1.7118e-06, 3.9540e-03, 3.1233e-05, 1.8940e-04, 1.3493e-05, 7.1885e-06,\n",
      "        1.6572e-06, 3.1511e-05, 9.1177e-07, 6.3273e-05])\n",
      "Probability of corpus label: 0.9921724796295166 at 51 (mushroom)\n",
      "            Max probability: 0.9921724796295166 at 51 (mushroom)\n"
     ]
    }
   ],
   "source": [
    "# Run an image through the model to verify it's loaded correctly\n",
    "image_tensor = preprocess_image(image)\n",
    "with torch.inference_mode():\n",
    "    logits = model(image_tensor)[0]\n",
    "    probs = torch.nn.functional.softmax(logits, dim=0)\n",
    "print(f\"Class Probabilities:\\n{probs}\")\n",
    "print(f\"Probability of corpus label: {probs[label]} at {label} \"\n",
    "      f\"({cifar100_train.classes[label]})\")\n",
    "print(f\"            Max probability: {torch.max(probs)} at {torch.argmax(probs)} \"\n",
    "      f\"({cifar100_train.classes[torch.argmax(probs)]})\")"
   ]
  },
  {
   "cell_type": "code",
   "execution_count": 9,
   "id": "ea72cf73-26bc-4037-8704-d05e096e63bb",
   "metadata": {},
   "outputs": [
    {
     "data": {
      "text/plain": [
       "<torch.utils.hooks.RemovableHandle at 0x7fbdd087ae50>"
      ]
     },
     "execution_count": 9,
     "metadata": {},
     "output_type": "execute_result"
    }
   ],
   "source": [
    "# Add a forward hook to retreive activations of the model from the\n",
    "# layer before the classifier\n",
    "activation = {}\n",
    "\n",
    "\n",
    "def get_activation(name):\n",
    "    def hook(model, input, output):\n",
    "        activation[name] = output.detach()\n",
    "    return hook\n",
    "\n",
    "\n",
    "model.features.register_forward_hook(get_activation(\"features\"))"
   ]
  },
  {
   "cell_type": "code",
   "execution_count": 10,
   "id": "47b3375e-a2ba-4145-916d-00df4ca63497",
   "metadata": {},
   "outputs": [
    {
     "data": {
      "text/plain": [
       "(array([0.03481359, 0.04923873, 0.3056193 , ..., 0.17622763, 0.22800577,\n",
       "        0.22937879], dtype=float32),\n",
       " array([8.5950114e-06, 4.6022476e-05, 6.5346967e-07, 1.6395146e-05,\n",
       "        3.0538101e-06, 6.4614551e-07, 1.4084287e-06, 1.7867670e-06,\n",
       "        1.8922734e-06, 2.5073919e-05, 5.1696593e-06, 8.7580738e-06,\n",
       "        2.6023677e-06, 8.9291973e-07, 1.6432158e-06, 6.3570187e-06,\n",
       "        2.0364657e-04, 1.4186463e-05, 9.5952470e-05, 1.5197619e-05,\n",
       "        3.2175813e-05, 4.2045472e-06, 3.0190857e-05, 1.2927366e-06,\n",
       "        2.3026574e-05, 4.4595604e-06, 1.5781352e-05, 2.5412742e-06,\n",
       "        7.8990442e-06, 3.8343620e-05, 2.3862558e-05, 7.8507052e-05,\n",
       "        3.3953398e-05, 8.2355939e-05, 1.8366072e-05, 5.1161255e-06,\n",
       "        3.1475784e-07, 1.0009931e-03, 7.3644842e-05, 2.4696026e-06,\n",
       "        1.0808380e-04, 1.4148462e-06, 1.9303461e-06, 2.0691036e-06,\n",
       "        3.1148567e-05, 3.5173248e-06, 1.3797635e-05, 7.9174265e-07,\n",
       "        5.0427675e-06, 3.7496616e-06, 2.7426463e-06, 9.9217248e-01,\n",
       "        6.1358669e-08, 1.3345600e-06, 4.7321686e-05, 1.8138680e-06,\n",
       "        8.0462623e-06, 3.1280215e-06, 7.9279744e-07, 7.6721981e-06,\n",
       "        3.4295263e-07, 3.6008455e-06, 1.1945521e-06, 1.7977368e-06,\n",
       "        2.0841318e-05, 2.9919309e-05, 5.7613333e-06, 5.3406893e-06,\n",
       "        9.6131441e-07, 3.8248204e-06, 3.0531869e-06, 1.0396062e-06,\n",
       "        6.8869617e-06, 4.2782599e-04, 6.2032625e-05, 4.7419402e-05,\n",
       "        3.0703325e-06, 3.8533303e-04, 2.1212315e-04, 2.3253584e-07,\n",
       "        1.5842861e-05, 4.9320911e-06, 7.6155420e-06, 2.1627161e-06,\n",
       "        6.0322058e-05, 5.8074061e-06, 1.2395012e-06, 3.1302179e-06,\n",
       "        1.6857537e-06, 2.4050149e-05, 1.7118302e-06, 3.9540241e-03,\n",
       "        3.1232565e-05, 1.8940249e-04, 1.3492892e-05, 7.1884856e-06,\n",
       "        1.6571909e-06, 3.1510957e-05, 9.1176571e-07, 6.3273488e-05],\n",
       "       dtype=float32))"
      ]
     },
     "execution_count": 10,
     "metadata": {},
     "output_type": "execute_result"
    }
   ],
   "source": [
    "def image_to_features(img) -> np.ndarray:\n",
    "    \"\"\"\n",
    "    Run an image through the model and retrieve the resulting classifier\n",
    "    input features.\n",
    "\n",
    "    :param img: PIL image object\n",
    "    :returns: Tuple with:\n",
    "     * Features for the image as a 1D NumPy array\n",
    "     * Final outputs of the model (class probabilities) as a 1D NumPy array\n",
    "    \"\"\"\n",
    "    with torch.inference_mode():\n",
    "        # Construct a singleton batch and run it through the model.\n",
    "        # This is not the most efficient way to do this, but the model's pretty\n",
    "        # fast and we only have to do this operation once.\n",
    "        img_tensor = preprocess_image(img)\n",
    "\n",
    "        logits = model.forward(img_tensor)\n",
    "        logits = torch.flatten(logits)\n",
    "\n",
    "        # Convert logits to probabilities by running them through softmax\n",
    "        probs = torch.nn.functional.softmax(logits, dim=0)\n",
    "\n",
    "        # Alternate approach: Treat logits as the actual results of running \n",
    "        # probabilities through the logistic function.\n",
    "        # probs = torch.special.expit(logits)\n",
    "        # probs /= probs.sum()\n",
    "\n",
    "        # Retrieve the features, which are 4x4-dimensional, and average pool them\n",
    "        # down as the underlying model does.\n",
    "        # `activation` is the dictionary that our callback uses.\n",
    "        features = activation[\"features\"]\n",
    "        features = torch.nn.functional.adaptive_avg_pool2d(features, (1, 1))\n",
    "        features = torch.flatten(features)\n",
    "        return (features.detach().numpy(), probs.detach().numpy())\n",
    "\n",
    "\n",
    "image_to_features(image)"
   ]
  },
  {
   "cell_type": "code",
   "execution_count": 11,
   "id": "d0c40117-b05f-4efa-b8e5-8e05f5686d4a",
   "metadata": {},
   "outputs": [],
   "source": [
    "def maybe_generate_features(data_set: torch.utils.data.Dataset, cache_path: str):\n",
    "    \"\"\"\n",
    "    If a result is available in the indicated cache file, load it into \n",
    "    a DataFrame. Otherwise, run all the images in a data set through the\n",
    "    model's lower layers to generate feature vectors for the classifier \n",
    "    and write the resulting DataFrame of features and labels to the \n",
    "    cache location.\n",
    "\n",
    "    :param data_set: Input set of images. Image should be element 0 of each\n",
    "    tuple in the data set.\n",
    "    :param cache_path: Path at which the resulting features DataFrame should\n",
    "     be cached.\n",
    "    \"\"\"\n",
    "    if not os.path.exists(cache_path):\n",
    "        features_list = []\n",
    "        labels_list = []\n",
    "        probs_list = []\n",
    "        for image, label in data_set:\n",
    "            features, probs = image_to_features(image)\n",
    "            features_list.append(features)\n",
    "            labels_list.append(label)\n",
    "            probs_list.append(probs)\n",
    "\n",
    "        df = pd.DataFrame({\n",
    "            \"id\": range(len(features_list)),\n",
    "            \"features\": pd.Series(features_list, dtype=tp.TensorDtype()),\n",
    "            \"probs\": pd.Series(probs_list, dtype=tp.TensorDtype()),\n",
    "            \"label\": labels_list\n",
    "        })\n",
    "        df.to_parquet(cache_path)\n",
    "    return pd.read_parquet(cache_path)"
   ]
  },
  {
   "cell_type": "code",
   "execution_count": 12,
   "id": "812c9d4c-1863-4171-90df-42443efa1903",
   "metadata": {},
   "outputs": [
    {
     "name": "stdout",
     "output_type": "stream",
     "text": [
      "CPU times: user 1.21 s, sys: 157 ms, total: 1.37 s\n",
      "Wall time: 342 ms\n"
     ]
    },
    {
     "data": {
      "text/html": [
       "<div>\n",
       "<style scoped>\n",
       "    .dataframe tbody tr th:only-of-type {\n",
       "        vertical-align: middle;\n",
       "    }\n",
       "\n",
       "    .dataframe tbody tr th {\n",
       "        vertical-align: top;\n",
       "    }\n",
       "\n",
       "    .dataframe thead th {\n",
       "        text-align: right;\n",
       "    }\n",
       "</style>\n",
       "<table border=\"1\" class=\"dataframe\">\n",
       "  <thead>\n",
       "    <tr style=\"text-align: right;\">\n",
       "      <th></th>\n",
       "      <th>id</th>\n",
       "      <th>features</th>\n",
       "      <th>probs</th>\n",
       "      <th>label</th>\n",
       "    </tr>\n",
       "  </thead>\n",
       "  <tbody>\n",
       "    <tr>\n",
       "      <th>0</th>\n",
       "      <td>0</td>\n",
       "      <td>[    0.18307097,    0.013836535,    0.04344034...</td>\n",
       "      <td>[  0.0010504944,   9.413256e-05,   0.001838636...</td>\n",
       "      <td>49</td>\n",
       "    </tr>\n",
       "    <tr>\n",
       "      <th>1</th>\n",
       "      <td>1</td>\n",
       "      <td>[    0.23108834,    0.096513025,   0.003626135...</td>\n",
       "      <td>[ 2.0701887e-06,   9.870547e-06,  3.5172136e-0...</td>\n",
       "      <td>33</td>\n",
       "    </tr>\n",
       "    <tr>\n",
       "      <th>2</th>\n",
       "      <td>2</td>\n",
       "      <td>[    0.13319004,     0.36743766,      0.474158...</td>\n",
       "      <td>[  7.419712e-07,  5.3416475e-08,   3.706408e-0...</td>\n",
       "      <td>72</td>\n",
       "    </tr>\n",
       "    <tr>\n",
       "      <th>3</th>\n",
       "      <td>3</td>\n",
       "      <td>[    0.03481356,     0.04923868,     0.3056191...</td>\n",
       "      <td>[  8.595003e-06,   4.602239e-05,  6.5346904e-0...</td>\n",
       "      <td>51</td>\n",
       "    </tr>\n",
       "    <tr>\n",
       "      <th>4</th>\n",
       "      <td>4</td>\n",
       "      <td>[    0.19876105,     0.31993148,            0....</td>\n",
       "      <td>[ 4.0264777e-07,  3.3833164e-08,  2.3356885e-0...</td>\n",
       "      <td>71</td>\n",
       "    </tr>\n",
       "    <tr>\n",
       "      <th>...</th>\n",
       "      <td>...</td>\n",
       "      <td>...</td>\n",
       "      <td>...</td>\n",
       "      <td>...</td>\n",
       "    </tr>\n",
       "    <tr>\n",
       "      <th>9995</th>\n",
       "      <td>9995</td>\n",
       "      <td>[    0.08025868,     0.13432066,            0....</td>\n",
       "      <td>[    0.07103336,  7.0743736e-06,   9.687936e-0...</td>\n",
       "      <td>83</td>\n",
       "    </tr>\n",
       "    <tr>\n",
       "      <th>9996</th>\n",
       "      <td>9996</td>\n",
       "      <td>[    0.24039556,     0.51754326,     0.1014616...</td>\n",
       "      <td>[ 1.4445293e-06,  5.2155083e-05,  0.0001052426...</td>\n",
       "      <td>14</td>\n",
       "    </tr>\n",
       "    <tr>\n",
       "      <th>9997</th>\n",
       "      <td>9997</td>\n",
       "      <td>[    0.10530074,   0.0039510024,     0.2609685...</td>\n",
       "      <td>[ 2.4445411e-08,  1.1145442e-08,  3.7830855e-1...</td>\n",
       "      <td>51</td>\n",
       "    </tr>\n",
       "    <tr>\n",
       "      <th>9998</th>\n",
       "      <td>9998</td>\n",
       "      <td>[    0.17295003,     0.45424968,     0.0785808...</td>\n",
       "      <td>[ 1.7262602e-06,  5.5876797e-07,  5.9284145e-0...</td>\n",
       "      <td>42</td>\n",
       "    </tr>\n",
       "    <tr>\n",
       "      <th>9999</th>\n",
       "      <td>9999</td>\n",
       "      <td>[    0.02128275,    0.094935656,     0.0962757...</td>\n",
       "      <td>[  2.830608e-07,   4.856023e-07,  4.2440988e-0...</td>\n",
       "      <td>70</td>\n",
       "    </tr>\n",
       "  </tbody>\n",
       "</table>\n",
       "<p>10000 rows × 4 columns</p>\n",
       "</div>"
      ],
      "text/plain": [
       "        id                                           features  \\\n",
       "0        0  [    0.18307097,    0.013836535,    0.04344034...   \n",
       "1        1  [    0.23108834,    0.096513025,   0.003626135...   \n",
       "2        2  [    0.13319004,     0.36743766,      0.474158...   \n",
       "3        3  [    0.03481356,     0.04923868,     0.3056191...   \n",
       "4        4  [    0.19876105,     0.31993148,            0....   \n",
       "...    ...                                                ...   \n",
       "9995  9995  [    0.08025868,     0.13432066,            0....   \n",
       "9996  9996  [    0.24039556,     0.51754326,     0.1014616...   \n",
       "9997  9997  [    0.10530074,   0.0039510024,     0.2609685...   \n",
       "9998  9998  [    0.17295003,     0.45424968,     0.0785808...   \n",
       "9999  9999  [    0.02128275,    0.094935656,     0.0962757...   \n",
       "\n",
       "                                                  probs  label  \n",
       "0     [  0.0010504944,   9.413256e-05,   0.001838636...     49  \n",
       "1     [ 2.0701887e-06,   9.870547e-06,  3.5172136e-0...     33  \n",
       "2     [  7.419712e-07,  5.3416475e-08,   3.706408e-0...     72  \n",
       "3     [  8.595003e-06,   4.602239e-05,  6.5346904e-0...     51  \n",
       "4     [ 4.0264777e-07,  3.3833164e-08,  2.3356885e-0...     71  \n",
       "...                                                 ...    ...  \n",
       "9995  [    0.07103336,  7.0743736e-06,   9.687936e-0...     83  \n",
       "9996  [ 1.4445293e-06,  5.2155083e-05,  0.0001052426...     14  \n",
       "9997  [ 2.4445411e-08,  1.1145442e-08,  3.7830855e-1...     51  \n",
       "9998  [ 1.7262602e-06,  5.5876797e-07,  5.9284145e-0...     42  \n",
       "9999  [  2.830608e-07,   4.856023e-07,  4.2440988e-0...     70  \n",
       "\n",
       "[10000 rows x 4 columns]"
      ]
     },
     "execution_count": 12,
     "metadata": {},
     "output_type": "execute_result"
    }
   ],
   "source": [
    "%%time\n",
    "# This takes about 2 minutes if the results aren't cached.\n",
    "test = maybe_generate_features(cifar100_test, f\"{OUTPUT_DIR}/cifar100_test.parquet\")\n",
    "test"
   ]
  },
  {
   "cell_type": "code",
   "execution_count": 13,
   "id": "b31c68cf-b4ed-4814-b170-27e7985cdc22",
   "metadata": {},
   "outputs": [
    {
     "name": "stdout",
     "output_type": "stream",
     "text": [
      "CPU times: user 927 ms, sys: 554 ms, total: 1.48 s\n",
      "Wall time: 1.44 s\n"
     ]
    },
    {
     "data": {
      "text/html": [
       "<div>\n",
       "<style scoped>\n",
       "    .dataframe tbody tr th:only-of-type {\n",
       "        vertical-align: middle;\n",
       "    }\n",
       "\n",
       "    .dataframe tbody tr th {\n",
       "        vertical-align: top;\n",
       "    }\n",
       "\n",
       "    .dataframe thead th {\n",
       "        text-align: right;\n",
       "    }\n",
       "</style>\n",
       "<table border=\"1\" class=\"dataframe\">\n",
       "  <thead>\n",
       "    <tr style=\"text-align: right;\">\n",
       "      <th></th>\n",
       "      <th>id</th>\n",
       "      <th>features</th>\n",
       "      <th>probs</th>\n",
       "      <th>label</th>\n",
       "    </tr>\n",
       "  </thead>\n",
       "  <tbody>\n",
       "    <tr>\n",
       "      <th>0</th>\n",
       "      <td>0</td>\n",
       "      <td>[    0.36490348,            0.0,     0.0673169...</td>\n",
       "      <td>[  6.738046e-08,  1.8206116e-06, 0.00010795741...</td>\n",
       "      <td>19</td>\n",
       "    </tr>\n",
       "    <tr>\n",
       "      <th>1</th>\n",
       "      <td>1</td>\n",
       "      <td>[    0.03197602,    0.022291945,      0.768758...</td>\n",
       "      <td>[ 2.1781175e-09,   6.609471e-07,  1.7673889e-0...</td>\n",
       "      <td>29</td>\n",
       "    </tr>\n",
       "    <tr>\n",
       "      <th>2</th>\n",
       "      <td>2</td>\n",
       "      <td>[    0.17250007,     0.27478674,    0.02727457...</td>\n",
       "      <td>[     0.9984798,  1.2893012e-06,   1.412936e-0...</td>\n",
       "      <td>0</td>\n",
       "    </tr>\n",
       "    <tr>\n",
       "      <th>3</th>\n",
       "      <td>3</td>\n",
       "      <td>[           0.0,     0.22109374,    0.08527192...</td>\n",
       "      <td>[  8.002939e-08,   5.916073e-09,  5.6585725e-0...</td>\n",
       "      <td>11</td>\n",
       "    </tr>\n",
       "    <tr>\n",
       "      <th>4</th>\n",
       "      <td>4</td>\n",
       "      <td>[   0.029140279,            0.0,      1.018488...</td>\n",
       "      <td>[  3.693531e-09,      0.9999964,  1.9768387e-0...</td>\n",
       "      <td>1</td>\n",
       "    </tr>\n",
       "    <tr>\n",
       "      <th>...</th>\n",
       "      <td>...</td>\n",
       "      <td>...</td>\n",
       "      <td>...</td>\n",
       "      <td>...</td>\n",
       "    </tr>\n",
       "    <tr>\n",
       "      <th>49995</th>\n",
       "      <td>49995</td>\n",
       "      <td>[     0.8828023,     0.08167683,    0.05827973...</td>\n",
       "      <td>[  2.448151e-10,   2.643886e-08,  3.5246466e-0...</td>\n",
       "      <td>80</td>\n",
       "    </tr>\n",
       "    <tr>\n",
       "      <th>49996</th>\n",
       "      <td>49996</td>\n",
       "      <td>[     0.4152848,            0.0,      0.567196...</td>\n",
       "      <td>[ 2.0944965e-08,  1.6520039e-07,  6.7082175e-0...</td>\n",
       "      <td>7</td>\n",
       "    </tr>\n",
       "    <tr>\n",
       "      <th>49997</th>\n",
       "      <td>49997</td>\n",
       "      <td>[           0.0,     0.42848706,      0.053374...</td>\n",
       "      <td>[1.04876236e-07,   1.862563e-07,  2.3115113e-0...</td>\n",
       "      <td>3</td>\n",
       "    </tr>\n",
       "    <tr>\n",
       "      <th>49998</th>\n",
       "      <td>49998</td>\n",
       "      <td>[    0.15001081,     0.15990685,     0.1853563...</td>\n",
       "      <td>[ 3.4555305e-05,   5.975771e-05,   9.476925e-0...</td>\n",
       "      <td>7</td>\n",
       "    </tr>\n",
       "    <tr>\n",
       "      <th>49999</th>\n",
       "      <td>49999</td>\n",
       "      <td>[    0.12380948,   0.0061628404,     0.7356190...</td>\n",
       "      <td>[ 3.0380073e-07,   4.857151e-06,   6.813811e-0...</td>\n",
       "      <td>73</td>\n",
       "    </tr>\n",
       "  </tbody>\n",
       "</table>\n",
       "<p>50000 rows × 4 columns</p>\n",
       "</div>"
      ],
      "text/plain": [
       "          id                                           features  \\\n",
       "0          0  [    0.36490348,            0.0,     0.0673169...   \n",
       "1          1  [    0.03197602,    0.022291945,      0.768758...   \n",
       "2          2  [    0.17250007,     0.27478674,    0.02727457...   \n",
       "3          3  [           0.0,     0.22109374,    0.08527192...   \n",
       "4          4  [   0.029140279,            0.0,      1.018488...   \n",
       "...      ...                                                ...   \n",
       "49995  49995  [     0.8828023,     0.08167683,    0.05827973...   \n",
       "49996  49996  [     0.4152848,            0.0,      0.567196...   \n",
       "49997  49997  [           0.0,     0.42848706,      0.053374...   \n",
       "49998  49998  [    0.15001081,     0.15990685,     0.1853563...   \n",
       "49999  49999  [    0.12380948,   0.0061628404,     0.7356190...   \n",
       "\n",
       "                                                   probs  label  \n",
       "0      [  6.738046e-08,  1.8206116e-06, 0.00010795741...     19  \n",
       "1      [ 2.1781175e-09,   6.609471e-07,  1.7673889e-0...     29  \n",
       "2      [     0.9984798,  1.2893012e-06,   1.412936e-0...      0  \n",
       "3      [  8.002939e-08,   5.916073e-09,  5.6585725e-0...     11  \n",
       "4      [  3.693531e-09,      0.9999964,  1.9768387e-0...      1  \n",
       "...                                                  ...    ...  \n",
       "49995  [  2.448151e-10,   2.643886e-08,  3.5246466e-0...     80  \n",
       "49996  [ 2.0944965e-08,  1.6520039e-07,  6.7082175e-0...      7  \n",
       "49997  [1.04876236e-07,   1.862563e-07,  2.3115113e-0...      3  \n",
       "49998  [ 3.4555305e-05,   5.975771e-05,   9.476925e-0...      7  \n",
       "49999  [ 3.0380073e-07,   4.857151e-06,   6.813811e-0...     73  \n",
       "\n",
       "[50000 rows x 4 columns]"
      ]
     },
     "execution_count": 13,
     "metadata": {},
     "output_type": "execute_result"
    }
   ],
   "source": [
    "%%time\n",
    "# This takes about 12 minutes if the results aren't cached.\n",
    "train = maybe_generate_features(cifar100_train, f\"{OUTPUT_DIR}/cifar100_train.parquet\")\n",
    "train"
   ]
  },
  {
   "cell_type": "markdown",
   "id": "d2de23fa-8434-4d09-b3f3-6520cb53c129",
   "metadata": {},
   "source": [
    "## Train reduced-capacity models"
   ]
  },
  {
   "cell_type": "code",
   "execution_count": 14,
   "id": "5f21b844-a086-48cb-aaf1-539403e03562",
   "metadata": {},
   "outputs": [
    {
     "name": "stdout",
     "output_type": "stream",
     "text": [
      "CPU times: user 7min 30s, sys: 33.2 s, total: 8min 3s\n",
      "Wall time: 46.1 s\n"
     ]
    }
   ],
   "source": [
    "%%time\n",
    "# Train a multinomial logistic regression model on the training set.\n",
    "_MULTI_CLASS = \"multinomial\"\n",
    "_SOLVER, _SOLVER_LOG_LEVEL = (\"lbfgs\", 0)\n",
    "#_SOLVER, _SOLVER_LOG_LEVEL = (\"saga\", 1)\n",
    "\n",
    "\n",
    "# (from docs) \"Inverse of regularization strength; must be a positive float. \n",
    "# Like in support vector machines, smaller values specify stronger regularization.\"\n",
    "# Default values\n",
    "#_REGULARIZATION_TYPE, _REGULARIZATION_COEFF = (\"l2\", 1e0)\n",
    "\n",
    "# Super fast convergence, good accuracy, artificially low confidence\n",
    "#_REGULARIZATION_TYPE, _REGULARIZATION_COEFF = (\"l2\", 1e-5)\n",
    "\n",
    "# L1-regularlized: takes forever to converge, no improvement in accuracy\n",
    "#_REGULARIZATION_TYPE, _REGULARIZATION_COEFF = (\"l1\", 1e0)\n",
    "\n",
    "# This value produces a model where the average top-1 probability is\n",
    "# roughly equal to the top-1 accuracy.\n",
    "#_REGULARIZATION_TYPE, _REGULARIZATION_COEFF = (\"l2\", 7e-3)\n",
    "\n",
    "# This value produces a model with a nice straight calibration curve,\n",
    "# without any calibration\n",
    "_REGULARIZATION_TYPE, _REGULARIZATION_COEFF = (\"l2\", 1e-2)\n",
    "\n",
    "# TEMPORARY: Try a bit more regularization to see how the calibration curve of the\n",
    "# training set goes.\n",
    "#_REGULARIZATION_TYPE, _REGULARIZATION_COEFF = (\"l2\", 1e-5)\n",
    "\n",
    "def train_base_model(df: pd.DataFrame,\n",
    "                     regularization_type=_REGULARIZATION_TYPE,\n",
    "                     regularization_coeff=_REGULARIZATION_COEFF) -> sklearn.base.BaseEstimator:  \n",
    "    base_pipeline = sklearn.pipeline.Pipeline([\n",
    "        # Standard scaler. This only makes a difference for certain classes\n",
    "        # of embeddings.\n",
    "        #(\"scaler\", sklearn.preprocessing.StandardScaler()),\n",
    "        (\"mlogreg\", sklearn.linear_model.LogisticRegression(\n",
    "            multi_class=_MULTI_CLASS,\n",
    "            max_iter=1000,\n",
    "            verbose=_SOLVER_LOG_LEVEL,\n",
    "            penalty=regularization_type,\n",
    "            C=regularization_coeff,\n",
    "            solver=_SOLVER))\n",
    "    ])\n",
    "    return base_pipeline.fit(df[\"features\"].values, df[\"label\"])\n",
    "\n",
    "def train_reduced_model(df: pd.DataFrame,\n",
    "                        n_components: int, \n",
    "                        seed: int=42,\n",
    "                        regularization_type=_REGULARIZATION_TYPE,\n",
    "                        regularization_coeff=_REGULARIZATION_COEFF) -> sklearn.base.BaseEstimator:\n",
    "    pipeline = sklearn.pipeline.Pipeline([\n",
    "        # Standard scaler. This only makes a difference for certain classes\n",
    "        # of embeddings.\n",
    "        #(\"scaler\", sklearn.preprocessing.StandardScaler()),\n",
    "        (\"dimred\", sklearn.random_projection.GaussianRandomProjection(\n",
    "                n_components=n_components, random_state=seed)),\n",
    "        (\"mlogreg\", sklearn.linear_model.LogisticRegression(\n",
    "            multi_class=_MULTI_CLASS,\n",
    "            max_iter=1000,\n",
    "            verbose=_SOLVER_LOG_LEVEL,\n",
    "            penalty=regularization_type,\n",
    "            C=regularization_coeff,\n",
    "            solver=_SOLVER))\n",
    "    ])\n",
    "    return pipeline.fit(df[\"features\"].values, df[\"label\"])\n",
    "    \n",
    "\n",
    "base_model = train_base_model(train)"
   ]
  },
  {
   "cell_type": "code",
   "execution_count": 15,
   "id": "37da8a70-67b7-4412-b9a1-cbad49ae3309",
   "metadata": {},
   "outputs": [
    {
     "data": {
      "text/html": [
       "<div>\n",
       "<style scoped>\n",
       "    .dataframe tbody tr th:only-of-type {\n",
       "        vertical-align: middle;\n",
       "    }\n",
       "\n",
       "    .dataframe tbody tr th {\n",
       "        vertical-align: top;\n",
       "    }\n",
       "\n",
       "    .dataframe thead th {\n",
       "        text-align: right;\n",
       "    }\n",
       "</style>\n",
       "<table border=\"1\" class=\"dataframe\">\n",
       "  <thead>\n",
       "    <tr style=\"text-align: right;\">\n",
       "      <th></th>\n",
       "      <th>id</th>\n",
       "      <th>probs</th>\n",
       "      <th>label</th>\n",
       "      <th>label_prob</th>\n",
       "      <th>top1</th>\n",
       "      <th>top1_prob</th>\n",
       "      <th>top5</th>\n",
       "      <th>top5_match</th>\n",
       "    </tr>\n",
       "  </thead>\n",
       "  <tbody>\n",
       "    <tr>\n",
       "      <th>0</th>\n",
       "      <td>0</td>\n",
       "      <td>[  0.0010504944,   9.413256e-05,   0.001838636...</td>\n",
       "      <td>49</td>\n",
       "      <td>0.004306</td>\n",
       "      <td>90</td>\n",
       "      <td>0.335517</td>\n",
       "      <td>[90, 60, 69, 68, 55]</td>\n",
       "      <td>False</td>\n",
       "    </tr>\n",
       "    <tr>\n",
       "      <th>1</th>\n",
       "      <td>1</td>\n",
       "      <td>[ 2.0701887e-06,   9.870547e-06,  3.5172136e-0...</td>\n",
       "      <td>33</td>\n",
       "      <td>0.946687</td>\n",
       "      <td>33</td>\n",
       "      <td>0.946687</td>\n",
       "      <td>[33, 84, 88, 40,  9]</td>\n",
       "      <td>True</td>\n",
       "    </tr>\n",
       "    <tr>\n",
       "      <th>2</th>\n",
       "      <td>2</td>\n",
       "      <td>[  7.419712e-07,  5.3416475e-08,   3.706408e-0...</td>\n",
       "      <td>72</td>\n",
       "      <td>0.023260</td>\n",
       "      <td>55</td>\n",
       "      <td>0.852407</td>\n",
       "      <td>[55,  4, 72,  3, 27]</td>\n",
       "      <td>True</td>\n",
       "    </tr>\n",
       "    <tr>\n",
       "      <th>3</th>\n",
       "      <td>3</td>\n",
       "      <td>[  8.595003e-06,   4.602239e-05,  6.5346904e-0...</td>\n",
       "      <td>51</td>\n",
       "      <td>0.992172</td>\n",
       "      <td>51</td>\n",
       "      <td>0.992172</td>\n",
       "      <td>[51, 91, 37, 73, 77]</td>\n",
       "      <td>True</td>\n",
       "    </tr>\n",
       "    <tr>\n",
       "      <th>4</th>\n",
       "      <td>4</td>\n",
       "      <td>[ 4.0264777e-07,  3.3833164e-08,  2.3356885e-0...</td>\n",
       "      <td>71</td>\n",
       "      <td>0.994167</td>\n",
       "      <td>71</td>\n",
       "      <td>0.994167</td>\n",
       "      <td>[71, 23, 60, 82, 96]</td>\n",
       "      <td>True</td>\n",
       "    </tr>\n",
       "    <tr>\n",
       "      <th>5</th>\n",
       "      <td>5</td>\n",
       "      <td>[   6.44879e-06,   1.875078e-05,  4.5642587e-0...</td>\n",
       "      <td>92</td>\n",
       "      <td>0.001465</td>\n",
       "      <td>7</td>\n",
       "      <td>0.927225</td>\n",
       "      <td>[ 7, 79, 24,  6, 14]</td>\n",
       "      <td>False</td>\n",
       "    </tr>\n",
       "    <tr>\n",
       "      <th>6</th>\n",
       "      <td>6</td>\n",
       "      <td>[ 4.1170148e-07,   5.845992e-05,    3.09706e-0...</td>\n",
       "      <td>15</td>\n",
       "      <td>0.748704</td>\n",
       "      <td>15</td>\n",
       "      <td>0.748704</td>\n",
       "      <td>[15, 29, 31, 27, 85]</td>\n",
       "      <td>True</td>\n",
       "    </tr>\n",
       "    <tr>\n",
       "      <th>7</th>\n",
       "      <td>7</td>\n",
       "      <td>[ 1.0067877e-06,  2.7181803e-05,  5.1803668e-0...</td>\n",
       "      <td>14</td>\n",
       "      <td>0.535528</td>\n",
       "      <td>14</td>\n",
       "      <td>0.535528</td>\n",
       "      <td>[14, 63, 75, 74, 79]</td>\n",
       "      <td>True</td>\n",
       "    </tr>\n",
       "    <tr>\n",
       "      <th>8</th>\n",
       "      <td>8</td>\n",
       "      <td>[  4.739807e-07,  1.7587921e-07,  1.7107781e-0...</td>\n",
       "      <td>23</td>\n",
       "      <td>0.007730</td>\n",
       "      <td>71</td>\n",
       "      <td>0.991327</td>\n",
       "      <td>[71, 23, 60, 49, 12]</td>\n",
       "      <td>True</td>\n",
       "    </tr>\n",
       "    <tr>\n",
       "      <th>9</th>\n",
       "      <td>9</td>\n",
       "      <td>[    0.47669974,  3.9131068e-05,  0.0001874159...</td>\n",
       "      <td>0</td>\n",
       "      <td>0.476700</td>\n",
       "      <td>57</td>\n",
       "      <td>0.497938</td>\n",
       "      <td>[57,  0, 83, 53, 92]</td>\n",
       "      <td>True</td>\n",
       "    </tr>\n",
       "  </tbody>\n",
       "</table>\n",
       "</div>"
      ],
      "text/plain": [
       "   id                                              probs  label  label_prob  \\\n",
       "0   0  [  0.0010504944,   9.413256e-05,   0.001838636...     49    0.004306   \n",
       "1   1  [ 2.0701887e-06,   9.870547e-06,  3.5172136e-0...     33    0.946687   \n",
       "2   2  [  7.419712e-07,  5.3416475e-08,   3.706408e-0...     72    0.023260   \n",
       "3   3  [  8.595003e-06,   4.602239e-05,  6.5346904e-0...     51    0.992172   \n",
       "4   4  [ 4.0264777e-07,  3.3833164e-08,  2.3356885e-0...     71    0.994167   \n",
       "5   5  [   6.44879e-06,   1.875078e-05,  4.5642587e-0...     92    0.001465   \n",
       "6   6  [ 4.1170148e-07,   5.845992e-05,    3.09706e-0...     15    0.748704   \n",
       "7   7  [ 1.0067877e-06,  2.7181803e-05,  5.1803668e-0...     14    0.535528   \n",
       "8   8  [  4.739807e-07,  1.7587921e-07,  1.7107781e-0...     23    0.007730   \n",
       "9   9  [    0.47669974,  3.9131068e-05,  0.0001874159...      0    0.476700   \n",
       "\n",
       "   top1  top1_prob                  top5  top5_match  \n",
       "0    90   0.335517  [90, 60, 69, 68, 55]       False  \n",
       "1    33   0.946687  [33, 84, 88, 40,  9]        True  \n",
       "2    55   0.852407  [55,  4, 72,  3, 27]        True  \n",
       "3    51   0.992172  [51, 91, 37, 73, 77]        True  \n",
       "4    71   0.994167  [71, 23, 60, 82, 96]        True  \n",
       "5     7   0.927225  [ 7, 79, 24,  6, 14]       False  \n",
       "6    15   0.748704  [15, 29, 31, 27, 85]        True  \n",
       "7    14   0.535528  [14, 63, 75, 74, 79]        True  \n",
       "8    71   0.991327  [71, 23, 60, 49, 12]        True  \n",
       "9    57   0.497938  [57,  0, 83, 53, 92]        True  "
      ]
     },
     "execution_count": 15,
     "metadata": {},
     "output_type": "execute_result"
    }
   ],
   "source": [
    "# Eyeball some top-1 results from the original model\n",
    "\n",
    "def add_top_k_cols(df: pd.DataFrame) -> pd.DataFrame:\n",
    "    df = df.copy()\n",
    "    probs_array = df[\"probs\"].array.to_numpy()\n",
    "    num_examples = len(df.index)\n",
    "\n",
    "    df[\"label_prob\"] = probs_array[range(num_examples), df[\"label\"].to_numpy()]\n",
    "    df[\"top1\"] = np.argmax(probs_array, axis=1)\n",
    "    df[\"top1_prob\"] = np.max(probs_array, axis=1)\n",
    "    df[\"top5\"] = tp.TensorArray(np.flip(np.argsort(probs_array)[:,-5:], axis=1))\n",
    "    top5_mask = (\n",
    "        np.any(\n",
    "            np.equal(df[\"top5\"].values, df[\"label\"].values.reshape((-1,1))),\n",
    "            axis=1)\n",
    "    )\n",
    "    df[\"top5_match\"] = pd.Series(top5_mask, dtype=bool)\n",
    "    return df\n",
    "\n",
    "\n",
    "orig_results = add_top_k_cols(test[[\"id\", \"probs\", \"label\"]])\n",
    "\n",
    "orig_results.head(10)"
   ]
  },
  {
   "cell_type": "code",
   "execution_count": 16,
   "id": "6219d7a9-d94e-4650-b9a5-f0477bf99a06",
   "metadata": {},
   "outputs": [
    {
     "data": {
      "text/plain": [
       "0.7629"
      ]
     },
     "execution_count": 16,
     "metadata": {},
     "output_type": "execute_result"
    }
   ],
   "source": [
    "# Compute top-1 accuracy\n",
    "num_correct = (orig_results[\"label\"] == orig_results[\"top1\"]).sum()\n",
    "top_1_acc = num_correct / len(orig_results.index)\n",
    "top_1_acc"
   ]
  },
  {
   "cell_type": "code",
   "execution_count": 17,
   "id": "6f420259-098d-4efa-bcdd-420ffd27bfad",
   "metadata": {},
   "outputs": [
    {
     "data": {
      "text/html": [
       "<div>\n",
       "<style scoped>\n",
       "    .dataframe tbody tr th:only-of-type {\n",
       "        vertical-align: middle;\n",
       "    }\n",
       "\n",
       "    .dataframe tbody tr th {\n",
       "        vertical-align: top;\n",
       "    }\n",
       "\n",
       "    .dataframe thead th {\n",
       "        text-align: right;\n",
       "    }\n",
       "</style>\n",
       "<table border=\"1\" class=\"dataframe\">\n",
       "  <thead>\n",
       "    <tr style=\"text-align: right;\">\n",
       "      <th></th>\n",
       "      <th>id</th>\n",
       "      <th>probs</th>\n",
       "      <th>label</th>\n",
       "      <th>label_prob</th>\n",
       "      <th>top1</th>\n",
       "      <th>top1_prob</th>\n",
       "      <th>top5</th>\n",
       "      <th>top5_match</th>\n",
       "    </tr>\n",
       "  </thead>\n",
       "  <tbody>\n",
       "    <tr>\n",
       "      <th>0</th>\n",
       "      <td>0</td>\n",
       "      <td>[  0.005854557127795873,  0.001044076868371778...</td>\n",
       "      <td>49</td>\n",
       "      <td>0.012577</td>\n",
       "      <td>90</td>\n",
       "      <td>0.150746</td>\n",
       "      <td>[90, 69, 60, 68, 55]</td>\n",
       "      <td>False</td>\n",
       "    </tr>\n",
       "    <tr>\n",
       "      <th>1</th>\n",
       "      <td>1</td>\n",
       "      <td>[ 9.559308234828802e-05,  0.000254882639461478...</td>\n",
       "      <td>33</td>\n",
       "      <td>0.836550</td>\n",
       "      <td>33</td>\n",
       "      <td>0.836550</td>\n",
       "      <td>[33, 84, 88, 40, 81]</td>\n",
       "      <td>True</td>\n",
       "    </tr>\n",
       "    <tr>\n",
       "      <th>2</th>\n",
       "      <td>2</td>\n",
       "      <td>[ 8.761981268529843e-05, 1.5968990653538752e-0...</td>\n",
       "      <td>72</td>\n",
       "      <td>0.036595</td>\n",
       "      <td>55</td>\n",
       "      <td>0.769059</td>\n",
       "      <td>[55,  4, 72,  3, 27]</td>\n",
       "      <td>True</td>\n",
       "    </tr>\n",
       "    <tr>\n",
       "      <th>3</th>\n",
       "      <td>3</td>\n",
       "      <td>[ 0.0003684075279662523,  0.000954082237377838...</td>\n",
       "      <td>51</td>\n",
       "      <td>0.916458</td>\n",
       "      <td>51</td>\n",
       "      <td>0.916458</td>\n",
       "      <td>[51, 91, 37, 73, 77]</td>\n",
       "      <td>True</td>\n",
       "    </tr>\n",
       "    <tr>\n",
       "      <th>4</th>\n",
       "      <td>4</td>\n",
       "      <td>[0.00011528890187400213, 1.0516887165878677e-0...</td>\n",
       "      <td>71</td>\n",
       "      <td>0.973617</td>\n",
       "      <td>71</td>\n",
       "      <td>0.973617</td>\n",
       "      <td>[71, 23, 60, 82,  5]</td>\n",
       "      <td>True</td>\n",
       "    </tr>\n",
       "    <tr>\n",
       "      <th>5</th>\n",
       "      <td>5</td>\n",
       "      <td>[ 0.0006221577881041749,  0.000735041111398788...</td>\n",
       "      <td>92</td>\n",
       "      <td>0.009720</td>\n",
       "      <td>7</td>\n",
       "      <td>0.723193</td>\n",
       "      <td>[ 7, 79, 24,  6, 14]</td>\n",
       "      <td>False</td>\n",
       "    </tr>\n",
       "    <tr>\n",
       "      <th>6</th>\n",
       "      <td>6</td>\n",
       "      <td>[ 7.738071142873756e-05,  0.000895176135994743...</td>\n",
       "      <td>15</td>\n",
       "      <td>0.557472</td>\n",
       "      <td>15</td>\n",
       "      <td>0.557472</td>\n",
       "      <td>[15, 29, 27, 85, 31]</td>\n",
       "      <td>True</td>\n",
       "    </tr>\n",
       "    <tr>\n",
       "      <th>7</th>\n",
       "      <td>7</td>\n",
       "      <td>[ 0.0001074332463597663,  0.000481291928853394...</td>\n",
       "      <td>14</td>\n",
       "      <td>0.425870</td>\n",
       "      <td>14</td>\n",
       "      <td>0.425870</td>\n",
       "      <td>[14, 63, 74, 75, 79]</td>\n",
       "      <td>True</td>\n",
       "    </tr>\n",
       "    <tr>\n",
       "      <th>8</th>\n",
       "      <td>8</td>\n",
       "      <td>[0.00011774629461566955,  3.244943231821209e-0...</td>\n",
       "      <td>23</td>\n",
       "      <td>0.021130</td>\n",
       "      <td>71</td>\n",
       "      <td>0.960087</td>\n",
       "      <td>[71, 23, 60, 49, 69]</td>\n",
       "      <td>True</td>\n",
       "    </tr>\n",
       "    <tr>\n",
       "      <th>9</th>\n",
       "      <td>9</td>\n",
       "      <td>[   0.48011297929838725,  0.000514526585301943...</td>\n",
       "      <td>0</td>\n",
       "      <td>0.480113</td>\n",
       "      <td>0</td>\n",
       "      <td>0.480113</td>\n",
       "      <td>[ 0, 57, 83, 53, 92]</td>\n",
       "      <td>True</td>\n",
       "    </tr>\n",
       "  </tbody>\n",
       "</table>\n",
       "</div>"
      ],
      "text/plain": [
       "   id                                              probs  label  label_prob  \\\n",
       "0   0  [  0.005854557127795873,  0.001044076868371778...     49    0.012577   \n",
       "1   1  [ 9.559308234828802e-05,  0.000254882639461478...     33    0.836550   \n",
       "2   2  [ 8.761981268529843e-05, 1.5968990653538752e-0...     72    0.036595   \n",
       "3   3  [ 0.0003684075279662523,  0.000954082237377838...     51    0.916458   \n",
       "4   4  [0.00011528890187400213, 1.0516887165878677e-0...     71    0.973617   \n",
       "5   5  [ 0.0006221577881041749,  0.000735041111398788...     92    0.009720   \n",
       "6   6  [ 7.738071142873756e-05,  0.000895176135994743...     15    0.557472   \n",
       "7   7  [ 0.0001074332463597663,  0.000481291928853394...     14    0.425870   \n",
       "8   8  [0.00011774629461566955,  3.244943231821209e-0...     23    0.021130   \n",
       "9   9  [   0.48011297929838725,  0.000514526585301943...      0    0.480113   \n",
       "\n",
       "   top1  top1_prob                  top5  top5_match  \n",
       "0    90   0.150746  [90, 69, 60, 68, 55]       False  \n",
       "1    33   0.836550  [33, 84, 88, 40, 81]        True  \n",
       "2    55   0.769059  [55,  4, 72,  3, 27]        True  \n",
       "3    51   0.916458  [51, 91, 37, 73, 77]        True  \n",
       "4    71   0.973617  [71, 23, 60, 82,  5]        True  \n",
       "5     7   0.723193  [ 7, 79, 24,  6, 14]       False  \n",
       "6    15   0.557472  [15, 29, 27, 85, 31]        True  \n",
       "7    14   0.425870  [14, 63, 74, 75, 79]        True  \n",
       "8    71   0.960087  [71, 23, 60, 49, 69]        True  \n",
       "9     0   0.480113  [ 0, 57, 83, 53, 92]        True  "
      ]
     },
     "execution_count": 17,
     "metadata": {},
     "output_type": "execute_result"
    }
   ],
   "source": [
    "# Look at top-1 results from the sklearn model we just trained\n",
    "def make_results(data: pd.DataFrame, model: sklearn.base.BaseEstimator) -> pd.DataFrame:\n",
    "    df = data[[\"id\", \"label\"]].copy()\n",
    "    df[\"probs\"] = tp.TensorArray(model.predict_proba(data[\"features\"].values))\n",
    "    df = add_top_k_cols(df[[\"id\", \"probs\", \"label\"]])\n",
    "    return df\n",
    "\n",
    "\n",
    "base_results = make_results(test, base_model)\n",
    "base_results.head(10)"
   ]
  },
  {
   "cell_type": "code",
   "execution_count": 18,
   "id": "ed289aee-c5a4-4965-b356-38cb5d4fe61f",
   "metadata": {},
   "outputs": [
    {
     "data": {
      "text/plain": [
       "0.7602"
      ]
     },
     "execution_count": 18,
     "metadata": {},
     "output_type": "execute_result"
    }
   ],
   "source": [
    "# Compute top-1 accuracy\n",
    "num_correct = (base_results[\"label\"] == base_results[\"top1\"]).sum()\n",
    "top_1_acc = num_correct / len(base_results.index)\n",
    "top_1_acc"
   ]
  },
  {
   "cell_type": "code",
   "execution_count": 19,
   "id": "be17d9e3-1baa-42cf-86c5-3a3846e1cf12",
   "metadata": {},
   "outputs": [
    {
     "data": {
      "text/html": [
       "<div>\n",
       "<style scoped>\n",
       "    .dataframe tbody tr th:only-of-type {\n",
       "        vertical-align: middle;\n",
       "    }\n",
       "\n",
       "    .dataframe tbody tr th {\n",
       "        vertical-align: top;\n",
       "    }\n",
       "\n",
       "    .dataframe thead th {\n",
       "        text-align: right;\n",
       "    }\n",
       "</style>\n",
       "<table border=\"1\" class=\"dataframe\">\n",
       "  <thead>\n",
       "    <tr style=\"text-align: right;\">\n",
       "      <th></th>\n",
       "      <th>id</th>\n",
       "      <th>probs</th>\n",
       "      <th>label</th>\n",
       "      <th>label_prob</th>\n",
       "      <th>top1</th>\n",
       "      <th>top1_prob</th>\n",
       "      <th>top5</th>\n",
       "      <th>top5_match</th>\n",
       "    </tr>\n",
       "  </thead>\n",
       "  <tbody>\n",
       "    <tr>\n",
       "      <th>9446</th>\n",
       "      <td>9446</td>\n",
       "      <td>[ 0.0003272813447355605,  0.000899724838374340...</td>\n",
       "      <td>80</td>\n",
       "      <td>0.394444</td>\n",
       "      <td>80</td>\n",
       "      <td>0.394444</td>\n",
       "      <td>[80, 50, 74, 76, 31]</td>\n",
       "      <td>True</td>\n",
       "    </tr>\n",
       "    <tr>\n",
       "      <th>16859</th>\n",
       "      <td>16859</td>\n",
       "      <td>[ 0.0017786041015523356,   0.00366246804370483...</td>\n",
       "      <td>51</td>\n",
       "      <td>0.346758</td>\n",
       "      <td>51</td>\n",
       "      <td>0.346758</td>\n",
       "      <td>[51, 47, 28, 20,  4]</td>\n",
       "      <td>True</td>\n",
       "    </tr>\n",
       "    <tr>\n",
       "      <th>19598</th>\n",
       "      <td>19598</td>\n",
       "      <td>[  0.008480774233666014,  0.002821081815440394...</td>\n",
       "      <td>41</td>\n",
       "      <td>0.256684</td>\n",
       "      <td>41</td>\n",
       "      <td>0.256684</td>\n",
       "      <td>[41, 89, 48, 58, 10]</td>\n",
       "      <td>True</td>\n",
       "    </tr>\n",
       "    <tr>\n",
       "      <th>20144</th>\n",
       "      <td>20144</td>\n",
       "      <td>[ 0.0010523060059382005,  0.001928224575289976...</td>\n",
       "      <td>24</td>\n",
       "      <td>0.323389</td>\n",
       "      <td>24</td>\n",
       "      <td>0.323389</td>\n",
       "      <td>[24,  7, 26, 14, 93]</td>\n",
       "      <td>True</td>\n",
       "    </tr>\n",
       "    <tr>\n",
       "      <th>32814</th>\n",
       "      <td>32814</td>\n",
       "      <td>[  0.003201033186279686,  0.003471017335032799...</td>\n",
       "      <td>90</td>\n",
       "      <td>0.391521</td>\n",
       "      <td>90</td>\n",
       "      <td>0.391521</td>\n",
       "      <td>[90, 81, 18, 59,  9]</td>\n",
       "      <td>True</td>\n",
       "    </tr>\n",
       "    <tr>\n",
       "      <th>38608</th>\n",
       "      <td>38608</td>\n",
       "      <td>[  0.008979066802843364,  0.001021024177296173...</td>\n",
       "      <td>14</td>\n",
       "      <td>0.345245</td>\n",
       "      <td>14</td>\n",
       "      <td>0.345245</td>\n",
       "      <td>[14, 57, 74, 50,  7]</td>\n",
       "      <td>True</td>\n",
       "    </tr>\n",
       "    <tr>\n",
       "      <th>40712</th>\n",
       "      <td>40712</td>\n",
       "      <td>[0.00029675627374902043,     0.002592791588236...</td>\n",
       "      <td>44</td>\n",
       "      <td>0.334554</td>\n",
       "      <td>44</td>\n",
       "      <td>0.334554</td>\n",
       "      <td>[44, 78, 33,  8, 51]</td>\n",
       "      <td>True</td>\n",
       "    </tr>\n",
       "  </tbody>\n",
       "</table>\n",
       "</div>"
      ],
      "text/plain": [
       "          id                                              probs  label  \\\n",
       "9446    9446  [ 0.0003272813447355605,  0.000899724838374340...     80   \n",
       "16859  16859  [ 0.0017786041015523356,   0.00366246804370483...     51   \n",
       "19598  19598  [  0.008480774233666014,  0.002821081815440394...     41   \n",
       "20144  20144  [ 0.0010523060059382005,  0.001928224575289976...     24   \n",
       "32814  32814  [  0.003201033186279686,  0.003471017335032799...     90   \n",
       "38608  38608  [  0.008979066802843364,  0.001021024177296173...     14   \n",
       "40712  40712  [0.00029675627374902043,     0.002592791588236...     44   \n",
       "\n",
       "       label_prob  top1  top1_prob                  top5  top5_match  \n",
       "9446     0.394444    80   0.394444  [80, 50, 74, 76, 31]        True  \n",
       "16859    0.346758    51   0.346758  [51, 47, 28, 20,  4]        True  \n",
       "19598    0.256684    41   0.256684  [41, 89, 48, 58, 10]        True  \n",
       "20144    0.323389    24   0.323389  [24,  7, 26, 14, 93]        True  \n",
       "32814    0.391521    90   0.391521  [90, 81, 18, 59,  9]        True  \n",
       "38608    0.345245    14   0.345245  [14, 57, 74, 50,  7]        True  \n",
       "40712    0.334554    44   0.334554  [44, 78, 33,  8, 51]        True  "
      ]
     },
     "execution_count": 19,
     "metadata": {},
     "output_type": "execute_result"
    }
   ],
   "source": [
    "# Generate a report on the training set.\n",
    "base_train_results = make_results(train, base_model)\n",
    "\n",
    "# Take a peek at elements of the training set that ended up with low confidence\n",
    "low_confidence_but_correct = base_train_results[base_train_results[\"top1_prob\"] < 0.4]\n",
    "low_confidence_but_correct"
   ]
  },
  {
   "cell_type": "code",
   "execution_count": 20,
   "id": "0ef28c73-b42d-45ad-893a-c86d16918d3f",
   "metadata": {},
   "outputs": [],
   "source": [
    "def result_report(df: pd.DataFrame, fold_data, index_id: int):\n",
    "    \"\"\"\n",
    "    Generate a report on a particular model result.\n",
    "\n",
    "    :param df: DataFrame of model results as returned by `make_results()`.\n",
    "     Must have the following columns:\n",
    "     * `id`: Index into `fold_data` of the input data element\n",
    "     * `top5`: Top 5 results from the model\n",
    "     * `label`: Label from the source data, for validation\n",
    "    :param fold_data:  Data structure containing source data for the fold.\n",
    "    :param index_id: Value of the index of `df` for the row containing\n",
    "     the result in question.\n",
    "    \"\"\"\n",
    "    row = df.loc[index_id]\n",
    "    element_id = row[\"id\"]\n",
    "    image, label = fold_data[element_id]\n",
    "\n",
    "    # Sanity check: Make sure the labels match up\n",
    "    if label != row[\"label\"]:\n",
    "        raise ValueError(f\"Labels don't match ({label} != {row['label']}\")\n",
    "\n",
    "    top5 = row[\"top5\"].to_numpy()\n",
    "    print(f\"Image {element_id}:\")\n",
    "    IPython.display.display(IPython.display.Image(data=image._repr_png_()))\n",
    "    print(f\"Corpus label: {label} ==> {cifar100_train.classes[label]}\")\n",
    "    print(f\"Top 5 results: {top5} ==> {[cifar100_train.classes[l] for l in top5]}\")\n",
    "\n",
    "\n",
    "# for idx in low_confidence_but_correct.index:\n",
    "#     result_report(low_confidence_but_correct, cifar100_train, idx)"
   ]
  },
  {
   "cell_type": "code",
   "execution_count": 21,
   "id": "11928d4f-55ce-44f3-a941-081edf5ec5d4",
   "metadata": {},
   "outputs": [
    {
     "name": "stdout",
     "output_type": "stream",
     "text": [
      "Image 8393:\n"
     ]
    },
    {
     "data": {
      "image/png": "[encoded data removed]",
      "text/plain": [
       "<IPython.core.display.Image object>"
      ]
     },
     "metadata": {},
     "output_type": "display_data"
    },
    {
     "name": "stdout",
     "output_type": "stream",
     "text": [
      "Corpus label: 35 ==> girl\n",
      "Top 5 results: [ 2 35 11 73 97] ==> ['baby', 'girl', 'boy', 'shark', 'wolf']\n",
      "Image 12702:\n"
     ]
    },
    {
     "data": {
      "image/png": "[encoded data removed]",
      "text/plain": [
       "<IPython.core.display.Image object>"
      ]
     },
     "metadata": {},
     "output_type": "display_data"
    },
    {
     "name": "stdout",
     "output_type": "stream",
     "text": [
      "Corpus label: 99 ==> worm\n",
      "Top 5 results: [78 99 51 31 43] ==> ['snake', 'worm', 'mushroom', 'elephant', 'lion']\n",
      "Image 13523:\n"
     ]
    },
    {
     "data": {
      "image/png": "[encoded data removed]",
      "text/plain": [
       "<IPython.core.display.Image object>"
      ]
     },
     "metadata": {},
     "output_type": "display_data"
    },
    {
     "name": "stdout",
     "output_type": "stream",
     "text": [
      "Corpus label: 52 ==> oak_tree\n",
      "Top 5 results: [96 52 37 47 36] ==> ['willow_tree', 'oak_tree', 'house', 'maple_tree', 'hamster']\n",
      "Image 16646:\n"
     ]
    },
    {
     "data": {
      "image/png": "[encoded data removed]",
      "text/plain": [
       "<IPython.core.display.Image object>"
      ]
     },
     "metadata": {},
     "output_type": "display_data"
    },
    {
     "name": "stdout",
     "output_type": "stream",
     "text": [
      "Corpus label: 50 ==> mouse\n",
      "Top 5 results: [74 50  2  4 24] ==> ['shrew', 'mouse', 'baby', 'beaver', 'cockroach']\n",
      "Image 17688:\n"
     ]
    },
    {
     "data": {
      "image/png": "[encoded data removed]",
      "text/plain": [
       "<IPython.core.display.Image object>"
      ]
     },
     "metadata": {},
     "output_type": "display_data"
    },
    {
     "name": "stdout",
     "output_type": "stream",
     "text": [
      "Corpus label: 72 ==> seal\n",
      "Top 5 results: [55 72 30  3 18] ==> ['otter', 'seal', 'dolphin', 'bear', 'caterpillar']\n",
      "Image 17976:\n"
     ]
    },
    {
     "data": {
      "image/png": "[encoded data removed]",
      "text/plain": [
       "<IPython.core.display.Image object>"
      ]
     },
     "metadata": {},
     "output_type": "display_data"
    },
    {
     "name": "stdout",
     "output_type": "stream",
     "text": [
      "Corpus label: 52 ==> oak_tree\n",
      "Top 5 results: [47 52 96 59 33] ==> ['maple_tree', 'oak_tree', 'willow_tree', 'pine_tree', 'forest']\n",
      "Image 18461:\n"
     ]
    },
    {
     "data": {
      "image/png": "[encoded data removed]",
      "text/plain": [
       "<IPython.core.display.Image object>"
      ]
     },
     "metadata": {},
     "output_type": "display_data"
    },
    {
     "name": "stdout",
     "output_type": "stream",
     "text": [
      "Corpus label: 78 ==> snake\n",
      "Top 5 results: [99 78 74 29 26] ==> ['worm', 'snake', 'shrew', 'dinosaur', 'crab']\n",
      "Image 27737:\n"
     ]
    },
    {
     "data": {
      "image/png": "[encoded data removed]",
      "text/plain": [
       "<IPython.core.display.Image object>"
      ]
     },
     "metadata": {},
     "output_type": "display_data"
    },
    {
     "name": "stdout",
     "output_type": "stream",
     "text": [
      "Corpus label: 78 ==> snake\n",
      "Top 5 results: [99 78 22 91 18] ==> ['worm', 'snake', 'clock', 'trout', 'caterpillar']\n",
      "Image 29268:\n"
     ]
    },
    {
     "data": {
      "image/png": "[encoded data removed]",
      "text/plain": [
       "<IPython.core.display.Image object>"
      ]
     },
     "metadata": {},
     "output_type": "display_data"
    },
    {
     "name": "stdout",
     "output_type": "stream",
     "text": [
      "Corpus label: 5 ==> bed\n",
      "Top 5 results: [94  5 20 86 25] ==> ['wardrobe', 'bed', 'chair', 'telephone', 'couch']\n",
      "Image 30418:\n"
     ]
    },
    {
     "data": {
      "image/png": "[encoded data removed]",
      "text/plain": [
       "<IPython.core.display.Image object>"
      ]
     },
     "metadata": {},
     "output_type": "display_data"
    },
    {
     "name": "stdout",
     "output_type": "stream",
     "text": [
      "Corpus label: 79 ==> spider\n",
      "Top 5 results: [26 79 20 44  6] ==> ['crab', 'spider', 'chair', 'lizard', 'bee']\n",
      "Image 31128:\n"
     ]
    },
    {
     "data": {
      "image/png": "[encoded data removed]",
      "text/plain": [
       "<IPython.core.display.Image object>"
      ]
     },
     "metadata": {},
     "output_type": "display_data"
    },
    {
     "name": "stdout",
     "output_type": "stream",
     "text": [
      "Corpus label: 72 ==> seal\n",
      "Top 5 results: [55 72 75 66  4] ==> ['otter', 'seal', 'skunk', 'raccoon', 'beaver']\n",
      "Image 31227:\n"
     ]
    },
    {
     "data": {
      "image/png": "[encoded data removed]",
      "text/plain": [
       "<IPython.core.display.Image object>"
      ]
     },
     "metadata": {},
     "output_type": "display_data"
    },
    {
     "name": "stdout",
     "output_type": "stream",
     "text": [
      "Corpus label: 95 ==> whale\n",
      "Top 5 results: [73 95 93 67 30] ==> ['shark', 'whale', 'turtle', 'ray', 'dolphin']\n",
      "Image 33638:\n"
     ]
    },
    {
     "data": {
      "image/png": "[encoded data removed]",
      "text/plain": [
       "<IPython.core.display.Image object>"
      ]
     },
     "metadata": {},
     "output_type": "display_data"
    },
    {
     "name": "stdout",
     "output_type": "stream",
     "text": [
      "Corpus label: 55 ==> otter\n",
      "Top 5 results: [72 55  3 18  4] ==> ['seal', 'otter', 'bear', 'caterpillar', 'beaver']\n"
     ]
    }
   ],
   "source": [
    "# Also check the elements the model got wrong on the training set\n",
    "wrong_train_results = base_train_results[base_train_results[\"top1\"] != base_train_results[\"label\"]]\n",
    "for idx in wrong_train_results.index:\n",
    "    result_report(wrong_train_results, cifar100_train, idx)"
   ]
  },
  {
   "cell_type": "code",
   "execution_count": 22,
   "id": "9dbd966d-3bd6-4a58-8b78-67ba3c645870",
   "metadata": {},
   "outputs": [
    {
     "data": {
      "text/html": [
       "<div>\n",
       "<style scoped>\n",
       "    .dataframe tbody tr th:only-of-type {\n",
       "        vertical-align: middle;\n",
       "    }\n",
       "\n",
       "    .dataframe tbody tr th {\n",
       "        vertical-align: top;\n",
       "    }\n",
       "\n",
       "    .dataframe thead th {\n",
       "        text-align: right;\n",
       "    }\n",
       "</style>\n",
       "<table border=\"1\" class=\"dataframe\">\n",
       "  <thead>\n",
       "    <tr style=\"text-align: right;\">\n",
       "      <th></th>\n",
       "      <th>prediction</th>\n",
       "      <th>prob</th>\n",
       "      <th>label</th>\n",
       "      <th>is_correct</th>\n",
       "      <th>prob_bin</th>\n",
       "    </tr>\n",
       "  </thead>\n",
       "  <tbody>\n",
       "    <tr>\n",
       "      <th>0</th>\n",
       "      <td>0</td>\n",
       "      <td>0.005855</td>\n",
       "      <td>49</td>\n",
       "      <td>0</td>\n",
       "      <td>(0.0058479, 0.0058586]</td>\n",
       "    </tr>\n",
       "    <tr>\n",
       "      <th>1</th>\n",
       "      <td>1</td>\n",
       "      <td>0.001044</td>\n",
       "      <td>49</td>\n",
       "      <td>0</td>\n",
       "      <td>(0.0010437, 0.0010446]</td>\n",
       "    </tr>\n",
       "    <tr>\n",
       "      <th>2</th>\n",
       "      <td>2</td>\n",
       "      <td>0.005334</td>\n",
       "      <td>49</td>\n",
       "      <td>0</td>\n",
       "      <td>(0.0053338, 0.0053434]</td>\n",
       "    </tr>\n",
       "    <tr>\n",
       "      <th>3</th>\n",
       "      <td>3</td>\n",
       "      <td>0.005427</td>\n",
       "      <td>49</td>\n",
       "      <td>0</td>\n",
       "      <td>(0.0054236, 0.0054322]</td>\n",
       "    </tr>\n",
       "    <tr>\n",
       "      <th>4</th>\n",
       "      <td>4</td>\n",
       "      <td>0.012450</td>\n",
       "      <td>49</td>\n",
       "      <td>0</td>\n",
       "      <td>(0.012435, 0.01248]</td>\n",
       "    </tr>\n",
       "    <tr>\n",
       "      <th>...</th>\n",
       "      <td>...</td>\n",
       "      <td>...</td>\n",
       "      <td>...</td>\n",
       "      <td>...</td>\n",
       "      <td>...</td>\n",
       "    </tr>\n",
       "    <tr>\n",
       "      <th>999995</th>\n",
       "      <td>95</td>\n",
       "      <td>0.000089</td>\n",
       "      <td>70</td>\n",
       "      <td>0</td>\n",
       "      <td>(8.9317e-05, 8.9394e-05]</td>\n",
       "    </tr>\n",
       "    <tr>\n",
       "      <th>999996</th>\n",
       "      <td>96</td>\n",
       "      <td>0.000011</td>\n",
       "      <td>70</td>\n",
       "      <td>0</td>\n",
       "      <td>(1.1063e-05, 1.1077e-05]</td>\n",
       "    </tr>\n",
       "    <tr>\n",
       "      <th>999997</th>\n",
       "      <td>97</td>\n",
       "      <td>0.000005</td>\n",
       "      <td>70</td>\n",
       "      <td>0</td>\n",
       "      <td>(4.6447e-06, 4.6535e-06]</td>\n",
       "    </tr>\n",
       "    <tr>\n",
       "      <th>999998</th>\n",
       "      <td>98</td>\n",
       "      <td>0.000023</td>\n",
       "      <td>70</td>\n",
       "      <td>0</td>\n",
       "      <td>(2.3374e-05, 2.3401e-05]</td>\n",
       "    </tr>\n",
       "    <tr>\n",
       "      <th>999999</th>\n",
       "      <td>99</td>\n",
       "      <td>0.000171</td>\n",
       "      <td>70</td>\n",
       "      <td>0</td>\n",
       "      <td>(0.00017076, 0.00017089]</td>\n",
       "    </tr>\n",
       "  </tbody>\n",
       "</table>\n",
       "<p>1000000 rows × 5 columns</p>\n",
       "</div>"
      ],
      "text/plain": [
       "        prediction      prob  label  is_correct                  prob_bin\n",
       "0                0  0.005855     49           0    (0.0058479, 0.0058586]\n",
       "1                1  0.001044     49           0    (0.0010437, 0.0010446]\n",
       "2                2  0.005334     49           0    (0.0053338, 0.0053434]\n",
       "3                3  0.005427     49           0    (0.0054236, 0.0054322]\n",
       "4                4  0.012450     49           0       (0.012435, 0.01248]\n",
       "...            ...       ...    ...         ...                       ...\n",
       "999995          95  0.000089     70           0  (8.9317e-05, 8.9394e-05]\n",
       "999996          96  0.000011     70           0  (1.1063e-05, 1.1077e-05]\n",
       "999997          97  0.000005     70           0  (4.6447e-06, 4.6535e-06]\n",
       "999998          98  0.000023     70           0  (2.3374e-05, 2.3401e-05]\n",
       "999999          99  0.000171     70           0  (0.00017076, 0.00017089]\n",
       "\n",
       "[1000000 rows x 5 columns]"
      ]
     },
     "execution_count": 22,
     "metadata": {},
     "output_type": "execute_result"
    }
   ],
   "source": [
    "# Generate raw data for determining how well-calibrated the model's probabilities are \n",
    "def make_calibration_data(df: pd.DataFrame) -> pd.DataFrame:\n",
    "    target_bin_size = 100\n",
    "    num_bins = len(df.index) * num_classes //  target_bin_size\n",
    "\n",
    "    # Shred the probability distributions and generate triples of\n",
    "    # <predicted label, probability of label, actual label>\n",
    "    triples_list = []\n",
    "    for probs, label in zip(df[\"probs\"], df[\"label\"]):\n",
    "        for predicted_label in range(num_classes):\n",
    "            prob = probs.to_numpy()[predicted_label]\n",
    "            triples_list.append({\n",
    "                \"prediction\": predicted_label,\n",
    "                \"prob\": prob,\n",
    "                \"label\": label\n",
    "            })\n",
    "\n",
    "    calib = pd.DataFrame.from_records(triples_list)\n",
    "\n",
    "    # Tack on a 0/1 indicator variable that is 1 if the predicted and actual\n",
    "    # labels are the same\n",
    "    calib[\"is_correct\"] = (calib[\"prediction\"] == calib[\"label\"]).astype(int)\n",
    "\n",
    "    # Divide the range from 0 to 1 into bins\n",
    "#     bin_left_edges = np.linspace(0., 1., num_bins + 1)\n",
    "#     calib[\"prob_bin\"] = pd.cut(calib[\"prob\"], bin_left_edges, include_lowest=True)\n",
    "    calib[\"prob_bin\"] = pd.qcut(calib[\"prob\"], num_bins)\n",
    "    return calib\n",
    "\n",
    "\n",
    "make_calibration_data(base_results)"
   ]
  },
  {
   "cell_type": "code",
   "execution_count": 23,
   "id": "6c327a66-88bb-4478-894e-cd4121e80581",
   "metadata": {},
   "outputs": [
    {
     "data": {
      "image/png": "[encoded data removed]",
      "text/plain": [
       "<Figure size 432x288 with 1 Axes>"
      ]
     },
     "metadata": {
      "needs_background": "light"
     },
     "output_type": "display_data"
    }
   ],
   "source": [
    "# Plot how well the example model is calibrated\n",
    "def calibration_plot(df):\n",
    "    (make_calibration_data(df).groupby(\"prob_bin\").agg({\"prob\": \"mean\",\n",
    "                                                        \"is_correct\": \"mean\"})\n",
    "     .rename(columns={\"is_correct\": \"empirical_prob\", \"prob\": \"model_prob\"})\n",
    "     .plot.scatter(\"model_prob\", \"empirical_prob\"))\n",
    "\n",
    "\n",
    "calibration_plot(base_results)"
   ]
  },
  {
   "cell_type": "code",
   "execution_count": 24,
   "id": "fbd90abd-7c01-4d02-9352-0392420d365c",
   "metadata": {},
   "outputs": [
    {
     "data": {
      "image/png": "[encoded data removed]",
      "text/plain": [
       "<Figure size 432x288 with 1 Axes>"
      ]
     },
     "metadata": {
      "needs_background": "light"
     },
     "output_type": "display_data"
    }
   ],
   "source": [
    "# Condition on the label and plot how well-calibrated the probabilities are.\n",
    "label = 15\n",
    "calibration_plot(base_results[base_results[\"label\"] == label])"
   ]
  },
  {
   "cell_type": "code",
   "execution_count": 25,
   "id": "a4a9eccf-12cc-46b6-af56-50881f1fa6f7",
   "metadata": {},
   "outputs": [
    {
     "data": {
      "image/png": "[encoded data removed]",
      "text/plain": [
       "<Figure size 432x288 with 1 Axes>"
      ]
     },
     "metadata": {
      "needs_background": "light"
     },
     "output_type": "display_data"
    }
   ],
   "source": [
    "# Same thing as above, but conditioning on model result\n",
    "calibration_plot(base_results[base_results[\"top1\"] == label])"
   ]
  },
  {
   "cell_type": "code",
   "execution_count": 26,
   "id": "a7a005fd-3a56-4d25-846c-7affcdf3e9ac",
   "metadata": {},
   "outputs": [
    {
     "data": {
      "image/png": "[encoded data removed]",
      "text/plain": [
       "<Figure size 432x288 with 1 Axes>"
      ]
     },
     "metadata": {
      "needs_background": "light"
     },
     "output_type": "display_data"
    }
   ],
   "source": [
    "# Check calibration on the training set.\n",
    "calibration_plot(base_train_results)"
   ]
  },
  {
   "cell_type": "code",
   "execution_count": 27,
   "id": "5c97348a-7dc6-4942-9148-68c39f6a5529",
   "metadata": {},
   "outputs": [],
   "source": [
    "# Generate data for the train set too\n",
    "orig_train_results = add_top_k_cols(train[[\"id\", \"probs\", \"label\"]])\n",
    "base_train_results = make_results(train, base_model)"
   ]
  },
  {
   "cell_type": "code",
   "execution_count": 28,
   "id": "1ab4ca5c-af0e-45a2-956c-3481f77e264e",
   "metadata": {
    "tags": []
   },
   "outputs": [],
   "source": [
    "# Repeat with reduced-capacity models\n",
    "model_1024 = train_reduced_model(train, 1024)\n",
    "model_32 = train_reduced_model(train, 32)\n",
    "model_16 = train_reduced_model(train, 16)\n",
    "\n",
    "results_16 = make_results(test, model_16)\n",
    "results_32 = make_results(test, model_32)\n",
    "results_1024 = make_results(test, model_1024)\n",
    "\n",
    "train_results_16 = make_results(train, model_16)\n",
    "train_results_32 = make_results(train, model_32)\n",
    "train_results_1024 = make_results(train, model_1024)"
   ]
  },
  {
   "cell_type": "code",
   "execution_count": 29,
   "id": "5b24b0fd-3ac5-49e9-81a0-970db977a431",
   "metadata": {},
   "outputs": [
    {
     "name": "stdout",
     "output_type": "stream",
     "text": [
      "------TEST FOLD-------| top-1  | top-5  |\n",
      "        Original model: 0.7629   0.9389\n",
      "Baseline sklearn model: 0.7602   0.9369\n",
      "   1024-dim projection: 0.7606   0.9362\n",
      "     32-dim projection: 0.7213   0.8919\n",
      "     16-dim projection: 0.6434   0.8326\n",
      "\n",
      "------TRAIN FOLD------\n",
      "        Original model: 0.9997   1.0000\n",
      "Baseline sklearn model: 0.9997   1.0000\n",
      "   1024-dim projection: 0.9997   1.0000\n",
      "     32-dim projection: 0.9914   0.9998\n",
      "     16-dim projection: 0.9226   0.9912\n"
     ]
    }
   ],
   "source": [
    "# Compute aggregate top-1 accuracy\n",
    "def top_1_acc(df):\n",
    "    return (df[\"top1\"] == df[\"label\"]).sum() / len(df.index)\n",
    "\n",
    "\n",
    "def top_5_acc(df):\n",
    "    return df[\"top5_match\"].sum() / len(df.index) \n",
    "\n",
    "\n",
    "print(f\"------TEST FOLD-------| top-1  | top-5  |\")\n",
    "print(f\"        Original model: {top_1_acc(orig_results):1.4f}   {top_5_acc(orig_results):1.4f}\")\n",
    "print(f\"Baseline sklearn model: {top_1_acc(base_results):1.4f}   {top_5_acc(base_results):1.4f}\")\n",
    "print(f\"   1024-dim projection: {top_1_acc(results_1024):1.4f}   {top_5_acc(results_1024):1.4f}\")\n",
    "print(f\"     32-dim projection: {top_1_acc(results_32):1.4f}   {top_5_acc(results_32):1.4f}\")\n",
    "print(f\"     16-dim projection: {top_1_acc(results_16):1.4f}   {top_5_acc(results_16):1.4f}\")\n",
    "\n",
    "\n",
    "print(\"\\n------TRAIN FOLD------\")\n",
    "print(f\"        Original model: {top_1_acc(orig_train_results):1.4f}   {top_5_acc(orig_train_results):1.4f}\")\n",
    "print(f\"Baseline sklearn model: {top_1_acc(base_train_results):1.4f}   {top_5_acc(base_train_results):1.4f}\")\n",
    "print(f\"   1024-dim projection: {top_1_acc(train_results_1024):1.4f}   {top_5_acc(train_results_1024):1.4f}\")\n",
    "print(f\"     32-dim projection: {top_1_acc(train_results_32):1.4f}   {top_5_acc(train_results_32):1.4f}\")\n",
    "print(f\"     16-dim projection: {top_1_acc(train_results_16):1.4f}   {top_5_acc(train_results_16):1.4f}\")"
   ]
  },
  {
   "cell_type": "code",
   "execution_count": 30,
   "id": "ca63a45e-e193-47fe-99ab-8cd1c8944f1a",
   "metadata": {},
   "outputs": [
    {
     "name": "stdout",
     "output_type": "stream",
     "text": [
      "[(256, 1), (256, 2), (256, 3), (256, 4), (64, 1), (64, 2), (64, 3), (64, 4), (32, 1), (32, 2), (32, 3), (32, 4), (16, 1), (16, 2), (16, 3), (16, 4)]\n"
     ]
    }
   ],
   "source": [
    "# Results look ok so far. Define a more exhaustive set of parameters\n",
    "# for reduced-capacity models.\n",
    "N_COMPONENTS = [256, 64, 32, 16]\n",
    "SEEDS = [1, 2, 3, 4]\n",
    "\n",
    "params = [(comp, seed) for comp in N_COMPONENTS for seed in SEEDS]\n",
    "print(params)"
   ]
  },
  {
   "cell_type": "code",
   "execution_count": 31,
   "id": "b27d88fe-f14b-4256-9258-7b15bdf4a3f3",
   "metadata": {},
   "outputs": [],
   "source": [
    "num_features = test[\"features\"].iloc[0].to_numpy().shape[0]\n",
    "models = { (num_features, 0): base_model }\n",
    "\n",
    "for p in params:\n",
    "    models[p] = train_reduced_model(train, p[0], p[1])"
   ]
  },
  {
   "cell_type": "markdown",
   "id": "c5deb609-76fc-4799-a6c2-30d1431f58fd",
   "metadata": {},
   "source": [
    "### Analyze ensemble outputs"
   ]
  },
  {
   "cell_type": "code",
   "execution_count": 32,
   "id": "e955fd36-7f62-4b2e-b4b6-3b478c978824",
   "metadata": {},
   "outputs": [
    {
     "data": {
      "text/html": [
       "<div>\n",
       "<style scoped>\n",
       "    .dataframe tbody tr th:only-of-type {\n",
       "        vertical-align: middle;\n",
       "    }\n",
       "\n",
       "    .dataframe tbody tr th {\n",
       "        vertical-align: top;\n",
       "    }\n",
       "\n",
       "    .dataframe thead th {\n",
       "        text-align: right;\n",
       "    }\n",
       "</style>\n",
       "<table border=\"1\" class=\"dataframe\">\n",
       "  <thead>\n",
       "    <tr style=\"text-align: right;\">\n",
       "      <th></th>\n",
       "      <th>id</th>\n",
       "      <th>probs</th>\n",
       "      <th>label</th>\n",
       "      <th>label_prob</th>\n",
       "      <th>top1</th>\n",
       "      <th>top1_prob</th>\n",
       "      <th>top5</th>\n",
       "      <th>top5_match</th>\n",
       "    </tr>\n",
       "  </thead>\n",
       "  <tbody>\n",
       "    <tr>\n",
       "      <th>0</th>\n",
       "      <td>0</td>\n",
       "      <td>[  0.020006992337526047, 1.3235907398068398e-0...</td>\n",
       "      <td>49</td>\n",
       "      <td>0.009435</td>\n",
       "      <td>60</td>\n",
       "      <td>0.138853</td>\n",
       "      <td>[60, 41, 15, 76, 69]</td>\n",
       "      <td>False</td>\n",
       "    </tr>\n",
       "    <tr>\n",
       "      <th>1</th>\n",
       "      <td>1</td>\n",
       "      <td>[ 9.397591027067654e-07, 4.7946783592905506e-0...</td>\n",
       "      <td>33</td>\n",
       "      <td>0.912383</td>\n",
       "      <td>33</td>\n",
       "      <td>0.912383</td>\n",
       "      <td>[33, 84, 88, 96, 31]</td>\n",
       "      <td>True</td>\n",
       "    </tr>\n",
       "    <tr>\n",
       "      <th>2</th>\n",
       "      <td>2</td>\n",
       "      <td>[ 0.0003158327671417566,  1.869252883208701e-0...</td>\n",
       "      <td>72</td>\n",
       "      <td>0.025437</td>\n",
       "      <td>55</td>\n",
       "      <td>0.733003</td>\n",
       "      <td>[55, 19,  4, 72, 44]</td>\n",
       "      <td>True</td>\n",
       "    </tr>\n",
       "    <tr>\n",
       "      <th>3</th>\n",
       "      <td>3</td>\n",
       "      <td>[0.00027914329606278007,  0.000865386788590746...</td>\n",
       "      <td>51</td>\n",
       "      <td>0.893142</td>\n",
       "      <td>51</td>\n",
       "      <td>0.893142</td>\n",
       "      <td>[51, 18, 37, 93,  6]</td>\n",
       "      <td>True</td>\n",
       "    </tr>\n",
       "    <tr>\n",
       "      <th>4</th>\n",
       "      <td>4</td>\n",
       "      <td>[ 8.217354574308542e-05, 0.0002699144762239442...</td>\n",
       "      <td>71</td>\n",
       "      <td>0.932595</td>\n",
       "      <td>71</td>\n",
       "      <td>0.932595</td>\n",
       "      <td>[71, 23, 60, 99, 69]</td>\n",
       "      <td>True</td>\n",
       "    </tr>\n",
       "    <tr>\n",
       "      <th>...</th>\n",
       "      <td>...</td>\n",
       "      <td>...</td>\n",
       "      <td>...</td>\n",
       "      <td>...</td>\n",
       "      <td>...</td>\n",
       "      <td>...</td>\n",
       "      <td>...</td>\n",
       "      <td>...</td>\n",
       "    </tr>\n",
       "    <tr>\n",
       "      <th>9995</th>\n",
       "      <td>9995</td>\n",
       "      <td>[   0.14713142454194764,  4.449513187062798e-0...</td>\n",
       "      <td>83</td>\n",
       "      <td>0.617446</td>\n",
       "      <td>83</td>\n",
       "      <td>0.617446</td>\n",
       "      <td>[83,  0, 57, 92, 70]</td>\n",
       "      <td>True</td>\n",
       "    </tr>\n",
       "    <tr>\n",
       "      <th>9996</th>\n",
       "      <td>9996</td>\n",
       "      <td>[0.00016103459697946386, 0.0003400398216689738...</td>\n",
       "      <td>14</td>\n",
       "      <td>0.279681</td>\n",
       "      <td>14</td>\n",
       "      <td>0.279681</td>\n",
       "      <td>[14, 63, 18,  6, 32]</td>\n",
       "      <td>True</td>\n",
       "    </tr>\n",
       "    <tr>\n",
       "      <th>9997</th>\n",
       "      <td>9997</td>\n",
       "      <td>[1.6668486850872452e-06,  4.741367068223157e-0...</td>\n",
       "      <td>51</td>\n",
       "      <td>0.999130</td>\n",
       "      <td>51</td>\n",
       "      <td>0.999130</td>\n",
       "      <td>[51, 93, 37, 31, 90]</td>\n",
       "      <td>True</td>\n",
       "    </tr>\n",
       "    <tr>\n",
       "      <th>9998</th>\n",
       "      <td>9998</td>\n",
       "      <td>[5.4649052201255666e-05,  4.909662087940611e-0...</td>\n",
       "      <td>42</td>\n",
       "      <td>0.920949</td>\n",
       "      <td>42</td>\n",
       "      <td>0.920949</td>\n",
       "      <td>[42, 21, 43, 88, 55]</td>\n",
       "      <td>True</td>\n",
       "    </tr>\n",
       "    <tr>\n",
       "      <th>9999</th>\n",
       "      <td>9999</td>\n",
       "      <td>[ 1.992703441105664e-05,  7.802444140377944e-0...</td>\n",
       "      <td>70</td>\n",
       "      <td>0.969302</td>\n",
       "      <td>70</td>\n",
       "      <td>0.969302</td>\n",
       "      <td>[70, 92, 99, 57, 47]</td>\n",
       "      <td>True</td>\n",
       "    </tr>\n",
       "  </tbody>\n",
       "</table>\n",
       "<p>10000 rows × 8 columns</p>\n",
       "</div>"
      ],
      "text/plain": [
       "        id                                              probs  label  \\\n",
       "0        0  [  0.020006992337526047, 1.3235907398068398e-0...     49   \n",
       "1        1  [ 9.397591027067654e-07, 4.7946783592905506e-0...     33   \n",
       "2        2  [ 0.0003158327671417566,  1.869252883208701e-0...     72   \n",
       "3        3  [0.00027914329606278007,  0.000865386788590746...     51   \n",
       "4        4  [ 8.217354574308542e-05, 0.0002699144762239442...     71   \n",
       "...    ...                                                ...    ...   \n",
       "9995  9995  [   0.14713142454194764,  4.449513187062798e-0...     83   \n",
       "9996  9996  [0.00016103459697946386, 0.0003400398216689738...     14   \n",
       "9997  9997  [1.6668486850872452e-06,  4.741367068223157e-0...     51   \n",
       "9998  9998  [5.4649052201255666e-05,  4.909662087940611e-0...     42   \n",
       "9999  9999  [ 1.992703441105664e-05,  7.802444140377944e-0...     70   \n",
       "\n",
       "      label_prob  top1  top1_prob                  top5  top5_match  \n",
       "0       0.009435    60   0.138853  [60, 41, 15, 76, 69]       False  \n",
       "1       0.912383    33   0.912383  [33, 84, 88, 96, 31]        True  \n",
       "2       0.025437    55   0.733003  [55, 19,  4, 72, 44]        True  \n",
       "3       0.893142    51   0.893142  [51, 18, 37, 93,  6]        True  \n",
       "4       0.932595    71   0.932595  [71, 23, 60, 99, 69]        True  \n",
       "...          ...   ...        ...                   ...         ...  \n",
       "9995    0.617446    83   0.617446  [83,  0, 57, 92, 70]        True  \n",
       "9996    0.279681    14   0.279681  [14, 63, 18,  6, 32]        True  \n",
       "9997    0.999130    51   0.999130  [51, 93, 37, 31, 90]        True  \n",
       "9998    0.920949    42   0.920949  [42, 21, 43, 88, 55]        True  \n",
       "9999    0.969302    70   0.969302  [70, 92, 99, 57, 47]        True  \n",
       "\n",
       "[10000 rows x 8 columns]"
      ]
     },
     "execution_count": 32,
     "metadata": {},
     "output_type": "execute_result"
    }
   ],
   "source": [
    "# Run inference over the test set for each model in the ensemble.\n",
    "res_by_model = {\n",
    "    k: make_results(test, m)\n",
    "    for k, m in models.items()\n",
    "}\n",
    "\n",
    "res_by_model[(32, 1)]"
   ]
  },
  {
   "cell_type": "code",
   "execution_count": 33,
   "id": "ee100f02-47ba-4efc-b175-cdcbcc895b6c",
   "metadata": {},
   "outputs": [
    {
     "data": {
      "text/html": [
       "<div>\n",
       "<style scoped>\n",
       "    .dataframe tbody tr th:only-of-type {\n",
       "        vertical-align: middle;\n",
       "    }\n",
       "\n",
       "    .dataframe tbody tr th {\n",
       "        vertical-align: top;\n",
       "    }\n",
       "\n",
       "    .dataframe thead th {\n",
       "        text-align: right;\n",
       "    }\n",
       "</style>\n",
       "<table border=\"1\" class=\"dataframe\">\n",
       "  <thead>\n",
       "    <tr style=\"text-align: right;\">\n",
       "      <th></th>\n",
       "      <th>num_dims</th>\n",
       "      <th>seed</th>\n",
       "      <th>top_1</th>\n",
       "      <th>top_1_train</th>\n",
       "      <th>top_5</th>\n",
       "      <th>top_5_train</th>\n",
       "    </tr>\n",
       "  </thead>\n",
       "  <tbody>\n",
       "    <tr>\n",
       "      <th>0</th>\n",
       "      <td>1792</td>\n",
       "      <td>0</td>\n",
       "      <td>0.7602</td>\n",
       "      <td>0.99974</td>\n",
       "      <td>0.9369</td>\n",
       "      <td>1.00000</td>\n",
       "    </tr>\n",
       "    <tr>\n",
       "      <th>1</th>\n",
       "      <td>256</td>\n",
       "      <td>1</td>\n",
       "      <td>0.7597</td>\n",
       "      <td>0.99956</td>\n",
       "      <td>0.9324</td>\n",
       "      <td>1.00000</td>\n",
       "    </tr>\n",
       "    <tr>\n",
       "      <th>2</th>\n",
       "      <td>256</td>\n",
       "      <td>2</td>\n",
       "      <td>0.7583</td>\n",
       "      <td>0.99956</td>\n",
       "      <td>0.9336</td>\n",
       "      <td>1.00000</td>\n",
       "    </tr>\n",
       "    <tr>\n",
       "      <th>3</th>\n",
       "      <td>256</td>\n",
       "      <td>3</td>\n",
       "      <td>0.7564</td>\n",
       "      <td>0.99976</td>\n",
       "      <td>0.9337</td>\n",
       "      <td>1.00000</td>\n",
       "    </tr>\n",
       "    <tr>\n",
       "      <th>4</th>\n",
       "      <td>256</td>\n",
       "      <td>4</td>\n",
       "      <td>0.7574</td>\n",
       "      <td>0.99966</td>\n",
       "      <td>0.9335</td>\n",
       "      <td>1.00000</td>\n",
       "    </tr>\n",
       "    <tr>\n",
       "      <th>5</th>\n",
       "      <td>64</td>\n",
       "      <td>1</td>\n",
       "      <td>0.7466</td>\n",
       "      <td>0.99868</td>\n",
       "      <td>0.9171</td>\n",
       "      <td>1.00000</td>\n",
       "    </tr>\n",
       "    <tr>\n",
       "      <th>6</th>\n",
       "      <td>64</td>\n",
       "      <td>2</td>\n",
       "      <td>0.7461</td>\n",
       "      <td>0.99886</td>\n",
       "      <td>0.9202</td>\n",
       "      <td>1.00000</td>\n",
       "    </tr>\n",
       "    <tr>\n",
       "      <th>7</th>\n",
       "      <td>64</td>\n",
       "      <td>3</td>\n",
       "      <td>0.7435</td>\n",
       "      <td>0.99860</td>\n",
       "      <td>0.9149</td>\n",
       "      <td>1.00000</td>\n",
       "    </tr>\n",
       "    <tr>\n",
       "      <th>8</th>\n",
       "      <td>64</td>\n",
       "      <td>4</td>\n",
       "      <td>0.7435</td>\n",
       "      <td>0.99852</td>\n",
       "      <td>0.9195</td>\n",
       "      <td>1.00000</td>\n",
       "    </tr>\n",
       "    <tr>\n",
       "      <th>9</th>\n",
       "      <td>32</td>\n",
       "      <td>1</td>\n",
       "      <td>0.7252</td>\n",
       "      <td>0.99130</td>\n",
       "      <td>0.8947</td>\n",
       "      <td>0.99982</td>\n",
       "    </tr>\n",
       "    <tr>\n",
       "      <th>10</th>\n",
       "      <td>32</td>\n",
       "      <td>2</td>\n",
       "      <td>0.7192</td>\n",
       "      <td>0.99184</td>\n",
       "      <td>0.8988</td>\n",
       "      <td>0.99974</td>\n",
       "    </tr>\n",
       "    <tr>\n",
       "      <th>11</th>\n",
       "      <td>32</td>\n",
       "      <td>3</td>\n",
       "      <td>0.7244</td>\n",
       "      <td>0.98996</td>\n",
       "      <td>0.8926</td>\n",
       "      <td>0.99972</td>\n",
       "    </tr>\n",
       "    <tr>\n",
       "      <th>12</th>\n",
       "      <td>32</td>\n",
       "      <td>4</td>\n",
       "      <td>0.7223</td>\n",
       "      <td>0.99152</td>\n",
       "      <td>0.8943</td>\n",
       "      <td>0.99976</td>\n",
       "    </tr>\n",
       "    <tr>\n",
       "      <th>13</th>\n",
       "      <td>16</td>\n",
       "      <td>1</td>\n",
       "      <td>0.6494</td>\n",
       "      <td>0.92844</td>\n",
       "      <td>0.8351</td>\n",
       "      <td>0.99182</td>\n",
       "    </tr>\n",
       "    <tr>\n",
       "      <th>14</th>\n",
       "      <td>16</td>\n",
       "      <td>2</td>\n",
       "      <td>0.6450</td>\n",
       "      <td>0.92964</td>\n",
       "      <td>0.8295</td>\n",
       "      <td>0.99286</td>\n",
       "    </tr>\n",
       "    <tr>\n",
       "      <th>15</th>\n",
       "      <td>16</td>\n",
       "      <td>3</td>\n",
       "      <td>0.6403</td>\n",
       "      <td>0.92090</td>\n",
       "      <td>0.8253</td>\n",
       "      <td>0.99008</td>\n",
       "    </tr>\n",
       "    <tr>\n",
       "      <th>16</th>\n",
       "      <td>16</td>\n",
       "      <td>4</td>\n",
       "      <td>0.6484</td>\n",
       "      <td>0.93266</td>\n",
       "      <td>0.8437</td>\n",
       "      <td>0.99282</td>\n",
       "    </tr>\n",
       "  </tbody>\n",
       "</table>\n",
       "</div>"
      ],
      "text/plain": [
       "    num_dims  seed   top_1  top_1_train   top_5  top_5_train\n",
       "0       1792     0  0.7602      0.99974  0.9369      1.00000\n",
       "1        256     1  0.7597      0.99956  0.9324      1.00000\n",
       "2        256     2  0.7583      0.99956  0.9336      1.00000\n",
       "3        256     3  0.7564      0.99976  0.9337      1.00000\n",
       "4        256     4  0.7574      0.99966  0.9335      1.00000\n",
       "5         64     1  0.7466      0.99868  0.9171      1.00000\n",
       "6         64     2  0.7461      0.99886  0.9202      1.00000\n",
       "7         64     3  0.7435      0.99860  0.9149      1.00000\n",
       "8         64     4  0.7435      0.99852  0.9195      1.00000\n",
       "9         32     1  0.7252      0.99130  0.8947      0.99982\n",
       "10        32     2  0.7192      0.99184  0.8988      0.99974\n",
       "11        32     3  0.7244      0.98996  0.8926      0.99972\n",
       "12        32     4  0.7223      0.99152  0.8943      0.99976\n",
       "13        16     1  0.6494      0.92844  0.8351      0.99182\n",
       "14        16     2  0.6450      0.92964  0.8295      0.99286\n",
       "15        16     3  0.6403      0.92090  0.8253      0.99008\n",
       "16        16     4  0.6484      0.93266  0.8437      0.99282"
      ]
     },
     "execution_count": 33,
     "metadata": {},
     "output_type": "execute_result"
    }
   ],
   "source": [
    "# Compute accuracy statistics for the members of the ensemble\n",
    "records = []\n",
    "for t, m in models.items():\n",
    "    num_dims, seed = t\n",
    "\n",
    "    results = res_by_model[t]\n",
    "    results_train = make_results(train, m)\n",
    "    \n",
    "    records.append({\n",
    "        \"num_dims\": num_dims,\n",
    "        \"seed\": seed,\n",
    "        \"top_1\": top_1_acc(results),\n",
    "        \"top_1_train\": top_1_acc(results_train),\n",
    "        \"top_5\": top_5_acc(results),\n",
    "        \"top_5_train\": top_5_acc(results_train)\n",
    "    })\n",
    "\n",
    "accuracies = pd.DataFrame.from_records(records)\n",
    "accuracies"
   ]
  },
  {
   "cell_type": "code",
   "execution_count": 34,
   "id": "672f05d9-2bc0-4900-a194-790b6e237c10",
   "metadata": {},
   "outputs": [
    {
     "data": {
      "image/png": "[encoded data removed]",
      "text/plain": [
       "<Figure size 432x288 with 1 Axes>"
      ]
     },
     "metadata": {
      "needs_background": "light"
     },
     "output_type": "display_data"
    }
   ],
   "source": [
    "# Plot accuracy stats for the models in the ensemble\n",
    "plt.scatter(accuracies[\"num_dims\"], accuracies[\"top_1\"], label=\"Top-1 Accuracy\")\n",
    "plt.scatter(accuracies[\"num_dims\"], accuracies[\"top_5\"], label=\"Top-5 Accuracy\")\n",
    "plt.xscale(\"log\", base=2)\n",
    "plt.ylim((0, 1.0))\n",
    "\n",
    "plt.ylabel(\"Accuracy\")\n",
    "plt.xlabel(\"Kernel Size\")\n",
    "plt.legend()\n",
    "plt.show()"
   ]
  },
  {
   "cell_type": "code",
   "execution_count": 35,
   "id": "897fe927-3cc7-47c2-b577-eb63a56cea96",
   "metadata": {},
   "outputs": [
    {
     "data": {
      "image/png": "[encoded data removed]",
      "text/plain": [
       "<Figure size 432x288 with 1 Axes>"
      ]
     },
     "metadata": {
      "needs_background": "light"
     },
     "output_type": "display_data"
    }
   ],
   "source": [
    "# Check calibration of the low-dimensional models\n",
    "calibration_plot(res_by_model[(16, 1)])"
   ]
  },
  {
   "cell_type": "code",
   "execution_count": 36,
   "id": "5c72b9cd-d4a3-4f86-afe0-4386bc18c500",
   "metadata": {},
   "outputs": [
    {
     "data": {
      "text/plain": [
       "dict_keys([(1792, 0), (256, 1), (256, 2), (256, 3), (256, 4), (64, 1), (64, 2), (64, 3), (64, 4), (32, 1), (32, 2), (32, 3), (32, 4), (16, 1), (16, 2), (16, 3), (16, 4)])"
      ]
     },
     "execution_count": 36,
     "metadata": {},
     "output_type": "execute_result"
    }
   ],
   "source": [
    "res_by_model.keys()"
   ]
  },
  {
   "cell_type": "code",
   "execution_count": 37,
   "id": "cc95376b-afdb-4467-b398-f9c356e1ab9e",
   "metadata": {},
   "outputs": [
    {
     "data": {
      "image/png": "[encoded data removed]",
      "text/plain": [
       "<Figure size 432x288 with 1 Axes>"
      ]
     },
     "metadata": {
      "needs_background": "light"
     },
     "output_type": "display_data"
    }
   ],
   "source": [
    "# Check calibration of high-dimensional model when conditioned on a single\n",
    "# actual class\n",
    "result = res_by_model[(256, 1)]\n",
    "calibration_plot(result[result[\"label\"] == 15])"
   ]
  },
  {
   "cell_type": "code",
   "execution_count": 38,
   "id": "eeb20960-3849-4d8b-ab6a-9850d85db6d1",
   "metadata": {},
   "outputs": [
    {
     "data": {
      "image/png": "[encoded data removed]",
      "text/plain": [
       "<Figure size 432x288 with 1 Axes>"
      ]
     },
     "metadata": {
      "needs_background": "light"
     },
     "output_type": "display_data"
    }
   ],
   "source": [
    "calibration_plot(result[result[\"top1\"] == 7])"
   ]
  },
  {
   "cell_type": "code",
   "execution_count": 39,
   "id": "b50c26a5-f9fd-4526-9a33-b0d0227107b1",
   "metadata": {},
   "outputs": [
    {
     "data": {
      "text/html": [
       "<div>\n",
       "<style scoped>\n",
       "    .dataframe tbody tr th:only-of-type {\n",
       "        vertical-align: middle;\n",
       "    }\n",
       "\n",
       "    .dataframe tbody tr th {\n",
       "        vertical-align: top;\n",
       "    }\n",
       "\n",
       "    .dataframe thead th {\n",
       "        text-align: right;\n",
       "    }\n",
       "</style>\n",
       "<table border=\"1\" class=\"dataframe\">\n",
       "  <thead>\n",
       "    <tr style=\"text-align: right;\">\n",
       "      <th></th>\n",
       "      <th>model_name</th>\n",
       "      <th>id</th>\n",
       "      <th>probs</th>\n",
       "      <th>label</th>\n",
       "      <th>label_prob</th>\n",
       "      <th>top1</th>\n",
       "      <th>top1_prob</th>\n",
       "      <th>top5</th>\n",
       "      <th>top5_match</th>\n",
       "    </tr>\n",
       "  </thead>\n",
       "  <tbody>\n",
       "    <tr>\n",
       "      <th>0</th>\n",
       "      <td>1792_0</td>\n",
       "      <td>0</td>\n",
       "      <td>[  0.005854557127795873,  0.001044076868371778...</td>\n",
       "      <td>49</td>\n",
       "      <td>0.012577</td>\n",
       "      <td>90</td>\n",
       "      <td>0.150746</td>\n",
       "      <td>[90, 69, 60, 68, 55]</td>\n",
       "      <td>False</td>\n",
       "    </tr>\n",
       "    <tr>\n",
       "      <th>1</th>\n",
       "      <td>1792_0</td>\n",
       "      <td>1</td>\n",
       "      <td>[ 9.559308234828802e-05,  0.000254882639461478...</td>\n",
       "      <td>33</td>\n",
       "      <td>0.836550</td>\n",
       "      <td>33</td>\n",
       "      <td>0.836550</td>\n",
       "      <td>[33, 84, 88, 40, 81]</td>\n",
       "      <td>True</td>\n",
       "    </tr>\n",
       "    <tr>\n",
       "      <th>2</th>\n",
       "      <td>1792_0</td>\n",
       "      <td>2</td>\n",
       "      <td>[ 8.761981268529843e-05, 1.5968990653538752e-0...</td>\n",
       "      <td>72</td>\n",
       "      <td>0.036595</td>\n",
       "      <td>55</td>\n",
       "      <td>0.769059</td>\n",
       "      <td>[55,  4, 72,  3, 27]</td>\n",
       "      <td>True</td>\n",
       "    </tr>\n",
       "  </tbody>\n",
       "</table>\n",
       "</div>"
      ],
      "text/plain": [
       "  model_name  id                                              probs  label  \\\n",
       "0     1792_0   0  [  0.005854557127795873,  0.001044076868371778...     49   \n",
       "1     1792_0   1  [ 9.559308234828802e-05,  0.000254882639461478...     33   \n",
       "2     1792_0   2  [ 8.761981268529843e-05, 1.5968990653538752e-0...     72   \n",
       "\n",
       "   label_prob  top1  top1_prob                  top5  top5_match  \n",
       "0    0.012577    90   0.150746  [90, 69, 60, 68, 55]       False  \n",
       "1    0.836550    33   0.836550  [33, 84, 88, 40, 81]        True  \n",
       "2    0.036595    55   0.769059  [55,  4, 72,  3, 27]        True  "
      ]
     },
     "execution_count": 39,
     "metadata": {},
     "output_type": "execute_result"
    }
   ],
   "source": [
    "# Generate string model names and use them to index results\n",
    "# First as one DataFrame per model\n",
    "res_by_model_name = {}\n",
    "for k, v in res_by_model.items():\n",
    "    model_name = f\"{k[0]}_{k[1]}\"\n",
    "    model_results = v.copy()\n",
    "    model_results.insert(0, \"model_name\", model_name)\n",
    "    res_by_model_name[model_name] = model_results\n",
    "\n",
    "# And also as a single big DataFrame with a leading column\n",
    "all_results = pd.concat(res_by_model_name.values())\n",
    "\n",
    "res_by_model_name[\"1792_0\"].head(3)"
   ]
  },
  {
   "cell_type": "code",
   "execution_count": 40,
   "id": "61b386d5-d85e-4966-ac99-9ee3ad78867a",
   "metadata": {},
   "outputs": [
    {
     "data": {
      "text/html": [
       "<div>\n",
       "<style scoped>\n",
       "    .dataframe tbody tr th:only-of-type {\n",
       "        vertical-align: middle;\n",
       "    }\n",
       "\n",
       "    .dataframe tbody tr th {\n",
       "        vertical-align: top;\n",
       "    }\n",
       "\n",
       "    .dataframe thead th {\n",
       "        text-align: right;\n",
       "    }\n",
       "</style>\n",
       "<table border=\"1\" class=\"dataframe\">\n",
       "  <thead>\n",
       "    <tr style=\"text-align: right;\">\n",
       "      <th></th>\n",
       "      <th>model_name</th>\n",
       "      <th>id</th>\n",
       "      <th>probs</th>\n",
       "      <th>label</th>\n",
       "      <th>label_prob</th>\n",
       "      <th>top1</th>\n",
       "      <th>top1_prob</th>\n",
       "      <th>top5</th>\n",
       "      <th>top5_match</th>\n",
       "    </tr>\n",
       "  </thead>\n",
       "  <tbody>\n",
       "    <tr>\n",
       "      <th>9997</th>\n",
       "      <td>16_4</td>\n",
       "      <td>9997</td>\n",
       "      <td>[1.1193675189385943e-08, 2.7775074184064864e-0...</td>\n",
       "      <td>51</td>\n",
       "      <td>0.974108</td>\n",
       "      <td>51</td>\n",
       "      <td>0.974108</td>\n",
       "      <td>[51, 65, 44, 93, 38]</td>\n",
       "      <td>True</td>\n",
       "    </tr>\n",
       "    <tr>\n",
       "      <th>9998</th>\n",
       "      <td>16_4</td>\n",
       "      <td>9998</td>\n",
       "      <td>[ 0.0009778664515245356,    0.0270621502901644...</td>\n",
       "      <td>42</td>\n",
       "      <td>0.422218</td>\n",
       "      <td>42</td>\n",
       "      <td>0.422218</td>\n",
       "      <td>[42, 30, 72, 31,  9]</td>\n",
       "      <td>True</td>\n",
       "    </tr>\n",
       "    <tr>\n",
       "      <th>9999</th>\n",
       "      <td>16_4</td>\n",
       "      <td>9999</td>\n",
       "      <td>[2.9640872417138163e-07, 1.5544119958699287e-0...</td>\n",
       "      <td>70</td>\n",
       "      <td>0.942056</td>\n",
       "      <td>70</td>\n",
       "      <td>0.942056</td>\n",
       "      <td>[70, 92, 26, 54, 99]</td>\n",
       "      <td>True</td>\n",
       "    </tr>\n",
       "  </tbody>\n",
       "</table>\n",
       "</div>"
      ],
      "text/plain": [
       "     model_name    id                                              probs  \\\n",
       "9997       16_4  9997  [1.1193675189385943e-08, 2.7775074184064864e-0...   \n",
       "9998       16_4  9998  [ 0.0009778664515245356,    0.0270621502901644...   \n",
       "9999       16_4  9999  [2.9640872417138163e-07, 1.5544119958699287e-0...   \n",
       "\n",
       "      label  label_prob  top1  top1_prob                  top5  top5_match  \n",
       "9997     51    0.974108    51   0.974108  [51, 65, 44, 93, 38]        True  \n",
       "9998     42    0.422218    42   0.422218  [42, 30, 72, 31,  9]        True  \n",
       "9999     70    0.942056    70   0.942056  [70, 92, 26, 54, 99]        True  "
      ]
     },
     "execution_count": 40,
     "metadata": {},
     "output_type": "execute_result"
    }
   ],
   "source": [
    "all_results.tail(3)"
   ]
  },
  {
   "cell_type": "markdown",
   "id": "41164e3c-c178-4b8a-a3e9-9585a1185b33",
   "metadata": {},
   "source": [
    "## Strawman algorithm\n",
    "\n",
    "Use a fixed threshold on calibrated self-confidence to choose which examples to flag.\n",
    "We adjust the threshold so as to flag a specific target number of examples."
   ]
  },
  {
   "cell_type": "code",
   "execution_count": 41,
   "id": "d0fc019d-e1e6-44f8-98ad-b2061bf452fc",
   "metadata": {},
   "outputs": [
    {
     "data": {
      "text/html": [
       "<div>\n",
       "<style scoped>\n",
       "    .dataframe tbody tr th:only-of-type {\n",
       "        vertical-align: middle;\n",
       "    }\n",
       "\n",
       "    .dataframe tbody tr th {\n",
       "        vertical-align: top;\n",
       "    }\n",
       "\n",
       "    .dataframe thead th {\n",
       "        text-align: right;\n",
       "    }\n",
       "</style>\n",
       "<table border=\"1\" class=\"dataframe\">\n",
       "  <thead>\n",
       "    <tr style=\"text-align: right;\">\n",
       "      <th></th>\n",
       "      <th>id</th>\n",
       "      <th>probs</th>\n",
       "      <th>label</th>\n",
       "      <th>label_prob</th>\n",
       "      <th>top1</th>\n",
       "      <th>top1_prob</th>\n",
       "      <th>top5</th>\n",
       "      <th>top5_match</th>\n",
       "    </tr>\n",
       "  </thead>\n",
       "  <tbody>\n",
       "    <tr>\n",
       "      <th>2827</th>\n",
       "      <td>2827</td>\n",
       "      <td>[ 8.345656068512821e-07,  5.071488410662216e-0...</td>\n",
       "      <td>27</td>\n",
       "      <td>0.000003</td>\n",
       "      <td>42</td>\n",
       "      <td>0.999555</td>\n",
       "      <td>[42, 63, 97, 14, 21]</td>\n",
       "      <td>False</td>\n",
       "    </tr>\n",
       "    <tr>\n",
       "      <th>5278</th>\n",
       "      <td>5278</td>\n",
       "      <td>[3.5692894026954137e-07,  3.685018938115039e-0...</td>\n",
       "      <td>81</td>\n",
       "      <td>0.000035</td>\n",
       "      <td>13</td>\n",
       "      <td>0.999556</td>\n",
       "      <td>[13, 58,  9, 81, 90]</td>\n",
       "      <td>True</td>\n",
       "    </tr>\n",
       "    <tr>\n",
       "      <th>7762</th>\n",
       "      <td>7762</td>\n",
       "      <td>[ 8.834270968352225e-05,  0.000133928935708880...</td>\n",
       "      <td>28</td>\n",
       "      <td>0.000036</td>\n",
       "      <td>9</td>\n",
       "      <td>0.965235</td>\n",
       "      <td>[ 9, 18, 69, 16, 83]</td>\n",
       "      <td>False</td>\n",
       "    </tr>\n",
       "    <tr>\n",
       "      <th>5282</th>\n",
       "      <td>5282</td>\n",
       "      <td>[ 0.0017761725553559408, 5.6373196617327885e-0...</td>\n",
       "      <td>10</td>\n",
       "      <td>0.000041</td>\n",
       "      <td>53</td>\n",
       "      <td>0.985309</td>\n",
       "      <td>[53,  0, 57, 99, 61]</td>\n",
       "      <td>False</td>\n",
       "    </tr>\n",
       "    <tr>\n",
       "      <th>3854</th>\n",
       "      <td>3854</td>\n",
       "      <td>[ 4.016521383131065e-07, 1.8385797802017932e-0...</td>\n",
       "      <td>65</td>\n",
       "      <td>0.000056</td>\n",
       "      <td>38</td>\n",
       "      <td>0.999226</td>\n",
       "      <td>[38, 97, 19, 15, 65]</td>\n",
       "      <td>True</td>\n",
       "    </tr>\n",
       "    <tr>\n",
       "      <th>6513</th>\n",
       "      <td>6513</td>\n",
       "      <td>[3.4606966887233296e-05,   1.00186477729283e-0...</td>\n",
       "      <td>93</td>\n",
       "      <td>0.000061</td>\n",
       "      <td>44</td>\n",
       "      <td>0.918542</td>\n",
       "      <td>[44, 99, 18, 27, 55]</td>\n",
       "      <td>False</td>\n",
       "    </tr>\n",
       "    <tr>\n",
       "      <th>4649</th>\n",
       "      <td>4649</td>\n",
       "      <td>[ 7.010218796177023e-05, 0.0001134710394969118...</td>\n",
       "      <td>64</td>\n",
       "      <td>0.000084</td>\n",
       "      <td>55</td>\n",
       "      <td>0.962537</td>\n",
       "      <td>[55, 72, 29,  3, 34]</td>\n",
       "      <td>False</td>\n",
       "    </tr>\n",
       "    <tr>\n",
       "      <th>2192</th>\n",
       "      <td>2192</td>\n",
       "      <td>[ 3.935447393159288e-06,  5.210264672152448e-0...</td>\n",
       "      <td>54</td>\n",
       "      <td>0.000086</td>\n",
       "      <td>14</td>\n",
       "      <td>0.975118</td>\n",
       "      <td>[14, 18,  6, 22, 35]</td>\n",
       "      <td>False</td>\n",
       "    </tr>\n",
       "    <tr>\n",
       "      <th>7399</th>\n",
       "      <td>7399</td>\n",
       "      <td>[ 8.774374834295022e-05, 1.4242555317047034e-0...</td>\n",
       "      <td>80</td>\n",
       "      <td>0.000092</td>\n",
       "      <td>55</td>\n",
       "      <td>0.547289</td>\n",
       "      <td>[55, 72,  4, 30, 95]</td>\n",
       "      <td>False</td>\n",
       "    </tr>\n",
       "    <tr>\n",
       "      <th>6082</th>\n",
       "      <td>6082</td>\n",
       "      <td>[2.0858084274108975e-05,  4.242581252826797e-0...</td>\n",
       "      <td>5</td>\n",
       "      <td>0.000098</td>\n",
       "      <td>25</td>\n",
       "      <td>0.975534</td>\n",
       "      <td>[25, 10,  2, 24, 11]</td>\n",
       "      <td>False</td>\n",
       "    </tr>\n",
       "  </tbody>\n",
       "</table>\n",
       "</div>"
      ],
      "text/plain": [
       "        id                                              probs  label  \\\n",
       "2827  2827  [ 8.345656068512821e-07,  5.071488410662216e-0...     27   \n",
       "5278  5278  [3.5692894026954137e-07,  3.685018938115039e-0...     81   \n",
       "7762  7762  [ 8.834270968352225e-05,  0.000133928935708880...     28   \n",
       "5282  5282  [ 0.0017761725553559408, 5.6373196617327885e-0...     10   \n",
       "3854  3854  [ 4.016521383131065e-07, 1.8385797802017932e-0...     65   \n",
       "6513  6513  [3.4606966887233296e-05,   1.00186477729283e-0...     93   \n",
       "4649  4649  [ 7.010218796177023e-05, 0.0001134710394969118...     64   \n",
       "2192  2192  [ 3.935447393159288e-06,  5.210264672152448e-0...     54   \n",
       "7399  7399  [ 8.774374834295022e-05, 1.4242555317047034e-0...     80   \n",
       "6082  6082  [2.0858084274108975e-05,  4.242581252826797e-0...      5   \n",
       "\n",
       "      label_prob  top1  top1_prob                  top5  top5_match  \n",
       "2827    0.000003    42   0.999555  [42, 63, 97, 14, 21]       False  \n",
       "5278    0.000035    13   0.999556  [13, 58,  9, 81, 90]        True  \n",
       "7762    0.000036     9   0.965235  [ 9, 18, 69, 16, 83]       False  \n",
       "5282    0.000041    53   0.985309  [53,  0, 57, 99, 61]       False  \n",
       "3854    0.000056    38   0.999226  [38, 97, 19, 15, 65]        True  \n",
       "6513    0.000061    44   0.918542  [44, 99, 18, 27, 55]       False  \n",
       "4649    0.000084    55   0.962537  [55, 72, 29,  3, 34]       False  \n",
       "2192    0.000086    14   0.975118  [14, 18,  6, 22, 35]       False  \n",
       "7399    0.000092    55   0.547289  [55, 72,  4, 30, 95]       False  \n",
       "6082    0.000098    25   0.975534  [25, 10,  2, 24, 11]       False  "
      ]
     },
     "execution_count": 41,
     "metadata": {},
     "output_type": "execute_result"
    }
   ],
   "source": [
    "num_to_flag = 10\n",
    "strawman_flagged = base_results.nsmallest(num_to_flag, \"label_prob\")\n",
    "strawman_flagged"
   ]
  },
  {
   "cell_type": "code",
   "execution_count": 42,
   "id": "78263327-be1f-4ece-94bf-cd3296f0a366",
   "metadata": {},
   "outputs": [
    {
     "name": "stdout",
     "output_type": "stream",
     "text": [
      "Image 5282:\n"
     ]
    },
    {
     "data": {
      "image/png": "[encoded data removed]",
      "text/plain": [
       "<IPython.core.display.Image object>"
      ]
     },
     "metadata": {},
     "output_type": "display_data"
    },
    {
     "name": "stdout",
     "output_type": "stream",
     "text": [
      "Corpus label: 10 ==> bowl\n",
      "Top 5 results: [53  0 57 99 61] ==> ['orange', 'apple', 'pear', 'worm', 'plate']\n",
      "Image 2827:\n"
     ]
    },
    {
     "data": {
      "image/png": "[encoded data removed]",
      "text/plain": [
       "<IPython.core.display.Image object>"
      ]
     },
     "metadata": {},
     "output_type": "display_data"
    },
    {
     "name": "stdout",
     "output_type": "stream",
     "text": [
      "Corpus label: 27 ==> crocodile\n",
      "Top 5 results: [42 63 97 14 21] ==> ['leopard', 'porcupine', 'wolf', 'butterfly', 'chimpanzee']\n",
      "Image 7399:\n"
     ]
    },
    {
     "data": {
      "image/png": "[encoded data removed]",
      "text/plain": [
       "<IPython.core.display.Image object>"
      ]
     },
     "metadata": {},
     "output_type": "display_data"
    },
    {
     "name": "stdout",
     "output_type": "stream",
     "text": [
      "Corpus label: 80 ==> squirrel\n",
      "Top 5 results: [55 72  4 30 95] ==> ['otter', 'seal', 'beaver', 'dolphin', 'whale']\n",
      "Image 5278:\n"
     ]
    },
    {
     "data": {
      "image/png": "[encoded data removed]",
      "text/plain": [
       "<IPython.core.display.Image object>"
      ]
     },
     "metadata": {},
     "output_type": "display_data"
    },
    {
     "name": "stdout",
     "output_type": "stream",
     "text": [
      "Corpus label: 81 ==> streetcar\n",
      "Top 5 results: [13 58  9 81 90] ==> ['bus', 'pickup_truck', 'bottle', 'streetcar', 'train']\n",
      "Image 6513:\n"
     ]
    },
    {
     "data": {
      "image/png": "[encoded data removed]",
      "text/plain": [
       "<IPython.core.display.Image object>"
      ]
     },
     "metadata": {},
     "output_type": "display_data"
    },
    {
     "name": "stdout",
     "output_type": "stream",
     "text": [
      "Corpus label: 93 ==> turtle\n",
      "Top 5 results: [44 99 18 27 55] ==> ['lizard', 'worm', 'caterpillar', 'crocodile', 'otter']\n",
      "Image 3854:\n"
     ]
    },
    {
     "data": {
      "image/png": "[encoded data removed]",
      "text/plain": [
       "<IPython.core.display.Image object>"
      ]
     },
     "metadata": {},
     "output_type": "display_data"
    },
    {
     "name": "stdout",
     "output_type": "stream",
     "text": [
      "Corpus label: 65 ==> rabbit\n",
      "Top 5 results: [38 97 19 15 65] ==> ['kangaroo', 'wolf', 'cattle', 'camel', 'rabbit']\n",
      "Image 7762:\n"
     ]
    },
    {
     "data": {
      "image/png": "[encoded data removed]",
      "text/plain": [
       "<IPython.core.display.Image object>"
      ]
     },
     "metadata": {},
     "output_type": "display_data"
    },
    {
     "name": "stdout",
     "output_type": "stream",
     "text": [
      "Corpus label: 28 ==> cup\n",
      "Top 5 results: [ 9 18 69 16 83] ==> ['bottle', 'caterpillar', 'rocket', 'can', 'sweet_pepper']\n",
      "Image 2192:\n"
     ]
    },
    {
     "data": {
      "image/png": "[encoded data removed]",
      "text/plain": [
       "<IPython.core.display.Image object>"
      ]
     },
     "metadata": {},
     "output_type": "display_data"
    },
    {
     "name": "stdout",
     "output_type": "stream",
     "text": [
      "Corpus label: 54 ==> orchid\n",
      "Top 5 results: [14 18  6 22 35] ==> ['butterfly', 'caterpillar', 'bee', 'clock', 'girl']\n",
      "Image 4649:\n"
     ]
    },
    {
     "data": {
      "image/png": "[encoded data removed]",
      "text/plain": [
       "<IPython.core.display.Image object>"
      ]
     },
     "metadata": {},
     "output_type": "display_data"
    },
    {
     "name": "stdout",
     "output_type": "stream",
     "text": [
      "Corpus label: 64 ==> possum\n",
      "Top 5 results: [55 72 29  3 34] ==> ['otter', 'seal', 'dinosaur', 'bear', 'fox']\n",
      "Image 6082:\n"
     ]
    },
    {
     "data": {
      "image/png": "[encoded data removed]",
      "text/plain": [
       "<IPython.core.display.Image object>"
      ]
     },
     "metadata": {},
     "output_type": "display_data"
    },
    {
     "name": "stdout",
     "output_type": "stream",
     "text": [
      "Corpus label: 5 ==> bed\n",
      "Top 5 results: [25 10  2 24 11] ==> ['couch', 'bowl', 'baby', 'cockroach', 'boy']\n"
     ]
    }
   ],
   "source": [
    "# Pick 10 random examples\n",
    "for idx in strawman_flagged.sample(10).index:\n",
    "    result_report(strawman_flagged, cifar100_test, idx)"
   ]
  },
  {
   "cell_type": "code",
   "execution_count": 43,
   "id": "70a6364e-2a4f-4d65-877f-32723a3a03ed",
   "metadata": {},
   "outputs": [],
   "source": [
    "# Alternate version: Look for high confidence in wrong answers\n",
    "# confidence_threshold = 0.8\n",
    "\n",
    "# strawman_flagged = base_results[\n",
    "#     (base_results[\"label\"] != base_results[\"top1\"])\n",
    "#     & (base_results[\"top1_prob\"] > confidence_threshold)]\n",
    "# strawman_flagged"
   ]
  },
  {
   "cell_type": "markdown",
   "id": "500a79f3-7d22-4fe2-864e-9c5112db0407",
   "metadata": {},
   "source": [
    "## Ensemble-based algorithms\n",
    "\n",
    "### Baseline: Ensemble method from our CoNLL-2020 paper\n",
    "\n",
    "We count how many models in the ensemble produced each distinct top-1 result.\n",
    "Then we look for cases where many models produced a label that is not in the \n",
    "corpus or where many models did not produce the corpus label for a given \n",
    "example.\n",
    "\n",
    "We choose thresholds for the value of \"many models\" so as to flag about 50 \n",
    "examples."
   ]
  },
  {
   "cell_type": "code",
   "execution_count": 44,
   "id": "20f64f90-3bb4-4ba4-808d-d61232f45082",
   "metadata": {},
   "outputs": [],
   "source": [
    "in_gold, not_in_gold = tp.cleaning.flag_suspicious_labels(\n",
    "    predicted_features=res_by_model_name,\n",
    "    corpus_label_col=\"label\",\n",
    "    predicted_label_col=\"top1\",\n",
    "    align_over_cols=[\"id\"],\n",
    "    keep_cols=[])\n",
    "\n",
    "# Convert class labels to strings.\n",
    "class_names = pd.DataFrame({\n",
    "    \"class\": range(len(cifar100_train.classes)),\n",
    "    \"class_name\": cifar100_train.classes\n",
    "})\n",
    "in_gold = in_gold.merge(class_names)\n",
    "not_in_gold = not_in_gold.merge(class_names)"
   ]
  },
  {
   "cell_type": "code",
   "execution_count": 45,
   "id": "ae561c86-c1d2-407e-939d-cb232c16a8d1",
   "metadata": {},
   "outputs": [
    {
     "data": {
      "text/html": [
       "<div>\n",
       "<style scoped>\n",
       "    .dataframe tbody tr th:only-of-type {\n",
       "        vertical-align: middle;\n",
       "    }\n",
       "\n",
       "    .dataframe tbody tr th {\n",
       "        vertical-align: top;\n",
       "    }\n",
       "\n",
       "    .dataframe thead th {\n",
       "        text-align: right;\n",
       "    }\n",
       "</style>\n",
       "<table border=\"1\" class=\"dataframe\">\n",
       "  <thead>\n",
       "    <tr style=\"text-align: right;\">\n",
       "      <th></th>\n",
       "      <th>id</th>\n",
       "      <th>class</th>\n",
       "      <th>in_gold</th>\n",
       "      <th>count</th>\n",
       "      <th>models</th>\n",
       "      <th>class_name</th>\n",
       "    </tr>\n",
       "  </thead>\n",
       "  <tbody>\n",
       "    <tr>\n",
       "      <th>0</th>\n",
       "      <td>9994</td>\n",
       "      <td>50</td>\n",
       "      <td>True</td>\n",
       "      <td>0</td>\n",
       "      <td>[GOLD]</td>\n",
       "      <td>mouse</td>\n",
       "    </tr>\n",
       "    <tr>\n",
       "      <th>1</th>\n",
       "      <td>9152</td>\n",
       "      <td>50</td>\n",
       "      <td>True</td>\n",
       "      <td>0</td>\n",
       "      <td>[GOLD]</td>\n",
       "      <td>mouse</td>\n",
       "    </tr>\n",
       "    <tr>\n",
       "      <th>2</th>\n",
       "      <td>9037</td>\n",
       "      <td>50</td>\n",
       "      <td>True</td>\n",
       "      <td>0</td>\n",
       "      <td>[GOLD]</td>\n",
       "      <td>mouse</td>\n",
       "    </tr>\n",
       "    <tr>\n",
       "      <th>3</th>\n",
       "      <td>7326</td>\n",
       "      <td>50</td>\n",
       "      <td>True</td>\n",
       "      <td>0</td>\n",
       "      <td>[GOLD]</td>\n",
       "      <td>mouse</td>\n",
       "    </tr>\n",
       "    <tr>\n",
       "      <th>4</th>\n",
       "      <td>7150</td>\n",
       "      <td>50</td>\n",
       "      <td>True</td>\n",
       "      <td>0</td>\n",
       "      <td>[GOLD]</td>\n",
       "      <td>mouse</td>\n",
       "    </tr>\n",
       "  </tbody>\n",
       "</table>\n",
       "</div>"
      ],
      "text/plain": [
       "     id  class  in_gold  count  models class_name\n",
       "0  9994     50     True      0  [GOLD]      mouse\n",
       "1  9152     50     True      0  [GOLD]      mouse\n",
       "2  9037     50     True      0  [GOLD]      mouse\n",
       "3  7326     50     True      0  [GOLD]      mouse\n",
       "4  7150     50     True      0  [GOLD]      mouse"
      ]
     },
     "execution_count": 45,
     "metadata": {},
     "output_type": "execute_result"
    }
   ],
   "source": [
    "# in_gold: Corpus labels, annotated with how many models found that label\n",
    "in_gold.head()"
   ]
  },
  {
   "cell_type": "code",
   "execution_count": 46,
   "id": "71fc44f4-ce80-4527-a1cf-914cf42cf578",
   "metadata": {},
   "outputs": [
    {
     "data": {
      "text/html": [
       "<div>\n",
       "<style scoped>\n",
       "    .dataframe tbody tr th:only-of-type {\n",
       "        vertical-align: middle;\n",
       "    }\n",
       "\n",
       "    .dataframe tbody tr th {\n",
       "        vertical-align: top;\n",
       "    }\n",
       "\n",
       "    .dataframe thead th {\n",
       "        text-align: right;\n",
       "    }\n",
       "</style>\n",
       "<table border=\"1\" class=\"dataframe\">\n",
       "  <thead>\n",
       "    <tr style=\"text-align: right;\">\n",
       "      <th></th>\n",
       "      <th>id</th>\n",
       "      <th>class</th>\n",
       "      <th>in_gold</th>\n",
       "      <th>count</th>\n",
       "      <th>models</th>\n",
       "      <th>class_name</th>\n",
       "    </tr>\n",
       "  </thead>\n",
       "  <tbody>\n",
       "    <tr>\n",
       "      <th>0</th>\n",
       "      <td>9971</td>\n",
       "      <td>58</td>\n",
       "      <td>False</td>\n",
       "      <td>17</td>\n",
       "      <td>[1792_0, 256_1, 256_2, 256_3, 256_4, 64_1, 64_...</td>\n",
       "      <td>pickup_truck</td>\n",
       "    </tr>\n",
       "    <tr>\n",
       "      <th>1</th>\n",
       "      <td>7320</td>\n",
       "      <td>58</td>\n",
       "      <td>False</td>\n",
       "      <td>17</td>\n",
       "      <td>[1792_0, 256_1, 256_2, 256_3, 256_4, 64_1, 64_...</td>\n",
       "      <td>pickup_truck</td>\n",
       "    </tr>\n",
       "    <tr>\n",
       "      <th>2</th>\n",
       "      <td>619</td>\n",
       "      <td>58</td>\n",
       "      <td>False</td>\n",
       "      <td>17</td>\n",
       "      <td>[1792_0, 256_1, 256_2, 256_3, 256_4, 64_1, 64_...</td>\n",
       "      <td>pickup_truck</td>\n",
       "    </tr>\n",
       "    <tr>\n",
       "      <th>3</th>\n",
       "      <td>4426</td>\n",
       "      <td>58</td>\n",
       "      <td>False</td>\n",
       "      <td>16</td>\n",
       "      <td>[1792_0, 256_1, 256_2, 256_3, 256_4, 64_1, 64_...</td>\n",
       "      <td>pickup_truck</td>\n",
       "    </tr>\n",
       "    <tr>\n",
       "      <th>4</th>\n",
       "      <td>7146</td>\n",
       "      <td>58</td>\n",
       "      <td>False</td>\n",
       "      <td>15</td>\n",
       "      <td>[1792_0, 256_1, 256_2, 256_3, 256_4, 64_1, 64_...</td>\n",
       "      <td>pickup_truck</td>\n",
       "    </tr>\n",
       "  </tbody>\n",
       "</table>\n",
       "</div>"
      ],
      "text/plain": [
       "     id  class  in_gold  count  \\\n",
       "0  9971     58    False     17   \n",
       "1  7320     58    False     17   \n",
       "2   619     58    False     17   \n",
       "3  4426     58    False     16   \n",
       "4  7146     58    False     15   \n",
       "\n",
       "                                              models    class_name  \n",
       "0  [1792_0, 256_1, 256_2, 256_3, 256_4, 64_1, 64_...  pickup_truck  \n",
       "1  [1792_0, 256_1, 256_2, 256_3, 256_4, 64_1, 64_...  pickup_truck  \n",
       "2  [1792_0, 256_1, 256_2, 256_3, 256_4, 64_1, 64_...  pickup_truck  \n",
       "3  [1792_0, 256_1, 256_2, 256_3, 256_4, 64_1, 64_...  pickup_truck  \n",
       "4  [1792_0, 256_1, 256_2, 256_3, 256_4, 64_1, 64_...  pickup_truck  "
      ]
     },
     "execution_count": 46,
     "metadata": {},
     "output_type": "execute_result"
    }
   ],
   "source": [
    "# not_in_gold: Labels found by models that are not in the corpus labels\n",
    "not_in_gold.head()"
   ]
  },
  {
   "cell_type": "code",
   "execution_count": 47,
   "id": "d49f5e2b-3d65-4036-953f-c775b3ef1277",
   "metadata": {},
   "outputs": [
    {
     "data": {
      "text/plain": [
       "(1322, 294)"
      ]
     },
     "execution_count": 47,
     "metadata": {},
     "output_type": "execute_result"
    }
   ],
   "source": [
    "# Thresholds\n",
    "in_gold_threshold = 1\n",
    "not_in_gold_threshold = 16\n",
    "\n",
    "in_gold_rows = in_gold[in_gold[\"count\"] < in_gold_threshold]\n",
    "not_in_gold_rows = not_in_gold[not_in_gold[\"count\"] > not_in_gold_threshold]\n",
    "(len(in_gold_rows.index), len(not_in_gold_rows.index))"
   ]
  },
  {
   "cell_type": "markdown",
   "id": "29ae1ef9-092e-4ffc-9af7-22acd3cb2cfd",
   "metadata": {},
   "source": [
    "There are 1322 examples for which none of the models found the corpus label, so we can't pick a threshold that will give us our target of 50 flagged examples."
   ]
  },
  {
   "cell_type": "markdown",
   "id": "e8d272b5-4ff3-45e5-b08c-808ee44d7239",
   "metadata": {},
   "source": [
    "### Improved Ensemble Methods\n",
    "\n",
    "Rather than looking purely at top-1 results, we aggregate the detailed class probabilities that the models in the ensemble produce for each example. This approach allows us to set a more fine-grained threshold when choosing which examples to flag.\n",
    "\n",
    "We start by computing a DataFrame of probabilities for all combinations of model and example."
   ]
  },
  {
   "cell_type": "code",
   "execution_count": 48,
   "id": "a5804821-7931-4779-8d5b-5e32db831a62",
   "metadata": {},
   "outputs": [
    {
     "data": {
      "text/html": [
       "<div>\n",
       "<style scoped>\n",
       "    .dataframe tbody tr th:only-of-type {\n",
       "        vertical-align: middle;\n",
       "    }\n",
       "\n",
       "    .dataframe tbody tr th {\n",
       "        vertical-align: top;\n",
       "    }\n",
       "\n",
       "    .dataframe thead th {\n",
       "        text-align: right;\n",
       "    }\n",
       "</style>\n",
       "<table border=\"1\" class=\"dataframe\">\n",
       "  <thead>\n",
       "    <tr style=\"text-align: right;\">\n",
       "      <th></th>\n",
       "      <th>model_name</th>\n",
       "      <th>id</th>\n",
       "      <th>probs</th>\n",
       "      <th>label</th>\n",
       "    </tr>\n",
       "  </thead>\n",
       "  <tbody>\n",
       "    <tr>\n",
       "      <th>0</th>\n",
       "      <td>1792_0</td>\n",
       "      <td>0</td>\n",
       "      <td>[  0.005854557127795873,  0.001044076868371778...</td>\n",
       "      <td>49</td>\n",
       "    </tr>\n",
       "    <tr>\n",
       "      <th>1</th>\n",
       "      <td>1792_0</td>\n",
       "      <td>1</td>\n",
       "      <td>[ 9.559308234828802e-05,  0.000254882639461478...</td>\n",
       "      <td>33</td>\n",
       "    </tr>\n",
       "    <tr>\n",
       "      <th>2</th>\n",
       "      <td>1792_0</td>\n",
       "      <td>2</td>\n",
       "      <td>[ 8.761981268529843e-05, 1.5968990653538752e-0...</td>\n",
       "      <td>72</td>\n",
       "    </tr>\n",
       "    <tr>\n",
       "      <th>3</th>\n",
       "      <td>1792_0</td>\n",
       "      <td>3</td>\n",
       "      <td>[ 0.0003684075279662523,  0.000954082237377838...</td>\n",
       "      <td>51</td>\n",
       "    </tr>\n",
       "    <tr>\n",
       "      <th>4</th>\n",
       "      <td>1792_0</td>\n",
       "      <td>4</td>\n",
       "      <td>[0.00011528890187400213, 1.0516887165878677e-0...</td>\n",
       "      <td>71</td>\n",
       "    </tr>\n",
       "    <tr>\n",
       "      <th>...</th>\n",
       "      <td>...</td>\n",
       "      <td>...</td>\n",
       "      <td>...</td>\n",
       "      <td>...</td>\n",
       "    </tr>\n",
       "    <tr>\n",
       "      <th>9995</th>\n",
       "      <td>16_4</td>\n",
       "      <td>9995</td>\n",
       "      <td>[  0.032673408635511804,  3.339811009622974e-0...</td>\n",
       "      <td>83</td>\n",
       "    </tr>\n",
       "    <tr>\n",
       "      <th>9996</th>\n",
       "      <td>16_4</td>\n",
       "      <td>9996</td>\n",
       "      <td>[6.0110438255074184e-05,  0.000710782417777520...</td>\n",
       "      <td>14</td>\n",
       "    </tr>\n",
       "    <tr>\n",
       "      <th>9997</th>\n",
       "      <td>16_4</td>\n",
       "      <td>9997</td>\n",
       "      <td>[1.1193675189385943e-08, 2.7775074184064864e-0...</td>\n",
       "      <td>51</td>\n",
       "    </tr>\n",
       "    <tr>\n",
       "      <th>9998</th>\n",
       "      <td>16_4</td>\n",
       "      <td>9998</td>\n",
       "      <td>[ 0.0009778664515245356,    0.0270621502901644...</td>\n",
       "      <td>42</td>\n",
       "    </tr>\n",
       "    <tr>\n",
       "      <th>9999</th>\n",
       "      <td>16_4</td>\n",
       "      <td>9999</td>\n",
       "      <td>[2.9640872417138163e-07, 1.5544119958699287e-0...</td>\n",
       "      <td>70</td>\n",
       "    </tr>\n",
       "  </tbody>\n",
       "</table>\n",
       "<p>170000 rows × 4 columns</p>\n",
       "</div>"
      ],
      "text/plain": [
       "     model_name    id                                              probs  \\\n",
       "0        1792_0     0  [  0.005854557127795873,  0.001044076868371778...   \n",
       "1        1792_0     1  [ 9.559308234828802e-05,  0.000254882639461478...   \n",
       "2        1792_0     2  [ 8.761981268529843e-05, 1.5968990653538752e-0...   \n",
       "3        1792_0     3  [ 0.0003684075279662523,  0.000954082237377838...   \n",
       "4        1792_0     4  [0.00011528890187400213, 1.0516887165878677e-0...   \n",
       "...         ...   ...                                                ...   \n",
       "9995       16_4  9995  [  0.032673408635511804,  3.339811009622974e-0...   \n",
       "9996       16_4  9996  [6.0110438255074184e-05,  0.000710782417777520...   \n",
       "9997       16_4  9997  [1.1193675189385943e-08, 2.7775074184064864e-0...   \n",
       "9998       16_4  9998  [ 0.0009778664515245356,    0.0270621502901644...   \n",
       "9999       16_4  9999  [2.9640872417138163e-07, 1.5544119958699287e-0...   \n",
       "\n",
       "      label  \n",
       "0        49  \n",
       "1        33  \n",
       "2        72  \n",
       "3        51  \n",
       "4        71  \n",
       "...     ...  \n",
       "9995     83  \n",
       "9996     14  \n",
       "9997     51  \n",
       "9998     42  \n",
       "9999     70  \n",
       "\n",
       "[170000 rows x 4 columns]"
      ]
     },
     "execution_count": 48,
     "metadata": {},
     "output_type": "execute_result"
    }
   ],
   "source": [
    "all_ensemble_results = pd.concat(res_by_model_name.values())[[\"model_name\", \"id\", \"probs\", \"label\"]]\n",
    "all_ensemble_results"
   ]
  },
  {
   "cell_type": "markdown",
   "id": "a43ba1e0-9190-415e-9f2e-dcb71c28fd99",
   "metadata": {},
   "source": [
    "Next we aggregate together the probabilities for each example. There are several aggregates we can use. We'll compute them all in a single pass."
   ]
  },
  {
   "cell_type": "code",
   "execution_count": 49,
   "id": "6f2ed1d1-7481-4392-a8fb-d1454730e7e4",
   "metadata": {},
   "outputs": [
    {
     "data": {
      "text/html": [
       "<div>\n",
       "<style scoped>\n",
       "    .dataframe tbody tr th:only-of-type {\n",
       "        vertical-align: middle;\n",
       "    }\n",
       "\n",
       "    .dataframe tbody tr th {\n",
       "        vertical-align: top;\n",
       "    }\n",
       "\n",
       "    .dataframe thead th {\n",
       "        text-align: right;\n",
       "    }\n",
       "</style>\n",
       "<table border=\"1\" class=\"dataframe\">\n",
       "  <thead>\n",
       "    <tr style=\"text-align: right;\">\n",
       "      <th></th>\n",
       "      <th>id</th>\n",
       "      <th>label</th>\n",
       "      <th>mean</th>\n",
       "      <th>max</th>\n",
       "      <th>min</th>\n",
       "      <th>hmean</th>\n",
       "      <th>gmean</th>\n",
       "    </tr>\n",
       "  </thead>\n",
       "  <tbody>\n",
       "    <tr>\n",
       "      <th>0</th>\n",
       "      <td>0</td>\n",
       "      <td>49</td>\n",
       "      <td>[0.006078788630875156, 0.0033655518524998668, ...</td>\n",
       "      <td>[0.02093544147253415, 0.024465179825631043, 0....</td>\n",
       "      <td>[6.414496272645663e-05, 1.6837027177841194e-07...</td>\n",
       "      <td>[0.0007547830394816586, 1.6731659988641337e-06...</td>\n",
       "      <td>[0.0031818019255242637, 0.0001637921617610823,...</td>\n",
       "    </tr>\n",
       "    <tr>\n",
       "      <th>1</th>\n",
       "      <td>1</td>\n",
       "      <td>33</td>\n",
       "      <td>[5.49549432244636e-05, 0.00010342830771785922,...</td>\n",
       "      <td>[0.000180963596732137, 0.00044550853398213195,...</td>\n",
       "      <td>[3.597347678787815e-09, 1.8000862012657325e-07...</td>\n",
       "      <td>[6.078176822182054e-08, 1.6499347140318228e-06...</td>\n",
       "      <td>[1.8567691919982884e-05, 3.49637018547335e-05,...</td>\n",
       "    </tr>\n",
       "    <tr>\n",
       "      <th>2</th>\n",
       "      <td>2</td>\n",
       "      <td>72</td>\n",
       "      <td>[0.00012546697944818534, 6.211834743788112e-05...</td>\n",
       "      <td>[0.0006677157830083624, 0.0008486283902404709,...</td>\n",
       "      <td>[3.335955307114795e-08, 2.8421155028665127e-08...</td>\n",
       "      <td>[5.28642863678113e-07, 4.487922358262514e-07, ...</td>\n",
       "      <td>[2.7957940224290562e-05, 7.923807407088013e-06...</td>\n",
       "    </tr>\n",
       "    <tr>\n",
       "      <th>3</th>\n",
       "      <td>3</td>\n",
       "      <td>51</td>\n",
       "      <td>[0.00031484518710906767, 0.0006306046859906477...</td>\n",
       "      <td>[0.001321113562575155, 0.0020763797786939753, ...</td>\n",
       "      <td>[1.4384239931937755e-06, 1.3996542212480226e-0...</td>\n",
       "      <td>[1.0501281993133871e-05, 0.0001053322804739558...</td>\n",
       "      <td>[0.000104523678626729, 0.0003466919234424472, ...</td>\n",
       "    </tr>\n",
       "    <tr>\n",
       "      <th>4</th>\n",
       "      <td>4</td>\n",
       "      <td>71</td>\n",
       "      <td>[0.00014257256774090452, 3.45362374188662e-05,...</td>\n",
       "      <td>[0.000344658753487889, 0.00026991447622394424,...</td>\n",
       "      <td>[5.319895129399326e-06, 2.818946587663537e-10,...</td>\n",
       "      <td>[4.2699553758781904e-05, 4.681810411799139e-09...</td>\n",
       "      <td>[9.298708381853386e-05, 4.29282489085698e-06, ...</td>\n",
       "    </tr>\n",
       "    <tr>\n",
       "      <th>...</th>\n",
       "      <td>...</td>\n",
       "      <td>...</td>\n",
       "      <td>...</td>\n",
       "      <td>...</td>\n",
       "      <td>...</td>\n",
       "      <td>...</td>\n",
       "      <td>...</td>\n",
       "    </tr>\n",
       "    <tr>\n",
       "      <th>9995</th>\n",
       "      <td>9995</td>\n",
       "      <td>83</td>\n",
       "      <td>[0.12581699736375762, 0.00018599111224821147, ...</td>\n",
       "      <td>[0.4164225460357865, 0.000382438597038608, 0.0...</td>\n",
       "      <td>[0.031366415343826025, 5.9079549053359e-06, 2....</td>\n",
       "      <td>[0.08625745398493564, 4.8643583485056334e-05, ...</td>\n",
       "      <td>[0.1048887026775574, 0.00012057236389914004, 0...</td>\n",
       "    </tr>\n",
       "    <tr>\n",
       "      <th>9996</th>\n",
       "      <td>9996</td>\n",
       "      <td>14</td>\n",
       "      <td>[0.00020829404757629944, 0.0012157728001633648...</td>\n",
       "      <td>[0.0018254767913682116, 0.01162753416375392, 0...</td>\n",
       "      <td>[2.443442833398621e-07, 4.957881275983026e-08,...</td>\n",
       "      <td>[3.698668269454702e-06, 8.382132403802123e-07,...</td>\n",
       "      <td>[6.444358752371283e-05, 0.0002639824302575096,...</td>\n",
       "    </tr>\n",
       "    <tr>\n",
       "      <th>9997</th>\n",
       "      <td>9997</td>\n",
       "      <td>51</td>\n",
       "      <td>[3.3598604353837935e-06, 5.676749362831422e-06...</td>\n",
       "      <td>[2.277589598438002e-05, 2.7775074184064864e-05...</td>\n",
       "      <td>[5.719531465300544e-10, 2.2081595350015205e-08...</td>\n",
       "      <td>[7.68068386285974e-09, 2.1631123910768984e-07,...</td>\n",
       "      <td>[4.751315260768693e-07, 2.1133096737967632e-06...</td>\n",
       "    </tr>\n",
       "    <tr>\n",
       "      <th>9998</th>\n",
       "      <td>9998</td>\n",
       "      <td>42</td>\n",
       "      <td>[0.0003182718660968549, 0.0017201826472122166,...</td>\n",
       "      <td>[0.0009778664515245356, 0.02706215029016447, 0...</td>\n",
       "      <td>[5.57861240610031e-07, 7.966975174154501e-07, ...</td>\n",
       "      <td>[4.255170614406911e-06, 6.456836238636943e-06,...</td>\n",
       "      <td>[9.288007594297178e-05, 6.62188789927811e-05, ...</td>\n",
       "    </tr>\n",
       "    <tr>\n",
       "      <th>9999</th>\n",
       "      <td>9999</td>\n",
       "      <td>70</td>\n",
       "      <td>[0.0013341288116802052, 6.178913833265561e-05,...</td>\n",
       "      <td>[0.01965152887410726, 0.00020011287084366894, ...</td>\n",
       "      <td>[2.9640872417138163e-07, 1.7858305960403003e-0...</td>\n",
       "      <td>[3.887455235571085e-06, 1.2979437418819452e-05...</td>\n",
       "      <td>[4.1345530533603734e-05, 3.657652517580936e-05...</td>\n",
       "    </tr>\n",
       "  </tbody>\n",
       "</table>\n",
       "<p>10000 rows × 7 columns</p>\n",
       "</div>"
      ],
      "text/plain": [
       "        id  label                                               mean  \\\n",
       "0        0     49  [0.006078788630875156, 0.0033655518524998668, ...   \n",
       "1        1     33  [5.49549432244636e-05, 0.00010342830771785922,...   \n",
       "2        2     72  [0.00012546697944818534, 6.211834743788112e-05...   \n",
       "3        3     51  [0.00031484518710906767, 0.0006306046859906477...   \n",
       "4        4     71  [0.00014257256774090452, 3.45362374188662e-05,...   \n",
       "...    ...    ...                                                ...   \n",
       "9995  9995     83  [0.12581699736375762, 0.00018599111224821147, ...   \n",
       "9996  9996     14  [0.00020829404757629944, 0.0012157728001633648...   \n",
       "9997  9997     51  [3.3598604353837935e-06, 5.676749362831422e-06...   \n",
       "9998  9998     42  [0.0003182718660968549, 0.0017201826472122166,...   \n",
       "9999  9999     70  [0.0013341288116802052, 6.178913833265561e-05,...   \n",
       "\n",
       "                                                    max  \\\n",
       "0     [0.02093544147253415, 0.024465179825631043, 0....   \n",
       "1     [0.000180963596732137, 0.00044550853398213195,...   \n",
       "2     [0.0006677157830083624, 0.0008486283902404709,...   \n",
       "3     [0.001321113562575155, 0.0020763797786939753, ...   \n",
       "4     [0.000344658753487889, 0.00026991447622394424,...   \n",
       "...                                                 ...   \n",
       "9995  [0.4164225460357865, 0.000382438597038608, 0.0...   \n",
       "9996  [0.0018254767913682116, 0.01162753416375392, 0...   \n",
       "9997  [2.277589598438002e-05, 2.7775074184064864e-05...   \n",
       "9998  [0.0009778664515245356, 0.02706215029016447, 0...   \n",
       "9999  [0.01965152887410726, 0.00020011287084366894, ...   \n",
       "\n",
       "                                                    min  \\\n",
       "0     [6.414496272645663e-05, 1.6837027177841194e-07...   \n",
       "1     [3.597347678787815e-09, 1.8000862012657325e-07...   \n",
       "2     [3.335955307114795e-08, 2.8421155028665127e-08...   \n",
       "3     [1.4384239931937755e-06, 1.3996542212480226e-0...   \n",
       "4     [5.319895129399326e-06, 2.818946587663537e-10,...   \n",
       "...                                                 ...   \n",
       "9995  [0.031366415343826025, 5.9079549053359e-06, 2....   \n",
       "9996  [2.443442833398621e-07, 4.957881275983026e-08,...   \n",
       "9997  [5.719531465300544e-10, 2.2081595350015205e-08...   \n",
       "9998  [5.57861240610031e-07, 7.966975174154501e-07, ...   \n",
       "9999  [2.9640872417138163e-07, 1.7858305960403003e-0...   \n",
       "\n",
       "                                                  hmean  \\\n",
       "0     [0.0007547830394816586, 1.6731659988641337e-06...   \n",
       "1     [6.078176822182054e-08, 1.6499347140318228e-06...   \n",
       "2     [5.28642863678113e-07, 4.487922358262514e-07, ...   \n",
       "3     [1.0501281993133871e-05, 0.0001053322804739558...   \n",
       "4     [4.2699553758781904e-05, 4.681810411799139e-09...   \n",
       "...                                                 ...   \n",
       "9995  [0.08625745398493564, 4.8643583485056334e-05, ...   \n",
       "9996  [3.698668269454702e-06, 8.382132403802123e-07,...   \n",
       "9997  [7.68068386285974e-09, 2.1631123910768984e-07,...   \n",
       "9998  [4.255170614406911e-06, 6.456836238636943e-06,...   \n",
       "9999  [3.887455235571085e-06, 1.2979437418819452e-05...   \n",
       "\n",
       "                                                  gmean  \n",
       "0     [0.0031818019255242637, 0.0001637921617610823,...  \n",
       "1     [1.8567691919982884e-05, 3.49637018547335e-05,...  \n",
       "2     [2.7957940224290562e-05, 7.923807407088013e-06...  \n",
       "3     [0.000104523678626729, 0.0003466919234424472, ...  \n",
       "4     [9.298708381853386e-05, 4.29282489085698e-06, ...  \n",
       "...                                                 ...  \n",
       "9995  [0.1048887026775574, 0.00012057236389914004, 0...  \n",
       "9996  [6.444358752371283e-05, 0.0002639824302575096,...  \n",
       "9997  [4.751315260768693e-07, 2.1133096737967632e-06...  \n",
       "9998  [9.288007594297178e-05, 6.62188789927811e-05, ...  \n",
       "9999  [4.1345530533603734e-05, 3.657652517580936e-05...  \n",
       "\n",
       "[10000 rows x 7 columns]"
      ]
     },
     "execution_count": 49,
     "metadata": {},
     "output_type": "execute_result"
    }
   ],
   "source": [
    "# Some of these aggregates can be computed by Pandas groupby().agg(),\n",
    "# but others cannot. So we iterate over the groups and do everything\n",
    "# in a consistent fashion.\n",
    "records = []\n",
    "for id_, rows in all_ensemble_results.groupby(\"id\"):\n",
    "    probs = rows[\"probs\"].to_numpy()\n",
    "    label = rows[\"label\"].iloc[0]\n",
    "    records.append({\n",
    "        \"id\": id_,\n",
    "        \"label\": label,\n",
    "        \"mean\": np.mean(probs, axis=0),\n",
    "        \"max\": np.max(probs, axis=0),\n",
    "        \"min\": np.min(probs, axis=0),\n",
    "        # Harmonic mean\n",
    "        \"hmean\": scipy.stats.mstats.hmean(probs, axis=0),\n",
    "        # Geometric mean\n",
    "        \"gmean\": scipy.stats.mstats.gmean(probs, axis=0),\n",
    "    })\n",
    "\n",
    "agg_probs = pd.DataFrame.from_records(records)\n",
    "agg_probs"
   ]
  },
  {
   "cell_type": "markdown",
   "id": "d7bea980-58d3-4ba8-86e6-81214d3c9e7d",
   "metadata": {},
   "source": [
    "First we'll look for cases where the aggregate confidence in the corpus label is below a threshold. We choose thresholds so as to flag exactly the target number of examples."
   ]
  },
  {
   "cell_type": "code",
   "execution_count": 50,
   "id": "781147e8-e167-4464-9c72-6d48abd9c675",
   "metadata": {},
   "outputs": [
    {
     "data": {
      "text/plain": [
       "{'mean': 10, 'max': 10, 'min': 10, 'hmean': 10, 'gmean': 10}"
      ]
     },
     "execution_count": 50,
     "metadata": {},
     "output_type": "execute_result"
    }
   ],
   "source": [
    "agg_names = (\"mean\", \"max\", \"min\", \"hmean\", \"gmean\")\n",
    "\n",
    "# Pull out the aggregated probability of the corpus label for each example\n",
    "agg_label_probs = agg_probs.copy()\n",
    "for name in agg_names:\n",
    "    agg_label_probs[name] = [e[l] for e, l in zip(agg_probs[name], agg_probs[\"label\"])]\n",
    "    \n",
    "# Pick k lowest aggregate scores for the corpus labels\n",
    "flagged_ids = {\n",
    "    name: list(agg_label_probs.nsmallest(num_to_flag, name)[\"id\"])\n",
    "    for name in agg_names\n",
    "}\n",
    "\n",
    "{ name: len(flagged_ids[name]) for name in agg_names }"
   ]
  },
  {
   "cell_type": "markdown",
   "id": "49a81be5-7809-4c44-a063-0d0d54df313a",
   "metadata": {},
   "source": [
    "Show 10 random examples of what we get with each aggregate."
   ]
  },
  {
   "cell_type": "code",
   "execution_count": 51,
   "id": "c4183189-5531-4b15-8cc8-c151adf72951",
   "metadata": {},
   "outputs": [
    {
     "name": "stdout",
     "output_type": "stream",
     "text": [
      "Image 7657:\n"
     ]
    },
    {
     "data": {
      "image/png": "[encoded data removed]",
      "text/plain": [
       "<IPython.core.display.Image object>"
      ]
     },
     "metadata": {},
     "output_type": "display_data"
    },
    {
     "name": "stdout",
     "output_type": "stream",
     "text": [
      "Corpus label: 77 ==> snail\n",
      "Top 5 results: [51 65 40 59 78] ==> ['mushroom', 'rabbit', 'lamp', 'pine_tree', 'snake']\n",
      "Image 5282:\n"
     ]
    },
    {
     "data": {
      "image/png": "[encoded data removed]",
      "text/plain": [
       "<IPython.core.display.Image object>"
      ]
     },
     "metadata": {},
     "output_type": "display_data"
    },
    {
     "name": "stdout",
     "output_type": "stream",
     "text": [
      "Corpus label: 10 ==> bowl\n",
      "Top 5 results: [53 28 16 40 12] ==> ['orange', 'cup', 'can', 'lamp', 'bridge']\n",
      "Image 6082:\n"
     ]
    },
    {
     "data": {
      "image/png": "[encoded data removed]",
      "text/plain": [
       "<IPython.core.display.Image object>"
      ]
     },
     "metadata": {},
     "output_type": "display_data"
    },
    {
     "name": "stdout",
     "output_type": "stream",
     "text": [
      "Corpus label: 5 ==> bed\n",
      "Top 5 results: [25 24 99 11  2] ==> ['couch', 'cockroach', 'worm', 'boy', 'baby']\n",
      "Image 7173:\n"
     ]
    },
    {
     "data": {
      "image/png": "[encoded data removed]",
      "text/plain": [
       "<IPython.core.display.Image object>"
      ]
     },
     "metadata": {},
     "output_type": "display_data"
    },
    {
     "name": "stdout",
     "output_type": "stream",
     "text": [
      "Corpus label: 64 ==> possum\n",
      "Top 5 results: [72 55 13 34  5] ==> ['seal', 'otter', 'bus', 'fox', 'bed']\n",
      "Image 1768:\n"
     ]
    },
    {
     "data": {
      "image/png": "[encoded data removed]",
      "text/plain": [
       "<IPython.core.display.Image object>"
      ]
     },
     "metadata": {},
     "output_type": "display_data"
    },
    {
     "name": "stdout",
     "output_type": "stream",
     "text": [
      "Corpus label: 26 ==> crab\n",
      "Top 5 results: [45 67 40 49  7] ==> ['lobster', 'ray', 'lamp', 'mountain', 'beetle']\n",
      "Image 2827:\n"
     ]
    },
    {
     "data": {
      "image/png": "[encoded data removed]",
      "text/plain": [
       "<IPython.core.display.Image object>"
      ]
     },
     "metadata": {},
     "output_type": "display_data"
    },
    {
     "name": "stdout",
     "output_type": "stream",
     "text": [
      "Corpus label: 27 ==> crocodile\n",
      "Top 5 results: [42 18 31 29 85] ==> ['leopard', 'caterpillar', 'elephant', 'dinosaur', 'tank']\n",
      "Image 5278:\n"
     ]
    },
    {
     "data": {
      "image/png": "[encoded data removed]",
      "text/plain": [
       "<IPython.core.display.Image object>"
      ]
     },
     "metadata": {},
     "output_type": "display_data"
    },
    {
     "name": "stdout",
     "output_type": "stream",
     "text": [
      "Corpus label: 81 ==> streetcar\n",
      "Top 5 results: [13 72 21 55 95] ==> ['bus', 'seal', 'chimpanzee', 'otter', 'whale']\n",
      "Image 3897:\n"
     ]
    },
    {
     "data": {
      "image/png": "[encoded data removed]",
      "text/plain": [
       "<IPython.core.display.Image object>"
      ]
     },
     "metadata": {},
     "output_type": "display_data"
    },
    {
     "name": "stdout",
     "output_type": "stream",
     "text": [
      "Corpus label: 90 ==> train\n",
      "Top 5 results: [81 12 16 66 13] ==> ['streetcar', 'bridge', 'can', 'raccoon', 'bus']\n",
      "Image 7399:\n"
     ]
    },
    {
     "data": {
      "image/png": "[encoded data removed]",
      "text/plain": [
       "<IPython.core.display.Image object>"
      ]
     },
     "metadata": {},
     "output_type": "display_data"
    },
    {
     "name": "stdout",
     "output_type": "stream",
     "text": [
      "Corpus label: 80 ==> squirrel\n",
      "Top 5 results: [55  3  4 19 72] ==> ['otter', 'bear', 'beaver', 'cattle', 'seal']\n",
      "Image 7762:\n"
     ]
    },
    {
     "data": {
      "image/png": "[encoded data removed]",
      "text/plain": [
       "<IPython.core.display.Image object>"
      ]
     },
     "metadata": {},
     "output_type": "display_data"
    },
    {
     "name": "stdout",
     "output_type": "stream",
     "text": [
      "Corpus label: 28 ==> cup\n",
      "Top 5 results: [ 9 19 42 40 31] ==> ['bottle', 'cattle', 'leopard', 'lamp', 'elephant']\n"
     ]
    }
   ],
   "source": [
    "# Examples for the \"mean\" aggregate.\n",
    "# Note that we're using the main model's results to generate the \"top 5 results\" part of the report\n",
    "for idx in random.sample(flagged_ids[\"mean\"], 10):\n",
    "    result_report(model_results, cifar100_test, idx)"
   ]
  },
  {
   "cell_type": "code",
   "execution_count": 52,
   "id": "e06fe772-5dfc-4847-8d74-44f8fbf2be5b",
   "metadata": {},
   "outputs": [
    {
     "name": "stdout",
     "output_type": "stream",
     "text": [
      "Image 7173:\n"
     ]
    },
    {
     "data": {
      "image/png": "[encoded data removed]",
      "text/plain": [
       "<IPython.core.display.Image object>"
      ]
     },
     "metadata": {},
     "output_type": "display_data"
    },
    {
     "name": "stdout",
     "output_type": "stream",
     "text": [
      "Corpus label: 64 ==> possum\n",
      "Top 5 results: [72 55 13 34  5] ==> ['seal', 'otter', 'bus', 'fox', 'bed']\n",
      "Image 7657:\n"
     ]
    },
    {
     "data": {
      "image/png": "[encoded data removed]",
      "text/plain": [
       "<IPython.core.display.Image object>"
      ]
     },
     "metadata": {},
     "output_type": "display_data"
    },
    {
     "name": "stdout",
     "output_type": "stream",
     "text": [
      "Corpus label: 77 ==> snail\n",
      "Top 5 results: [51 65 40 59 78] ==> ['mushroom', 'rabbit', 'lamp', 'pine_tree', 'snake']\n",
      "Image 7002:\n"
     ]
    },
    {
     "data": {
      "image/png": "[encoded data removed]",
      "text/plain": [
       "<IPython.core.display.Image object>"
      ]
     },
     "metadata": {},
     "output_type": "display_data"
    },
    {
     "name": "stdout",
     "output_type": "stream",
     "text": [
      "Corpus label: 64 ==> possum\n",
      "Top 5 results: [72 65 36 35  2] ==> ['seal', 'rabbit', 'hamster', 'girl', 'baby']\n",
      "Image 5278:\n"
     ]
    },
    {
     "data": {
      "image/png": "[encoded data removed]",
      "text/plain": [
       "<IPython.core.display.Image object>"
      ]
     },
     "metadata": {},
     "output_type": "display_data"
    },
    {
     "name": "stdout",
     "output_type": "stream",
     "text": [
      "Corpus label: 81 ==> streetcar\n",
      "Top 5 results: [13 72 21 55 95] ==> ['bus', 'seal', 'chimpanzee', 'otter', 'whale']\n",
      "Image 1768:\n"
     ]
    },
    {
     "data": {
      "image/png": "[encoded data removed]",
      "text/plain": [
       "<IPython.core.display.Image object>"
      ]
     },
     "metadata": {},
     "output_type": "display_data"
    },
    {
     "name": "stdout",
     "output_type": "stream",
     "text": [
      "Corpus label: 26 ==> crab\n",
      "Top 5 results: [45 67 40 49  7] ==> ['lobster', 'ray', 'lamp', 'mountain', 'beetle']\n",
      "Image 7399:\n"
     ]
    },
    {
     "data": {
      "image/png": "[encoded data removed]",
      "text/plain": [
       "<IPython.core.display.Image object>"
      ]
     },
     "metadata": {},
     "output_type": "display_data"
    },
    {
     "name": "stdout",
     "output_type": "stream",
     "text": [
      "Corpus label: 80 ==> squirrel\n",
      "Top 5 results: [55  3  4 19 72] ==> ['otter', 'bear', 'beaver', 'cattle', 'seal']\n",
      "Image 3897:\n"
     ]
    },
    {
     "data": {
      "image/png": "[encoded data removed]",
      "text/plain": [
       "<IPython.core.display.Image object>"
      ]
     },
     "metadata": {},
     "output_type": "display_data"
    },
    {
     "name": "stdout",
     "output_type": "stream",
     "text": [
      "Corpus label: 90 ==> train\n",
      "Top 5 results: [81 12 16 66 13] ==> ['streetcar', 'bridge', 'can', 'raccoon', 'bus']\n",
      "Image 2827:\n"
     ]
    },
    {
     "data": {
      "image/png": "[encoded data removed]",
      "text/plain": [
       "<IPython.core.display.Image object>"
      ]
     },
     "metadata": {},
     "output_type": "display_data"
    },
    {
     "name": "stdout",
     "output_type": "stream",
     "text": [
      "Corpus label: 27 ==> crocodile\n",
      "Top 5 results: [42 18 31 29 85] ==> ['leopard', 'caterpillar', 'elephant', 'dinosaur', 'tank']\n",
      "Image 7762:\n"
     ]
    },
    {
     "data": {
      "image/png": "[encoded data removed]",
      "text/plain": [
       "<IPython.core.display.Image object>"
      ]
     },
     "metadata": {},
     "output_type": "display_data"
    },
    {
     "name": "stdout",
     "output_type": "stream",
     "text": [
      "Corpus label: 28 ==> cup\n",
      "Top 5 results: [ 9 19 42 40 31] ==> ['bottle', 'cattle', 'leopard', 'lamp', 'elephant']\n",
      "Image 6082:\n"
     ]
    },
    {
     "data": {
      "image/png": "[encoded data removed]",
      "text/plain": [
       "<IPython.core.display.Image object>"
      ]
     },
     "metadata": {},
     "output_type": "display_data"
    },
    {
     "name": "stdout",
     "output_type": "stream",
     "text": [
      "Corpus label: 5 ==> bed\n",
      "Top 5 results: [25 24 99 11  2] ==> ['couch', 'cockroach', 'worm', 'boy', 'baby']\n"
     ]
    }
   ],
   "source": [
    "# Examples for the \"max\" aggregate.\n",
    "for idx in random.sample(flagged_ids[\"max\"], 10):\n",
    "    result_report(model_results, cifar100_test, idx)"
   ]
  },
  {
   "cell_type": "code",
   "execution_count": 53,
   "id": "f1f92bba-09d9-4d39-b134-cd5394130a42",
   "metadata": {},
   "outputs": [
    {
     "name": "stdout",
     "output_type": "stream",
     "text": [
      "Image 6909:\n"
     ]
    },
    {
     "data": {
      "image/png": "[encoded data removed]",
      "text/plain": [
       "<IPython.core.display.Image object>"
      ]
     },
     "metadata": {},
     "output_type": "display_data"
    },
    {
     "name": "stdout",
     "output_type": "stream",
     "text": [
      "Corpus label: 45 ==> lobster\n",
      "Top 5 results: [19 43 15 88  3] ==> ['cattle', 'lion', 'camel', 'tiger', 'bear']\n",
      "Image 886:\n"
     ]
    },
    {
     "data": {
      "image/png": "[encoded data removed]",
      "text/plain": [
       "<IPython.core.display.Image object>"
      ]
     },
     "metadata": {},
     "output_type": "display_data"
    },
    {
     "name": "stdout",
     "output_type": "stream",
     "text": [
      "Corpus label: 99 ==> worm\n",
      "Top 5 results: [45 24 40 67 94] ==> ['lobster', 'cockroach', 'lamp', 'ray', 'wardrobe']\n",
      "Image 2827:\n"
     ]
    },
    {
     "data": {
      "image/png": "[encoded data removed]",
      "text/plain": [
       "<IPython.core.display.Image object>"
      ]
     },
     "metadata": {},
     "output_type": "display_data"
    },
    {
     "name": "stdout",
     "output_type": "stream",
     "text": [
      "Corpus label: 27 ==> crocodile\n",
      "Top 5 results: [42 18 31 29 85] ==> ['leopard', 'caterpillar', 'elephant', 'dinosaur', 'tank']\n",
      "Image 2192:\n"
     ]
    },
    {
     "data": {
      "image/png": "[encoded data removed]",
      "text/plain": [
       "<IPython.core.display.Image object>"
      ]
     },
     "metadata": {},
     "output_type": "display_data"
    },
    {
     "name": "stdout",
     "output_type": "stream",
     "text": [
      "Corpus label: 54 ==> orchid\n",
      "Top 5 results: [14 79 26 44 18] ==> ['butterfly', 'spider', 'crab', 'lizard', 'caterpillar']\n",
      "Image 8394:\n"
     ]
    },
    {
     "data": {
      "image/png": "[encoded data removed]",
      "text/plain": [
       "<IPython.core.display.Image object>"
      ]
     },
     "metadata": {},
     "output_type": "display_data"
    },
    {
     "name": "stdout",
     "output_type": "stream",
     "text": [
      "Corpus label: 87 ==> television\n",
      "Top 5 results: [35  2 11 93 46] ==> ['girl', 'baby', 'boy', 'turtle', 'man']\n",
      "Image 4300:\n"
     ]
    },
    {
     "data": {
      "image/png": "[encoded data removed]",
      "text/plain": [
       "<IPython.core.display.Image object>"
      ]
     },
     "metadata": {},
     "output_type": "display_data"
    },
    {
     "name": "stdout",
     "output_type": "stream",
     "text": [
      "Corpus label: 29 ==> dinosaur\n",
      "Top 5 results: [ 9  8 42 30 12] ==> ['bottle', 'bicycle', 'leopard', 'dolphin', 'bridge']\n",
      "Image 9976:\n"
     ]
    },
    {
     "data": {
      "image/png": "[encoded data removed]",
      "text/plain": [
       "<IPython.core.display.Image object>"
      ]
     },
     "metadata": {},
     "output_type": "display_data"
    },
    {
     "name": "stdout",
     "output_type": "stream",
     "text": [
      "Corpus label: 65 ==> rabbit\n",
      "Top 5 results: [55 50 74 77 80] ==> ['otter', 'mouse', 'shrew', 'snail', 'squirrel']\n",
      "Image 1768:\n"
     ]
    },
    {
     "data": {
      "image/png": "[encoded data removed]",
      "text/plain": [
       "<IPython.core.display.Image object>"
      ]
     },
     "metadata": {},
     "output_type": "display_data"
    },
    {
     "name": "stdout",
     "output_type": "stream",
     "text": [
      "Corpus label: 26 ==> crab\n",
      "Top 5 results: [45 67 40 49  7] ==> ['lobster', 'ray', 'lamp', 'mountain', 'beetle']\n",
      "Image 2620:\n"
     ]
    },
    {
     "data": {
      "image/png": "[encoded data removed]",
      "text/plain": [
       "<IPython.core.display.Image object>"
      ]
     },
     "metadata": {},
     "output_type": "display_data"
    },
    {
     "name": "stdout",
     "output_type": "stream",
     "text": [
      "Corpus label: 51 ==> mushroom\n",
      "Top 5 results: [27 44 78 18 29] ==> ['crocodile', 'lizard', 'snake', 'caterpillar', 'dinosaur']\n",
      "Image 416:\n"
     ]
    },
    {
     "data": {
      "image/png": "[encoded data removed]",
      "text/plain": [
       "<IPython.core.display.Image object>"
      ]
     },
     "metadata": {},
     "output_type": "display_data"
    },
    {
     "name": "stdout",
     "output_type": "stream",
     "text": [
      "Corpus label: 27 ==> crocodile\n",
      "Top 5 results: [25 32  5 41 85] ==> ['couch', 'flatfish', 'bed', 'lawn_mower', 'tank']\n"
     ]
    }
   ],
   "source": [
    "# Examples for the \"min\" aggregate.\n",
    "for idx in random.sample(flagged_ids[\"min\"], 10):\n",
    "    result_report(model_results, cifar100_test, idx)"
   ]
  },
  {
   "cell_type": "code",
   "execution_count": 54,
   "id": "2ac3a46f-6611-4752-8bfd-cfa46335b3fa",
   "metadata": {},
   "outputs": [
    {
     "name": "stdout",
     "output_type": "stream",
     "text": [
      "Image 4300:\n"
     ]
    },
    {
     "data": {
      "image/png": "[encoded data removed]",
      "text/plain": [
       "<IPython.core.display.Image object>"
      ]
     },
     "metadata": {},
     "output_type": "display_data"
    },
    {
     "name": "stdout",
     "output_type": "stream",
     "text": [
      "Corpus label: 29 ==> dinosaur\n",
      "Top 5 results: [ 9  8 42 30 12] ==> ['bottle', 'bicycle', 'leopard', 'dolphin', 'bridge']\n",
      "Image 416:\n"
     ]
    },
    {
     "data": {
      "image/png": "[encoded data removed]",
      "text/plain": [
       "<IPython.core.display.Image object>"
      ]
     },
     "metadata": {},
     "output_type": "display_data"
    },
    {
     "name": "stdout",
     "output_type": "stream",
     "text": [
      "Corpus label: 27 ==> crocodile\n",
      "Top 5 results: [25 32  5 41 85] ==> ['couch', 'flatfish', 'bed', 'lawn_mower', 'tank']\n",
      "Image 2192:\n"
     ]
    },
    {
     "data": {
      "image/png": "[encoded data removed]",
      "text/plain": [
       "<IPython.core.display.Image object>"
      ]
     },
     "metadata": {},
     "output_type": "display_data"
    },
    {
     "name": "stdout",
     "output_type": "stream",
     "text": [
      "Corpus label: 54 ==> orchid\n",
      "Top 5 results: [14 79 26 44 18] ==> ['butterfly', 'spider', 'crab', 'lizard', 'caterpillar']\n",
      "Image 886:\n"
     ]
    },
    {
     "data": {
      "image/png": "[encoded data removed]",
      "text/plain": [
       "<IPython.core.display.Image object>"
      ]
     },
     "metadata": {},
     "output_type": "display_data"
    },
    {
     "name": "stdout",
     "output_type": "stream",
     "text": [
      "Corpus label: 99 ==> worm\n",
      "Top 5 results: [45 24 40 67 94] ==> ['lobster', 'cockroach', 'lamp', 'ray', 'wardrobe']\n",
      "Image 6909:\n"
     ]
    },
    {
     "data": {
      "image/png": "[encoded data removed]",
      "text/plain": [
       "<IPython.core.display.Image object>"
      ]
     },
     "metadata": {},
     "output_type": "display_data"
    },
    {
     "name": "stdout",
     "output_type": "stream",
     "text": [
      "Corpus label: 45 ==> lobster\n",
      "Top 5 results: [19 43 15 88  3] ==> ['cattle', 'lion', 'camel', 'tiger', 'bear']\n",
      "Image 2620:\n"
     ]
    },
    {
     "data": {
      "image/png": "[encoded data removed]",
      "text/plain": [
       "<IPython.core.display.Image object>"
      ]
     },
     "metadata": {},
     "output_type": "display_data"
    },
    {
     "name": "stdout",
     "output_type": "stream",
     "text": [
      "Corpus label: 51 ==> mushroom\n",
      "Top 5 results: [27 44 78 18 29] ==> ['crocodile', 'lizard', 'snake', 'caterpillar', 'dinosaur']\n",
      "Image 2827:\n"
     ]
    },
    {
     "data": {
      "image/png": "[encoded data removed]",
      "text/plain": [
       "<IPython.core.display.Image object>"
      ]
     },
     "metadata": {},
     "output_type": "display_data"
    },
    {
     "name": "stdout",
     "output_type": "stream",
     "text": [
      "Corpus label: 27 ==> crocodile\n",
      "Top 5 results: [42 18 31 29 85] ==> ['leopard', 'caterpillar', 'elephant', 'dinosaur', 'tank']\n",
      "Image 9976:\n"
     ]
    },
    {
     "data": {
      "image/png": "[encoded data removed]",
      "text/plain": [
       "<IPython.core.display.Image object>"
      ]
     },
     "metadata": {},
     "output_type": "display_data"
    },
    {
     "name": "stdout",
     "output_type": "stream",
     "text": [
      "Corpus label: 65 ==> rabbit\n",
      "Top 5 results: [55 50 74 77 80] ==> ['otter', 'mouse', 'shrew', 'snail', 'squirrel']\n",
      "Image 1768:\n"
     ]
    },
    {
     "data": {
      "image/png": "[encoded data removed]",
      "text/plain": [
       "<IPython.core.display.Image object>"
      ]
     },
     "metadata": {},
     "output_type": "display_data"
    },
    {
     "name": "stdout",
     "output_type": "stream",
     "text": [
      "Corpus label: 26 ==> crab\n",
      "Top 5 results: [45 67 40 49  7] ==> ['lobster', 'ray', 'lamp', 'mountain', 'beetle']\n",
      "Image 8394:\n"
     ]
    },
    {
     "data": {
      "image/png": "[encoded data removed]",
      "text/plain": [
       "<IPython.core.display.Image object>"
      ]
     },
     "metadata": {},
     "output_type": "display_data"
    },
    {
     "name": "stdout",
     "output_type": "stream",
     "text": [
      "Corpus label: 87 ==> television\n",
      "Top 5 results: [35  2 11 93 46] ==> ['girl', 'baby', 'boy', 'turtle', 'man']\n"
     ]
    }
   ],
   "source": [
    "# Examples for the \"hmean\" aggregate.\n",
    "for idx in random.sample(flagged_ids[\"hmean\"], 10):\n",
    "    result_report(model_results, cifar100_test, idx)"
   ]
  },
  {
   "cell_type": "code",
   "execution_count": 55,
   "id": "a0d88637-87e2-4672-a089-e5d547c2c0fa",
   "metadata": {},
   "outputs": [
    {
     "name": "stdout",
     "output_type": "stream",
     "text": [
      "Image 4649:\n"
     ]
    },
    {
     "data": {
      "image/png": "[encoded data removed]",
      "text/plain": [
       "<IPython.core.display.Image object>"
      ]
     },
     "metadata": {},
     "output_type": "display_data"
    },
    {
     "name": "stdout",
     "output_type": "stream",
     "text": [
      "Corpus label: 64 ==> possum\n",
      "Top 5 results: [55 72 38 13  3] ==> ['otter', 'seal', 'kangaroo', 'bus', 'bear']\n",
      "Image 2827:\n"
     ]
    },
    {
     "data": {
      "image/png": "[encoded data removed]",
      "text/plain": [
       "<IPython.core.display.Image object>"
      ]
     },
     "metadata": {},
     "output_type": "display_data"
    },
    {
     "name": "stdout",
     "output_type": "stream",
     "text": [
      "Corpus label: 27 ==> crocodile\n",
      "Top 5 results: [42 18 31 29 85] ==> ['leopard', 'caterpillar', 'elephant', 'dinosaur', 'tank']\n",
      "Image 5282:\n"
     ]
    },
    {
     "data": {
      "image/png": "[encoded data removed]",
      "text/plain": [
       "<IPython.core.display.Image object>"
      ]
     },
     "metadata": {},
     "output_type": "display_data"
    },
    {
     "name": "stdout",
     "output_type": "stream",
     "text": [
      "Corpus label: 10 ==> bowl\n",
      "Top 5 results: [53 28 16 40 12] ==> ['orange', 'cup', 'can', 'lamp', 'bridge']\n",
      "Image 1768:\n"
     ]
    },
    {
     "data": {
      "image/png": "[encoded data removed]",
      "text/plain": [
       "<IPython.core.display.Image object>"
      ]
     },
     "metadata": {},
     "output_type": "display_data"
    },
    {
     "name": "stdout",
     "output_type": "stream",
     "text": [
      "Corpus label: 26 ==> crab\n",
      "Top 5 results: [45 67 40 49  7] ==> ['lobster', 'ray', 'lamp', 'mountain', 'beetle']\n",
      "Image 9093:\n"
     ]
    },
    {
     "data": {
      "image/png": "[encoded data removed]",
      "text/plain": [
       "<IPython.core.display.Image object>"
      ]
     },
     "metadata": {},
     "output_type": "display_data"
    },
    {
     "name": "stdout",
     "output_type": "stream",
     "text": [
      "Corpus label: 15 ==> camel\n",
      "Top 5 results: [27 74 55 44 50] ==> ['crocodile', 'shrew', 'otter', 'lizard', 'mouse']\n",
      "Image 7173:\n"
     ]
    },
    {
     "data": {
      "image/png": "[encoded data removed]",
      "text/plain": [
       "<IPython.core.display.Image object>"
      ]
     },
     "metadata": {},
     "output_type": "display_data"
    },
    {
     "name": "stdout",
     "output_type": "stream",
     "text": [
      "Corpus label: 64 ==> possum\n",
      "Top 5 results: [72 55 13 34  5] ==> ['seal', 'otter', 'bus', 'fox', 'bed']\n",
      "Image 6082:\n"
     ]
    },
    {
     "data": {
      "image/png": "[encoded data removed]",
      "text/plain": [
       "<IPython.core.display.Image object>"
      ]
     },
     "metadata": {},
     "output_type": "display_data"
    },
    {
     "name": "stdout",
     "output_type": "stream",
     "text": [
      "Corpus label: 5 ==> bed\n",
      "Top 5 results: [25 24 99 11  2] ==> ['couch', 'cockroach', 'worm', 'boy', 'baby']\n",
      "Image 7657:\n"
     ]
    },
    {
     "data": {
      "image/png": "[encoded data removed]",
      "text/plain": [
       "<IPython.core.display.Image object>"
      ]
     },
     "metadata": {},
     "output_type": "display_data"
    },
    {
     "name": "stdout",
     "output_type": "stream",
     "text": [
      "Corpus label: 77 ==> snail\n",
      "Top 5 results: [51 65 40 59 78] ==> ['mushroom', 'rabbit', 'lamp', 'pine_tree', 'snake']\n",
      "Image 5278:\n"
     ]
    },
    {
     "data": {
      "image/png": "[encoded data removed]",
      "text/plain": [
       "<IPython.core.display.Image object>"
      ]
     },
     "metadata": {},
     "output_type": "display_data"
    },
    {
     "name": "stdout",
     "output_type": "stream",
     "text": [
      "Corpus label: 81 ==> streetcar\n",
      "Top 5 results: [13 72 21 55 95] ==> ['bus', 'seal', 'chimpanzee', 'otter', 'whale']\n",
      "Image 2192:\n"
     ]
    },
    {
     "data": {
      "image/png": "[encoded data removed]",
      "text/plain": [
       "<IPython.core.display.Image object>"
      ]
     },
     "metadata": {},
     "output_type": "display_data"
    },
    {
     "name": "stdout",
     "output_type": "stream",
     "text": [
      "Corpus label: 54 ==> orchid\n",
      "Top 5 results: [14 79 26 44 18] ==> ['butterfly', 'spider', 'crab', 'lizard', 'caterpillar']\n"
     ]
    }
   ],
   "source": [
    "# Examples for the \"gmean\" aggregate.\n",
    "for idx in random.sample(flagged_ids[\"gmean\"], 10):\n",
    "    result_report(model_results, cifar100_test, idx)"
   ]
  },
  {
   "cell_type": "markdown",
   "id": "2c0d792a-ff22-417c-96df-1f53ddeb3670",
   "metadata": {},
   "source": [
    "Next we'll look for cases where the aggregate confidence in a label other than the corpus label is *above* a threshold."
   ]
  },
  {
   "cell_type": "code",
   "execution_count": 56,
   "id": "3eeb8079-2921-4434-ab2c-cc70e82fce60",
   "metadata": {},
   "outputs": [],
   "source": [
    "# TODO"
   ]
  },
  {
   "cell_type": "markdown",
   "id": "065f67d3-9876-48aa-a0e3-18d4c446f073",
   "metadata": {
    "jp-MarkdownHeadingCollapsed": true,
    "tags": []
   },
   "source": [
    "### Unused ensemble code"
   ]
  },
  {
   "cell_type": "code",
   "execution_count": 57,
   "id": "680b1462-4b5c-497a-99aa-14695db1c471",
   "metadata": {
    "tags": []
   },
   "outputs": [],
   "source": [
    "# Old code for alternate version of ensemble algorithm where we sum top-1\n",
    "# probabilities instead of just looking at the top-1 prediction of each model.\n",
    "\n",
    "# # First pull out the labels that are in the gold standard labels.\n",
    "# gold_df = test[[\"id\", \"label\"]].copy()\n",
    "\n",
    "# # Add some leading columns to match the schema of the per-model DataFrames we will\n",
    "# # be aggregating together with this one.\n",
    "# gold_df[\"weighted_count\"] = 0\n",
    "# gold_df[\"top1\"] = gold_df[\"label\"]\n",
    "\n",
    "# gold_df[\"in_gold\"] = True\n",
    "# gold_df[\"models\"] = \"GOLD\"\n",
    "\n",
    "\n",
    "# to_concat = [gold_df]\n",
    "\n",
    "# # Generate a DataFrame of top-1 results, weighted by probability, for each of the \n",
    "# # models in the ensemble, and concatenate them all together.\n",
    "# for model_name, model_results in res_by_model_name.items():\n",
    "#     df = model_results[[\"id\", \"label\", \"top1\"]].copy()\n",
    "\n",
    "#     # Use the value of the highest-probability class as the weight.\n",
    "#     df[\"weighted_count\"] = np.stack(model_results[\"probs\"].to_numpy()).max(axis=1)\n",
    "\n",
    "#     # Add leading columns for aggregation\n",
    "#     df[\"in_gold\"] = False\n",
    "#     df[\"models\"] = model_name\n",
    "#     to_concat.append(df)\n",
    "\n",
    "# all_feats = pd.concat(to_concat)\n",
    "# all_feats\n",
    "\n",
    "# # Aggregate the DataFrame from the previous cell to produce one row\n",
    "# # per [id, top1] pair\n",
    "# res = (\n",
    "#     all_feats\n",
    "#     .groupby([\"id\", \"top1\"])\n",
    "#     .agg({\n",
    "#         \"in_gold\": \"any\",\n",
    "#         \"weighted_count\": \"sum\",\n",
    "#         \"models\": lambda x: list(x)\n",
    "#     })\n",
    "#     .reset_index()  # Make \"id\" and \"label\" back into a normal series\n",
    "# )\n",
    "# res"
   ]
  },
  {
   "cell_type": "code",
   "execution_count": 58,
   "id": "5b345483-b582-4611-ab44-590ed4a02b2e",
   "metadata": {
    "tags": []
   },
   "outputs": [],
   "source": [
    "# Old code for an alternate version of the ensemble algorithm where we take the \n",
    "# sum of probabilities for all models for each class.\n",
    "\n",
    "# # Stuff the probabilities from all the models into a single tensor of\n",
    "# # shape <num models, num examples, num classes>\n",
    "# arrs = np.stack([res[\"probs\"].to_numpy() for res in res_by_model_name.values()])\n",
    "\n",
    "# # Sum up along the \"model\" dimension to get a tensor of size\n",
    "# # <num examples, num classes>. Each entry contains the total of\n",
    "# # the probability values for that example being in that class\n",
    "# # across all the models\n",
    "# sum_arr = arrs.sum(axis=0)\n",
    "\n",
    "# first_model_output = next(iter(res_by_model_name.values()))\n",
    "\n",
    "# # Find the top probability in each row of sum_arr and mark that as\n",
    "# # the top-1 choice of the ensemble.\n",
    "# combined_probs = pd.DataFrame({\n",
    "#     \"id\": first_model_output[\"id\"].copy(),\n",
    "#     \"top1\": np.argmax(sum_arr, axis=1),\n",
    "#     \"probs\": tp.TensorArray(sum_arr),\n",
    "#     \"weighted_count\": np.max(sum_arr, axis=1)})\n",
    "# combined_probs\n",
    "\n",
    "# # Use gold_df from before\n",
    "# combined_df = gold_df[[\"id\", \"top1\", \"in_gold\"]].copy().merge(combined_probs, how='outer')\n",
    "\n",
    "# # combined_df['in_gold'] = combined_df['predicted_class'].eq(combined_df.corpus_tag)\n",
    "# # combined_df[~combined_df.in_gold].sort_values(['weighted_sum','fold','doc_num'],ascending = [False,True,True])\n",
    "\n",
    "# combined_df"
   ]
  },
  {
   "cell_type": "markdown",
   "id": "26711aef-bc84-4dfe-9f2a-1310fdc2ae74",
   "metadata": {},
   "source": [
    "## Algorithms from the Confident Learning paper\n",
    "\n",
    "Create a confident joint using methodology from the Confident Learning (CL) paper,\n",
    "then, use three different error flagging approaches to flag suspicious entities\n",
    "\n",
    "2. **Confident Joint:** use off diagonals from the confusion matrix \n",
    "3. **Prune by Class:** use n*(row_sum(Q) ) and choose the n lowest self_confidence values from each labeled class\n",
    "4. **Prune by Noise Rate:** choose n*Q<sub>i,j</sub> for each bin: (y&#771; =i, y<super> *</super>=j)"
   ]
  },
  {
   "cell_type": "markdown",
   "id": "2995107f-2a3b-4225-8cda-972f9c4cca1f",
   "metadata": {},
   "source": [
    "### Input data\n",
    "\n",
    "All information required by the CL algorithms is in our DataFrames of model results.\n",
    "Here we use the results of the model that was trained by running logistic regression\n",
    "over the entire set of features that the original pretrained model produced.\n",
    "\n",
    "We make a copy because we're going to add some columns."
   ]
  },
  {
   "cell_type": "code",
   "execution_count": 59,
   "id": "5ffde1f4-5240-49c2-83f2-f2a6e564ccc1",
   "metadata": {},
   "outputs": [
    {
     "data": {
      "text/html": [
       "<div>\n",
       "<style scoped>\n",
       "    .dataframe tbody tr th:only-of-type {\n",
       "        vertical-align: middle;\n",
       "    }\n",
       "\n",
       "    .dataframe tbody tr th {\n",
       "        vertical-align: top;\n",
       "    }\n",
       "\n",
       "    .dataframe thead th {\n",
       "        text-align: right;\n",
       "    }\n",
       "</style>\n",
       "<table border=\"1\" class=\"dataframe\">\n",
       "  <thead>\n",
       "    <tr style=\"text-align: right;\">\n",
       "      <th></th>\n",
       "      <th>id</th>\n",
       "      <th>probs</th>\n",
       "      <th>label</th>\n",
       "      <th>label_prob</th>\n",
       "      <th>top1</th>\n",
       "      <th>top1_prob</th>\n",
       "      <th>top5</th>\n",
       "      <th>top5_match</th>\n",
       "    </tr>\n",
       "  </thead>\n",
       "  <tbody>\n",
       "    <tr>\n",
       "      <th>0</th>\n",
       "      <td>0</td>\n",
       "      <td>[  0.005854557127795873,  0.001044076868371778...</td>\n",
       "      <td>49</td>\n",
       "      <td>0.012577</td>\n",
       "      <td>90</td>\n",
       "      <td>0.150746</td>\n",
       "      <td>[90, 69, 60, 68, 55]</td>\n",
       "      <td>False</td>\n",
       "    </tr>\n",
       "    <tr>\n",
       "      <th>1</th>\n",
       "      <td>1</td>\n",
       "      <td>[ 9.559308234828802e-05,  0.000254882639461478...</td>\n",
       "      <td>33</td>\n",
       "      <td>0.836550</td>\n",
       "      <td>33</td>\n",
       "      <td>0.836550</td>\n",
       "      <td>[33, 84, 88, 40, 81]</td>\n",
       "      <td>True</td>\n",
       "    </tr>\n",
       "    <tr>\n",
       "      <th>2</th>\n",
       "      <td>2</td>\n",
       "      <td>[ 8.761981268529843e-05, 1.5968990653538752e-0...</td>\n",
       "      <td>72</td>\n",
       "      <td>0.036595</td>\n",
       "      <td>55</td>\n",
       "      <td>0.769059</td>\n",
       "      <td>[55,  4, 72,  3, 27]</td>\n",
       "      <td>True</td>\n",
       "    </tr>\n",
       "    <tr>\n",
       "      <th>3</th>\n",
       "      <td>3</td>\n",
       "      <td>[ 0.0003684075279662523,  0.000954082237377838...</td>\n",
       "      <td>51</td>\n",
       "      <td>0.916458</td>\n",
       "      <td>51</td>\n",
       "      <td>0.916458</td>\n",
       "      <td>[51, 91, 37, 73, 77]</td>\n",
       "      <td>True</td>\n",
       "    </tr>\n",
       "    <tr>\n",
       "      <th>4</th>\n",
       "      <td>4</td>\n",
       "      <td>[0.00011528890187400213, 1.0516887165878677e-0...</td>\n",
       "      <td>71</td>\n",
       "      <td>0.973617</td>\n",
       "      <td>71</td>\n",
       "      <td>0.973617</td>\n",
       "      <td>[71, 23, 60, 82,  5]</td>\n",
       "      <td>True</td>\n",
       "    </tr>\n",
       "    <tr>\n",
       "      <th>...</th>\n",
       "      <td>...</td>\n",
       "      <td>...</td>\n",
       "      <td>...</td>\n",
       "      <td>...</td>\n",
       "      <td>...</td>\n",
       "      <td>...</td>\n",
       "      <td>...</td>\n",
       "      <td>...</td>\n",
       "    </tr>\n",
       "    <tr>\n",
       "      <th>9995</th>\n",
       "      <td>9995</td>\n",
       "      <td>[    0.1327502529918377, 0.0002147192453419326...</td>\n",
       "      <td>83</td>\n",
       "      <td>0.601070</td>\n",
       "      <td>83</td>\n",
       "      <td>0.601070</td>\n",
       "      <td>[83,  0, 57, 92, 53]</td>\n",
       "      <td>True</td>\n",
       "    </tr>\n",
       "    <tr>\n",
       "      <th>9996</th>\n",
       "      <td>9996</td>\n",
       "      <td>[ 0.0001805923354565663,  0.001021981597497340...</td>\n",
       "      <td>14</td>\n",
       "      <td>0.375980</td>\n",
       "      <td>14</td>\n",
       "      <td>0.375980</td>\n",
       "      <td>[14, 63, 93, 74, 65]</td>\n",
       "      <td>True</td>\n",
       "    </tr>\n",
       "    <tr>\n",
       "      <th>9997</th>\n",
       "      <td>9997</td>\n",
       "      <td>[ 6.153893502234097e-06,  5.777871894127568e-0...</td>\n",
       "      <td>51</td>\n",
       "      <td>0.999391</td>\n",
       "      <td>51</td>\n",
       "      <td>0.999391</td>\n",
       "      <td>[51, 44, 84, 75, 40]</td>\n",
       "      <td>True</td>\n",
       "    </tr>\n",
       "    <tr>\n",
       "      <th>9998</th>\n",
       "      <td>9998</td>\n",
       "      <td>[ 0.0002995953766039082,  9.663399880614622e-0...</td>\n",
       "      <td>42</td>\n",
       "      <td>0.921105</td>\n",
       "      <td>42</td>\n",
       "      <td>0.921105</td>\n",
       "      <td>[42, 43, 88, 21, 74]</td>\n",
       "      <td>True</td>\n",
       "    </tr>\n",
       "    <tr>\n",
       "      <th>9999</th>\n",
       "      <td>9999</td>\n",
       "      <td>[ 4.704100714199589e-05,  4.228494421123505e-0...</td>\n",
       "      <td>70</td>\n",
       "      <td>0.983022</td>\n",
       "      <td>70</td>\n",
       "      <td>0.983022</td>\n",
       "      <td>[70, 92, 77, 53, 26]</td>\n",
       "      <td>True</td>\n",
       "    </tr>\n",
       "  </tbody>\n",
       "</table>\n",
       "<p>10000 rows × 8 columns</p>\n",
       "</div>"
      ],
      "text/plain": [
       "        id                                              probs  label  \\\n",
       "0        0  [  0.005854557127795873,  0.001044076868371778...     49   \n",
       "1        1  [ 9.559308234828802e-05,  0.000254882639461478...     33   \n",
       "2        2  [ 8.761981268529843e-05, 1.5968990653538752e-0...     72   \n",
       "3        3  [ 0.0003684075279662523,  0.000954082237377838...     51   \n",
       "4        4  [0.00011528890187400213, 1.0516887165878677e-0...     71   \n",
       "...    ...                                                ...    ...   \n",
       "9995  9995  [    0.1327502529918377, 0.0002147192453419326...     83   \n",
       "9996  9996  [ 0.0001805923354565663,  0.001021981597497340...     14   \n",
       "9997  9997  [ 6.153893502234097e-06,  5.777871894127568e-0...     51   \n",
       "9998  9998  [ 0.0002995953766039082,  9.663399880614622e-0...     42   \n",
       "9999  9999  [ 4.704100714199589e-05,  4.228494421123505e-0...     70   \n",
       "\n",
       "      label_prob  top1  top1_prob                  top5  top5_match  \n",
       "0       0.012577    90   0.150746  [90, 69, 60, 68, 55]       False  \n",
       "1       0.836550    33   0.836550  [33, 84, 88, 40, 81]        True  \n",
       "2       0.036595    55   0.769059  [55,  4, 72,  3, 27]        True  \n",
       "3       0.916458    51   0.916458  [51, 91, 37, 73, 77]        True  \n",
       "4       0.973617    71   0.973617  [71, 23, 60, 82,  5]        True  \n",
       "...          ...   ...        ...                   ...         ...  \n",
       "9995    0.601070    83   0.601070  [83,  0, 57, 92, 53]        True  \n",
       "9996    0.375980    14   0.375980  [14, 63, 93, 74, 65]        True  \n",
       "9997    0.999391    51   0.999391  [51, 44, 84, 75, 40]        True  \n",
       "9998    0.921105    42   0.921105  [42, 43, 88, 21, 74]        True  \n",
       "9999    0.983022    70   0.983022  [70, 92, 77, 53, 26]        True  \n",
       "\n",
       "[10000 rows x 8 columns]"
      ]
     },
     "execution_count": 59,
     "metadata": {},
     "output_type": "execute_result"
    }
   ],
   "source": [
    "model_results = res_by_model[(num_features, 0)].copy()\n",
    "model_results"
   ]
  },
  {
   "cell_type": "markdown",
   "id": "99e6b57c-a3eb-4598-b8d5-03bee9c10b8f",
   "metadata": {},
   "source": [
    "### Preliminaries\n",
    "\n",
    "We start by gathering together the inputs that we require for the CL algorithms. \n",
    "\n",
    "These inputs are:\n",
    "* `corpus_labels`: Vector where element $i$ contains the \"correct\" integer label for \n",
    "   the $i^{\\text{th}}$ element of the corpus\n",
    "* `self_confidence`: Vector where element $i$ contains the model's output probability \n",
    "   for the highest-probability label for the $i^{\\text{th}}$ element of the corpus\n",
    "* `cl_confidence`: Vector where element $i$ contains the model's highest class probability\n",
    "   for element $i$ of the corpus that is above the associated probability threshold \n",
    "   in `thresholds` (see below), or zero if none of the model's output probabilities \n",
    "   are above the thresholds.\n",
    "* `cl_pred`: Vector where element $i$ contains the class ID for which the model output\n",
    "   the highest probability *that is above a threshold in `thresholds`*; or the corpus \n",
    "   label if all the model's output probabilities were below their associated thresholds.\n",
    "* `cl_normalized_margin`: Vector where element $i$ contains the difference between:\n",
    "    * the model's output probability for the class that is the corpus label for \n",
    "      element $i$ of the corpus, and\n",
    "    * element $i$ of `cl_confidence`.\n",
    "* `cl_predicted_on`: Vector where element $i$ is `True` if, for element $i$ of the \n",
    "  corpus, the model  output at least one class probability that was above the \n",
    "  corresponding threshold in `thresholds`.\n",
    "* `num_classes`: Number of distinct labels in the corpus\n",
    "* `q_matrix`: Matrix of adjusted empirical class probabilities that the \n",
    "  Confident Learning paper refers to as $Q$. \n",
    "\n",
    "\n",
    "Along the way, we also compute some intermediate values:\n",
    "* `num_examples`: Number of elements in the corpus\n",
    "* `model_labels`: Vector where element $i$ contains model's predicted label for \n",
    "   the $i^{\\text{th}}$ element of the corpus\n",
    "* `model_probs`: 2D matrix containing the model's probability for each combination of\n",
    "  class and corpus element. That is, row $i$ contains all the class probabilities \n",
    "  for the $i^{\\text{th}}$ element of the corpus\n",
    "* `thresholds`: Vector where element $j$ contains the model's probability for\n",
    "  the $j^{\\text{th}}$ class, averaged over all the corpus elements for which the\n",
    "  correct class label is $j$.\n",
    "* `confusion_matrix`: Confusion matrix comparing model result vs. Confident Learning\n",
    "  predicted result (**not** against actual corpus label, though the two are usually\n",
    "  the same)\n"
   ]
  },
  {
   "cell_type": "code",
   "execution_count": 60,
   "id": "841b36d6-a200-42de-869a-ef771b825c3d",
   "metadata": {},
   "outputs": [],
   "source": [
    "# Compute all the variables described above.\n",
    "corpus_labels = model_results[\"label\"].to_numpy()\n",
    "num_examples = len(corpus_labels)\n",
    "num_classes = len(model_results[\"label\"].unique())\n",
    "\n",
    "model_probs = model_results[\"probs\"].to_numpy()\n",
    "model_labels = model_results[\"top1\"].to_numpy()\n",
    "self_confidence = model_results[\"top1_prob\"].to_numpy()\n",
    "label_confidence = model_results[\"label_prob\"].to_numpy()\n",
    "\n",
    "# 4-step process to compute `thresholds`\n",
    "threshold_mask = np.zeros_like(model_probs)\n",
    "threshold_mask[range(num_examples), corpus_labels] = 1.\n",
    "thresholds = np.sum(model_probs * threshold_mask, axis=0)\n",
    "thresholds = thresholds/np.sum(threshold_mask,axis=0)\n",
    "\n",
    "preds_masked = (\n",
    "    # Filter out model probabilities below the thresholds\n",
    "    np.where(\n",
    "        (model_probs - thresholds) >= 0, \n",
    "        model_probs, \n",
    "        0)\n",
    ")\n",
    "cl_predicted_on = preds_masked.any(axis=1)\n",
    "\n",
    "cl_confidence = preds_masked.max(axis=1)\n",
    "cl_pred = np.where(cl_predicted_on, preds_masked.argmax(axis=1), corpus_labels)\n",
    "\n",
    "cl_normalized_margin = label_confidence - cl_confidence\n",
    "\n",
    "# Add the values produced so far to the model results table.\n",
    "model_results[\"cl_pred\"] = cl_pred\n",
    "model_results[\"cl_normalized_margin\"] = cl_normalized_margin\n",
    "model_results[\"cl_predicted_on\"] = cl_predicted_on\n",
    "\n",
    "# Compute `confusion_matrix` from the `cl_pred` values we just added\n",
    "# to each row. First we generate a sparse version, then a dense version.\n",
    "confusion_matrix_ijv = (\n",
    "    model_results.groupby([\"top1\", \"cl_pred\"])\n",
    "    .agg({\"id\": \"count\"})\n",
    "    .rename(columns={\"id\": \"count\"})\n",
    "    .reset_index())\n",
    "\n",
    "confusion_matrix = (\n",
    "    confusion_matrix_ijv\n",
    "    .pivot(index=\"top1\", columns=\"cl_pred\", values=\"count\")\n",
    "    .fillna(0)\n",
    "    .astype(int))\n",
    "\n",
    "# Compute a correction factor for each class label by dividing the number\n",
    "# of times that class label appeared in the CleanLab recommended class\n",
    "# by the number of times that the label appeared in the top-1 model output.\n",
    "# The two vectors divide to generate this correction factor also happen to\n",
    "# be the sums of of the rows and sums of the \"confusion matrix\" we just computed.\n",
    "confusion_matrix_row_sums = confusion_matrix.T.sum()\n",
    "confusion_matrix_col_sums = confusion_matrix.sum()\n",
    "correction_factors = confusion_matrix_row_sums / confusion_matrix_col_sums\n",
    "\n",
    "# Multiply each row of the \"confusion matrix\" by the correction factor\n",
    "# for the associated class.\n",
    "corrected_confusion_matrix = confusion_matrix * correction_factors\n",
    "\n",
    "# Normalize the counts of this corrected confusion matrix so that they sum\n",
    "# to 1. This turns them into empirical probabilities of some sort. Confident\n",
    "# Learning calls the resulting matrix \"Q\"\n",
    "q_matrix = corrected_confusion_matrix / sum(corrected_confusion_matrix)"
   ]
  },
  {
   "cell_type": "markdown",
   "id": "36d9b24f-b47d-444f-a460-a4eaf6d0ea75",
   "metadata": {},
   "source": [
    "### CL Algorithm 1: Prune by confident joint\n",
    "\n",
    "This algorithm finds elements that are \"off-diagonal\" (i.e. the model's top-1 prediction doesn't match the corpus label) and have \"low normalized margin\" (i.e. the model's confidence in the corpus label is much lower than the model's highest confidence for any label after some filtering)."
   ]
  },
  {
   "cell_type": "code",
   "execution_count": 61,
   "id": "88adf8b7-a583-4e62-8c42-a5d9e8d7a3c1",
   "metadata": {},
   "outputs": [
    {
     "data": {
      "text/html": [
       "<div>\n",
       "<style scoped>\n",
       "    .dataframe tbody tr th:only-of-type {\n",
       "        vertical-align: middle;\n",
       "    }\n",
       "\n",
       "    .dataframe tbody tr th {\n",
       "        vertical-align: top;\n",
       "    }\n",
       "\n",
       "    .dataframe thead th {\n",
       "        text-align: right;\n",
       "    }\n",
       "</style>\n",
       "<table border=\"1\" class=\"dataframe\">\n",
       "  <thead>\n",
       "    <tr style=\"text-align: right;\">\n",
       "      <th></th>\n",
       "      <th>id</th>\n",
       "      <th>probs</th>\n",
       "      <th>label</th>\n",
       "      <th>label_prob</th>\n",
       "      <th>top1</th>\n",
       "      <th>top1_prob</th>\n",
       "      <th>top5</th>\n",
       "      <th>top5_match</th>\n",
       "      <th>cl_pred</th>\n",
       "      <th>cl_normalized_margin</th>\n",
       "      <th>cl_predicted_on</th>\n",
       "    </tr>\n",
       "  </thead>\n",
       "  <tbody>\n",
       "    <tr>\n",
       "      <th>2827</th>\n",
       "      <td>2827</td>\n",
       "      <td>[ 8.345656068512821e-07,  5.071488410662216e-0...</td>\n",
       "      <td>27</td>\n",
       "      <td>0.000003</td>\n",
       "      <td>42</td>\n",
       "      <td>0.999555</td>\n",
       "      <td>[42, 63, 97, 14, 21]</td>\n",
       "      <td>False</td>\n",
       "      <td>42</td>\n",
       "      <td>-0.999552</td>\n",
       "      <td>True</td>\n",
       "    </tr>\n",
       "    <tr>\n",
       "      <th>5278</th>\n",
       "      <td>5278</td>\n",
       "      <td>[3.5692894026954137e-07,  3.685018938115039e-0...</td>\n",
       "      <td>81</td>\n",
       "      <td>0.000035</td>\n",
       "      <td>13</td>\n",
       "      <td>0.999556</td>\n",
       "      <td>[13, 58,  9, 81, 90]</td>\n",
       "      <td>True</td>\n",
       "      <td>13</td>\n",
       "      <td>-0.999521</td>\n",
       "      <td>True</td>\n",
       "    </tr>\n",
       "    <tr>\n",
       "      <th>3854</th>\n",
       "      <td>3854</td>\n",
       "      <td>[ 4.016521383131065e-07, 1.8385797802017932e-0...</td>\n",
       "      <td>65</td>\n",
       "      <td>0.000056</td>\n",
       "      <td>38</td>\n",
       "      <td>0.999226</td>\n",
       "      <td>[38, 97, 19, 15, 65]</td>\n",
       "      <td>True</td>\n",
       "      <td>38</td>\n",
       "      <td>-0.999171</td>\n",
       "      <td>True</td>\n",
       "    </tr>\n",
       "    <tr>\n",
       "      <th>3897</th>\n",
       "      <td>3897</td>\n",
       "      <td>[3.6330576353761353e-06, 3.3093128314896235e-0...</td>\n",
       "      <td>90</td>\n",
       "      <td>0.000223</td>\n",
       "      <td>81</td>\n",
       "      <td>0.998794</td>\n",
       "      <td>[81, 13, 90, 37,  4]</td>\n",
       "      <td>True</td>\n",
       "      <td>81</td>\n",
       "      <td>-0.998571</td>\n",
       "      <td>True</td>\n",
       "    </tr>\n",
       "    <tr>\n",
       "      <th>7657</th>\n",
       "      <td>7657</td>\n",
       "      <td>[ 6.227571202262983e-05,  3.031955015452487e-0...</td>\n",
       "      <td>77</td>\n",
       "      <td>0.000137</td>\n",
       "      <td>51</td>\n",
       "      <td>0.998027</td>\n",
       "      <td>[51, 92, 40, 77, 57]</td>\n",
       "      <td>True</td>\n",
       "      <td>51</td>\n",
       "      <td>-0.997890</td>\n",
       "      <td>True</td>\n",
       "    </tr>\n",
       "    <tr>\n",
       "      <th>8951</th>\n",
       "      <td>8951</td>\n",
       "      <td>[1.0623212131676658e-05, 1.0170336508546508e-0...</td>\n",
       "      <td>47</td>\n",
       "      <td>0.000562</td>\n",
       "      <td>52</td>\n",
       "      <td>0.998115</td>\n",
       "      <td>[52, 47, 59, 90,  9]</td>\n",
       "      <td>True</td>\n",
       "      <td>52</td>\n",
       "      <td>-0.997553</td>\n",
       "      <td>True</td>\n",
       "    </tr>\n",
       "    <tr>\n",
       "      <th>8937</th>\n",
       "      <td>8937</td>\n",
       "      <td>[ 3.208816918639135e-05, 1.1773888317706816e-0...</td>\n",
       "      <td>47</td>\n",
       "      <td>0.000430</td>\n",
       "      <td>52</td>\n",
       "      <td>0.997687</td>\n",
       "      <td>[52, 47, 60, 74, 34]</td>\n",
       "      <td>True</td>\n",
       "      <td>52</td>\n",
       "      <td>-0.997257</td>\n",
       "      <td>True</td>\n",
       "    </tr>\n",
       "    <tr>\n",
       "      <th>7384</th>\n",
       "      <td>7384</td>\n",
       "      <td>[3.3099286357899025e-05,  4.790653474253331e-0...</td>\n",
       "      <td>47</td>\n",
       "      <td>0.000223</td>\n",
       "      <td>52</td>\n",
       "      <td>0.997435</td>\n",
       "      <td>[52, 90, 47,  3, 96]</td>\n",
       "      <td>True</td>\n",
       "      <td>52</td>\n",
       "      <td>-0.997212</td>\n",
       "      <td>True</td>\n",
       "    </tr>\n",
       "    <tr>\n",
       "      <th>7020</th>\n",
       "      <td>7020</td>\n",
       "      <td>[1.0910608817704933e-05, 3.4747439862327584e-0...</td>\n",
       "      <td>26</td>\n",
       "      <td>0.000503</td>\n",
       "      <td>45</td>\n",
       "      <td>0.997528</td>\n",
       "      <td>[45, 26, 79, 56, 44]</td>\n",
       "      <td>True</td>\n",
       "      <td>45</td>\n",
       "      <td>-0.997025</td>\n",
       "      <td>True</td>\n",
       "    </tr>\n",
       "    <tr>\n",
       "      <th>1214</th>\n",
       "      <td>1214</td>\n",
       "      <td>[ 3.619543175943635e-06,  7.472056832959343e-0...</td>\n",
       "      <td>45</td>\n",
       "      <td>0.001244</td>\n",
       "      <td>26</td>\n",
       "      <td>0.998120</td>\n",
       "      <td>[26, 45, 78, 79, 22]</td>\n",
       "      <td>True</td>\n",
       "      <td>26</td>\n",
       "      <td>-0.996876</td>\n",
       "      <td>True</td>\n",
       "    </tr>\n",
       "  </tbody>\n",
       "</table>\n",
       "</div>"
      ],
      "text/plain": [
       "        id                                              probs  label  \\\n",
       "2827  2827  [ 8.345656068512821e-07,  5.071488410662216e-0...     27   \n",
       "5278  5278  [3.5692894026954137e-07,  3.685018938115039e-0...     81   \n",
       "3854  3854  [ 4.016521383131065e-07, 1.8385797802017932e-0...     65   \n",
       "3897  3897  [3.6330576353761353e-06, 3.3093128314896235e-0...     90   \n",
       "7657  7657  [ 6.227571202262983e-05,  3.031955015452487e-0...     77   \n",
       "8951  8951  [1.0623212131676658e-05, 1.0170336508546508e-0...     47   \n",
       "8937  8937  [ 3.208816918639135e-05, 1.1773888317706816e-0...     47   \n",
       "7384  7384  [3.3099286357899025e-05,  4.790653474253331e-0...     47   \n",
       "7020  7020  [1.0910608817704933e-05, 3.4747439862327584e-0...     26   \n",
       "1214  1214  [ 3.619543175943635e-06,  7.472056832959343e-0...     45   \n",
       "\n",
       "      label_prob  top1  top1_prob                  top5  top5_match  cl_pred  \\\n",
       "2827    0.000003    42   0.999555  [42, 63, 97, 14, 21]       False       42   \n",
       "5278    0.000035    13   0.999556  [13, 58,  9, 81, 90]        True       13   \n",
       "3854    0.000056    38   0.999226  [38, 97, 19, 15, 65]        True       38   \n",
       "3897    0.000223    81   0.998794  [81, 13, 90, 37,  4]        True       81   \n",
       "7657    0.000137    51   0.998027  [51, 92, 40, 77, 57]        True       51   \n",
       "8951    0.000562    52   0.998115  [52, 47, 59, 90,  9]        True       52   \n",
       "8937    0.000430    52   0.997687  [52, 47, 60, 74, 34]        True       52   \n",
       "7384    0.000223    52   0.997435  [52, 90, 47,  3, 96]        True       52   \n",
       "7020    0.000503    45   0.997528  [45, 26, 79, 56, 44]        True       45   \n",
       "1214    0.001244    26   0.998120  [26, 45, 78, 79, 22]        True       26   \n",
       "\n",
       "      cl_normalized_margin  cl_predicted_on  \n",
       "2827             -0.999552             True  \n",
       "5278             -0.999521             True  \n",
       "3854             -0.999171             True  \n",
       "3897             -0.998571             True  \n",
       "7657             -0.997890             True  \n",
       "8951             -0.997553             True  \n",
       "8937             -0.997257             True  \n",
       "7384             -0.997212             True  \n",
       "7020             -0.997025             True  \n",
       "1214             -0.996876             True  "
      ]
     },
     "execution_count": 61,
     "metadata": {},
     "output_type": "execute_result"
    }
   ],
   "source": [
    "cl_alg1_results = (\n",
    "    model_results[\n",
    "        (model_results[\"label\"] != model_results[\"cl_pred\"])\n",
    "        & model_results[\"cl_predicted_on\"]]\n",
    "    .nsmallest(num_to_flag, \"cl_normalized_margin\")\n",
    ")\n",
    "cl_alg1_results"
   ]
  },
  {
   "cell_type": "code",
   "execution_count": 62,
   "id": "83b670f1-a985-4f32-9661-30cf8faa2d19",
   "metadata": {},
   "outputs": [
    {
     "name": "stdout",
     "output_type": "stream",
     "text": [
      "Image 8937:\n"
     ]
    },
    {
     "data": {
      "image/png": "[encoded data removed]",
      "text/plain": [
       "<IPython.core.display.Image object>"
      ]
     },
     "metadata": {},
     "output_type": "display_data"
    },
    {
     "name": "stdout",
     "output_type": "stream",
     "text": [
      "Corpus label: 47 ==> maple_tree\n",
      "Top 5 results: [52 47 60 74 34] ==> ['oak_tree', 'maple_tree', 'plain', 'shrew', 'fox']\n",
      "Image 1214:\n"
     ]
    },
    {
     "data": {
      "image/png": "[encoded data removed]",
      "text/plain": [
       "<IPython.core.display.Image object>"
      ]
     },
     "metadata": {},
     "output_type": "display_data"
    },
    {
     "name": "stdout",
     "output_type": "stream",
     "text": [
      "Corpus label: 45 ==> lobster\n",
      "Top 5 results: [26 45 78 79 22] ==> ['crab', 'lobster', 'snake', 'spider', 'clock']\n",
      "Image 5278:\n"
     ]
    },
    {
     "data": {
      "image/png": "[encoded data removed]",
      "text/plain": [
       "<IPython.core.display.Image object>"
      ]
     },
     "metadata": {},
     "output_type": "display_data"
    },
    {
     "name": "stdout",
     "output_type": "stream",
     "text": [
      "Corpus label: 81 ==> streetcar\n",
      "Top 5 results: [13 58  9 81 90] ==> ['bus', 'pickup_truck', 'bottle', 'streetcar', 'train']\n",
      "Image 7657:\n"
     ]
    },
    {
     "data": {
      "image/png": "[encoded data removed]",
      "text/plain": [
       "<IPython.core.display.Image object>"
      ]
     },
     "metadata": {},
     "output_type": "display_data"
    },
    {
     "name": "stdout",
     "output_type": "stream",
     "text": [
      "Corpus label: 77 ==> snail\n",
      "Top 5 results: [51 92 40 77 57] ==> ['mushroom', 'tulip', 'lamp', 'snail', 'pear']\n",
      "Image 7384:\n"
     ]
    },
    {
     "data": {
      "image/png": "[encoded data removed]",
      "text/plain": [
       "<IPython.core.display.Image object>"
      ]
     },
     "metadata": {},
     "output_type": "display_data"
    },
    {
     "name": "stdout",
     "output_type": "stream",
     "text": [
      "Corpus label: 47 ==> maple_tree\n",
      "Top 5 results: [52 90 47  3 96] ==> ['oak_tree', 'train', 'maple_tree', 'bear', 'willow_tree']\n",
      "Image 3897:\n"
     ]
    },
    {
     "data": {
      "image/png": "[encoded data removed]",
      "text/plain": [
       "<IPython.core.display.Image object>"
      ]
     },
     "metadata": {},
     "output_type": "display_data"
    },
    {
     "name": "stdout",
     "output_type": "stream",
     "text": [
      "Corpus label: 90 ==> train\n",
      "Top 5 results: [81 13 90 37  4] ==> ['streetcar', 'bus', 'train', 'house', 'beaver']\n",
      "Image 8951:\n"
     ]
    },
    {
     "data": {
      "image/png": "[encoded data removed]",
      "text/plain": [
       "<IPython.core.display.Image object>"
      ]
     },
     "metadata": {},
     "output_type": "display_data"
    },
    {
     "name": "stdout",
     "output_type": "stream",
     "text": [
      "Corpus label: 47 ==> maple_tree\n",
      "Top 5 results: [52 47 59 90  9] ==> ['oak_tree', 'maple_tree', 'pine_tree', 'train', 'bottle']\n",
      "Image 3854:\n"
     ]
    },
    {
     "data": {
      "image/png": "[encoded data removed]",
      "text/plain": [
       "<IPython.core.display.Image object>"
      ]
     },
     "metadata": {},
     "output_type": "display_data"
    },
    {
     "name": "stdout",
     "output_type": "stream",
     "text": [
      "Corpus label: 65 ==> rabbit\n",
      "Top 5 results: [38 97 19 15 65] ==> ['kangaroo', 'wolf', 'cattle', 'camel', 'rabbit']\n",
      "Image 2827:\n"
     ]
    },
    {
     "data": {
      "image/png": "[encoded data removed]",
      "text/plain": [
       "<IPython.core.display.Image object>"
      ]
     },
     "metadata": {},
     "output_type": "display_data"
    },
    {
     "name": "stdout",
     "output_type": "stream",
     "text": [
      "Corpus label: 27 ==> crocodile\n",
      "Top 5 results: [42 63 97 14 21] ==> ['leopard', 'porcupine', 'wolf', 'butterfly', 'chimpanzee']\n",
      "Image 7020:\n"
     ]
    },
    {
     "data": {
      "image/png": "[encoded data removed]",
      "text/plain": [
       "<IPython.core.display.Image object>"
      ]
     },
     "metadata": {},
     "output_type": "display_data"
    },
    {
     "name": "stdout",
     "output_type": "stream",
     "text": [
      "Corpus label: 26 ==> crab\n",
      "Top 5 results: [45 26 79 56 44] ==> ['lobster', 'crab', 'spider', 'palm_tree', 'lizard']\n"
     ]
    }
   ],
   "source": [
    "for idx in cl_alg1_results.sample(10).index:\n",
    "    result_report(cl_alg1_results, cifar100_test, idx)"
   ]
  },
  {
   "cell_type": "markdown",
   "id": "0914df09-cb31-4eee-b26b-a410da77e082",
   "metadata": {},
   "source": [
    "### CL Algorithm 2: Prune by class\n",
    "\n",
    "Use $n*(\\text{row_sum}(Q))$ and choose the $n$ lowest self_confidence values from each labeled class"
   ]
  },
  {
   "cell_type": "code",
   "execution_count": 63,
   "id": "df6ceb52-56c1-4c3f-b250-08af605178a0",
   "metadata": {},
   "outputs": [
    {
     "data": {
      "text/plain": [
       "how_many    10\n",
       "dtype: int64"
      ]
     },
     "execution_count": 63,
     "metadata": {},
     "output_type": "execute_result"
    }
   ],
   "source": [
    "# Multiply Q matrix by a constant to get the number of items to \n",
    "# prune from each cell.\n",
    "# Here we pick the constant value so as to produce the target number\n",
    "# of examples.\n",
    "# TODO: Double-check whether the Confident Learning paper chooses\n",
    "# a particular value for this constant.\n",
    "tunable_constant = 101\n",
    "num_to_prune_matrix = q_matrix * tunable_constant\n",
    "\n",
    "# Convert back to sparse representation\n",
    "num_to_prune_matrix_ijv = (\n",
    "    num_to_prune_matrix\n",
    "    .melt(ignore_index=False)\n",
    "    .reset_index())\n",
    "\n",
    "# Drop all cells where the count rounds to zero or where the model's prediction\n",
    "# agrees with the Confident Learning recommended value.\n",
    "num_to_prune_matrix_ijv = (\n",
    "    num_to_prune_matrix_ijv[\n",
    "        (num_to_prune_matrix_ijv[\"value\"] > 0)\n",
    "        & (num_to_prune_matrix_ijv[\"top1\"] != num_to_prune_matrix_ijv[\"cl_pred\"])\n",
    "    ])\n",
    "\n",
    "# Sum by predicted class to get the number of items to prune from each \n",
    "# predicted class.\n",
    "num_to_prune = (\n",
    "    num_to_prune_matrix_ijv\n",
    "    .groupby(\"top1\")\n",
    "    .agg({\"value\" : \"sum\"})\n",
    "    .rename(columns={\"value\": \"how_many\"})\n",
    "    .round().astype(int))\n",
    "\n",
    "num_to_prune.sum()"
   ]
  },
  {
   "cell_type": "code",
   "execution_count": 64,
   "id": "8da5a3d9-cecb-410b-ac4a-da2077b179b4",
   "metadata": {},
   "outputs": [
    {
     "data": {
      "text/html": [
       "<div>\n",
       "<style scoped>\n",
       "    .dataframe tbody tr th:only-of-type {\n",
       "        vertical-align: middle;\n",
       "    }\n",
       "\n",
       "    .dataframe tbody tr th {\n",
       "        vertical-align: top;\n",
       "    }\n",
       "\n",
       "    .dataframe thead th {\n",
       "        text-align: right;\n",
       "    }\n",
       "</style>\n",
       "<table border=\"1\" class=\"dataframe\">\n",
       "  <thead>\n",
       "    <tr style=\"text-align: right;\">\n",
       "      <th></th>\n",
       "      <th>id</th>\n",
       "      <th>probs</th>\n",
       "      <th>label</th>\n",
       "      <th>label_prob</th>\n",
       "      <th>top1</th>\n",
       "      <th>top1_prob</th>\n",
       "      <th>top5</th>\n",
       "      <th>top5_match</th>\n",
       "      <th>cl_pred</th>\n",
       "      <th>cl_normalized_margin</th>\n",
       "      <th>cl_predicted_on</th>\n",
       "    </tr>\n",
       "  </thead>\n",
       "  <tbody>\n",
       "    <tr>\n",
       "      <th>8820</th>\n",
       "      <td>8820</td>\n",
       "      <td>[  0.004602137831825489,    0.0046721347898266...</td>\n",
       "      <td>45</td>\n",
       "      <td>0.037278</td>\n",
       "      <td>4</td>\n",
       "      <td>0.099690</td>\n",
       "      <td>[ 4, 56, 74, 26, 45]</td>\n",
       "      <td>True</td>\n",
       "      <td>45</td>\n",
       "      <td>0.037278</td>\n",
       "      <td>False</td>\n",
       "    </tr>\n",
       "    <tr>\n",
       "      <th>7780</th>\n",
       "      <td>7780</td>\n",
       "      <td>[  0.003082934087638543,  0.002964749691396565...</td>\n",
       "      <td>40</td>\n",
       "      <td>0.037079</td>\n",
       "      <td>16</td>\n",
       "      <td>0.105850</td>\n",
       "      <td>[16, 84, 61, 87, 40]</td>\n",
       "      <td>True</td>\n",
       "      <td>40</td>\n",
       "      <td>0.037079</td>\n",
       "      <td>False</td>\n",
       "    </tr>\n",
       "    <tr>\n",
       "      <th>617</th>\n",
       "      <td>617</td>\n",
       "      <td>[ 0.0054110910550483815,   0.00295003131532808...</td>\n",
       "      <td>33</td>\n",
       "      <td>0.029644</td>\n",
       "      <td>18</td>\n",
       "      <td>0.124975</td>\n",
       "      <td>[18, 51, 12, 44, 55]</td>\n",
       "      <td>False</td>\n",
       "      <td>33</td>\n",
       "      <td>0.029644</td>\n",
       "      <td>False</td>\n",
       "    </tr>\n",
       "    <tr>\n",
       "      <th>8897</th>\n",
       "      <td>8897</td>\n",
       "      <td>[   0.02328545197883238,   0.02407598727986401...</td>\n",
       "      <td>2</td>\n",
       "      <td>0.012854</td>\n",
       "      <td>26</td>\n",
       "      <td>0.076170</td>\n",
       "      <td>[26, 36, 53, 62, 31]</td>\n",
       "      <td>False</td>\n",
       "      <td>2</td>\n",
       "      <td>0.012854</td>\n",
       "      <td>False</td>\n",
       "    </tr>\n",
       "    <tr>\n",
       "      <th>2370</th>\n",
       "      <td>2370</td>\n",
       "      <td>[  0.010793093292853889,    0.0084291921457189...</td>\n",
       "      <td>64</td>\n",
       "      <td>0.042876</td>\n",
       "      <td>27</td>\n",
       "      <td>0.122619</td>\n",
       "      <td>[27, 74, 66, 73, 97]</td>\n",
       "      <td>False</td>\n",
       "      <td>64</td>\n",
       "      <td>0.042876</td>\n",
       "      <td>False</td>\n",
       "    </tr>\n",
       "    <tr>\n",
       "      <th>8549</th>\n",
       "      <td>8549</td>\n",
       "      <td>[ 0.0023991610887293957,  0.002516194721046172...</td>\n",
       "      <td>51</td>\n",
       "      <td>0.020308</td>\n",
       "      <td>34</td>\n",
       "      <td>0.131668</td>\n",
       "      <td>[34,  6, 88, 80, 45]</td>\n",
       "      <td>False</td>\n",
       "      <td>51</td>\n",
       "      <td>0.020308</td>\n",
       "      <td>False</td>\n",
       "    </tr>\n",
       "    <tr>\n",
       "      <th>6185</th>\n",
       "      <td>6185</td>\n",
       "      <td>[0.00020127017479888606,   0.01550341717213425...</td>\n",
       "      <td>80</td>\n",
       "      <td>0.023941</td>\n",
       "      <td>38</td>\n",
       "      <td>0.132912</td>\n",
       "      <td>[38, 34, 65, 32, 93]</td>\n",
       "      <td>False</td>\n",
       "      <td>80</td>\n",
       "      <td>0.023941</td>\n",
       "      <td>False</td>\n",
       "    </tr>\n",
       "    <tr>\n",
       "      <th>2833</th>\n",
       "      <td>2833</td>\n",
       "      <td>[  0.006013722650807262,    0.0207188956486122...</td>\n",
       "      <td>84</td>\n",
       "      <td>0.004888</td>\n",
       "      <td>40</td>\n",
       "      <td>0.080561</td>\n",
       "      <td>[40, 30, 76, 10, 21]</td>\n",
       "      <td>False</td>\n",
       "      <td>84</td>\n",
       "      <td>0.004888</td>\n",
       "      <td>False</td>\n",
       "    </tr>\n",
       "    <tr>\n",
       "      <th>7557</th>\n",
       "      <td>7557</td>\n",
       "      <td>[ 0.0029978227966824893,  0.003497368326457422...</td>\n",
       "      <td>80</td>\n",
       "      <td>0.014373</td>\n",
       "      <td>55</td>\n",
       "      <td>0.094238</td>\n",
       "      <td>[55,  9, 46, 16, 40]</td>\n",
       "      <td>False</td>\n",
       "      <td>80</td>\n",
       "      <td>0.014373</td>\n",
       "      <td>False</td>\n",
       "    </tr>\n",
       "    <tr>\n",
       "      <th>5160</th>\n",
       "      <td>5160</td>\n",
       "      <td>[ 0.0012248147221870492,    0.0162889277861885...</td>\n",
       "      <td>45</td>\n",
       "      <td>0.026031</td>\n",
       "      <td>83</td>\n",
       "      <td>0.140339</td>\n",
       "      <td>[83, 29, 57, 18, 44]</td>\n",
       "      <td>False</td>\n",
       "      <td>45</td>\n",
       "      <td>0.026031</td>\n",
       "      <td>False</td>\n",
       "    </tr>\n",
       "  </tbody>\n",
       "</table>\n",
       "</div>"
      ],
      "text/plain": [
       "        id                                              probs  label  \\\n",
       "8820  8820  [  0.004602137831825489,    0.0046721347898266...     45   \n",
       "7780  7780  [  0.003082934087638543,  0.002964749691396565...     40   \n",
       "617    617  [ 0.0054110910550483815,   0.00295003131532808...     33   \n",
       "8897  8897  [   0.02328545197883238,   0.02407598727986401...      2   \n",
       "2370  2370  [  0.010793093292853889,    0.0084291921457189...     64   \n",
       "8549  8549  [ 0.0023991610887293957,  0.002516194721046172...     51   \n",
       "6185  6185  [0.00020127017479888606,   0.01550341717213425...     80   \n",
       "2833  2833  [  0.006013722650807262,    0.0207188956486122...     84   \n",
       "7557  7557  [ 0.0029978227966824893,  0.003497368326457422...     80   \n",
       "5160  5160  [ 0.0012248147221870492,    0.0162889277861885...     45   \n",
       "\n",
       "      label_prob  top1  top1_prob                  top5  top5_match  cl_pred  \\\n",
       "8820    0.037278     4   0.099690  [ 4, 56, 74, 26, 45]        True       45   \n",
       "7780    0.037079    16   0.105850  [16, 84, 61, 87, 40]        True       40   \n",
       "617     0.029644    18   0.124975  [18, 51, 12, 44, 55]       False       33   \n",
       "8897    0.012854    26   0.076170  [26, 36, 53, 62, 31]       False        2   \n",
       "2370    0.042876    27   0.122619  [27, 74, 66, 73, 97]       False       64   \n",
       "8549    0.020308    34   0.131668  [34,  6, 88, 80, 45]       False       51   \n",
       "6185    0.023941    38   0.132912  [38, 34, 65, 32, 93]       False       80   \n",
       "2833    0.004888    40   0.080561  [40, 30, 76, 10, 21]       False       84   \n",
       "7557    0.014373    55   0.094238  [55,  9, 46, 16, 40]       False       80   \n",
       "5160    0.026031    83   0.140339  [83, 29, 57, 18, 44]       False       45   \n",
       "\n",
       "      cl_normalized_margin  cl_predicted_on  \n",
       "8820              0.037278            False  \n",
       "7780              0.037079            False  \n",
       "617               0.029644            False  \n",
       "8897              0.012854            False  \n",
       "2370              0.042876            False  \n",
       "8549              0.020308            False  \n",
       "6185              0.023941            False  \n",
       "2833              0.004888            False  \n",
       "7557              0.014373            False  \n",
       "5160              0.026031            False  "
      ]
     },
     "execution_count": 64,
     "metadata": {},
     "output_type": "execute_result"
    }
   ],
   "source": [
    "# Find the <num to prune> elements with the lowest self confidence for\n",
    "# each label.\n",
    "to_drop_list = []\n",
    "for label, rows in  model_results.groupby(\"top1\"):\n",
    "    how_many = num_to_prune.loc[label][0]\n",
    "    if how_many > 0:\n",
    "        to_drop_list.append(rows.nsmallest(how_many, \"top1_prob\"))\n",
    "cl_alg2_results = pd.concat(to_drop_list)        \n",
    "cl_alg2_results"
   ]
  },
  {
   "cell_type": "code",
   "execution_count": 65,
   "id": "2adda008-16ea-4190-a2ff-2845d86b5813",
   "metadata": {},
   "outputs": [
    {
     "name": "stdout",
     "output_type": "stream",
     "text": [
      "Image 8820:\n"
     ]
    },
    {
     "data": {
      "image/png": "[encoded data removed]",
      "text/plain": [
       "<IPython.core.display.Image object>"
      ]
     },
     "metadata": {},
     "output_type": "display_data"
    },
    {
     "name": "stdout",
     "output_type": "stream",
     "text": [
      "Corpus label: 45 ==> lobster\n",
      "Top 5 results: [ 4 56 74 26 45] ==> ['beaver', 'palm_tree', 'shrew', 'crab', 'lobster']\n",
      "Image 7780:\n"
     ]
    },
    {
     "data": {
      "image/png": "[encoded data removed]",
      "text/plain": [
       "<IPython.core.display.Image object>"
      ]
     },
     "metadata": {},
     "output_type": "display_data"
    },
    {
     "name": "stdout",
     "output_type": "stream",
     "text": [
      "Corpus label: 40 ==> lamp\n",
      "Top 5 results: [16 84 61 87 40] ==> ['can', 'table', 'plate', 'television', 'lamp']\n",
      "Image 617:\n"
     ]
    },
    {
     "data": {
      "image/png": "[encoded data removed]",
      "text/plain": [
       "<IPython.core.display.Image object>"
      ]
     },
     "metadata": {},
     "output_type": "display_data"
    },
    {
     "name": "stdout",
     "output_type": "stream",
     "text": [
      "Corpus label: 33 ==> forest\n",
      "Top 5 results: [18 51 12 44 55] ==> ['caterpillar', 'mushroom', 'bridge', 'lizard', 'otter']\n",
      "Image 8897:\n"
     ]
    },
    {
     "data": {
      "image/png": "[encoded data removed]",
      "text/plain": [
       "<IPython.core.display.Image object>"
      ]
     },
     "metadata": {},
     "output_type": "display_data"
    },
    {
     "name": "stdout",
     "output_type": "stream",
     "text": [
      "Corpus label: 2 ==> baby\n",
      "Top 5 results: [26 36 53 62 31] ==> ['crab', 'hamster', 'orange', 'poppy', 'elephant']\n",
      "Image 2370:\n"
     ]
    },
    {
     "data": {
      "image/png": "[encoded data removed]",
      "text/plain": [
       "<IPython.core.display.Image object>"
      ]
     },
     "metadata": {},
     "output_type": "display_data"
    },
    {
     "name": "stdout",
     "output_type": "stream",
     "text": [
      "Corpus label: 64 ==> possum\n",
      "Top 5 results: [27 74 66 73 97] ==> ['crocodile', 'shrew', 'raccoon', 'shark', 'wolf']\n",
      "Image 8549:\n"
     ]
    },
    {
     "data": {
      "image/png": "[encoded data removed]",
      "text/plain": [
       "<IPython.core.display.Image object>"
      ]
     },
     "metadata": {},
     "output_type": "display_data"
    },
    {
     "name": "stdout",
     "output_type": "stream",
     "text": [
      "Corpus label: 51 ==> mushroom\n",
      "Top 5 results: [34  6 88 80 45] ==> ['fox', 'bee', 'tiger', 'squirrel', 'lobster']\n",
      "Image 6185:\n"
     ]
    },
    {
     "data": {
      "image/png": "[encoded data removed]",
      "text/plain": [
       "<IPython.core.display.Image object>"
      ]
     },
     "metadata": {},
     "output_type": "display_data"
    },
    {
     "name": "stdout",
     "output_type": "stream",
     "text": [
      "Corpus label: 80 ==> squirrel\n",
      "Top 5 results: [38 34 65 32 93] ==> ['kangaroo', 'fox', 'rabbit', 'flatfish', 'turtle']\n",
      "Image 2833:\n"
     ]
    },
    {
     "data": {
      "image/png": "[encoded data removed]",
      "text/plain": [
       "<IPython.core.display.Image object>"
      ]
     },
     "metadata": {},
     "output_type": "display_data"
    },
    {
     "name": "stdout",
     "output_type": "stream",
     "text": [
      "Corpus label: 84 ==> table\n",
      "Top 5 results: [40 30 76 10 21] ==> ['lamp', 'dolphin', 'skyscraper', 'bowl', 'chimpanzee']\n",
      "Image 7557:\n"
     ]
    },
    {
     "data": {
      "image/png": "[encoded data removed]",
      "text/plain": [
       "<IPython.core.display.Image object>"
      ]
     },
     "metadata": {},
     "output_type": "display_data"
    },
    {
     "name": "stdout",
     "output_type": "stream",
     "text": [
      "Corpus label: 80 ==> squirrel\n",
      "Top 5 results: [55  9 46 16 40] ==> ['otter', 'bottle', 'man', 'can', 'lamp']\n",
      "Image 5160:\n"
     ]
    },
    {
     "data": {
      "image/png": "[encoded data removed]",
      "text/plain": [
       "<IPython.core.display.Image object>"
      ]
     },
     "metadata": {},
     "output_type": "display_data"
    },
    {
     "name": "stdout",
     "output_type": "stream",
     "text": [
      "Corpus label: 45 ==> lobster\n",
      "Top 5 results: [83 29 57 18 44] ==> ['sweet_pepper', 'dinosaur', 'pear', 'caterpillar', 'lizard']\n"
     ]
    }
   ],
   "source": [
    "for idx in cl_alg2_results.index:\n",
    "    result_report(cl_alg2_results, cifar100_test, idx)"
   ]
  },
  {
   "cell_type": "markdown",
   "id": "69524cfc-6ebd-4af8-8e20-99c69bb25461",
   "metadata": {},
   "source": [
    "### CL Algorithm 3: Prune by Noise Rate\n",
    "\n",
    "choose $n*Q_{i, j}$ for each bin: (y&#771; =i, y<super> *</super>=j)"
   ]
  },
  {
   "cell_type": "code",
   "execution_count": 66,
   "id": "99bb3fcc-625f-4fef-b32f-c1cf919e750d",
   "metadata": {},
   "outputs": [
    {
     "data": {
      "text/html": [
       "<div>\n",
       "<style scoped>\n",
       "    .dataframe tbody tr th:only-of-type {\n",
       "        vertical-align: middle;\n",
       "    }\n",
       "\n",
       "    .dataframe tbody tr th {\n",
       "        vertical-align: top;\n",
       "    }\n",
       "\n",
       "    .dataframe thead th {\n",
       "        text-align: right;\n",
       "    }\n",
       "</style>\n",
       "<table border=\"1\" class=\"dataframe\">\n",
       "  <thead>\n",
       "    <tr style=\"text-align: right;\">\n",
       "      <th></th>\n",
       "      <th>id</th>\n",
       "      <th>probs</th>\n",
       "      <th>label</th>\n",
       "      <th>label_prob</th>\n",
       "      <th>top1</th>\n",
       "      <th>top1_prob</th>\n",
       "      <th>top5</th>\n",
       "      <th>top5_match</th>\n",
       "      <th>cl_pred</th>\n",
       "      <th>cl_normalized_margin</th>\n",
       "      <th>cl_predicted_on</th>\n",
       "    </tr>\n",
       "  </thead>\n",
       "  <tbody>\n",
       "    <tr>\n",
       "      <th>4157</th>\n",
       "      <td>4157</td>\n",
       "      <td>[  0.006674588118552838,   0.00140230156304649...</td>\n",
       "      <td>55</td>\n",
       "      <td>0.048394</td>\n",
       "      <td>4</td>\n",
       "      <td>0.107252</td>\n",
       "      <td>[ 4, 91, 51, 15, 30]</td>\n",
       "      <td>False</td>\n",
       "      <td>55</td>\n",
       "      <td>0.048394</td>\n",
       "      <td>False</td>\n",
       "    </tr>\n",
       "    <tr>\n",
       "      <th>1917</th>\n",
       "      <td>1917</td>\n",
       "      <td>[0.00021368968491387028,  0.000855350801277641...</td>\n",
       "      <td>24</td>\n",
       "      <td>0.140818</td>\n",
       "      <td>7</td>\n",
       "      <td>0.346824</td>\n",
       "      <td>[ 7, 79, 24,  6, 77]</td>\n",
       "      <td>True</td>\n",
       "      <td>24</td>\n",
       "      <td>0.140818</td>\n",
       "      <td>False</td>\n",
       "    </tr>\n",
       "    <tr>\n",
       "      <th>1290</th>\n",
       "      <td>1290</td>\n",
       "      <td>[ 0.0005030155444030151,  0.000509549966756746...</td>\n",
       "      <td>79</td>\n",
       "      <td>0.152476</td>\n",
       "      <td>26</td>\n",
       "      <td>0.326207</td>\n",
       "      <td>[26, 79,  7, 15, 74]</td>\n",
       "      <td>True</td>\n",
       "      <td>79</td>\n",
       "      <td>0.152476</td>\n",
       "      <td>False</td>\n",
       "    </tr>\n",
       "    <tr>\n",
       "      <th>5237</th>\n",
       "      <td>5237</td>\n",
       "      <td>[ 0.0030494240937424437,  0.000354311973680319...</td>\n",
       "      <td>52</td>\n",
       "      <td>0.238060</td>\n",
       "      <td>47</td>\n",
       "      <td>0.263119</td>\n",
       "      <td>[47, 52, 56, 96, 59]</td>\n",
       "      <td>True</td>\n",
       "      <td>52</td>\n",
       "      <td>0.238060</td>\n",
       "      <td>False</td>\n",
       "    </tr>\n",
       "    <tr>\n",
       "      <th>7179</th>\n",
       "      <td>7179</td>\n",
       "      <td>[  0.002233781383507679,   0.00651043902525428...</td>\n",
       "      <td>83</td>\n",
       "      <td>0.066360</td>\n",
       "      <td>53</td>\n",
       "      <td>0.198624</td>\n",
       "      <td>[53,  3, 36, 83, 39]</td>\n",
       "      <td>True</td>\n",
       "      <td>83</td>\n",
       "      <td>0.066360</td>\n",
       "      <td>False</td>\n",
       "    </tr>\n",
       "    <tr>\n",
       "      <th>4839</th>\n",
       "      <td>4839</td>\n",
       "      <td>[  0.025125647136667758,   0.00765981579854305...</td>\n",
       "      <td>83</td>\n",
       "      <td>0.209145</td>\n",
       "      <td>57</td>\n",
       "      <td>0.279943</td>\n",
       "      <td>[57, 83, 50, 92, 54]</td>\n",
       "      <td>True</td>\n",
       "      <td>83</td>\n",
       "      <td>0.209145</td>\n",
       "      <td>False</td>\n",
       "    </tr>\n",
       "    <tr>\n",
       "      <th>8408</th>\n",
       "      <td>8408</td>\n",
       "      <td>[ 0.0013231324783536725,   0.00091725060422752...</td>\n",
       "      <td>47</td>\n",
       "      <td>0.032883</td>\n",
       "      <td>59</td>\n",
       "      <td>0.252202</td>\n",
       "      <td>[59, 37, 52, 96, 17]</td>\n",
       "      <td>False</td>\n",
       "      <td>47</td>\n",
       "      <td>0.032883</td>\n",
       "      <td>False</td>\n",
       "    </tr>\n",
       "    <tr>\n",
       "      <th>6345</th>\n",
       "      <td>6345</td>\n",
       "      <td>[ 0.0019314142571165884,  0.000343260346301297...</td>\n",
       "      <td>23</td>\n",
       "      <td>0.269950</td>\n",
       "      <td>71</td>\n",
       "      <td>0.503069</td>\n",
       "      <td>[71, 23, 60, 49, 69]</td>\n",
       "      <td>True</td>\n",
       "      <td>23</td>\n",
       "      <td>0.269950</td>\n",
       "      <td>False</td>\n",
       "    </tr>\n",
       "    <tr>\n",
       "      <th>5533</th>\n",
       "      <td>5533</td>\n",
       "      <td>[ 0.0013173763631694722,   0.00124035629033506...</td>\n",
       "      <td>81</td>\n",
       "      <td>0.073515</td>\n",
       "      <td>90</td>\n",
       "      <td>0.283741</td>\n",
       "      <td>[90, 89, 81,  7, 12]</td>\n",
       "      <td>True</td>\n",
       "      <td>81</td>\n",
       "      <td>0.073515</td>\n",
       "      <td>False</td>\n",
       "    </tr>\n",
       "    <tr>\n",
       "      <th>5967</th>\n",
       "      <td>5967</td>\n",
       "      <td>[  0.001413876239257872,  0.000906821130538720...</td>\n",
       "      <td>62</td>\n",
       "      <td>0.210811</td>\n",
       "      <td>92</td>\n",
       "      <td>0.333204</td>\n",
       "      <td>[92, 54, 62, 70, 82]</td>\n",
       "      <td>True</td>\n",
       "      <td>62</td>\n",
       "      <td>0.210811</td>\n",
       "      <td>False</td>\n",
       "    </tr>\n",
       "  </tbody>\n",
       "</table>\n",
       "</div>"
      ],
      "text/plain": [
       "        id                                              probs  label  \\\n",
       "4157  4157  [  0.006674588118552838,   0.00140230156304649...     55   \n",
       "1917  1917  [0.00021368968491387028,  0.000855350801277641...     24   \n",
       "1290  1290  [ 0.0005030155444030151,  0.000509549966756746...     79   \n",
       "5237  5237  [ 0.0030494240937424437,  0.000354311973680319...     52   \n",
       "7179  7179  [  0.002233781383507679,   0.00651043902525428...     83   \n",
       "4839  4839  [  0.025125647136667758,   0.00765981579854305...     83   \n",
       "8408  8408  [ 0.0013231324783536725,   0.00091725060422752...     47   \n",
       "6345  6345  [ 0.0019314142571165884,  0.000343260346301297...     23   \n",
       "5533  5533  [ 0.0013173763631694722,   0.00124035629033506...     81   \n",
       "5967  5967  [  0.001413876239257872,  0.000906821130538720...     62   \n",
       "\n",
       "      label_prob  top1  top1_prob                  top5  top5_match  cl_pred  \\\n",
       "4157    0.048394     4   0.107252  [ 4, 91, 51, 15, 30]       False       55   \n",
       "1917    0.140818     7   0.346824  [ 7, 79, 24,  6, 77]        True       24   \n",
       "1290    0.152476    26   0.326207  [26, 79,  7, 15, 74]        True       79   \n",
       "5237    0.238060    47   0.263119  [47, 52, 56, 96, 59]        True       52   \n",
       "7179    0.066360    53   0.198624  [53,  3, 36, 83, 39]        True       83   \n",
       "4839    0.209145    57   0.279943  [57, 83, 50, 92, 54]        True       83   \n",
       "8408    0.032883    59   0.252202  [59, 37, 52, 96, 17]       False       47   \n",
       "6345    0.269950    71   0.503069  [71, 23, 60, 49, 69]        True       23   \n",
       "5533    0.073515    90   0.283741  [90, 89, 81,  7, 12]        True       81   \n",
       "5967    0.210811    92   0.333204  [92, 54, 62, 70, 82]        True       62   \n",
       "\n",
       "      cl_normalized_margin  cl_predicted_on  \n",
       "4157              0.048394            False  \n",
       "1917              0.140818            False  \n",
       "1290              0.152476            False  \n",
       "5237              0.238060            False  \n",
       "7179              0.066360            False  \n",
       "4839              0.209145            False  \n",
       "8408              0.032883            False  \n",
       "6345              0.269950            False  \n",
       "5533              0.073515            False  \n",
       "5967              0.210811            False  "
      ]
     },
     "execution_count": 66,
     "metadata": {},
     "output_type": "execute_result"
    }
   ],
   "source": [
    "# Constant `n`, chosen here to produce roughly the same number of values\n",
    "# as algorithm 1.\n",
    "# TODO: Check the Confident Learning paper to see if there's a different\n",
    "# recommended way to choose this value.\n",
    "tunable_constant = 420\n",
    "\n",
    "# Convert `q_matrix` to sparse format and drop cells where the model agrees\n",
    "# with the CL predicted value or there are zero examples.\n",
    "q_matrix_ijv = (\n",
    "    q_matrix\n",
    "    .melt(ignore_index=False)\n",
    "    .reset_index())\n",
    "num_to_flag_df = (\n",
    "    q_matrix_ijv[\n",
    "        (q_matrix_ijv[\"value\"] > 0)\n",
    "        & (q_matrix_ijv[\"top1\"] != q_matrix_ijv[\"cl_pred\"])]\n",
    "    .rename(columns={\"value\": \"how_many\"}))\n",
    "num_to_flag_df[\"how_many\"] *= tunable_constant\n",
    "num_to_flag_df[\"how_many\"] = num_to_flag_df[\"how_many\"].round().astype(int)\n",
    "num_to_flag_df = num_to_flag_df[num_to_flag_df[\"how_many\"] > 0]\n",
    "\n",
    "# Convert to a dictionary from (top1, cl_pred) to number of \n",
    "# low-self-confidence values to flag.\n",
    "num_to_flag_dict = {\n",
    "    (row[\"top1\"], row[\"cl_pred\"]): row[\"how_many\"]\n",
    "    for _, row in num_to_flag_df.iterrows()\n",
    "}\n",
    "\n",
    "# Flag the indicated number of items from each category.\n",
    "to_flag_list = []\n",
    "for labels, rows in  model_results.groupby([\"top1\", \"cl_pred\"]):\n",
    "    if labels in num_to_flag_dict:\n",
    "        how_many = num_to_flag_dict[labels]\n",
    "        to_flag_list.append(rows.nsmallest(how_many, \"top1_prob\"))\n",
    "cl_alg3_results = pd.concat(to_flag_list)        \n",
    "cl_alg3_results"
   ]
  },
  {
   "cell_type": "code",
   "execution_count": 67,
   "id": "e3413ba2-54fc-40a3-bf96-6d09aac9e721",
   "metadata": {},
   "outputs": [
    {
     "name": "stdout",
     "output_type": "stream",
     "text": [
      "Image 4157:\n"
     ]
    },
    {
     "data": {
      "image/png": "[encoded data removed]",
      "text/plain": [
       "<IPython.core.display.Image object>"
      ]
     },
     "metadata": {},
     "output_type": "display_data"
    },
    {
     "name": "stdout",
     "output_type": "stream",
     "text": [
      "Corpus label: 55 ==> otter\n",
      "Top 5 results: [ 4 91 51 15 30] ==> ['beaver', 'trout', 'mushroom', 'camel', 'dolphin']\n",
      "Image 1917:\n"
     ]
    },
    {
     "data": {
      "image/png": "[encoded data removed]",
      "text/plain": [
       "<IPython.core.display.Image object>"
      ]
     },
     "metadata": {},
     "output_type": "display_data"
    },
    {
     "name": "stdout",
     "output_type": "stream",
     "text": [
      "Corpus label: 24 ==> cockroach\n",
      "Top 5 results: [ 7 79 24  6 77] ==> ['beetle', 'spider', 'cockroach', 'bee', 'snail']\n",
      "Image 1290:\n"
     ]
    },
    {
     "data": {
      "image/png": "[encoded data removed]",
      "text/plain": [
       "<IPython.core.display.Image object>"
      ]
     },
     "metadata": {},
     "output_type": "display_data"
    },
    {
     "name": "stdout",
     "output_type": "stream",
     "text": [
      "Corpus label: 79 ==> spider\n",
      "Top 5 results: [26 79  7 15 74] ==> ['crab', 'spider', 'beetle', 'camel', 'shrew']\n",
      "Image 5237:\n"
     ]
    },
    {
     "data": {
      "image/png": "[encoded data removed]",
      "text/plain": [
       "<IPython.core.display.Image object>"
      ]
     },
     "metadata": {},
     "output_type": "display_data"
    },
    {
     "name": "stdout",
     "output_type": "stream",
     "text": [
      "Corpus label: 52 ==> oak_tree\n",
      "Top 5 results: [47 52 56 96 59] ==> ['maple_tree', 'oak_tree', 'palm_tree', 'willow_tree', 'pine_tree']\n",
      "Image 7179:\n"
     ]
    },
    {
     "data": {
      "image/png": "[encoded data removed]",
      "text/plain": [
       "<IPython.core.display.Image object>"
      ]
     },
     "metadata": {},
     "output_type": "display_data"
    },
    {
     "name": "stdout",
     "output_type": "stream",
     "text": [
      "Corpus label: 83 ==> sweet_pepper\n",
      "Top 5 results: [53  3 36 83 39] ==> ['orange', 'bear', 'hamster', 'sweet_pepper', 'keyboard']\n",
      "Image 4839:\n"
     ]
    },
    {
     "data": {
      "image/png": "[encoded data removed]",
      "text/plain": [
       "<IPython.core.display.Image object>"
      ]
     },
     "metadata": {},
     "output_type": "display_data"
    },
    {
     "name": "stdout",
     "output_type": "stream",
     "text": [
      "Corpus label: 83 ==> sweet_pepper\n",
      "Top 5 results: [57 83 50 92 54] ==> ['pear', 'sweet_pepper', 'mouse', 'tulip', 'orchid']\n",
      "Image 8408:\n"
     ]
    },
    {
     "data": {
      "image/png": "[encoded data removed]",
      "text/plain": [
       "<IPython.core.display.Image object>"
      ]
     },
     "metadata": {},
     "output_type": "display_data"
    },
    {
     "name": "stdout",
     "output_type": "stream",
     "text": [
      "Corpus label: 47 ==> maple_tree\n",
      "Top 5 results: [59 37 52 96 17] ==> ['pine_tree', 'house', 'oak_tree', 'willow_tree', 'castle']\n",
      "Image 6345:\n"
     ]
    },
    {
     "data": {
      "image/png": "[encoded data removed]",
      "text/plain": [
       "<IPython.core.display.Image object>"
      ]
     },
     "metadata": {},
     "output_type": "display_data"
    },
    {
     "name": "stdout",
     "output_type": "stream",
     "text": [
      "Corpus label: 23 ==> cloud\n",
      "Top 5 results: [71 23 60 49 69] ==> ['sea', 'cloud', 'plain', 'mountain', 'rocket']\n",
      "Image 5533:\n"
     ]
    },
    {
     "data": {
      "image/png": "[encoded data removed]",
      "text/plain": [
       "<IPython.core.display.Image object>"
      ]
     },
     "metadata": {},
     "output_type": "display_data"
    },
    {
     "name": "stdout",
     "output_type": "stream",
     "text": [
      "Corpus label: 81 ==> streetcar\n",
      "Top 5 results: [90 89 81  7 12] ==> ['train', 'tractor', 'streetcar', 'beetle', 'bridge']\n",
      "Image 5967:\n"
     ]
    },
    {
     "data": {
      "image/png": "[encoded data removed]",
      "text/plain": [
       "<IPython.core.display.Image object>"
      ]
     },
     "metadata": {},
     "output_type": "display_data"
    },
    {
     "name": "stdout",
     "output_type": "stream",
     "text": [
      "Corpus label: 62 ==> poppy\n",
      "Top 5 results: [92 54 62 70 82] ==> ['tulip', 'orchid', 'poppy', 'rose', 'sunflower']\n"
     ]
    }
   ],
   "source": [
    "for idx in cl_alg3_results.index:\n",
    "    result_report(cl_alg3_results, cifar100_test, idx)"
   ]
  },
  {
   "cell_type": "markdown",
   "id": "128dbd73-9c9c-44f5-acde-5c8290849e83",
   "metadata": {},
   "source": [
    "### Alternate approach"
   ]
  },
  {
   "cell_type": "code",
   "execution_count": 68,
   "id": "ddbe5613-b6df-4fcf-8861-c50aed212f12",
   "metadata": {},
   "outputs": [],
   "source": [
    "# def compute_num_wrong(reg_coeff: float) -> int:\n",
    "#     # For this solver, the regularization coeff is 1/penalty, so smaller values\n",
    "#     # mean more regularization\n",
    "#     inverse_reg_coeff = 1 / reg_coeff\n",
    "#     model = train_base_model(train, regularization_coeff=inverse_reg_coeff)\n",
    "#     results = make_results(train, model)\n",
    "#     num_wrong = (results[\"label\"] != results[\"top1\"]).sum()\n",
    "#     print(f\"Num wrong at {reg_coeff:1.1e}: {num_wrong}\")\n",
    "#     return num_wrong\n",
    "\n",
    "\n",
    "# num_coeffs = 200\n",
    "# coeffs = np.logspace(1, 8, num_coeffs)\n",
    "# wrong_counts = [compute_num_wrong(c) for c in coeffs]\n",
    "# print(wrong_counts)"
   ]
  },
  {
   "cell_type": "code",
   "execution_count": 69,
   "id": "70a9b24b-d17f-4599-8e37-2b88cb369ff8",
   "metadata": {},
   "outputs": [],
   "source": [
    "# plt.xscale(\"log\")\n",
    "# plt.scatter(coeffs, wrong_counts)\n",
    "# plt.show()\n",
    "# pass"
   ]
  },
  {
   "cell_type": "code",
   "execution_count": 70,
   "id": "9b825977-ecd4-4af9-8dfa-d81f71e98d45",
   "metadata": {},
   "outputs": [],
   "source": [
    "# Skip this old code -- it doesn't work.\n",
    "\n",
    "# def compute_num_wrong_2(num_dims: int, reg_coeff: float) -> int:\n",
    "#     # For this solver, the regularization coeff is 1/penalty, so smaller values \n",
    "#     # mean more regularization\n",
    "#     inverse_reg_coeff = 1 / reg_coeff\n",
    "#     model = train_reduced_model(train, num_dims, regularization_coeff=inverse_reg_coeff)\n",
    "#     results = make_results(train, model)\n",
    "#     num_wrong = (results[\"label\"] != results[\"top1\"]).sum()\n",
    "#     print(f\"Num wrong at {num_dims} / {reg_coeff:1.1f}: {num_wrong}\")\n",
    "#     return num_wrong\n",
    "\n",
    "    \n",
    "# num_points = 200\n",
    "# nums_of_dims = np.logspace(np.log10(1792), 1, num_points).astype(int)\n",
    "# reg_coeff = 1e7\n",
    "\n",
    "# wrong_counts_2 = [compute_num_wrong_2(n, reg_coeff) for n in nums_of_dims]\n",
    "# print(wrong_counts_2)\n",
    "\n",
    "# plt.xscale(\"log\")\n",
    "# plt.scatter(nums_of_dims, wrong_counts_2)\n",
    "# plt.show()\n",
    "# pass"
   ]
  },
  {
   "cell_type": "code",
   "execution_count": null,
   "id": "bc4a3ec7-7788-4025-9140-96b9edc8b88c",
   "metadata": {},
   "outputs": [],
   "source": []
  },
  {
   "cell_type": "code",
   "execution_count": null,
   "id": "0301fb41-7faf-4e48-bcc2-70b0fc0c1d45",
   "metadata": {},
   "outputs": [],
   "source": []
  }
 ],
 "metadata": {
  "kernelspec": {
   "display_name": "Python 3 (ipykernel)",
   "language": "python",
   "name": "python3"
  },
  "language_info": {
   "codemirror_mode": {
    "name": "ipython",
    "version": 3
   },
   "file_extension": ".py",
   "mimetype": "text/x-python",
   "name": "python",
   "nbconvert_exporter": "python",
   "pygments_lexer": "ipython3",
   "version": "3.8.12"
  }
 },
 "nbformat": 4,
 "nbformat_minor": 5
}
