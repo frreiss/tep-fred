{
 "cells": [
  {
   "cell_type": "markdown",
   "id": "7c288415-8836-43e3-ab80-5393fb723807",
   "metadata": {},
   "source": [
    "# Clustering Experiments on CIFAR-10"
   ]
  },
  {
   "cell_type": "code",
   "execution_count": 1,
   "id": "2f636c74-7cd8-4920-94eb-3c84e1edcef4",
   "metadata": {},
   "outputs": [],
   "source": [
    "# Try to keep all imports in this cell\n",
    "\n",
    "import torch\n",
    "import torchvision.datasets\n",
    "import numpy as np\n",
    "import pandas as pd\n",
    "import os\n",
    "import sklearn.pipeline\n",
    "import sklearn.linear_model\n",
    "import sklearn.cluster\n",
    "import sklearn.decomposition\n",
    "import matplotlib.pyplot as plt\n",
    "import scipy\n",
    "import time\n",
    "import IPython\n",
    "import random\n",
    "from typing import Tuple, Optional\n",
    "\n",
    "import concurrent.futures\n",
    "import threading\n",
    "import textwrap\n",
    "\n",
    "try:\n",
    "    import text_extensions_for_pandas as tp\n",
    "except ModuleNotFoundError:\n",
    "    raise Exception(\"text_extensions_for_pandas package not found on the Jupyter \"\n",
    "                    \"kernel's path. Please either run:\\n\"\n",
    "                    \"   ln -s ../../text_extensions_for_pandas .\\n\"\n",
    "                    \"from the directory containing this notebook, or use a Python \"\n",
    "                    \"environment on which you have used `pip` to install the package.\")\n",
    "\n",
    "# Keep the inputs and outputs of this script in their own subdirectories.\n",
    "OUTPUT_DIR = \"outputs/cifar10\"\n",
    "DATA_DIR = \"data/cifar10\"\n",
    "os.makedirs(DATA_DIR, exist_ok=True)\n",
    "os.makedirs(OUTPUT_DIR, exist_ok=True)"
   ]
  },
  {
   "cell_type": "markdown",
   "id": "c3548579-8062-4ecb-bd97-e1b0035ab99f",
   "metadata": {},
   "source": [
    "## Load the data set"
   ]
  },
  {
   "cell_type": "code",
   "execution_count": 2,
   "id": "739b87fb-4049-4689-be5b-ac216d75fc00",
   "metadata": {},
   "outputs": [
    {
     "name": "stdout",
     "output_type": "stream",
     "text": [
      "Files already downloaded and verified\n",
      "Files already downloaded and verified\n"
     ]
    },
    {
     "data": {
      "text/plain": [
       "Dataset CIFAR10\n",
       "    Number of datapoints: 10000\n",
       "    Root location: data/cifar10\n",
       "    Split: Test"
      ]
     },
     "execution_count": 2,
     "metadata": {},
     "output_type": "execute_result"
    }
   ],
   "source": [
    "# Grab the data set\n",
    "cifar10_train = torchvision.datasets.CIFAR10(DATA_DIR, train=True, download=True)\n",
    "cifar10_test = torchvision.datasets.CIFAR10(DATA_DIR, train=False, download=True)\n",
    "cifar10_test"
   ]
  },
  {
   "cell_type": "code",
   "execution_count": 3,
   "id": "50aebb78-61e9-4355-a4b6-435d4a55a8e8",
   "metadata": {},
   "outputs": [
    {
     "data": {
      "image/png": "[encoded data removed]",
      "text/plain": [
       "<PIL.Image.Image image mode=RGB size=32x32 at 0x7FC40A352220>"
      ]
     },
     "execution_count": 3,
     "metadata": {},
     "output_type": "execute_result"
    }
   ],
   "source": [
    "# PyTorch Dataset objects store images with PIL.\n",
    "image, label = cifar10_test[3]\n",
    "image"
   ]
  },
  {
   "cell_type": "code",
   "execution_count": 4,
   "id": "c0a498df-0e70-4c8d-a0dd-d6626ac378df",
   "metadata": {},
   "outputs": [
    {
     "data": {
      "text/plain": [
       "(0, 'airplane')"
      ]
     },
     "execution_count": 4,
     "metadata": {},
     "output_type": "execute_result"
    }
   ],
   "source": [
    "label, cifar10_train.classes[label]"
   ]
  },
  {
   "cell_type": "code",
   "execution_count": 5,
   "id": "9d206368-619a-4721-974f-238072b2d15d",
   "metadata": {},
   "outputs": [
    {
     "data": {
      "text/plain": [
       "10"
      ]
     },
     "execution_count": 5,
     "metadata": {},
     "output_type": "execute_result"
    }
   ],
   "source": [
    "# We'll need this number later on.\n",
    "num_classes = len(cifar10_train.classes)\n",
    "num_classes"
   ]
  },
  {
   "cell_type": "markdown",
   "id": "8180783f-6cb9-411a-bfa2-623f33d354c7",
   "metadata": {},
   "source": [
    "## Load and run pretrained model"
   ]
  },
  {
   "cell_type": "code",
   "execution_count": 6,
   "id": "c585aa89-a4fd-43bc-8bfb-9f89510da33b",
   "metadata": {},
   "outputs": [
    {
     "name": "stderr",
     "output_type": "stream",
     "text": [
      "Using cache found in /Users/freiss/.cache/torch/hub/chenyaofo_pytorch-cifar-models_master\n",
      "Using cache found in /Users/freiss/.cache/torch/hub/chenyaofo_pytorch-cifar-models_master\n"
     ]
    },
    {
     "name": "stdout",
     "output_type": "stream",
     "text": [
      "Available models:\n",
      "['cifar100_mobilenetv2_x0_5', 'cifar100_mobilenetv2_x0_75', 'cifar100_mobilenetv2_x1_0', 'cifar100_mobilenetv2_x1_4', 'cifar100_repvgg_a0', 'cifar100_repvgg_a1', 'cifar100_repvgg_a2', 'cifar100_resnet20', 'cifar100_resnet32', 'cifar100_resnet44', 'cifar100_resnet56', 'cifar100_shufflenetv2_x0_5', 'cifar100_shufflenetv2_x1_0', 'cifar100_shufflenetv2_x1_5', 'cifar100_shufflenetv2_x2_0', 'cifar100_vgg11_bn', 'cifar100_vgg13_bn', 'cifar100_vgg16_bn', 'cifar100_vgg19_bn', 'cifar100_vit_b16', 'cifar100_vit_b32', 'cifar100_vit_h14', 'cifar100_vit_l16', 'cifar100_vit_l32', 'cifar10_mobilenetv2_x0_5', 'cifar10_mobilenetv2_x0_75', 'cifar10_mobilenetv2_x1_0', 'cifar10_mobilenetv2_x1_4', 'cifar10_repvgg_a0', 'cifar10_repvgg_a1', 'cifar10_repvgg_a2', 'cifar10_resnet20', 'cifar10_resnet32', 'cifar10_resnet44', 'cifar10_resnet56', 'cifar10_shufflenetv2_x0_5', 'cifar10_shufflenetv2_x1_0', 'cifar10_shufflenetv2_x1_5', 'cifar10_shufflenetv2_x2_0', 'cifar10_vgg11_bn', 'cifar10_vgg13_bn', 'cifar10_vgg16_bn', 'cifar10_vgg19_bn', 'cifar10_vit_b16', 'cifar10_vit_b32', 'cifar10_vit_h14', 'cifar10_vit_l16', 'cifar10_vit_l32']\n",
      "Using model: cifar10_mobilenetv2_x1_4\n"
     ]
    }
   ],
   "source": [
    "# Grab a pretrained model from https://github.com/chenyaofo/pytorch-cifar-models\n",
    "model_repo_name = \"chenyaofo/pytorch-cifar-models\"\n",
    "print(f\"Available models:\\n{torch.hub.list(model_repo_name)}\")\n",
    "\n",
    "# This model gets 94.22% top-1 and 99.80% top-5 accuracy on CIFAR-10.\n",
    "model_name_core = \"mobilenetv2_x1_4\"\n",
    "\n",
    "model_name = f\"cifar10_{model_name_core}\"\n",
    "\n",
    "print(f\"Using model: {model_name}\")\n",
    "\n",
    "model = torch.hub.load(model_repo_name, model_name, pretrained=True)\n",
    "_ = model.eval()  # VERY IMPORTANT. Turns off dropout."
   ]
  },
  {
   "cell_type": "code",
   "execution_count": 7,
   "id": "ff3638e7-d8b6-492a-a95b-d0a57af35cb2",
   "metadata": {},
   "outputs": [],
   "source": [
    "# Metadata required for inference, from\n",
    "# https://github.com/chenyaofo/image-classification-codebase/blob/master/conf/cifar100.conf\n",
    "image_size = 32\n",
    "rgb_means = [0.4914, 0.4822, 0.4465]\n",
    "rgb_stdevs = [0.2023, 0.1994, 0.2010]\n",
    "\n",
    "\n",
    "# See https://github.com/chenyaofo/image-classification-codebase/blob/master/codebase/data/cifar.py\n",
    "def preprocess_image(img) -> torch.Tensor:\n",
    "    img_tensor = torchvision.transforms.ToTensor()(img)\n",
    "    img_tensor = torchvision.transforms.Normalize(mean=rgb_means, std=rgb_stdevs)(img_tensor)\n",
    "    img_tensor = img_tensor.unsqueeze(0)  # Convert to singleton batch\n",
    "    return img_tensor"
   ]
  },
  {
   "cell_type": "code",
   "execution_count": 8,
   "id": "bd7df06c-cef1-49e9-9b76-a176e9362e69",
   "metadata": {},
   "outputs": [
    {
     "name": "stdout",
     "output_type": "stream",
     "text": [
      "Class Probabilities:\n",
      "tensor([9.8583e-01, 3.6491e-04, 4.3578e-03, 7.5098e-03, 2.0080e-04, 6.6633e-05,\n",
      "        1.0474e-04, 1.4466e-04, 5.0512e-04, 9.1883e-04])\n",
      "Probability of corpus label: 0.9858266711235046 at 0 (airplane)\n",
      "            Max probability: 0.9858266711235046 at 0 (airplane)\n"
     ]
    }
   ],
   "source": [
    "# Run an image through the model to verify it's loaded correctly\n",
    "image_tensor = preprocess_image(image)\n",
    "with torch.inference_mode():\n",
    "    logits = model(image_tensor)[0]\n",
    "    probs = torch.nn.functional.softmax(logits, dim=0)\n",
    "print(f\"Class Probabilities:\\n{probs}\")\n",
    "print(f\"Probability of corpus label: {probs[label]} at {label} \"\n",
    "      f\"({cifar10_train.classes[label]})\")\n",
    "print(f\"            Max probability: {torch.max(probs)} at {torch.argmax(probs)} \"\n",
    "      f\"({cifar10_train.classes[torch.argmax(probs)]})\")"
   ]
  },
  {
   "cell_type": "code",
   "execution_count": 9,
   "id": "ea72cf73-26bc-4037-8704-d05e096e63bb",
   "metadata": {},
   "outputs": [
    {
     "data": {
      "text/plain": [
       "<torch.utils.hooks.RemovableHandle at 0x7fc3f8abde80>"
      ]
     },
     "execution_count": 9,
     "metadata": {},
     "output_type": "execute_result"
    }
   ],
   "source": [
    "# Add a forward hook to retreive activations of the model from the\n",
    "# layer before the classifier\n",
    "activation = {}\n",
    "\n",
    "\n",
    "def get_activation(name):\n",
    "    def hook(model, input, output):\n",
    "        activation[name] = output.detach()\n",
    "    return hook\n",
    "\n",
    "\n",
    "model.features.register_forward_hook(get_activation(\"features\"))"
   ]
  },
  {
   "cell_type": "code",
   "execution_count": 10,
   "id": "47b3375e-a2ba-4145-916d-00df4ca63497",
   "metadata": {},
   "outputs": [
    {
     "data": {
      "text/plain": [
       "(array([5.1562238e-02, 2.7803588e-05, 6.3632801e-03, ..., 2.8017934e-02,\n",
       "        3.3155100e-03, 1.3174633e-02], dtype=float32),\n",
       " array([9.8582667e-01, 3.6490703e-04, 4.3578320e-03, 7.5097792e-03,\n",
       "        2.0080140e-04, 6.6633154e-05, 1.0474072e-04, 1.4466424e-04,\n",
       "        5.0512073e-04, 9.1883005e-04], dtype=float32))"
      ]
     },
     "execution_count": 10,
     "metadata": {},
     "output_type": "execute_result"
    }
   ],
   "source": [
    "def image_to_features(img) -> np.ndarray:\n",
    "    \"\"\"\n",
    "    Run an image through the model and retrieve the resulting classifier\n",
    "    input features.\n",
    "\n",
    "    :param img: PIL image object\n",
    "    :returns: Tuple with:\n",
    "     * Features for the image as a 1D NumPy array\n",
    "     * Final outputs of the model (class probabilities) as a 1D NumPy array\n",
    "    \"\"\"\n",
    "    with torch.inference_mode():\n",
    "        # Construct a singleton batch and run it through the model.\n",
    "        # This is not the most efficient way to do this, but the model's pretty\n",
    "        # fast and we only have to do this operation once.\n",
    "        img_tensor = preprocess_image(img)\n",
    "\n",
    "        logits = model.forward(img_tensor)\n",
    "        logits = torch.flatten(logits)\n",
    "\n",
    "        # Convert logits to probabilities by running them through softmax\n",
    "        probs = torch.nn.functional.softmax(logits, dim=0)\n",
    "\n",
    "        # Alternate approach: Treat logits as the actual results of running \n",
    "        # probabilities through the logistic function.\n",
    "        # probs = torch.special.expit(logits)\n",
    "        # probs /= probs.sum()\n",
    "\n",
    "        # Retrieve the features, which are 4x4-dimensional, and average pool them\n",
    "        # down as the underlying model does.\n",
    "        # `activation` is the dictionary that our callback uses.\n",
    "        features = activation[\"features\"]\n",
    "        features = torch.nn.functional.adaptive_avg_pool2d(features, (1, 1))\n",
    "        features = torch.flatten(features)\n",
    "        return (features.detach().numpy(), probs.detach().numpy())\n",
    "\n",
    "\n",
    "image_to_features(image)"
   ]
  },
  {
   "cell_type": "code",
   "execution_count": 11,
   "id": "d0c40117-b05f-4efa-b8e5-8e05f5686d4a",
   "metadata": {},
   "outputs": [],
   "source": [
    "def add_top_k_cols(df: pd.DataFrame) -> pd.DataFrame:\n",
    "    df = df.copy()\n",
    "    probs_array = df[\"probs\"].array.to_numpy()\n",
    "    num_examples = len(df.index)\n",
    "\n",
    "    df[\"label_prob\"] = probs_array[range(num_examples), df[\"label\"].to_numpy()]\n",
    "    df[\"top1\"] = np.argmax(probs_array, axis=1)\n",
    "    df[\"top1_prob\"] = np.max(probs_array, axis=1)\n",
    "    df[\"top5\"] = tp.TensorArray(np.flip(np.argsort(probs_array)[:,-5:], axis=1))\n",
    "    top5_mask = (\n",
    "        np.any(\n",
    "            np.equal(df[\"top5\"].values, df[\"label\"].values.reshape((-1,1))),\n",
    "            axis=1)\n",
    "    )\n",
    "    df[\"top5_match\"] = pd.Series(top5_mask, dtype=bool)\n",
    "    return df\n",
    "\n",
    "\n",
    "def maybe_generate_features(data_set: torch.utils.data.Dataset, cache_path: str):\n",
    "    \"\"\"\n",
    "    If a result is available in the indicated cache file, load it into \n",
    "    a DataFrame. Otherwise, run all the images in a data set through the\n",
    "    model's lower layers to generate feature vectors for the classifier \n",
    "    and write the resulting DataFrame of features and labels to the \n",
    "    cache location.\n",
    "\n",
    "    :param data_set: Input set of images. Image should be element 0 of each\n",
    "    tuple in the data set.\n",
    "    :param cache_path: Path at which the resulting features DataFrame should\n",
    "     be cached.\n",
    "    \"\"\"\n",
    "    if not os.path.exists(cache_path):\n",
    "        features_list = []\n",
    "        labels_list = []\n",
    "        probs_list = []\n",
    "        for image, label in data_set:\n",
    "            features, probs = image_to_features(image)\n",
    "            features_list.append(features)\n",
    "            labels_list.append(label)\n",
    "            probs_list.append(probs)\n",
    "\n",
    "        df = pd.DataFrame({\n",
    "            \"id\": range(len(features_list)),\n",
    "            \"features\": pd.Series(features_list, dtype=tp.TensorDtype()),\n",
    "            \"probs\": pd.Series(probs_list, dtype=tp.TensorDtype()),\n",
    "            \"label\": labels_list\n",
    "        })\n",
    "        df = add_top_k_cols(df)\n",
    "        df.to_parquet(cache_path)\n",
    "    return pd.read_parquet(cache_path)"
   ]
  },
  {
   "cell_type": "code",
   "execution_count": 12,
   "id": "812c9d4c-1863-4171-90df-42443efa1903",
   "metadata": {},
   "outputs": [
    {
     "name": "stdout",
     "output_type": "stream",
     "text": [
      "CPU times: user 1.44 s, sys: 156 ms, total: 1.6 s\n",
      "Wall time: 379 ms\n"
     ]
    },
    {
     "data": {
      "text/html": [
       "<div>\n",
       "<style scoped>\n",
       "    .dataframe tbody tr th:only-of-type {\n",
       "        vertical-align: middle;\n",
       "    }\n",
       "\n",
       "    .dataframe tbody tr th {\n",
       "        vertical-align: top;\n",
       "    }\n",
       "\n",
       "    .dataframe thead th {\n",
       "        text-align: right;\n",
       "    }\n",
       "</style>\n",
       "<table border=\"1\" class=\"dataframe\">\n",
       "  <thead>\n",
       "    <tr style=\"text-align: right;\">\n",
       "      <th></th>\n",
       "      <th>id</th>\n",
       "      <th>features</th>\n",
       "      <th>probs</th>\n",
       "      <th>label</th>\n",
       "      <th>label_prob</th>\n",
       "      <th>top1</th>\n",
       "      <th>top1_prob</th>\n",
       "      <th>top5</th>\n",
       "      <th>top5_match</th>\n",
       "    </tr>\n",
       "  </thead>\n",
       "  <tbody>\n",
       "    <tr>\n",
       "      <th>0</th>\n",
       "      <td>0</td>\n",
       "      <td>[    0.35260808,    0.002510327,   0.001254929...</td>\n",
       "      <td>[  2.894209e-08,  1.8942232e-07,  2.3131237e-0...</td>\n",
       "      <td>3</td>\n",
       "      <td>0.999998</td>\n",
       "      <td>3</td>\n",
       "      <td>0.999998</td>\n",
       "      <td>[3, 5, 2, 8, 1]</td>\n",
       "      <td>True</td>\n",
       "    </tr>\n",
       "    <tr>\n",
       "      <th>1</th>\n",
       "      <td>1</td>\n",
       "      <td>[    0.02103011,   0.0048019644,   0.007733383...</td>\n",
       "      <td>[  0.0002905918,  0.00021759795,   7.063145e-0...</td>\n",
       "      <td>8</td>\n",
       "      <td>0.998744</td>\n",
       "      <td>8</td>\n",
       "      <td>0.998744</td>\n",
       "      <td>[8, 0, 1, 6, 3]</td>\n",
       "      <td>True</td>\n",
       "    </tr>\n",
       "    <tr>\n",
       "      <th>2</th>\n",
       "      <td>2</td>\n",
       "      <td>[   0.006070774,   2.754666e-05,   0.000503753...</td>\n",
       "      <td>[  0.0014383381,     0.69928944,  0.0003394756...</td>\n",
       "      <td>8</td>\n",
       "      <td>0.297344</td>\n",
       "      <td>1</td>\n",
       "      <td>0.699289</td>\n",
       "      <td>[1, 8, 0, 9, 2]</td>\n",
       "      <td>True</td>\n",
       "    </tr>\n",
       "    <tr>\n",
       "      <th>3</th>\n",
       "      <td>3</td>\n",
       "      <td>[    0.05156224,  2.7803588e-05,     0.0063632...</td>\n",
       "      <td>[     0.9858267,  0.00036490703,    0.00435783...</td>\n",
       "      <td>0</td>\n",
       "      <td>0.985827</td>\n",
       "      <td>0</td>\n",
       "      <td>0.985827</td>\n",
       "      <td>[0, 3, 2, 9, 8]</td>\n",
       "      <td>True</td>\n",
       "    </tr>\n",
       "    <tr>\n",
       "      <th>4</th>\n",
       "      <td>4</td>\n",
       "      <td>[           0.0,     0.02982047,    0.02614076...</td>\n",
       "      <td>[ 1.0584218e-06,  4.3281757e-06,  1.1705762e-0...</td>\n",
       "      <td>6</td>\n",
       "      <td>0.999957</td>\n",
       "      <td>6</td>\n",
       "      <td>0.999957</td>\n",
       "      <td>[6, 4, 2, 3, 1]</td>\n",
       "      <td>True</td>\n",
       "    </tr>\n",
       "    <tr>\n",
       "      <th>...</th>\n",
       "      <td>...</td>\n",
       "      <td>...</td>\n",
       "      <td>...</td>\n",
       "      <td>...</td>\n",
       "      <td>...</td>\n",
       "      <td>...</td>\n",
       "      <td>...</td>\n",
       "      <td>...</td>\n",
       "      <td>...</td>\n",
       "    </tr>\n",
       "    <tr>\n",
       "      <th>9995</th>\n",
       "      <td>9995</td>\n",
       "      <td>[    0.08151524,    0.028122928,            0....</td>\n",
       "      <td>[ 0.00016568981,   4.195008e-05,  1.1431889e-0...</td>\n",
       "      <td>8</td>\n",
       "      <td>0.998522</td>\n",
       "      <td>8</td>\n",
       "      <td>0.998522</td>\n",
       "      <td>[8, 5, 0, 3, 4]</td>\n",
       "      <td>True</td>\n",
       "    </tr>\n",
       "    <tr>\n",
       "      <th>9996</th>\n",
       "      <td>9996</td>\n",
       "      <td>[     0.2444532,     0.04218842,   0.003522765...</td>\n",
       "      <td>[ 2.7136082e-06,   4.621668e-06,  0.0001997103...</td>\n",
       "      <td>3</td>\n",
       "      <td>0.999213</td>\n",
       "      <td>3</td>\n",
       "      <td>0.999213</td>\n",
       "      <td>[3, 4, 2, 5, 6]</td>\n",
       "      <td>True</td>\n",
       "    </tr>\n",
       "    <tr>\n",
       "      <th>9997</th>\n",
       "      <td>9997</td>\n",
       "      <td>[    0.15591726,    0.008372757,   0.000660977...</td>\n",
       "      <td>[  1.553733e-05,  6.4611566e-05,   9.372406e-0...</td>\n",
       "      <td>5</td>\n",
       "      <td>0.999416</td>\n",
       "      <td>5</td>\n",
       "      <td>0.999416</td>\n",
       "      <td>[5, 3, 2, 7, 1]</td>\n",
       "      <td>True</td>\n",
       "    </tr>\n",
       "    <tr>\n",
       "      <th>9998</th>\n",
       "      <td>9998</td>\n",
       "      <td>[  0.0043861214,   0.0011193305,    0.01134104...</td>\n",
       "      <td>[ 1.3735292e-05,     0.99993074,  7.4561776e-0...</td>\n",
       "      <td>1</td>\n",
       "      <td>0.999931</td>\n",
       "      <td>1</td>\n",
       "      <td>0.999931</td>\n",
       "      <td>[1, 9, 0, 6, 8]</td>\n",
       "      <td>True</td>\n",
       "    </tr>\n",
       "    <tr>\n",
       "      <th>9999</th>\n",
       "      <td>9999</td>\n",
       "      <td>[   0.004596327,     0.15833113,     0.3659143...</td>\n",
       "      <td>[ 4.2594306e-06,   5.387172e-06,   4.472427e-0...</td>\n",
       "      <td>7</td>\n",
       "      <td>0.999884</td>\n",
       "      <td>7</td>\n",
       "      <td>0.999884</td>\n",
       "      <td>[7, 5, 4, 9, 3]</td>\n",
       "      <td>True</td>\n",
       "    </tr>\n",
       "  </tbody>\n",
       "</table>\n",
       "<p>10000 rows × 9 columns</p>\n",
       "</div>"
      ],
      "text/plain": [
       "        id                                           features  \\\n",
       "0        0  [    0.35260808,    0.002510327,   0.001254929...   \n",
       "1        1  [    0.02103011,   0.0048019644,   0.007733383...   \n",
       "2        2  [   0.006070774,   2.754666e-05,   0.000503753...   \n",
       "3        3  [    0.05156224,  2.7803588e-05,     0.0063632...   \n",
       "4        4  [           0.0,     0.02982047,    0.02614076...   \n",
       "...    ...                                                ...   \n",
       "9995  9995  [    0.08151524,    0.028122928,            0....   \n",
       "9996  9996  [     0.2444532,     0.04218842,   0.003522765...   \n",
       "9997  9997  [    0.15591726,    0.008372757,   0.000660977...   \n",
       "9998  9998  [  0.0043861214,   0.0011193305,    0.01134104...   \n",
       "9999  9999  [   0.004596327,     0.15833113,     0.3659143...   \n",
       "\n",
       "                                                  probs  label  label_prob  \\\n",
       "0     [  2.894209e-08,  1.8942232e-07,  2.3131237e-0...      3    0.999998   \n",
       "1     [  0.0002905918,  0.00021759795,   7.063145e-0...      8    0.998744   \n",
       "2     [  0.0014383381,     0.69928944,  0.0003394756...      8    0.297344   \n",
       "3     [     0.9858267,  0.00036490703,    0.00435783...      0    0.985827   \n",
       "4     [ 1.0584218e-06,  4.3281757e-06,  1.1705762e-0...      6    0.999957   \n",
       "...                                                 ...    ...         ...   \n",
       "9995  [ 0.00016568981,   4.195008e-05,  1.1431889e-0...      8    0.998522   \n",
       "9996  [ 2.7136082e-06,   4.621668e-06,  0.0001997103...      3    0.999213   \n",
       "9997  [  1.553733e-05,  6.4611566e-05,   9.372406e-0...      5    0.999416   \n",
       "9998  [ 1.3735292e-05,     0.99993074,  7.4561776e-0...      1    0.999931   \n",
       "9999  [ 4.2594306e-06,   5.387172e-06,   4.472427e-0...      7    0.999884   \n",
       "\n",
       "      top1  top1_prob             top5  top5_match  \n",
       "0        3   0.999998  [3, 5, 2, 8, 1]        True  \n",
       "1        8   0.998744  [8, 0, 1, 6, 3]        True  \n",
       "2        1   0.699289  [1, 8, 0, 9, 2]        True  \n",
       "3        0   0.985827  [0, 3, 2, 9, 8]        True  \n",
       "4        6   0.999957  [6, 4, 2, 3, 1]        True  \n",
       "...    ...        ...              ...         ...  \n",
       "9995     8   0.998522  [8, 5, 0, 3, 4]        True  \n",
       "9996     3   0.999213  [3, 4, 2, 5, 6]        True  \n",
       "9997     5   0.999416  [5, 3, 2, 7, 1]        True  \n",
       "9998     1   0.999931  [1, 9, 0, 6, 8]        True  \n",
       "9999     7   0.999884  [7, 5, 4, 9, 3]        True  \n",
       "\n",
       "[10000 rows x 9 columns]"
      ]
     },
     "execution_count": 12,
     "metadata": {},
     "output_type": "execute_result"
    }
   ],
   "source": [
    "%%time\n",
    "# This takes about 2 minutes if the results aren't cached.\n",
    "test = maybe_generate_features(cifar10_test, f\"{OUTPUT_DIR}/cifar10_test.parquet\")\n",
    "test"
   ]
  },
  {
   "cell_type": "code",
   "execution_count": 13,
   "id": "b31c68cf-b4ed-4814-b170-27e7985cdc22",
   "metadata": {},
   "outputs": [
    {
     "name": "stdout",
     "output_type": "stream",
     "text": [
      "CPU times: user 886 ms, sys: 576 ms, total: 1.46 s\n",
      "Wall time: 1.45 s\n"
     ]
    },
    {
     "data": {
      "text/html": [
       "<div>\n",
       "<style scoped>\n",
       "    .dataframe tbody tr th:only-of-type {\n",
       "        vertical-align: middle;\n",
       "    }\n",
       "\n",
       "    .dataframe tbody tr th {\n",
       "        vertical-align: top;\n",
       "    }\n",
       "\n",
       "    .dataframe thead th {\n",
       "        text-align: right;\n",
       "    }\n",
       "</style>\n",
       "<table border=\"1\" class=\"dataframe\">\n",
       "  <thead>\n",
       "    <tr style=\"text-align: right;\">\n",
       "      <th></th>\n",
       "      <th>id</th>\n",
       "      <th>features</th>\n",
       "      <th>probs</th>\n",
       "      <th>label</th>\n",
       "      <th>label_prob</th>\n",
       "      <th>top1</th>\n",
       "      <th>top1_prob</th>\n",
       "      <th>top5</th>\n",
       "      <th>top5_match</th>\n",
       "    </tr>\n",
       "  </thead>\n",
       "  <tbody>\n",
       "    <tr>\n",
       "      <th>0</th>\n",
       "      <td>0</td>\n",
       "      <td>[   0.029165167,    0.013425681,    0.02106615...</td>\n",
       "      <td>[  9.813224e-07,  2.0073671e-06,  2.1320864e-0...</td>\n",
       "      <td>6</td>\n",
       "      <td>0.999960</td>\n",
       "      <td>6</td>\n",
       "      <td>0.999960</td>\n",
       "      <td>[6, 3, 5, 4, 8]</td>\n",
       "      <td>True</td>\n",
       "    </tr>\n",
       "    <tr>\n",
       "      <th>1</th>\n",
       "      <td>1</td>\n",
       "      <td>[   0.006221831, 1.14740105e-05,    0.01141228...</td>\n",
       "      <td>[ 1.3230983e-05,    2.10157e-05,   7.930732e-0...</td>\n",
       "      <td>9</td>\n",
       "      <td>0.999915</td>\n",
       "      <td>9</td>\n",
       "      <td>0.999915</td>\n",
       "      <td>[9, 1, 8, 0, 2]</td>\n",
       "      <td>True</td>\n",
       "    </tr>\n",
       "    <tr>\n",
       "      <th>2</th>\n",
       "      <td>2</td>\n",
       "      <td>[           0.0,   0.0017763652,    0.02518254...</td>\n",
       "      <td>[ 2.8254426e-06,  2.7717265e-06,  4.7054687e-0...</td>\n",
       "      <td>9</td>\n",
       "      <td>0.999979</td>\n",
       "      <td>9</td>\n",
       "      <td>0.999979</td>\n",
       "      <td>[9, 8, 2, 0, 1]</td>\n",
       "      <td>True</td>\n",
       "    </tr>\n",
       "    <tr>\n",
       "      <th>3</th>\n",
       "      <td>3</td>\n",
       "      <td>[   0.032992706,     0.23436683,    0.02305665...</td>\n",
       "      <td>[   5.64204e-06,   3.447384e-06,  1.5888074e-0...</td>\n",
       "      <td>4</td>\n",
       "      <td>0.999827</td>\n",
       "      <td>4</td>\n",
       "      <td>0.999827</td>\n",
       "      <td>[4, 7, 6, 3, 5]</td>\n",
       "      <td>True</td>\n",
       "    </tr>\n",
       "    <tr>\n",
       "      <th>4</th>\n",
       "      <td>4</td>\n",
       "      <td>[   0.023167439,   0.0018427392,    0.01341631...</td>\n",
       "      <td>[ 2.0382395e-05,      0.9998087,  1.1192387e-0...</td>\n",
       "      <td>1</td>\n",
       "      <td>0.999809</td>\n",
       "      <td>1</td>\n",
       "      <td>0.999809</td>\n",
       "      <td>[1, 9, 8, 0, 5]</td>\n",
       "      <td>True</td>\n",
       "    </tr>\n",
       "    <tr>\n",
       "      <th>...</th>\n",
       "      <td>...</td>\n",
       "      <td>...</td>\n",
       "      <td>...</td>\n",
       "      <td>...</td>\n",
       "      <td>...</td>\n",
       "      <td>...</td>\n",
       "      <td>...</td>\n",
       "      <td>...</td>\n",
       "      <td>...</td>\n",
       "    </tr>\n",
       "    <tr>\n",
       "      <th>49995</th>\n",
       "      <td>49995</td>\n",
       "      <td>[           0.0,   0.0061797285,   0.002518399...</td>\n",
       "      <td>[  0.0013843466,  5.5074956e-06,      0.998499...</td>\n",
       "      <td>2</td>\n",
       "      <td>0.998499</td>\n",
       "      <td>2</td>\n",
       "      <td>0.998499</td>\n",
       "      <td>[2, 0, 4, 8, 6]</td>\n",
       "      <td>True</td>\n",
       "    </tr>\n",
       "    <tr>\n",
       "      <th>49996</th>\n",
       "      <td>49996</td>\n",
       "      <td>[   0.044538885,  0.00025054615,   0.003020350...</td>\n",
       "      <td>[ 1.8171737e-05, 0.000117755946,  5.6807778e-0...</td>\n",
       "      <td>6</td>\n",
       "      <td>0.997606</td>\n",
       "      <td>6</td>\n",
       "      <td>0.997606</td>\n",
       "      <td>[6, 3, 1, 2, 4]</td>\n",
       "      <td>True</td>\n",
       "    </tr>\n",
       "    <tr>\n",
       "      <th>49997</th>\n",
       "      <td>49997</td>\n",
       "      <td>[           0.0,   0.0036740638,    0.00843777...</td>\n",
       "      <td>[ 6.8537454e-05,  0.00013954812,   1.854565e-0...</td>\n",
       "      <td>9</td>\n",
       "      <td>0.999516</td>\n",
       "      <td>9</td>\n",
       "      <td>0.999516</td>\n",
       "      <td>[9, 8, 1, 0, 5]</td>\n",
       "      <td>True</td>\n",
       "    </tr>\n",
       "    <tr>\n",
       "      <th>49998</th>\n",
       "      <td>49998</td>\n",
       "      <td>[   0.018653711,    0.018397646,    0.03778621...</td>\n",
       "      <td>[ 2.1393242e-05,      0.9996331,  1.6347936e-0...</td>\n",
       "      <td>1</td>\n",
       "      <td>0.999633</td>\n",
       "      <td>1</td>\n",
       "      <td>0.999633</td>\n",
       "      <td>[1, 8, 9, 7, 5]</td>\n",
       "      <td>True</td>\n",
       "    </tr>\n",
       "    <tr>\n",
       "      <th>49999</th>\n",
       "      <td>49999</td>\n",
       "      <td>[    0.03584118,   0.0033067726,     0.0323404...</td>\n",
       "      <td>[  6.180347e-05,     0.99855345, 1.17332875e-0...</td>\n",
       "      <td>1</td>\n",
       "      <td>0.998553</td>\n",
       "      <td>1</td>\n",
       "      <td>0.998553</td>\n",
       "      <td>[1, 9, 5, 8, 0]</td>\n",
       "      <td>True</td>\n",
       "    </tr>\n",
       "  </tbody>\n",
       "</table>\n",
       "<p>50000 rows × 9 columns</p>\n",
       "</div>"
      ],
      "text/plain": [
       "          id                                           features  \\\n",
       "0          0  [   0.029165167,    0.013425681,    0.02106615...   \n",
       "1          1  [   0.006221831, 1.14740105e-05,    0.01141228...   \n",
       "2          2  [           0.0,   0.0017763652,    0.02518254...   \n",
       "3          3  [   0.032992706,     0.23436683,    0.02305665...   \n",
       "4          4  [   0.023167439,   0.0018427392,    0.01341631...   \n",
       "...      ...                                                ...   \n",
       "49995  49995  [           0.0,   0.0061797285,   0.002518399...   \n",
       "49996  49996  [   0.044538885,  0.00025054615,   0.003020350...   \n",
       "49997  49997  [           0.0,   0.0036740638,    0.00843777...   \n",
       "49998  49998  [   0.018653711,    0.018397646,    0.03778621...   \n",
       "49999  49999  [    0.03584118,   0.0033067726,     0.0323404...   \n",
       "\n",
       "                                                   probs  label  label_prob  \\\n",
       "0      [  9.813224e-07,  2.0073671e-06,  2.1320864e-0...      6    0.999960   \n",
       "1      [ 1.3230983e-05,    2.10157e-05,   7.930732e-0...      9    0.999915   \n",
       "2      [ 2.8254426e-06,  2.7717265e-06,  4.7054687e-0...      9    0.999979   \n",
       "3      [   5.64204e-06,   3.447384e-06,  1.5888074e-0...      4    0.999827   \n",
       "4      [ 2.0382395e-05,      0.9998087,  1.1192387e-0...      1    0.999809   \n",
       "...                                                  ...    ...         ...   \n",
       "49995  [  0.0013843466,  5.5074956e-06,      0.998499...      2    0.998499   \n",
       "49996  [ 1.8171737e-05, 0.000117755946,  5.6807778e-0...      6    0.997606   \n",
       "49997  [ 6.8537454e-05,  0.00013954812,   1.854565e-0...      9    0.999516   \n",
       "49998  [ 2.1393242e-05,      0.9996331,  1.6347936e-0...      1    0.999633   \n",
       "49999  [  6.180347e-05,     0.99855345, 1.17332875e-0...      1    0.998553   \n",
       "\n",
       "       top1  top1_prob             top5  top5_match  \n",
       "0         6   0.999960  [6, 3, 5, 4, 8]        True  \n",
       "1         9   0.999915  [9, 1, 8, 0, 2]        True  \n",
       "2         9   0.999979  [9, 8, 2, 0, 1]        True  \n",
       "3         4   0.999827  [4, 7, 6, 3, 5]        True  \n",
       "4         1   0.999809  [1, 9, 8, 0, 5]        True  \n",
       "...     ...        ...              ...         ...  \n",
       "49995     2   0.998499  [2, 0, 4, 8, 6]        True  \n",
       "49996     6   0.997606  [6, 3, 1, 2, 4]        True  \n",
       "49997     9   0.999516  [9, 8, 1, 0, 5]        True  \n",
       "49998     1   0.999633  [1, 8, 9, 7, 5]        True  \n",
       "49999     1   0.998553  [1, 9, 5, 8, 0]        True  \n",
       "\n",
       "[50000 rows x 9 columns]"
      ]
     },
     "execution_count": 13,
     "metadata": {},
     "output_type": "execute_result"
    }
   ],
   "source": [
    "%%time\n",
    "# This takes about 9 minutes if the results aren't cached.\n",
    "train = maybe_generate_features(cifar10_train, f\"{OUTPUT_DIR}/cifar10_train.parquet\")\n",
    "train"
   ]
  },
  {
   "cell_type": "markdown",
   "id": "d2de23fa-8434-4d09-b3f3-6520cb53c129",
   "metadata": {},
   "source": [
    "## Calibrate the model\n",
    "\n",
    "The steps that follow will work best if the model produces robustly calibrated class confidence values. Let's start with some code to generate a graph of calibration quality."
   ]
  },
  {
   "cell_type": "code",
   "execution_count": 14,
   "id": "95c19801-9678-44fa-aeda-5accf906fdd6",
   "metadata": {},
   "outputs": [],
   "source": [
    "def make_calibration_data(df: pd.DataFrame) -> pd.DataFrame:\n",
    "    \"\"\"\n",
    "    Generate raw data for determining how well-calibrated a model's\n",
    "    class probabilities are.\n",
    "\n",
    "    :param df: DataFrame of model results for a holdout or validation set.\n",
    "               Each row represents one data item and must contain the \n",
    "               following columns:\n",
    "               * `probs`: The model's returned class probabilities\n",
    "               * `label`: The corpus label for the correct class\n",
    "\n",
    "    :returns: A DataFrame with with one row for each combination of\n",
    "     element and class, with the following columns:\n",
    "     * `prediction`: Class label\n",
    "     * `prob`: Probability that the model return for said class\n",
    "     * `label`: Corpus label\n",
    "     * `is_correct`: 0/1 indicator (integer dtype) that is 1 if \n",
    "       the label is correct.\n",
    "     * `prob_bin`: Binned value of `prob`, with the bin size chosen\n",
    "       to match the size of the input DataFrame.\n",
    "    \"\"\"\n",
    "    target_bin_size = 100\n",
    "    num_bins = len(df.index) * num_classes // target_bin_size\n",
    "\n",
    "    # Shred the probability distributions and generate triples of\n",
    "    # <predicted label, probability of label, actual label>\n",
    "    triples_list = []\n",
    "    for probs, label in zip(df[\"probs\"], df[\"label\"]):\n",
    "        for predicted_label in range(num_classes):\n",
    "            prob = probs.to_numpy()[predicted_label]\n",
    "            triples_list.append({\n",
    "                \"prediction\": predicted_label,\n",
    "                \"prob\": prob,\n",
    "                \"label\": label\n",
    "            })\n",
    "\n",
    "    calib = pd.DataFrame.from_records(triples_list)\n",
    "\n",
    "    # Tack on a 0/1 indicator variable that is 1 if the predicted and actual\n",
    "    # labels are the same\n",
    "    calib[\"is_correct\"] = (calib[\"prediction\"] == calib[\"label\"]).astype(int)\n",
    "\n",
    "    # Divide the range from 0 to 1 into bins\n",
    "    calib[\"prob_bin\"] = pd.qcut(calib[\"prob\"], num_bins)\n",
    "    return calib\n",
    "\n",
    "\n",
    "# Plot how well the example model is calibrated\n",
    "def calibration_plot(df):\n",
    "    (make_calibration_data(df).groupby(\"prob_bin\").agg({\"prob\": \"mean\",\n",
    "                                                        \"is_correct\": \"mean\"})\n",
    "     .rename(columns={\"is_correct\": \"empirical_prob\", \"prob\": \"model_prob\"})\n",
    "     .plot.scatter(\"model_prob\", \"empirical_prob\"))\n"
   ]
  },
  {
   "cell_type": "markdown",
   "id": "74acb712-3a6b-45a5-91ce-d8470cbefec1",
   "metadata": {},
   "source": [
    "The above code lets us plot the calibration quality of the base model by showing the relationship between the model's output probability and the empirical probability (what fraction of the times that the model said an item was of label $l$ with (binned) probability $p$ was the label actually $l$)"
   ]
  },
  {
   "cell_type": "code",
   "execution_count": 15,
   "id": "d9559880-477a-44da-a89b-029bf9171aca",
   "metadata": {},
   "outputs": [
    {
     "data": {
      "image/png": "[encoded data removed]",
      "text/plain": [
       "<Figure size 432x288 with 1 Axes>"
      ]
     },
     "metadata": {
      "needs_background": "light"
     },
     "output_type": "display_data"
    }
   ],
   "source": [
    "calibration_plot(test)"
   ]
  },
  {
   "cell_type": "markdown",
   "id": "3086d2dd-26e4-48c4-8cd5-f339801557d7",
   "metadata": {},
   "source": [
    "These model output probabilities are not terribly well-calibrated. There are several ways to fix that. Here we calibrate the model by retraining the top layer with additional L2 regularization."
   ]
  },
  {
   "cell_type": "code",
   "execution_count": 16,
   "id": "5f21b844-a086-48cb-aaf1-539403e03562",
   "metadata": {},
   "outputs": [
    {
     "name": "stdout",
     "output_type": "stream",
     "text": [
      "CPU times: user 41.6 s, sys: 7.02 s, total: 48.6 s\n",
      "Wall time: 3.79 s\n"
     ]
    }
   ],
   "source": [
    "%%time\n",
    "# Train a multinomial logistic regression model on the training set.\n",
    "_MULTI_CLASS = \"multinomial\"\n",
    "_SOLVER, _SOLVER_LOG_LEVEL = (\"lbfgs\", 0)\n",
    "\n",
    "# (from docs) \"Inverse of regularization strength; must be a positive float. \n",
    "# Like in support vector machines, smaller values specify stronger regularization.\"\n",
    "# Default values\n",
    "#_REGULARIZATION_TYPE, _REGULARIZATION_COEFF = (\"l2\", 1e0)\n",
    "\n",
    "# This value produces a model with a nice straight calibration curve\n",
    "_REGULARIZATION_TYPE, _REGULARIZATION_COEFF = (\"l2\", 2e-3)\n",
    "\n",
    "def train_model(df: pd.DataFrame,\n",
    "                     regularization_type=_REGULARIZATION_TYPE,\n",
    "                     regularization_coeff=_REGULARIZATION_COEFF) -> sklearn.base.BaseEstimator:  \n",
    "    base_pipeline = sklearn.pipeline.Pipeline([\n",
    "        # Standard scaler. This only makes a difference for certain classes\n",
    "        # of embeddings.\n",
    "        #(\"scaler\", sklearn.preprocessing.StandardScaler()),\n",
    "        (\"mlogreg\", sklearn.linear_model.LogisticRegression(\n",
    "            multi_class=_MULTI_CLASS,\n",
    "            max_iter=1000,\n",
    "            verbose=_SOLVER_LOG_LEVEL,\n",
    "            penalty=regularization_type,\n",
    "            C=regularization_coeff,\n",
    "            solver=_SOLVER))\n",
    "    ])\n",
    "    return base_pipeline.fit(df[\"features\"].values, df[\"label\"])\n",
    "\n",
    "\n",
    "calib_model = train_model(train)"
   ]
  },
  {
   "cell_type": "markdown",
   "id": "31868878-df71-47f9-badb-1d54437a2ce1",
   "metadata": {},
   "source": [
    "Now we can run our model over the saved activations from the test set and redo the calibration graph."
   ]
  },
  {
   "cell_type": "code",
   "execution_count": 17,
   "id": "a35bbac3-98f6-4fd3-9d66-a0ec40868e28",
   "metadata": {},
   "outputs": [
    {
     "data": {
      "image/png": "[encoded data removed]",
      "text/plain": [
       "<Figure size 432x288 with 1 Axes>"
      ]
     },
     "metadata": {
      "needs_background": "light"
     },
     "output_type": "display_data"
    }
   ],
   "source": [
    "def rerun_top_layer(data: pd.DataFrame, model: sklearn.base.BaseEstimator) -> pd.DataFrame:\n",
    "    df = data[[\"id\", \"label\"]].copy()\n",
    "    df[\"probs\"] = tp.TensorArray(model.predict_proba(data[\"features\"].values))\n",
    "    df = add_top_k_cols(df[[\"id\", \"probs\", \"label\"]])\n",
    "    return df\n",
    "\n",
    "\n",
    "c_test = rerun_top_layer(test, calib_model)\n",
    "\n",
    "calibration_plot(c_test)"
   ]
  },
  {
   "cell_type": "markdown",
   "id": "e2927c8a-7acf-4bd0-9c28-bc403a760261",
   "metadata": {},
   "source": [
    "## Method 1: K-means\n",
    "\n",
    "As a baseline method, we'll cluster the model outputs into groups based purely on similarity of the vectors of returned model probabilities.\n",
    "\n",
    "### 10 Clusters\n",
    "\n",
    "We'll start with the number of clusters equal to the number of classes and see what happens."
   ]
  },
  {
   "cell_type": "code",
   "execution_count": 18,
   "id": "6af18d41-9af9-46c0-9f2b-b003ac6d5ef8",
   "metadata": {},
   "outputs": [
    {
     "data": {
      "text/html": [
       "<div>\n",
       "<style scoped>\n",
       "    .dataframe tbody tr th:only-of-type {\n",
       "        vertical-align: middle;\n",
       "    }\n",
       "\n",
       "    .dataframe tbody tr th {\n",
       "        vertical-align: top;\n",
       "    }\n",
       "\n",
       "    .dataframe thead th {\n",
       "        text-align: right;\n",
       "    }\n",
       "</style>\n",
       "<table border=\"1\" class=\"dataframe\">\n",
       "  <thead>\n",
       "    <tr style=\"text-align: right;\">\n",
       "      <th></th>\n",
       "      <th>id</th>\n",
       "      <th>probs</th>\n",
       "      <th>label</th>\n",
       "      <th>label_prob</th>\n",
       "      <th>top1</th>\n",
       "      <th>top1_prob</th>\n",
       "      <th>top5</th>\n",
       "      <th>top5_match</th>\n",
       "      <th>c_10</th>\n",
       "    </tr>\n",
       "  </thead>\n",
       "  <tbody>\n",
       "    <tr>\n",
       "      <th>0</th>\n",
       "      <td>0</td>\n",
       "      <td>[ 9.324214151936674e-05,  0.000237297089221795...</td>\n",
       "      <td>3</td>\n",
       "      <td>0.998793</td>\n",
       "      <td>3</td>\n",
       "      <td>0.998793</td>\n",
       "      <td>[3, 8, 1, 2, 4]</td>\n",
       "      <td>True</td>\n",
       "      <td>3</td>\n",
       "    </tr>\n",
       "    <tr>\n",
       "      <th>1</th>\n",
       "      <td>1</td>\n",
       "      <td>[  0.006146121307375569,   0.00580862711389710...</td>\n",
       "      <td>8</td>\n",
       "      <td>0.961217</td>\n",
       "      <td>8</td>\n",
       "      <td>0.961217</td>\n",
       "      <td>[8, 0, 1, 6, 3]</td>\n",
       "      <td>True</td>\n",
       "      <td>8</td>\n",
       "    </tr>\n",
       "    <tr>\n",
       "      <th>2</th>\n",
       "      <td>2</td>\n",
       "      <td>[  0.014238712139555383,     0.577040633698757...</td>\n",
       "      <td>8</td>\n",
       "      <td>0.366036</td>\n",
       "      <td>1</td>\n",
       "      <td>0.577041</td>\n",
       "      <td>[1, 8, 0, 9, 2]</td>\n",
       "      <td>True</td>\n",
       "      <td>1</td>\n",
       "    </tr>\n",
       "    <tr>\n",
       "      <th>3</th>\n",
       "      <td>3</td>\n",
       "      <td>[    0.8648255592974857,   0.00994625824493783...</td>\n",
       "      <td>0</td>\n",
       "      <td>0.864826</td>\n",
       "      <td>0</td>\n",
       "      <td>0.864826</td>\n",
       "      <td>[0, 3, 2, 9, 8]</td>\n",
       "      <td>True</td>\n",
       "      <td>0</td>\n",
       "    </tr>\n",
       "    <tr>\n",
       "      <th>4</th>\n",
       "      <td>4</td>\n",
       "      <td>[ 0.0006253539875008178,     0.001303845829813...</td>\n",
       "      <td>6</td>\n",
       "      <td>0.990238</td>\n",
       "      <td>6</td>\n",
       "      <td>0.990238</td>\n",
       "      <td>[6, 4, 2, 1, 3]</td>\n",
       "      <td>True</td>\n",
       "      <td>6</td>\n",
       "    </tr>\n",
       "    <tr>\n",
       "      <th>...</th>\n",
       "      <td>...</td>\n",
       "      <td>...</td>\n",
       "      <td>...</td>\n",
       "      <td>...</td>\n",
       "      <td>...</td>\n",
       "      <td>...</td>\n",
       "      <td>...</td>\n",
       "      <td>...</td>\n",
       "      <td>...</td>\n",
       "    </tr>\n",
       "    <tr>\n",
       "      <th>9995</th>\n",
       "      <td>9995</td>\n",
       "      <td>[   0.00441212176824998,   0.00214001242323343...</td>\n",
       "      <td>8</td>\n",
       "      <td>0.966744</td>\n",
       "      <td>8</td>\n",
       "      <td>0.966744</td>\n",
       "      <td>[8, 5, 0, 4, 3]</td>\n",
       "      <td>True</td>\n",
       "      <td>8</td>\n",
       "    </tr>\n",
       "    <tr>\n",
       "      <th>9996</th>\n",
       "      <td>9996</td>\n",
       "      <td>[  0.001236129401929248,   0.00158755666638597...</td>\n",
       "      <td>3</td>\n",
       "      <td>0.971884</td>\n",
       "      <td>3</td>\n",
       "      <td>0.971884</td>\n",
       "      <td>[3, 4, 2, 5, 6]</td>\n",
       "      <td>True</td>\n",
       "      <td>3</td>\n",
       "    </tr>\n",
       "    <tr>\n",
       "      <th>9997</th>\n",
       "      <td>9997</td>\n",
       "      <td>[ 0.0031452989990810214,   0.00600395515443142...</td>\n",
       "      <td>5</td>\n",
       "      <td>0.957697</td>\n",
       "      <td>5</td>\n",
       "      <td>0.957697</td>\n",
       "      <td>[5, 1, 2, 7, 3]</td>\n",
       "      <td>True</td>\n",
       "      <td>5</td>\n",
       "    </tr>\n",
       "    <tr>\n",
       "      <th>9998</th>\n",
       "      <td>9998</td>\n",
       "      <td>[  0.001472712483878206,     0.991317488106108...</td>\n",
       "      <td>1</td>\n",
       "      <td>0.991317</td>\n",
       "      <td>1</td>\n",
       "      <td>0.991317</td>\n",
       "      <td>[1, 0, 6, 9, 2]</td>\n",
       "      <td>True</td>\n",
       "      <td>1</td>\n",
       "    </tr>\n",
       "    <tr>\n",
       "      <th>9999</th>\n",
       "      <td>9999</td>\n",
       "      <td>[ 0.0013874378333969873,   0.00119982514276869...</td>\n",
       "      <td>7</td>\n",
       "      <td>0.987044</td>\n",
       "      <td>7</td>\n",
       "      <td>0.987044</td>\n",
       "      <td>[7, 4, 5, 6, 9]</td>\n",
       "      <td>True</td>\n",
       "      <td>7</td>\n",
       "    </tr>\n",
       "  </tbody>\n",
       "</table>\n",
       "<p>10000 rows × 9 columns</p>\n",
       "</div>"
      ],
      "text/plain": [
       "        id                                              probs  label  \\\n",
       "0        0  [ 9.324214151936674e-05,  0.000237297089221795...      3   \n",
       "1        1  [  0.006146121307375569,   0.00580862711389710...      8   \n",
       "2        2  [  0.014238712139555383,     0.577040633698757...      8   \n",
       "3        3  [    0.8648255592974857,   0.00994625824493783...      0   \n",
       "4        4  [ 0.0006253539875008178,     0.001303845829813...      6   \n",
       "...    ...                                                ...    ...   \n",
       "9995  9995  [   0.00441212176824998,   0.00214001242323343...      8   \n",
       "9996  9996  [  0.001236129401929248,   0.00158755666638597...      3   \n",
       "9997  9997  [ 0.0031452989990810214,   0.00600395515443142...      5   \n",
       "9998  9998  [  0.001472712483878206,     0.991317488106108...      1   \n",
       "9999  9999  [ 0.0013874378333969873,   0.00119982514276869...      7   \n",
       "\n",
       "      label_prob  top1  top1_prob             top5  top5_match  c_10  \n",
       "0       0.998793     3   0.998793  [3, 8, 1, 2, 4]        True     3  \n",
       "1       0.961217     8   0.961217  [8, 0, 1, 6, 3]        True     8  \n",
       "2       0.366036     1   0.577041  [1, 8, 0, 9, 2]        True     1  \n",
       "3       0.864826     0   0.864826  [0, 3, 2, 9, 8]        True     0  \n",
       "4       0.990238     6   0.990238  [6, 4, 2, 1, 3]        True     6  \n",
       "...          ...   ...        ...              ...         ...   ...  \n",
       "9995    0.966744     8   0.966744  [8, 5, 0, 4, 3]        True     8  \n",
       "9996    0.971884     3   0.971884  [3, 4, 2, 5, 6]        True     3  \n",
       "9997    0.957697     5   0.957697  [5, 1, 2, 7, 3]        True     5  \n",
       "9998    0.991317     1   0.991317  [1, 0, 6, 9, 2]        True     1  \n",
       "9999    0.987044     7   0.987044  [7, 4, 5, 6, 9]        True     7  \n",
       "\n",
       "[10000 rows x 9 columns]"
      ]
     },
     "execution_count": 18,
     "metadata": {},
     "output_type": "execute_result"
    }
   ],
   "source": [
    "def make_clusters(model_probs: np.ndarray,\n",
    "                  num_clusters: int) -> Tuple[np.ndarray, np.ndarray]:\n",
    "    \"\"\"\n",
    "    KMeans clustering, sorting the clusters according to which class has\n",
    "    the highest weight.\n",
    "\n",
    "    :param model_probs: 2D ndarray of class probabilities output by the \n",
    "     model. First dimension is element number, second dimension is class.\n",
    "    :param num_clusters: Number of clusters to divide the probabilities into\n",
    "\n",
    "    :returns: Tuple of:\n",
    "              * Cluster IDs corresponding to the rows of ``model_probs``\n",
    "              * Cluster centroids as a 2D ndarray\n",
    "    \"\"\"\n",
    "    kmeans = sklearn.cluster.KMeans(\n",
    "        n_clusters=num_clusters, \n",
    "        # n_init=100, max_iter=10000, tol=1e-6\n",
    "    ).fit(model_probs)\n",
    "    clusters = kmeans.cluster_centers_\n",
    "    cluster_ids = kmeans.predict(model_probs)\n",
    "\n",
    "    # First dimension of clusters is cluster number.\n",
    "    # Construct a sort key that is the rank of each element,\n",
    "    # appended with cluster number.\n",
    "    sort_keys = [\n",
    "        tuple(np.argsort(clusters[i])[::-1]) + (i,) for i in range(clusters.shape[0])\n",
    "    ]\n",
    "    sort_order = [t[-1] for t in sorted(sort_keys)]\n",
    "    sorted_clusters = clusters[sort_order]\n",
    "\n",
    "    inverted_sort_order = np.zeros_like(sort_order)\n",
    "    for i in range(len(sort_order)):\n",
    "        inverted_sort_order[sort_order[i]] = i\n",
    "    sorted_cluster_ids = inverted_sort_order[cluster_ids]\n",
    "\n",
    "    return sorted_cluster_ids, sorted_clusters\n",
    "\n",
    "\n",
    "def add_clusters_col(df: pd.DataFrame, num_clusters: int):\n",
    "    \"\"\"\n",
    "    :param df: DataFrame containing one vector of class probabilities per row\n",
    "     in a column called \"probs\"\n",
    "    :param num_clusters: Number of clusters to divide the probabilities into\n",
    "\n",
    "    :returns: A copy of `df` with a new (or replaced) column called \"c_{num_clusters}\"\n",
    "     containing cluster IDs for the requested clustering\n",
    "    \"\"\"\n",
    "    df = df.copy()\n",
    "    cluster_ids, _ = make_clusters(df[\"probs\"].to_numpy(), num_clusters)\n",
    "    df[f\"c_{num_clusters}\"] = cluster_ids\n",
    "    return df\n",
    "\n",
    "\n",
    "clusters = add_clusters_col(c_test, 10)\n",
    "clusters"
   ]
  },
  {
   "cell_type": "markdown",
   "id": "f0c3443b-78f1-4939-b17c-941b3c430a5e",
   "metadata": {},
   "source": [
    "10 clusters should naturally lead to each cluster holding examples that the model placed into a single class. Let's eyeball some results."
   ]
  },
  {
   "cell_type": "code",
   "execution_count": 19,
   "id": "97c72c27-a856-4499-a22b-f07835f1b96e",
   "metadata": {},
   "outputs": [
    {
     "data": {
      "text/html": [
       "<div>\n",
       "<style scoped>\n",
       "    .dataframe tbody tr th:only-of-type {\n",
       "        vertical-align: middle;\n",
       "    }\n",
       "\n",
       "    .dataframe tbody tr th {\n",
       "        vertical-align: top;\n",
       "    }\n",
       "\n",
       "    .dataframe thead th {\n",
       "        text-align: right;\n",
       "    }\n",
       "</style>\n",
       "<table border=\"1\" class=\"dataframe\">\n",
       "  <thead>\n",
       "    <tr style=\"text-align: right;\">\n",
       "      <th></th>\n",
       "      <th>id</th>\n",
       "      <th>probs</th>\n",
       "      <th>label</th>\n",
       "      <th>label_prob</th>\n",
       "      <th>top1</th>\n",
       "      <th>top1_prob</th>\n",
       "      <th>top5</th>\n",
       "      <th>top5_match</th>\n",
       "      <th>c_10</th>\n",
       "    </tr>\n",
       "  </thead>\n",
       "  <tbody>\n",
       "    <tr>\n",
       "      <th>12</th>\n",
       "      <td>12</td>\n",
       "      <td>[  0.003423826629608556,   0.00393293374360110...</td>\n",
       "      <td>5</td>\n",
       "      <td>0.927703</td>\n",
       "      <td>5</td>\n",
       "      <td>0.927703</td>\n",
       "      <td>[5, 3, 7, 4, 6]</td>\n",
       "      <td>True</td>\n",
       "      <td>5</td>\n",
       "    </tr>\n",
       "    <tr>\n",
       "      <th>16</th>\n",
       "      <td>16</td>\n",
       "      <td>[  0.002930540281976007,   0.00286885334888248...</td>\n",
       "      <td>5</td>\n",
       "      <td>0.951841</td>\n",
       "      <td>5</td>\n",
       "      <td>0.951841</td>\n",
       "      <td>[5, 7, 6, 2, 4]</td>\n",
       "      <td>True</td>\n",
       "      <td>5</td>\n",
       "    </tr>\n",
       "    <tr>\n",
       "      <th>24</th>\n",
       "      <td>24</td>\n",
       "      <td>[ 0.0005795539927787086,  0.000979128718453004...</td>\n",
       "      <td>5</td>\n",
       "      <td>0.983849</td>\n",
       "      <td>5</td>\n",
       "      <td>0.983849</td>\n",
       "      <td>[5, 3, 4, 1, 9]</td>\n",
       "      <td>True</td>\n",
       "      <td>5</td>\n",
       "    </tr>\n",
       "    <tr>\n",
       "      <th>31</th>\n",
       "      <td>31</td>\n",
       "      <td>[  0.001345639491229316,  0.001626018364684382...</td>\n",
       "      <td>5</td>\n",
       "      <td>0.983316</td>\n",
       "      <td>5</td>\n",
       "      <td>0.983316</td>\n",
       "      <td>[5, 6, 2, 4, 7]</td>\n",
       "      <td>True</td>\n",
       "      <td>5</td>\n",
       "    </tr>\n",
       "    <tr>\n",
       "      <th>33</th>\n",
       "      <td>33</td>\n",
       "      <td>[  0.001691865895800718,  0.001481394840513017...</td>\n",
       "      <td>5</td>\n",
       "      <td>0.969552</td>\n",
       "      <td>5</td>\n",
       "      <td>0.969552</td>\n",
       "      <td>[5, 2, 4, 8, 7]</td>\n",
       "      <td>True</td>\n",
       "      <td>5</td>\n",
       "    </tr>\n",
       "    <tr>\n",
       "      <th>39</th>\n",
       "      <td>39</td>\n",
       "      <td>[  0.002429169290115843,  0.002685917468413320...</td>\n",
       "      <td>5</td>\n",
       "      <td>0.971479</td>\n",
       "      <td>5</td>\n",
       "      <td>0.971479</td>\n",
       "      <td>[5, 7, 3, 2, 9]</td>\n",
       "      <td>True</td>\n",
       "      <td>5</td>\n",
       "    </tr>\n",
       "    <tr>\n",
       "      <th>42</th>\n",
       "      <td>42</td>\n",
       "      <td>[ 0.0013007750600714356,  0.000770994132128651...</td>\n",
       "      <td>5</td>\n",
       "      <td>0.992657</td>\n",
       "      <td>5</td>\n",
       "      <td>0.992657</td>\n",
       "      <td>[5, 0, 3, 7, 4]</td>\n",
       "      <td>True</td>\n",
       "      <td>5</td>\n",
       "    </tr>\n",
       "  </tbody>\n",
       "</table>\n",
       "</div>"
      ],
      "text/plain": [
       "    id                                              probs  label  label_prob  \\\n",
       "12  12  [  0.003423826629608556,   0.00393293374360110...      5    0.927703   \n",
       "16  16  [  0.002930540281976007,   0.00286885334888248...      5    0.951841   \n",
       "24  24  [ 0.0005795539927787086,  0.000979128718453004...      5    0.983849   \n",
       "31  31  [  0.001345639491229316,  0.001626018364684382...      5    0.983316   \n",
       "33  33  [  0.001691865895800718,  0.001481394840513017...      5    0.969552   \n",
       "39  39  [  0.002429169290115843,  0.002685917468413320...      5    0.971479   \n",
       "42  42  [ 0.0013007750600714356,  0.000770994132128651...      5    0.992657   \n",
       "\n",
       "    top1  top1_prob             top5  top5_match  c_10  \n",
       "12     5   0.927703  [5, 3, 7, 4, 6]        True     5  \n",
       "16     5   0.951841  [5, 7, 6, 2, 4]        True     5  \n",
       "24     5   0.983849  [5, 3, 4, 1, 9]        True     5  \n",
       "31     5   0.983316  [5, 6, 2, 4, 7]        True     5  \n",
       "33     5   0.969552  [5, 2, 4, 8, 7]        True     5  \n",
       "39     5   0.971479  [5, 7, 3, 2, 9]        True     5  \n",
       "42     5   0.992657  [5, 0, 3, 7, 4]        True     5  "
      ]
     },
     "execution_count": 19,
     "metadata": {},
     "output_type": "execute_result"
    }
   ],
   "source": [
    "clusters[clusters[\"c_10\"] == 5].head(7)"
   ]
  },
  {
   "cell_type": "code",
   "execution_count": 20,
   "id": "bc96ed76-897d-47a1-9744-e4abdee16f4f",
   "metadata": {},
   "outputs": [
    {
     "data": {
      "text/html": [
       "<div>\n",
       "<style scoped>\n",
       "    .dataframe tbody tr th:only-of-type {\n",
       "        vertical-align: middle;\n",
       "    }\n",
       "\n",
       "    .dataframe tbody tr th {\n",
       "        vertical-align: top;\n",
       "    }\n",
       "\n",
       "    .dataframe thead th {\n",
       "        text-align: right;\n",
       "    }\n",
       "</style>\n",
       "<table border=\"1\" class=\"dataframe\">\n",
       "  <thead>\n",
       "    <tr style=\"text-align: right;\">\n",
       "      <th></th>\n",
       "      <th></th>\n",
       "      <th>count</th>\n",
       "    </tr>\n",
       "    <tr>\n",
       "      <th>c_10</th>\n",
       "      <th>top1</th>\n",
       "      <th></th>\n",
       "    </tr>\n",
       "  </thead>\n",
       "  <tbody>\n",
       "    <tr>\n",
       "      <th rowspan=\"3\" valign=\"top\">0</th>\n",
       "      <th>0</th>\n",
       "      <td>1004</td>\n",
       "    </tr>\n",
       "    <tr>\n",
       "      <th>8</th>\n",
       "      <td>1</td>\n",
       "    </tr>\n",
       "    <tr>\n",
       "      <th>9</th>\n",
       "      <td>1</td>\n",
       "    </tr>\n",
       "    <tr>\n",
       "      <th>1</th>\n",
       "      <th>1</th>\n",
       "      <td>1009</td>\n",
       "    </tr>\n",
       "    <tr>\n",
       "      <th rowspan=\"2\" valign=\"top\">2</th>\n",
       "      <th>2</th>\n",
       "      <td>985</td>\n",
       "    </tr>\n",
       "    <tr>\n",
       "      <th>7</th>\n",
       "      <td>1</td>\n",
       "    </tr>\n",
       "    <tr>\n",
       "      <th rowspan=\"3\" valign=\"top\">3</th>\n",
       "      <th>2</th>\n",
       "      <td>1</td>\n",
       "    </tr>\n",
       "    <tr>\n",
       "      <th>3</th>\n",
       "      <td>969</td>\n",
       "    </tr>\n",
       "    <tr>\n",
       "      <th>5</th>\n",
       "      <td>1</td>\n",
       "    </tr>\n",
       "    <tr>\n",
       "      <th rowspan=\"2\" valign=\"top\">4</th>\n",
       "      <th>4</th>\n",
       "      <td>1038</td>\n",
       "    </tr>\n",
       "    <tr>\n",
       "      <th>7</th>\n",
       "      <td>1</td>\n",
       "    </tr>\n",
       "    <tr>\n",
       "      <th rowspan=\"2\" valign=\"top\">5</th>\n",
       "      <th>2</th>\n",
       "      <td>1</td>\n",
       "    </tr>\n",
       "    <tr>\n",
       "      <th>5</th>\n",
       "      <td>997</td>\n",
       "    </tr>\n",
       "    <tr>\n",
       "      <th>6</th>\n",
       "      <th>6</th>\n",
       "      <td>1018</td>\n",
       "    </tr>\n",
       "    <tr>\n",
       "      <th>7</th>\n",
       "      <th>7</th>\n",
       "      <td>968</td>\n",
       "    </tr>\n",
       "    <tr>\n",
       "      <th>8</th>\n",
       "      <th>8</th>\n",
       "      <td>999</td>\n",
       "    </tr>\n",
       "    <tr>\n",
       "      <th>9</th>\n",
       "      <th>9</th>\n",
       "      <td>1006</td>\n",
       "    </tr>\n",
       "  </tbody>\n",
       "</table>\n",
       "</div>"
      ],
      "text/plain": [
       "           count\n",
       "c_10 top1       \n",
       "0    0      1004\n",
       "     8         1\n",
       "     9         1\n",
       "1    1      1009\n",
       "2    2       985\n",
       "     7         1\n",
       "3    2         1\n",
       "     3       969\n",
       "     5         1\n",
       "4    4      1038\n",
       "     7         1\n",
       "5    2         1\n",
       "     5       997\n",
       "6    6      1018\n",
       "7    7       968\n",
       "8    8       999\n",
       "9    9      1006"
      ]
     },
     "execution_count": 20,
     "metadata": {},
     "output_type": "execute_result"
    }
   ],
   "source": [
    "clusters.groupby([\"c_10\", \"top1\"]).agg({\"id\": \"count\"}).rename(columns={\"id\": \"count\"})"
   ]
  },
  {
   "cell_type": "code",
   "execution_count": 21,
   "id": "3abab3a9-7c90-45c3-a580-2d514a12914f",
   "metadata": {},
   "outputs": [
    {
     "name": "stdout",
     "output_type": "stream",
     "text": [
      "Image 5576:\n"
     ]
    },
    {
     "data": {
      "image/png": "[encoded data removed]",
      "text/plain": [
       "<IPython.core.display.Image object>"
      ]
     },
     "metadata": {},
     "output_type": "display_data"
    },
    {
     "name": "stdout",
     "output_type": "stream",
     "text": [
      "Corpus label: 5 ==> dog\n",
      "Top 5 results: [5 4 2 6 9] ==> ['dog', 'deer', 'bird', 'frog', 'truck']\n",
      "Image 3949:\n"
     ]
    },
    {
     "data": {
      "image/png": "[encoded data removed]",
      "text/plain": [
       "<IPython.core.display.Image object>"
      ]
     },
     "metadata": {},
     "output_type": "display_data"
    },
    {
     "name": "stdout",
     "output_type": "stream",
     "text": [
      "Corpus label: 5 ==> dog\n",
      "Top 5 results: [5 3 6 7 2] ==> ['dog', 'cat', 'frog', 'horse', 'bird']\n",
      "Image 6092:\n"
     ]
    },
    {
     "data": {
      "image/png": "[encoded data removed]",
      "text/plain": [
       "<IPython.core.display.Image object>"
      ]
     },
     "metadata": {},
     "output_type": "display_data"
    },
    {
     "name": "stdout",
     "output_type": "stream",
     "text": [
      "Corpus label: 5 ==> dog\n",
      "Top 5 results: [5 6 3 7 9] ==> ['dog', 'frog', 'cat', 'horse', 'truck']\n",
      "Image 9540:\n"
     ]
    },
    {
     "data": {
      "image/png": "[encoded data removed]",
      "text/plain": [
       "<IPython.core.display.Image object>"
      ]
     },
     "metadata": {},
     "output_type": "display_data"
    },
    {
     "name": "stdout",
     "output_type": "stream",
     "text": [
      "Corpus label: 5 ==> dog\n",
      "Top 5 results: [5 2 7 4 6] ==> ['dog', 'bird', 'horse', 'deer', 'frog']\n",
      "Image 6389:\n"
     ]
    },
    {
     "data": {
      "image/png": "[encoded data removed]",
      "text/plain": [
       "<IPython.core.display.Image object>"
      ]
     },
     "metadata": {},
     "output_type": "display_data"
    },
    {
     "name": "stdout",
     "output_type": "stream",
     "text": [
      "Corpus label: 5 ==> dog\n",
      "Top 5 results: [5 3 7 8 4] ==> ['dog', 'cat', 'horse', 'ship', 'deer']\n"
     ]
    }
   ],
   "source": [
    "def result_report(df: pd.DataFrame, fold_data, index_id: int = None):\n",
    "    \"\"\"\n",
    "    Generate a report on a particular model result.\n",
    "\n",
    "    :param df: DataFrame of model results as returned by `make_results()`.\n",
    "     Must have the following columns:\n",
    "     * `id`: Index into `fold_data` of the input data element\n",
    "     * `top5`: Top 5 results from the model\n",
    "     * `label`: Label from the source data, for validation\n",
    "    :param fold_data:  Data structure containing source data for the fold.\n",
    "    :param index_id: Value of the index of `df` for the row containing\n",
    "     the result in question\n",
    "    \"\"\"\n",
    "    row = df.loc[index_id]\n",
    "    element_id = row[\"id\"]\n",
    "    image, label = fold_data[element_id]\n",
    "\n",
    "    # Sanity check: Make sure the labels match up\n",
    "    if label != row[\"label\"]:\n",
    "        raise ValueError(f\"Labels don't match ({label} != {row['label']}\")\n",
    "\n",
    "    top5 = row[\"top5\"].to_numpy()\n",
    "    print(f\"Image {element_id}:\")\n",
    "    IPython.display.display(IPython.display.Image(data=image._repr_png_()))\n",
    "    print(f\"Corpus label: {label} ==> {fold_data.classes[label]}\")\n",
    "    print(f\"Top 5 results: {top5} ==> {[fold_data.classes[l] for l in top5]}\")\n",
    "\n",
    "\n",
    "def results_report(df: pd.DataFrame):\n",
    "    for ix in df.index:\n",
    "        result_report(df, cifar10_test, ix)\n",
    "\n",
    "results_report(clusters[clusters[\"c_10\"] == 5].sample(5))"
   ]
  },
  {
   "cell_type": "markdown",
   "id": "e8ac3aad-18ad-4a36-b609-3736d34ecabb",
   "metadata": {},
   "source": [
    "### More clusters\n",
    "\n",
    "If we group the class probabilities into more than 10 clusters, some of the classes should end up getting split into sub-classes."
   ]
  },
  {
   "cell_type": "code",
   "execution_count": 22,
   "id": "aecbc83c-4af9-4ce4-b013-9624a35e95b8",
   "metadata": {},
   "outputs": [
    {
     "data": {
      "text/html": [
       "<div>\n",
       "<style scoped>\n",
       "    .dataframe tbody tr th:only-of-type {\n",
       "        vertical-align: middle;\n",
       "    }\n",
       "\n",
       "    .dataframe tbody tr th {\n",
       "        vertical-align: top;\n",
       "    }\n",
       "\n",
       "    .dataframe thead th {\n",
       "        text-align: right;\n",
       "    }\n",
       "</style>\n",
       "<table border=\"1\" class=\"dataframe\">\n",
       "  <thead>\n",
       "    <tr style=\"text-align: right;\">\n",
       "      <th></th>\n",
       "      <th>id</th>\n",
       "      <th>probs</th>\n",
       "      <th>label</th>\n",
       "      <th>label_prob</th>\n",
       "      <th>top1</th>\n",
       "      <th>top1_prob</th>\n",
       "      <th>top5</th>\n",
       "      <th>top5_match</th>\n",
       "      <th>c_10</th>\n",
       "      <th>c_20</th>\n",
       "      <th>c_50</th>\n",
       "      <th>c_100</th>\n",
       "    </tr>\n",
       "  </thead>\n",
       "  <tbody>\n",
       "    <tr>\n",
       "      <th>0</th>\n",
       "      <td>0</td>\n",
       "      <td>[ 9.324214151936674e-05,  0.000237297089221795...</td>\n",
       "      <td>3</td>\n",
       "      <td>0.998793</td>\n",
       "      <td>3</td>\n",
       "      <td>0.998793</td>\n",
       "      <td>[3, 8, 1, 2, 4]</td>\n",
       "      <td>True</td>\n",
       "      <td>3</td>\n",
       "      <td>6</td>\n",
       "      <td>18</td>\n",
       "      <td>36</td>\n",
       "    </tr>\n",
       "    <tr>\n",
       "      <th>1</th>\n",
       "      <td>1</td>\n",
       "      <td>[  0.006146121307375569,   0.00580862711389710...</td>\n",
       "      <td>8</td>\n",
       "      <td>0.961217</td>\n",
       "      <td>8</td>\n",
       "      <td>0.961217</td>\n",
       "      <td>[8, 0, 1, 6, 3]</td>\n",
       "      <td>True</td>\n",
       "      <td>8</td>\n",
       "      <td>17</td>\n",
       "      <td>44</td>\n",
       "      <td>86</td>\n",
       "    </tr>\n",
       "    <tr>\n",
       "      <th>2</th>\n",
       "      <td>2</td>\n",
       "      <td>[  0.014238712139555383,     0.577040633698757...</td>\n",
       "      <td>8</td>\n",
       "      <td>0.366036</td>\n",
       "      <td>1</td>\n",
       "      <td>0.577041</td>\n",
       "      <td>[1, 8, 0, 9, 2]</td>\n",
       "      <td>True</td>\n",
       "      <td>1</td>\n",
       "      <td>3</td>\n",
       "      <td>6</td>\n",
       "      <td>14</td>\n",
       "    </tr>\n",
       "    <tr>\n",
       "      <th>3</th>\n",
       "      <td>3</td>\n",
       "      <td>[    0.8648255592974857,   0.00994625824493783...</td>\n",
       "      <td>0</td>\n",
       "      <td>0.864826</td>\n",
       "      <td>0</td>\n",
       "      <td>0.864826</td>\n",
       "      <td>[0, 3, 2, 9, 8]</td>\n",
       "      <td>True</td>\n",
       "      <td>0</td>\n",
       "      <td>1</td>\n",
       "      <td>2</td>\n",
       "      <td>6</td>\n",
       "    </tr>\n",
       "    <tr>\n",
       "      <th>4</th>\n",
       "      <td>4</td>\n",
       "      <td>[ 0.0006253539875008178,     0.001303845829813...</td>\n",
       "      <td>6</td>\n",
       "      <td>0.990238</td>\n",
       "      <td>6</td>\n",
       "      <td>0.990238</td>\n",
       "      <td>[6, 4, 2, 1, 3]</td>\n",
       "      <td>True</td>\n",
       "      <td>6</td>\n",
       "      <td>13</td>\n",
       "      <td>35</td>\n",
       "      <td>72</td>\n",
       "    </tr>\n",
       "    <tr>\n",
       "      <th>...</th>\n",
       "      <td>...</td>\n",
       "      <td>...</td>\n",
       "      <td>...</td>\n",
       "      <td>...</td>\n",
       "      <td>...</td>\n",
       "      <td>...</td>\n",
       "      <td>...</td>\n",
       "      <td>...</td>\n",
       "      <td>...</td>\n",
       "      <td>...</td>\n",
       "      <td>...</td>\n",
       "      <td>...</td>\n",
       "    </tr>\n",
       "    <tr>\n",
       "      <th>9995</th>\n",
       "      <td>9995</td>\n",
       "      <td>[   0.00441212176824998,   0.00214001242323343...</td>\n",
       "      <td>8</td>\n",
       "      <td>0.966744</td>\n",
       "      <td>8</td>\n",
       "      <td>0.966744</td>\n",
       "      <td>[8, 5, 0, 4, 3]</td>\n",
       "      <td>True</td>\n",
       "      <td>8</td>\n",
       "      <td>17</td>\n",
       "      <td>44</td>\n",
       "      <td>86</td>\n",
       "    </tr>\n",
       "    <tr>\n",
       "      <th>9996</th>\n",
       "      <td>9996</td>\n",
       "      <td>[  0.001236129401929248,   0.00158755666638597...</td>\n",
       "      <td>3</td>\n",
       "      <td>0.971884</td>\n",
       "      <td>3</td>\n",
       "      <td>0.971884</td>\n",
       "      <td>[3, 4, 2, 5, 6]</td>\n",
       "      <td>True</td>\n",
       "      <td>3</td>\n",
       "      <td>6</td>\n",
       "      <td>18</td>\n",
       "      <td>36</td>\n",
       "    </tr>\n",
       "    <tr>\n",
       "      <th>9997</th>\n",
       "      <td>9997</td>\n",
       "      <td>[ 0.0031452989990810214,   0.00600395515443142...</td>\n",
       "      <td>5</td>\n",
       "      <td>0.957697</td>\n",
       "      <td>5</td>\n",
       "      <td>0.957697</td>\n",
       "      <td>[5, 1, 2, 7, 3]</td>\n",
       "      <td>True</td>\n",
       "      <td>5</td>\n",
       "      <td>10</td>\n",
       "      <td>32</td>\n",
       "      <td>64</td>\n",
       "    </tr>\n",
       "    <tr>\n",
       "      <th>9998</th>\n",
       "      <td>9998</td>\n",
       "      <td>[  0.001472712483878206,     0.991317488106108...</td>\n",
       "      <td>1</td>\n",
       "      <td>0.991317</td>\n",
       "      <td>1</td>\n",
       "      <td>0.991317</td>\n",
       "      <td>[1, 0, 6, 9, 2]</td>\n",
       "      <td>True</td>\n",
       "      <td>1</td>\n",
       "      <td>2</td>\n",
       "      <td>7</td>\n",
       "      <td>15</td>\n",
       "    </tr>\n",
       "    <tr>\n",
       "      <th>9999</th>\n",
       "      <td>9999</td>\n",
       "      <td>[ 0.0013874378333969873,   0.00119982514276869...</td>\n",
       "      <td>7</td>\n",
       "      <td>0.987044</td>\n",
       "      <td>7</td>\n",
       "      <td>0.987044</td>\n",
       "      <td>[7, 4, 5, 6, 9]</td>\n",
       "      <td>True</td>\n",
       "      <td>7</td>\n",
       "      <td>14</td>\n",
       "      <td>40</td>\n",
       "      <td>81</td>\n",
       "    </tr>\n",
       "  </tbody>\n",
       "</table>\n",
       "<p>10000 rows × 12 columns</p>\n",
       "</div>"
      ],
      "text/plain": [
       "        id                                              probs  label  \\\n",
       "0        0  [ 9.324214151936674e-05,  0.000237297089221795...      3   \n",
       "1        1  [  0.006146121307375569,   0.00580862711389710...      8   \n",
       "2        2  [  0.014238712139555383,     0.577040633698757...      8   \n",
       "3        3  [    0.8648255592974857,   0.00994625824493783...      0   \n",
       "4        4  [ 0.0006253539875008178,     0.001303845829813...      6   \n",
       "...    ...                                                ...    ...   \n",
       "9995  9995  [   0.00441212176824998,   0.00214001242323343...      8   \n",
       "9996  9996  [  0.001236129401929248,   0.00158755666638597...      3   \n",
       "9997  9997  [ 0.0031452989990810214,   0.00600395515443142...      5   \n",
       "9998  9998  [  0.001472712483878206,     0.991317488106108...      1   \n",
       "9999  9999  [ 0.0013874378333969873,   0.00119982514276869...      7   \n",
       "\n",
       "      label_prob  top1  top1_prob             top5  top5_match  c_10  c_20  \\\n",
       "0       0.998793     3   0.998793  [3, 8, 1, 2, 4]        True     3     6   \n",
       "1       0.961217     8   0.961217  [8, 0, 1, 6, 3]        True     8    17   \n",
       "2       0.366036     1   0.577041  [1, 8, 0, 9, 2]        True     1     3   \n",
       "3       0.864826     0   0.864826  [0, 3, 2, 9, 8]        True     0     1   \n",
       "4       0.990238     6   0.990238  [6, 4, 2, 1, 3]        True     6    13   \n",
       "...          ...   ...        ...              ...         ...   ...   ...   \n",
       "9995    0.966744     8   0.966744  [8, 5, 0, 4, 3]        True     8    17   \n",
       "9996    0.971884     3   0.971884  [3, 4, 2, 5, 6]        True     3     6   \n",
       "9997    0.957697     5   0.957697  [5, 1, 2, 7, 3]        True     5    10   \n",
       "9998    0.991317     1   0.991317  [1, 0, 6, 9, 2]        True     1     2   \n",
       "9999    0.987044     7   0.987044  [7, 4, 5, 6, 9]        True     7    14   \n",
       "\n",
       "      c_50  c_100  \n",
       "0       18     36  \n",
       "1       44     86  \n",
       "2        6     14  \n",
       "3        2      6  \n",
       "4       35     72  \n",
       "...    ...    ...  \n",
       "9995    44     86  \n",
       "9996    18     36  \n",
       "9997    32     64  \n",
       "9998     7     15  \n",
       "9999    40     81  \n",
       "\n",
       "[10000 rows x 12 columns]"
      ]
     },
     "execution_count": 22,
     "metadata": {},
     "output_type": "execute_result"
    }
   ],
   "source": [
    "for num_clusters in (20, 50, 100):\n",
    "    clusters = add_clusters_col(clusters, num_clusters)\n",
    "clusters"
   ]
  },
  {
   "cell_type": "code",
   "execution_count": 23,
   "id": "d07ede7c-939d-41ca-8fbb-95fcac728693",
   "metadata": {},
   "outputs": [
    {
     "data": {
      "text/html": [
       "<div>\n",
       "<style scoped>\n",
       "    .dataframe tbody tr th:only-of-type {\n",
       "        vertical-align: middle;\n",
       "    }\n",
       "\n",
       "    .dataframe tbody tr th {\n",
       "        vertical-align: top;\n",
       "    }\n",
       "\n",
       "    .dataframe thead th {\n",
       "        text-align: right;\n",
       "    }\n",
       "</style>\n",
       "<table border=\"1\" class=\"dataframe\">\n",
       "  <thead>\n",
       "    <tr style=\"text-align: right;\">\n",
       "      <th></th>\n",
       "      <th></th>\n",
       "      <th>count</th>\n",
       "    </tr>\n",
       "    <tr>\n",
       "      <th>c_20</th>\n",
       "      <th>top1</th>\n",
       "      <th></th>\n",
       "    </tr>\n",
       "  </thead>\n",
       "  <tbody>\n",
       "    <tr>\n",
       "      <th rowspan=\"2\" valign=\"top\">0</th>\n",
       "      <th>0</th>\n",
       "      <td>85</td>\n",
       "    </tr>\n",
       "    <tr>\n",
       "      <th>9</th>\n",
       "      <td>1</td>\n",
       "    </tr>\n",
       "    <tr>\n",
       "      <th>1</th>\n",
       "      <th>0</th>\n",
       "      <td>915</td>\n",
       "    </tr>\n",
       "    <tr>\n",
       "      <th>2</th>\n",
       "      <th>1</th>\n",
       "      <td>961</td>\n",
       "    </tr>\n",
       "    <tr>\n",
       "      <th rowspan=\"2\" valign=\"top\">3</th>\n",
       "      <th>1</th>\n",
       "      <td>46</td>\n",
       "    </tr>\n",
       "    <tr>\n",
       "      <th>9</th>\n",
       "      <td>1</td>\n",
       "    </tr>\n",
       "    <tr>\n",
       "      <th>4</th>\n",
       "      <th>2</th>\n",
       "      <td>883</td>\n",
       "    </tr>\n",
       "    <tr>\n",
       "      <th>5</th>\n",
       "      <th>2</th>\n",
       "      <td>102</td>\n",
       "    </tr>\n",
       "    <tr>\n",
       "      <th>6</th>\n",
       "      <th>3</th>\n",
       "      <td>818</td>\n",
       "    </tr>\n",
       "    <tr>\n",
       "      <th>7</th>\n",
       "      <th>3</th>\n",
       "      <td>142</td>\n",
       "    </tr>\n",
       "    <tr>\n",
       "      <th rowspan=\"2\" valign=\"top\">8</th>\n",
       "      <th>2</th>\n",
       "      <td>2</td>\n",
       "    </tr>\n",
       "    <tr>\n",
       "      <th>4</th>\n",
       "      <td>96</td>\n",
       "    </tr>\n",
       "    <tr>\n",
       "      <th>9</th>\n",
       "      <th>4</th>\n",
       "      <td>940</td>\n",
       "    </tr>\n",
       "    <tr>\n",
       "      <th>10</th>\n",
       "      <th>5</th>\n",
       "      <td>904</td>\n",
       "    </tr>\n",
       "    <tr>\n",
       "      <th rowspan=\"4\" valign=\"top\">11</th>\n",
       "      <th>0</th>\n",
       "      <td>1</td>\n",
       "    </tr>\n",
       "    <tr>\n",
       "      <th>3</th>\n",
       "      <td>7</td>\n",
       "    </tr>\n",
       "    <tr>\n",
       "      <th>4</th>\n",
       "      <td>1</td>\n",
       "    </tr>\n",
       "    <tr>\n",
       "      <th>5</th>\n",
       "      <td>93</td>\n",
       "    </tr>\n",
       "    <tr>\n",
       "      <th rowspan=\"2\" valign=\"top\">12</th>\n",
       "      <th>3</th>\n",
       "      <td>1</td>\n",
       "    </tr>\n",
       "    <tr>\n",
       "      <th>6</th>\n",
       "      <td>72</td>\n",
       "    </tr>\n",
       "    <tr>\n",
       "      <th>13</th>\n",
       "      <th>6</th>\n",
       "      <td>946</td>\n",
       "    </tr>\n",
       "    <tr>\n",
       "      <th>14</th>\n",
       "      <th>7</th>\n",
       "      <td>912</td>\n",
       "    </tr>\n",
       "    <tr>\n",
       "      <th rowspan=\"4\" valign=\"top\">15</th>\n",
       "      <th>3</th>\n",
       "      <td>1</td>\n",
       "    </tr>\n",
       "    <tr>\n",
       "      <th>4</th>\n",
       "      <td>1</td>\n",
       "    </tr>\n",
       "    <tr>\n",
       "      <th>5</th>\n",
       "      <td>1</td>\n",
       "    </tr>\n",
       "    <tr>\n",
       "      <th>7</th>\n",
       "      <td>58</td>\n",
       "    </tr>\n",
       "    <tr>\n",
       "      <th rowspan=\"3\" valign=\"top\">16</th>\n",
       "      <th>0</th>\n",
       "      <td>3</td>\n",
       "    </tr>\n",
       "    <tr>\n",
       "      <th>1</th>\n",
       "      <td>2</td>\n",
       "    </tr>\n",
       "    <tr>\n",
       "      <th>8</th>\n",
       "      <td>49</td>\n",
       "    </tr>\n",
       "    <tr>\n",
       "      <th>17</th>\n",
       "      <th>8</th>\n",
       "      <td>951</td>\n",
       "    </tr>\n",
       "    <tr>\n",
       "      <th>18</th>\n",
       "      <th>9</th>\n",
       "      <td>70</td>\n",
       "    </tr>\n",
       "    <tr>\n",
       "      <th>19</th>\n",
       "      <th>9</th>\n",
       "      <td>935</td>\n",
       "    </tr>\n",
       "  </tbody>\n",
       "</table>\n",
       "</div>"
      ],
      "text/plain": [
       "           count\n",
       "c_20 top1       \n",
       "0    0        85\n",
       "     9         1\n",
       "1    0       915\n",
       "2    1       961\n",
       "3    1        46\n",
       "     9         1\n",
       "4    2       883\n",
       "5    2       102\n",
       "6    3       818\n",
       "7    3       142\n",
       "8    2         2\n",
       "     4        96\n",
       "9    4       940\n",
       "10   5       904\n",
       "11   0         1\n",
       "     3         7\n",
       "     4         1\n",
       "     5        93\n",
       "12   3         1\n",
       "     6        72\n",
       "13   6       946\n",
       "14   7       912\n",
       "15   3         1\n",
       "     4         1\n",
       "     5         1\n",
       "     7        58\n",
       "16   0         3\n",
       "     1         2\n",
       "     8        49\n",
       "17   8       951\n",
       "18   9        70\n",
       "19   9       935"
      ]
     },
     "execution_count": 23,
     "metadata": {},
     "output_type": "execute_result"
    }
   ],
   "source": [
    "clusters.groupby([\"c_20\", \"top1\"]).agg({\"id\": \"count\"}).rename(columns={\"id\": \"count\"})"
   ]
  },
  {
   "cell_type": "code",
   "execution_count": 24,
   "id": "ad846be5-3a5b-4ba1-99d3-5abdedf86494",
   "metadata": {},
   "outputs": [
    {
     "name": "stdout",
     "output_type": "stream",
     "text": [
      "Image 9983:\n"
     ]
    },
    {
     "data": {
      "image/png": "[encoded data removed]",
      "text/plain": [
       "<IPython.core.display.Image object>"
      ]
     },
     "metadata": {},
     "output_type": "display_data"
    },
    {
     "name": "stdout",
     "output_type": "stream",
     "text": [
      "Corpus label: 0 ==> airplane\n",
      "Top 5 results: [0 1 7 8 6] ==> ['airplane', 'automobile', 'horse', 'ship', 'frog']\n",
      "Image 2136:\n"
     ]
    },
    {
     "data": {
      "image/png": "[encoded data removed]",
      "text/plain": [
       "<IPython.core.display.Image object>"
      ]
     },
     "metadata": {},
     "output_type": "display_data"
    },
    {
     "name": "stdout",
     "output_type": "stream",
     "text": [
      "Corpus label: 0 ==> airplane\n",
      "Top 5 results: [0 9 8 7 1] ==> ['airplane', 'truck', 'ship', 'horse', 'automobile']\n",
      "Image 4038:\n"
     ]
    },
    {
     "data": {
      "image/png": "[encoded data removed]",
      "text/plain": [
       "<IPython.core.display.Image object>"
      ]
     },
     "metadata": {},
     "output_type": "display_data"
    },
    {
     "name": "stdout",
     "output_type": "stream",
     "text": [
      "Corpus label: 0 ==> airplane\n",
      "Top 5 results: [0 9 8 1 5] ==> ['airplane', 'truck', 'ship', 'automobile', 'dog']\n",
      "Image 8898:\n"
     ]
    },
    {
     "data": {
      "image/png": "[encoded data removed]",
      "text/plain": [
       "<IPython.core.display.Image object>"
      ]
     },
     "metadata": {},
     "output_type": "display_data"
    },
    {
     "name": "stdout",
     "output_type": "stream",
     "text": [
      "Corpus label: 7 ==> horse\n",
      "Top 5 results: [0 7 2 8 4] ==> ['airplane', 'horse', 'bird', 'ship', 'deer']\n",
      "Image 6284:\n"
     ]
    },
    {
     "data": {
      "image/png": "[encoded data removed]",
      "text/plain": [
       "<IPython.core.display.Image object>"
      ]
     },
     "metadata": {},
     "output_type": "display_data"
    },
    {
     "name": "stdout",
     "output_type": "stream",
     "text": [
      "Corpus label: 0 ==> airplane\n",
      "Top 5 results: [0 7 2 3 4] ==> ['airplane', 'horse', 'bird', 'cat', 'deer']\n"
     ]
    }
   ],
   "source": [
    "results_report(clusters[clusters[\"c_20\"] == 0].sample(5))"
   ]
  },
  {
   "cell_type": "code",
   "execution_count": 25,
   "id": "40e4a4cf-d4a9-40b9-94f1-83ec00238fa4",
   "metadata": {},
   "outputs": [
    {
     "name": "stdout",
     "output_type": "stream",
     "text": [
      "Image 8857:\n"
     ]
    },
    {
     "data": {
      "image/png": "[encoded data removed]",
      "text/plain": [
       "<IPython.core.display.Image object>"
      ]
     },
     "metadata": {},
     "output_type": "display_data"
    },
    {
     "name": "stdout",
     "output_type": "stream",
     "text": [
      "Corpus label: 0 ==> airplane\n",
      "Top 5 results: [0 8 9 7 2] ==> ['airplane', 'ship', 'truck', 'horse', 'bird']\n",
      "Image 8163:\n"
     ]
    },
    {
     "data": {
      "image/png": "[encoded data removed]",
      "text/plain": [
       "<IPython.core.display.Image object>"
      ]
     },
     "metadata": {},
     "output_type": "display_data"
    },
    {
     "name": "stdout",
     "output_type": "stream",
     "text": [
      "Corpus label: 0 ==> airplane\n",
      "Top 5 results: [0 6 9 3 2] ==> ['airplane', 'frog', 'truck', 'cat', 'bird']\n",
      "Image 180:\n"
     ]
    },
    {
     "data": {
      "image/png": "[encoded data removed]",
      "text/plain": [
       "<IPython.core.display.Image object>"
      ]
     },
     "metadata": {},
     "output_type": "display_data"
    },
    {
     "name": "stdout",
     "output_type": "stream",
     "text": [
      "Corpus label: 0 ==> airplane\n",
      "Top 5 results: [0 3 4 1 2] ==> ['airplane', 'cat', 'deer', 'automobile', 'bird']\n",
      "Image 382:\n"
     ]
    },
    {
     "data": {
      "image/png": "[encoded data removed]",
      "text/plain": [
       "<IPython.core.display.Image object>"
      ]
     },
     "metadata": {},
     "output_type": "display_data"
    },
    {
     "name": "stdout",
     "output_type": "stream",
     "text": [
      "Corpus label: 0 ==> airplane\n",
      "Top 5 results: [0 2 8 9 6] ==> ['airplane', 'bird', 'ship', 'truck', 'frog']\n",
      "Image 21:\n"
     ]
    },
    {
     "data": {
      "image/png": "[encoded data removed]",
      "text/plain": [
       "<IPython.core.display.Image object>"
      ]
     },
     "metadata": {},
     "output_type": "display_data"
    },
    {
     "name": "stdout",
     "output_type": "stream",
     "text": [
      "Corpus label: 0 ==> airplane\n",
      "Top 5 results: [0 6 8 2 7] ==> ['airplane', 'frog', 'ship', 'bird', 'horse']\n"
     ]
    }
   ],
   "source": [
    "results_report(clusters[clusters[\"c_20\"] == 1].sample(5))"
   ]
  },
  {
   "cell_type": "code",
   "execution_count": 26,
   "id": "5ac199e5-60b0-4c36-b824-43ea792c4559",
   "metadata": {},
   "outputs": [
    {
     "data": {
      "text/html": [
       "<div>\n",
       "<style scoped>\n",
       "    .dataframe tbody tr th:only-of-type {\n",
       "        vertical-align: middle;\n",
       "    }\n",
       "\n",
       "    .dataframe tbody tr th {\n",
       "        vertical-align: top;\n",
       "    }\n",
       "\n",
       "    .dataframe thead th {\n",
       "        text-align: right;\n",
       "    }\n",
       "</style>\n",
       "<table border=\"1\" class=\"dataframe\">\n",
       "  <thead>\n",
       "    <tr style=\"text-align: right;\">\n",
       "      <th></th>\n",
       "      <th></th>\n",
       "      <th>count</th>\n",
       "    </tr>\n",
       "    <tr>\n",
       "      <th>c_50</th>\n",
       "      <th>top1</th>\n",
       "      <th></th>\n",
       "    </tr>\n",
       "  </thead>\n",
       "  <tbody>\n",
       "    <tr>\n",
       "      <th rowspan=\"2\" valign=\"top\">0</th>\n",
       "      <th>0</th>\n",
       "      <td>11</td>\n",
       "    </tr>\n",
       "    <tr>\n",
       "      <th>2</th>\n",
       "      <td>3</td>\n",
       "    </tr>\n",
       "    <tr>\n",
       "      <th>1</th>\n",
       "      <th>0</th>\n",
       "      <td>39</td>\n",
       "    </tr>\n",
       "    <tr>\n",
       "      <th>2</th>\n",
       "      <th>0</th>\n",
       "      <td>89</td>\n",
       "    </tr>\n",
       "    <tr>\n",
       "      <th>3</th>\n",
       "      <th>0</th>\n",
       "      <td>839</td>\n",
       "    </tr>\n",
       "    <tr>\n",
       "      <th rowspan=\"2\" valign=\"top\">4</th>\n",
       "      <th>0</th>\n",
       "      <td>13</td>\n",
       "    </tr>\n",
       "    <tr>\n",
       "      <th>8</th>\n",
       "      <td>4</td>\n",
       "    </tr>\n",
       "    <tr>\n",
       "      <th rowspan=\"2\" valign=\"top\">5</th>\n",
       "      <th>0</th>\n",
       "      <td>11</td>\n",
       "    </tr>\n",
       "    <tr>\n",
       "      <th>9</th>\n",
       "      <td>4</td>\n",
       "    </tr>\n",
       "    <tr>\n",
       "      <th rowspan=\"2\" valign=\"top\">6</th>\n",
       "      <th>0</th>\n",
       "      <td>1</td>\n",
       "    </tr>\n",
       "    <tr>\n",
       "      <th>1</th>\n",
       "      <td>20</td>\n",
       "    </tr>\n",
       "    <tr>\n",
       "      <th>7</th>\n",
       "      <th>1</th>\n",
       "      <td>961</td>\n",
       "    </tr>\n",
       "    <tr>\n",
       "      <th>8</th>\n",
       "      <th>1</th>\n",
       "      <td>28</td>\n",
       "    </tr>\n",
       "    <tr>\n",
       "      <th>9</th>\n",
       "      <th>2</th>\n",
       "      <td>808</td>\n",
       "    </tr>\n",
       "    <tr>\n",
       "      <th>10</th>\n",
       "      <th>2</th>\n",
       "      <td>12</td>\n",
       "    </tr>\n",
       "    <tr>\n",
       "      <th rowspan=\"2\" valign=\"top\">11</th>\n",
       "      <th>2</th>\n",
       "      <td>13</td>\n",
       "    </tr>\n",
       "    <tr>\n",
       "      <th>3</th>\n",
       "      <td>3</td>\n",
       "    </tr>\n",
       "    <tr>\n",
       "      <th>12</th>\n",
       "      <th>2</th>\n",
       "      <td>89</td>\n",
       "    </tr>\n",
       "    <tr>\n",
       "      <th>13</th>\n",
       "      <th>2</th>\n",
       "      <td>43</td>\n",
       "    </tr>\n",
       "    <tr>\n",
       "      <th>14</th>\n",
       "      <th>2</th>\n",
       "      <td>9</td>\n",
       "    </tr>\n",
       "  </tbody>\n",
       "</table>\n",
       "</div>"
      ],
      "text/plain": [
       "           count\n",
       "c_50 top1       \n",
       "0    0        11\n",
       "     2         3\n",
       "1    0        39\n",
       "2    0        89\n",
       "3    0       839\n",
       "4    0        13\n",
       "     8         4\n",
       "5    0        11\n",
       "     9         4\n",
       "6    0         1\n",
       "     1        20\n",
       "7    1       961\n",
       "8    1        28\n",
       "9    2       808\n",
       "10   2        12\n",
       "11   2        13\n",
       "     3         3\n",
       "12   2        89\n",
       "13   2        43\n",
       "14   2         9"
      ]
     },
     "execution_count": 26,
     "metadata": {},
     "output_type": "execute_result"
    }
   ],
   "source": [
    "clusters.groupby([\"c_50\", \"top1\"]).agg({\"id\": \"count\"}).rename(columns={\"id\": \"count\"}).head(20)"
   ]
  },
  {
   "cell_type": "code",
   "execution_count": 27,
   "id": "b8dc0195-aad4-477e-b2f3-dce2810efb89",
   "metadata": {},
   "outputs": [
    {
     "name": "stdout",
     "output_type": "stream",
     "text": [
      "Image 882:\n"
     ]
    },
    {
     "data": {
      "image/png": "[encoded data removed]",
      "text/plain": [
       "<IPython.core.display.Image object>"
      ]
     },
     "metadata": {},
     "output_type": "display_data"
    },
    {
     "name": "stdout",
     "output_type": "stream",
     "text": [
      "Corpus label: 3 ==> cat\n",
      "Top 5 results: [0 2 3 7 1] ==> ['airplane', 'bird', 'cat', 'horse', 'automobile']\n",
      "Image 3601:\n"
     ]
    },
    {
     "data": {
      "image/png": "[encoded data removed]",
      "text/plain": [
       "<IPython.core.display.Image object>"
      ]
     },
     "metadata": {},
     "output_type": "display_data"
    },
    {
     "name": "stdout",
     "output_type": "stream",
     "text": [
      "Corpus label: 0 ==> airplane\n",
      "Top 5 results: [2 0 3 4 5] ==> ['bird', 'airplane', 'cat', 'deer', 'dog']\n",
      "Image 4286:\n"
     ]
    },
    {
     "data": {
      "image/png": "[encoded data removed]",
      "text/plain": [
       "<IPython.core.display.Image object>"
      ]
     },
     "metadata": {},
     "output_type": "display_data"
    },
    {
     "name": "stdout",
     "output_type": "stream",
     "text": [
      "Corpus label: 2 ==> bird\n",
      "Top 5 results: [0 2 3 9 4] ==> ['airplane', 'bird', 'cat', 'truck', 'deer']\n",
      "Image 125:\n"
     ]
    },
    {
     "data": {
      "image/png": "[encoded data removed]",
      "text/plain": [
       "<IPython.core.display.Image object>"
      ]
     },
     "metadata": {},
     "output_type": "display_data"
    },
    {
     "name": "stdout",
     "output_type": "stream",
     "text": [
      "Corpus label: 0 ==> airplane\n",
      "Top 5 results: [0 2 9 4 1] ==> ['airplane', 'bird', 'truck', 'deer', 'automobile']\n",
      "Image 655:\n"
     ]
    },
    {
     "data": {
      "image/png": "[encoded data removed]",
      "text/plain": [
       "<IPython.core.display.Image object>"
      ]
     },
     "metadata": {},
     "output_type": "display_data"
    },
    {
     "name": "stdout",
     "output_type": "stream",
     "text": [
      "Corpus label: 2 ==> bird\n",
      "Top 5 results: [0 2 4 7 8] ==> ['airplane', 'bird', 'deer', 'horse', 'ship']\n"
     ]
    }
   ],
   "source": [
    "results_report(clusters[clusters[\"c_50\"] == 0].sample(5))"
   ]
  },
  {
   "cell_type": "code",
   "execution_count": 28,
   "id": "b7d7e86e-31a8-4641-bcd9-e3e2d8c6dcdb",
   "metadata": {},
   "outputs": [
    {
     "name": "stdout",
     "output_type": "stream",
     "text": [
      "Image 5074:\n"
     ]
    },
    {
     "data": {
      "image/png": "[encoded data removed]",
      "text/plain": [
       "<IPython.core.display.Image object>"
      ]
     },
     "metadata": {},
     "output_type": "display_data"
    },
    {
     "name": "stdout",
     "output_type": "stream",
     "text": [
      "Corpus label: 0 ==> airplane\n",
      "Top 5 results: [0 8 3 9 2] ==> ['airplane', 'ship', 'cat', 'truck', 'bird']\n",
      "Image 7816:\n"
     ]
    },
    {
     "data": {
      "image/png": "[encoded data removed]",
      "text/plain": [
       "<IPython.core.display.Image object>"
      ]
     },
     "metadata": {},
     "output_type": "display_data"
    },
    {
     "name": "stdout",
     "output_type": "stream",
     "text": [
      "Corpus label: 0 ==> airplane\n",
      "Top 5 results: [0 3 4 2 7] ==> ['airplane', 'cat', 'deer', 'bird', 'horse']\n",
      "Image 2643:\n"
     ]
    },
    {
     "data": {
      "image/png": "[encoded data removed]",
      "text/plain": [
       "<IPython.core.display.Image object>"
      ]
     },
     "metadata": {},
     "output_type": "display_data"
    },
    {
     "name": "stdout",
     "output_type": "stream",
     "text": [
      "Corpus label: 3 ==> cat\n",
      "Top 5 results: [0 3 4 5 7] ==> ['airplane', 'cat', 'deer', 'dog', 'horse']\n",
      "Image 7861:\n"
     ]
    },
    {
     "data": {
      "image/png": "[encoded data removed]",
      "text/plain": [
       "<IPython.core.display.Image object>"
      ]
     },
     "metadata": {},
     "output_type": "display_data"
    },
    {
     "name": "stdout",
     "output_type": "stream",
     "text": [
      "Corpus label: 0 ==> airplane\n",
      "Top 5 results: [0 9 7 2 6] ==> ['airplane', 'truck', 'horse', 'bird', 'frog']\n",
      "Image 7843:\n"
     ]
    },
    {
     "data": {
      "image/png": "[encoded data removed]",
      "text/plain": [
       "<IPython.core.display.Image object>"
      ]
     },
     "metadata": {},
     "output_type": "display_data"
    },
    {
     "name": "stdout",
     "output_type": "stream",
     "text": [
      "Corpus label: 0 ==> airplane\n",
      "Top 5 results: [0 3 7 9 4] ==> ['airplane', 'cat', 'horse', 'truck', 'deer']\n"
     ]
    }
   ],
   "source": [
    "results_report(clusters[clusters[\"c_50\"] == 1].sample(5))"
   ]
  },
  {
   "cell_type": "code",
   "execution_count": 29,
   "id": "130788fd-837b-4d83-bf08-56a3bffe2d97",
   "metadata": {},
   "outputs": [
    {
     "data": {
      "text/html": [
       "<div>\n",
       "<style scoped>\n",
       "    .dataframe tbody tr th:only-of-type {\n",
       "        vertical-align: middle;\n",
       "    }\n",
       "\n",
       "    .dataframe tbody tr th {\n",
       "        vertical-align: top;\n",
       "    }\n",
       "\n",
       "    .dataframe thead th {\n",
       "        text-align: right;\n",
       "    }\n",
       "</style>\n",
       "<table border=\"1\" class=\"dataframe\">\n",
       "  <thead>\n",
       "    <tr style=\"text-align: right;\">\n",
       "      <th></th>\n",
       "      <th></th>\n",
       "      <th>count</th>\n",
       "    </tr>\n",
       "    <tr>\n",
       "      <th>c_100</th>\n",
       "      <th>top1</th>\n",
       "      <th></th>\n",
       "    </tr>\n",
       "  </thead>\n",
       "  <tbody>\n",
       "    <tr>\n",
       "      <th>0</th>\n",
       "      <th>0</th>\n",
       "      <td>19</td>\n",
       "    </tr>\n",
       "    <tr>\n",
       "      <th rowspan=\"2\" valign=\"top\">1</th>\n",
       "      <th>0</th>\n",
       "      <td>10</td>\n",
       "    </tr>\n",
       "    <tr>\n",
       "      <th>2</th>\n",
       "      <td>3</td>\n",
       "    </tr>\n",
       "    <tr>\n",
       "      <th>2</th>\n",
       "      <th>0</th>\n",
       "      <td>8</td>\n",
       "    </tr>\n",
       "    <tr>\n",
       "      <th rowspan=\"2\" valign=\"top\">3</th>\n",
       "      <th>0</th>\n",
       "      <td>4</td>\n",
       "    </tr>\n",
       "    <tr>\n",
       "      <th>6</th>\n",
       "      <td>1</td>\n",
       "    </tr>\n",
       "    <tr>\n",
       "      <th>4</th>\n",
       "      <th>0</th>\n",
       "      <td>3</td>\n",
       "    </tr>\n",
       "    <tr>\n",
       "      <th>5</th>\n",
       "      <th>0</th>\n",
       "      <td>7</td>\n",
       "    </tr>\n",
       "    <tr>\n",
       "      <th>6</th>\n",
       "      <th>0</th>\n",
       "      <td>60</td>\n",
       "    </tr>\n",
       "    <tr>\n",
       "      <th>7</th>\n",
       "      <th>0</th>\n",
       "      <td>712</td>\n",
       "    </tr>\n",
       "    <tr>\n",
       "      <th>8</th>\n",
       "      <th>0</th>\n",
       "      <td>150</td>\n",
       "    </tr>\n",
       "    <tr>\n",
       "      <th rowspan=\"2\" valign=\"top\">9</th>\n",
       "      <th>0</th>\n",
       "      <td>7</td>\n",
       "    </tr>\n",
       "    <tr>\n",
       "      <th>8</th>\n",
       "      <td>5</td>\n",
       "    </tr>\n",
       "    <tr>\n",
       "      <th>10</th>\n",
       "      <th>0</th>\n",
       "      <td>10</td>\n",
       "    </tr>\n",
       "    <tr>\n",
       "      <th>11</th>\n",
       "      <th>0</th>\n",
       "      <td>11</td>\n",
       "    </tr>\n",
       "    <tr>\n",
       "      <th rowspan=\"2\" valign=\"top\">12</th>\n",
       "      <th>0</th>\n",
       "      <td>3</td>\n",
       "    </tr>\n",
       "    <tr>\n",
       "      <th>9</th>\n",
       "      <td>4</td>\n",
       "    </tr>\n",
       "    <tr>\n",
       "      <th>13</th>\n",
       "      <th>1</th>\n",
       "      <td>9</td>\n",
       "    </tr>\n",
       "    <tr>\n",
       "      <th rowspan=\"2\" valign=\"top\">14</th>\n",
       "      <th>1</th>\n",
       "      <td>6</td>\n",
       "    </tr>\n",
       "    <tr>\n",
       "      <th>8</th>\n",
       "      <td>2</td>\n",
       "    </tr>\n",
       "  </tbody>\n",
       "</table>\n",
       "</div>"
      ],
      "text/plain": [
       "            count\n",
       "c_100 top1       \n",
       "0     0        19\n",
       "1     0        10\n",
       "      2         3\n",
       "2     0         8\n",
       "3     0         4\n",
       "      6         1\n",
       "4     0         3\n",
       "5     0         7\n",
       "6     0        60\n",
       "7     0       712\n",
       "8     0       150\n",
       "9     0         7\n",
       "      8         5\n",
       "10    0        10\n",
       "11    0        11\n",
       "12    0         3\n",
       "      9         4\n",
       "13    1         9\n",
       "14    1         6\n",
       "      8         2"
      ]
     },
     "execution_count": 29,
     "metadata": {},
     "output_type": "execute_result"
    }
   ],
   "source": [
    "clusters.groupby([\"c_100\", \"top1\"]).agg({\"id\": \"count\"}).rename(columns={\"id\": \"count\"}).head(20)"
   ]
  },
  {
   "cell_type": "markdown",
   "id": "f818e982-0cf3-4b6f-8357-dfb61039cbe8",
   "metadata": {},
   "source": [
    "### Relationship between cluster ID and corpus label\n"
   ]
  },
  {
   "cell_type": "code",
   "execution_count": 30,
   "id": "01bd8fde-31e5-4dd9-acef-b3b170264f34",
   "metadata": {},
   "outputs": [
    {
     "data": {
      "text/html": [
       "<div>\n",
       "<style scoped>\n",
       "    .dataframe tbody tr th:only-of-type {\n",
       "        vertical-align: middle;\n",
       "    }\n",
       "\n",
       "    .dataframe tbody tr th {\n",
       "        vertical-align: top;\n",
       "    }\n",
       "\n",
       "    .dataframe thead th {\n",
       "        text-align: right;\n",
       "    }\n",
       "</style>\n",
       "<table border=\"1\" class=\"dataframe\">\n",
       "  <thead>\n",
       "    <tr style=\"text-align: right;\">\n",
       "      <th></th>\n",
       "      <th></th>\n",
       "      <th>count</th>\n",
       "    </tr>\n",
       "    <tr>\n",
       "      <th>c_10</th>\n",
       "      <th>label</th>\n",
       "      <th></th>\n",
       "    </tr>\n",
       "  </thead>\n",
       "  <tbody>\n",
       "    <tr>\n",
       "      <th rowspan=\"9\" valign=\"top\">0</th>\n",
       "      <th>0</th>\n",
       "      <td>943</td>\n",
       "    </tr>\n",
       "    <tr>\n",
       "      <th>2</th>\n",
       "      <td>14</td>\n",
       "    </tr>\n",
       "    <tr>\n",
       "      <th>3</th>\n",
       "      <td>8</td>\n",
       "    </tr>\n",
       "    <tr>\n",
       "      <th>4</th>\n",
       "      <td>1</td>\n",
       "    </tr>\n",
       "    <tr>\n",
       "      <th>5</th>\n",
       "      <td>2</td>\n",
       "    </tr>\n",
       "    <tr>\n",
       "      <th>6</th>\n",
       "      <td>6</td>\n",
       "    </tr>\n",
       "    <tr>\n",
       "      <th>7</th>\n",
       "      <td>6</td>\n",
       "    </tr>\n",
       "    <tr>\n",
       "      <th>8</th>\n",
       "      <td>16</td>\n",
       "    </tr>\n",
       "    <tr>\n",
       "      <th>9</th>\n",
       "      <td>10</td>\n",
       "    </tr>\n",
       "    <tr>\n",
       "      <th rowspan=\"7\" valign=\"top\">1</th>\n",
       "      <th>0</th>\n",
       "      <td>4</td>\n",
       "    </tr>\n",
       "    <tr>\n",
       "      <th>1</th>\n",
       "      <td>976</td>\n",
       "    </tr>\n",
       "    <tr>\n",
       "      <th>3</th>\n",
       "      <td>1</td>\n",
       "    </tr>\n",
       "    <tr>\n",
       "      <th>5</th>\n",
       "      <td>1</td>\n",
       "    </tr>\n",
       "    <tr>\n",
       "      <th>6</th>\n",
       "      <td>1</td>\n",
       "    </tr>\n",
       "    <tr>\n",
       "      <th>8</th>\n",
       "      <td>5</td>\n",
       "    </tr>\n",
       "    <tr>\n",
       "      <th>9</th>\n",
       "      <td>21</td>\n",
       "    </tr>\n",
       "    <tr>\n",
       "      <th rowspan=\"4\" valign=\"top\">2</th>\n",
       "      <th>0</th>\n",
       "      <td>12</td>\n",
       "    </tr>\n",
       "    <tr>\n",
       "      <th>1</th>\n",
       "      <td>1</td>\n",
       "    </tr>\n",
       "    <tr>\n",
       "      <th>2</th>\n",
       "      <td>923</td>\n",
       "    </tr>\n",
       "    <tr>\n",
       "      <th>3</th>\n",
       "      <td>16</td>\n",
       "    </tr>\n",
       "  </tbody>\n",
       "</table>\n",
       "</div>"
      ],
      "text/plain": [
       "            count\n",
       "c_10 label       \n",
       "0    0        943\n",
       "     2         14\n",
       "     3          8\n",
       "     4          1\n",
       "     5          2\n",
       "     6          6\n",
       "     7          6\n",
       "     8         16\n",
       "     9         10\n",
       "1    0          4\n",
       "     1        976\n",
       "     3          1\n",
       "     5          1\n",
       "     6          1\n",
       "     8          5\n",
       "     9         21\n",
       "2    0         12\n",
       "     1          1\n",
       "     2        923\n",
       "     3         16"
      ]
     },
     "execution_count": 30,
     "metadata": {},
     "output_type": "execute_result"
    }
   ],
   "source": [
    "clusters.groupby([\"c_10\", \"label\"]).agg({\"id\": \"count\"}).rename(columns={\"id\": \"count\"}).head(20)"
   ]
  },
  {
   "cell_type": "code",
   "execution_count": 31,
   "id": "66140bfa-8556-4239-ae2a-b040e2e308f8",
   "metadata": {},
   "outputs": [
    {
     "data": {
      "text/html": [
       "<div>\n",
       "<style scoped>\n",
       "    .dataframe tbody tr th:only-of-type {\n",
       "        vertical-align: middle;\n",
       "    }\n",
       "\n",
       "    .dataframe tbody tr th {\n",
       "        vertical-align: top;\n",
       "    }\n",
       "\n",
       "    .dataframe thead th {\n",
       "        text-align: right;\n",
       "    }\n",
       "</style>\n",
       "<table border=\"1\" class=\"dataframe\">\n",
       "  <thead>\n",
       "    <tr style=\"text-align: right;\">\n",
       "      <th></th>\n",
       "      <th></th>\n",
       "      <th>count</th>\n",
       "    </tr>\n",
       "    <tr>\n",
       "      <th>c_20</th>\n",
       "      <th>label</th>\n",
       "      <th></th>\n",
       "    </tr>\n",
       "  </thead>\n",
       "  <tbody>\n",
       "    <tr>\n",
       "      <th rowspan=\"8\" valign=\"top\">0</th>\n",
       "      <th>0</th>\n",
       "      <td>52</td>\n",
       "    </tr>\n",
       "    <tr>\n",
       "      <th>2</th>\n",
       "      <td>8</td>\n",
       "    </tr>\n",
       "    <tr>\n",
       "      <th>3</th>\n",
       "      <td>6</td>\n",
       "    </tr>\n",
       "    <tr>\n",
       "      <th>5</th>\n",
       "      <td>1</td>\n",
       "    </tr>\n",
       "    <tr>\n",
       "      <th>6</th>\n",
       "      <td>3</td>\n",
       "    </tr>\n",
       "    <tr>\n",
       "      <th>7</th>\n",
       "      <td>4</td>\n",
       "    </tr>\n",
       "    <tr>\n",
       "      <th>8</th>\n",
       "      <td>5</td>\n",
       "    </tr>\n",
       "    <tr>\n",
       "      <th>9</th>\n",
       "      <td>7</td>\n",
       "    </tr>\n",
       "    <tr>\n",
       "      <th rowspan=\"9\" valign=\"top\">1</th>\n",
       "      <th>0</th>\n",
       "      <td>887</td>\n",
       "    </tr>\n",
       "    <tr>\n",
       "      <th>2</th>\n",
       "      <td>5</td>\n",
       "    </tr>\n",
       "    <tr>\n",
       "      <th>3</th>\n",
       "      <td>2</td>\n",
       "    </tr>\n",
       "    <tr>\n",
       "      <th>4</th>\n",
       "      <td>1</td>\n",
       "    </tr>\n",
       "    <tr>\n",
       "      <th>5</th>\n",
       "      <td>1</td>\n",
       "    </tr>\n",
       "    <tr>\n",
       "      <th>6</th>\n",
       "      <td>3</td>\n",
       "    </tr>\n",
       "    <tr>\n",
       "      <th>7</th>\n",
       "      <td>2</td>\n",
       "    </tr>\n",
       "    <tr>\n",
       "      <th>8</th>\n",
       "      <td>11</td>\n",
       "    </tr>\n",
       "    <tr>\n",
       "      <th>9</th>\n",
       "      <td>3</td>\n",
       "    </tr>\n",
       "    <tr>\n",
       "      <th rowspan=\"3\" valign=\"top\">2</th>\n",
       "      <th>0</th>\n",
       "      <td>3</td>\n",
       "    </tr>\n",
       "    <tr>\n",
       "      <th>1</th>\n",
       "      <td>948</td>\n",
       "    </tr>\n",
       "    <tr>\n",
       "      <th>8</th>\n",
       "      <td>2</td>\n",
       "    </tr>\n",
       "  </tbody>\n",
       "</table>\n",
       "</div>"
      ],
      "text/plain": [
       "            count\n",
       "c_20 label       \n",
       "0    0         52\n",
       "     2          8\n",
       "     3          6\n",
       "     5          1\n",
       "     6          3\n",
       "     7          4\n",
       "     8          5\n",
       "     9          7\n",
       "1    0        887\n",
       "     2          5\n",
       "     3          2\n",
       "     4          1\n",
       "     5          1\n",
       "     6          3\n",
       "     7          2\n",
       "     8         11\n",
       "     9          3\n",
       "2    0          3\n",
       "     1        948\n",
       "     8          2"
      ]
     },
     "execution_count": 31,
     "metadata": {},
     "output_type": "execute_result"
    }
   ],
   "source": [
    "clusters.groupby([\"c_20\", \"label\"]).agg({\"id\": \"count\"}).rename(columns={\"id\": \"count\"}).head(20)"
   ]
  },
  {
   "cell_type": "code",
   "execution_count": 32,
   "id": "d8edf22c-79bc-4af8-a48e-5b28a2311b0f",
   "metadata": {},
   "outputs": [
    {
     "data": {
      "text/html": [
       "<div>\n",
       "<style scoped>\n",
       "    .dataframe tbody tr th:only-of-type {\n",
       "        vertical-align: middle;\n",
       "    }\n",
       "\n",
       "    .dataframe tbody tr th {\n",
       "        vertical-align: top;\n",
       "    }\n",
       "\n",
       "    .dataframe thead th {\n",
       "        text-align: right;\n",
       "    }\n",
       "</style>\n",
       "<table border=\"1\" class=\"dataframe\">\n",
       "  <thead>\n",
       "    <tr style=\"text-align: right;\">\n",
       "      <th></th>\n",
       "      <th></th>\n",
       "      <th>count</th>\n",
       "    </tr>\n",
       "    <tr>\n",
       "      <th>c_100</th>\n",
       "      <th>label</th>\n",
       "      <th></th>\n",
       "    </tr>\n",
       "  </thead>\n",
       "  <tbody>\n",
       "    <tr>\n",
       "      <th rowspan=\"5\" valign=\"top\">0</th>\n",
       "      <th>0</th>\n",
       "      <td>14</td>\n",
       "    </tr>\n",
       "    <tr>\n",
       "      <th>2</th>\n",
       "      <td>1</td>\n",
       "    </tr>\n",
       "    <tr>\n",
       "      <th>5</th>\n",
       "      <td>1</td>\n",
       "    </tr>\n",
       "    <tr>\n",
       "      <th>6</th>\n",
       "      <td>1</td>\n",
       "    </tr>\n",
       "    <tr>\n",
       "      <th>9</th>\n",
       "      <td>2</td>\n",
       "    </tr>\n",
       "    <tr>\n",
       "      <th rowspan=\"4\" valign=\"top\">1</th>\n",
       "      <th>0</th>\n",
       "      <td>6</td>\n",
       "    </tr>\n",
       "    <tr>\n",
       "      <th>2</th>\n",
       "      <td>5</td>\n",
       "    </tr>\n",
       "    <tr>\n",
       "      <th>3</th>\n",
       "      <td>1</td>\n",
       "    </tr>\n",
       "    <tr>\n",
       "      <th>9</th>\n",
       "      <td>1</td>\n",
       "    </tr>\n",
       "    <tr>\n",
       "      <th rowspan=\"4\" valign=\"top\">2</th>\n",
       "      <th>0</th>\n",
       "      <td>2</td>\n",
       "    </tr>\n",
       "    <tr>\n",
       "      <th>3</th>\n",
       "      <td>4</td>\n",
       "    </tr>\n",
       "    <tr>\n",
       "      <th>6</th>\n",
       "      <td>1</td>\n",
       "    </tr>\n",
       "    <tr>\n",
       "      <th>7</th>\n",
       "      <td>1</td>\n",
       "    </tr>\n",
       "    <tr>\n",
       "      <th rowspan=\"2\" valign=\"top\">3</th>\n",
       "      <th>0</th>\n",
       "      <td>3</td>\n",
       "    </tr>\n",
       "    <tr>\n",
       "      <th>6</th>\n",
       "      <td>2</td>\n",
       "    </tr>\n",
       "    <tr>\n",
       "      <th rowspan=\"2\" valign=\"top\">4</th>\n",
       "      <th>2</th>\n",
       "      <td>2</td>\n",
       "    </tr>\n",
       "    <tr>\n",
       "      <th>7</th>\n",
       "      <td>1</td>\n",
       "    </tr>\n",
       "    <tr>\n",
       "      <th rowspan=\"3\" valign=\"top\">5</th>\n",
       "      <th>0</th>\n",
       "      <td>4</td>\n",
       "    </tr>\n",
       "    <tr>\n",
       "      <th>3</th>\n",
       "      <td>1</td>\n",
       "    </tr>\n",
       "    <tr>\n",
       "      <th>7</th>\n",
       "      <td>2</td>\n",
       "    </tr>\n",
       "  </tbody>\n",
       "</table>\n",
       "</div>"
      ],
      "text/plain": [
       "             count\n",
       "c_100 label       \n",
       "0     0         14\n",
       "      2          1\n",
       "      5          1\n",
       "      6          1\n",
       "      9          2\n",
       "1     0          6\n",
       "      2          5\n",
       "      3          1\n",
       "      9          1\n",
       "2     0          2\n",
       "      3          4\n",
       "      6          1\n",
       "      7          1\n",
       "3     0          3\n",
       "      6          2\n",
       "4     2          2\n",
       "      7          1\n",
       "5     0          4\n",
       "      3          1\n",
       "      7          2"
      ]
     },
     "execution_count": 32,
     "metadata": {},
     "output_type": "execute_result"
    }
   ],
   "source": [
    "clusters.groupby([\"c_100\", \"label\"]).agg({\"id\": \"count\"}).rename(columns={\"id\": \"count\"}).head(20)"
   ]
  },
  {
   "cell_type": "markdown",
   "id": "8338d56c-c177-4cd2-96f8-dbe06fc8a4ea",
   "metadata": {},
   "source": [
    "## Method 2: Matrix factorization\n",
    "\n",
    "In this approach, we factor the model's output probabilities into a noise transition matrix and a matrix of true class weights.\n",
    "\n",
    "This factorization is bit tricky because want the factors to be as large as or larger than the original matrices. So we need to regularize and constrain aggressively in order to have a problem formulation that is not underspecified.\n",
    "\n",
    "### Baseline: Scikit learn NMF out of the box\n",
    "\n",
    "For starters, we'll try a canned nonnegative matrix factorization algorithm from sklearn. This algorithm allows for both L1 and L2 regularization. See docs [here](https://scikit-learn.org/stable/modules/generated/sklearn.decomposition.NMF.html)."
   ]
  },
  {
   "cell_type": "code",
   "execution_count": 33,
   "id": "9ed306c4-1b6f-4337-8c65-dc471fffc618",
   "metadata": {},
   "outputs": [],
   "source": [
    "num_subclasses = 20\n",
    "\n",
    "# Best regularization coefficients I've been able to find by trial and error\n",
    "left_reg_coeff = 1e-3\n",
    "top_reg_coeff = 1e0\n",
    "\n",
    "# Optionally sample to make things faster\n",
    "num_examples = 10000\n",
    "if num_examples > len(c_test.index):\n",
    "    raise ValueError(f\"Too many examples requested\"\n",
    "                     f\"({num_examples} > {len(c_test.index)}\")\n",
    "\n",
    "\n",
    "model_probs = c_test.sample(num_examples)[\"probs\"].to_numpy()\n",
    "\n",
    "nmf = sklearn.decomposition.NMF(n_components=num_subclasses,\n",
    "                                init=\"random\",\n",
    "                                alpha_H=top_reg_coeff,\n",
    "                                alpha_W=left_reg_coeff,\n",
    "                                l1_ratio=1e-5,\n",
    "                                max_iter=100000\n",
    "                               )\n",
    "left_factor = nmf.fit_transform(model_probs)\n",
    "top_factor = nmf.components_"
   ]
  },
  {
   "cell_type": "code",
   "execution_count": 34,
   "id": "fedd8a59-3cfc-482b-bfa9-bad08514d98f",
   "metadata": {},
   "outputs": [
    {
     "data": {
      "text/plain": [
       "<matplotlib.image.AxesImage at 0x7fc3d8125d30>"
      ]
     },
     "execution_count": 34,
     "metadata": {},
     "output_type": "execute_result"
    },
    {
     "data": {
      "image/png": "[encoded data removed]",
      "text/plain": [
       "<Figure size 432x288 with 1 Axes>"
      ]
     },
     "metadata": {
      "needs_background": "light"
     },
     "output_type": "display_data"
    }
   ],
   "source": [
    "plt.imshow(top_factor)"
   ]
  },
  {
   "cell_type": "code",
   "execution_count": 35,
   "id": "1aca828f-4bd6-4d9d-8853-3cb492aa3e50",
   "metadata": {},
   "outputs": [
    {
     "data": {
      "text/plain": [
       "<matplotlib.image.AxesImage at 0x7fc429b893d0>"
      ]
     },
     "execution_count": 35,
     "metadata": {},
     "output_type": "execute_result"
    },
    {
     "data": {
      "image/png": "[encoded data removed]",
      "text/plain": [
       "<Figure size 432x288 with 1 Axes>"
      ]
     },
     "metadata": {
      "needs_background": "light"
     },
     "output_type": "display_data"
    }
   ],
   "source": [
    "epsilon = 1e-7\n",
    "plt.imshow(np.log(np.maximum(top_factor, epsilon)))"
   ]
  },
  {
   "cell_type": "code",
   "execution_count": 36,
   "id": "692e6c3a-c01d-4d82-bc5f-c8e74ae0fa6f",
   "metadata": {},
   "outputs": [
    {
     "data": {
      "text/plain": [
       "array([0.00332567, 0.00125191, 0.03061325, 0.00671826, 0.91901054,\n",
       "       0.00639591, 0.00450338, 0.02444346, 0.00209256, 0.00164505])"
      ]
     },
     "execution_count": 36,
     "metadata": {},
     "output_type": "execute_result"
    }
   ],
   "source": [
    "top_factor[0] / np.sum(top_factor[0])"
   ]
  },
  {
   "cell_type": "code",
   "execution_count": 37,
   "id": "fc032533-3a2e-455f-b8a5-27484fe2e501",
   "metadata": {},
   "outputs": [
    {
     "data": {
      "text/plain": [
       "array([0.04228952, 0.08770215, 0.14741831, 0.12264489, 0.14682944,\n",
       "       0.1068121 , 0.04316855, 0.027288  , 0.12813919, 0.11769322,\n",
       "       0.08891143, 0.03416083, 0.07420616, 0.06223421, 0.13777693,\n",
       "       0.14720201, 0.09947897, 0.        , 0.14563985, 0.11534401])"
      ]
     },
     "execution_count": 37,
     "metadata": {},
     "output_type": "execute_result"
    }
   ],
   "source": [
    "# How close are the \"probabilities\" from NMF to summing to 1?\n",
    "np.sum(top_factor, axis=1)"
   ]
  },
  {
   "cell_type": "code",
   "execution_count": 38,
   "id": "f1856093-e973-440c-90af-f71db8dfb4cd",
   "metadata": {},
   "outputs": [
    {
     "data": {
      "text/plain": [
       "<matplotlib.image.AxesImage at 0x7fc439452340>"
      ]
     },
     "execution_count": 38,
     "metadata": {},
     "output_type": "execute_result"
    },
    {
     "data": {
      "image/png": "[encoded data removed]",
      "text/plain": [
       "<Figure size 432x288 with 1 Axes>"
      ]
     },
     "metadata": {
      "needs_background": "light"
     },
     "output_type": "display_data"
    }
   ],
   "source": [
    "plt.imshow(np.log(np.maximum(left_factor[:15], epsilon)))"
   ]
  },
  {
   "cell_type": "markdown",
   "id": "9e172b93-6828-48c8-ba1c-141af8cb7a35",
   "metadata": {},
   "source": [
    "The NMF clustering tends to produce one cluster per class. Give the algorithm more than 10 clusters and it splits a given class roughly 50-50 between two more or less identical clusters.  Tweaking the regularization doesn't really help, because the library function always uses the same ratio of L1 to L2 regularization for both factors.\n",
    "\n",
    "A secondary issue is that the probabilities in each row of the transition matrix don't sum to 1, and the total sum varies from one cluster to the next."
   ]
  },
  {
   "cell_type": "markdown",
   "id": "08d7662c-ec01-4b93-bb11-0b9e27654d15",
   "metadata": {},
   "source": [
    "### Approach 2: ALS with regularization and constraints\n",
    "\n",
    "This approach to factorization factorizes the model outputs matrix using Alternating Least Squares while applying different regularizations and constraints to the two factors. We want the top factor (the transition matrix) to be dense and to have each row sum to exactly 1. We want the left factor (model's probabilities of subclasses) to be sparse and to have each row sum to exactly 1.\n",
    "\n",
    "#### Objective functions\n",
    "We'll use `scipy.optimize.mimimize` to set up and solve the two minimization problems. First we define the objective functions."
   ]
  },
  {
   "cell_type": "code",
   "execution_count": 39,
   "id": "101e77d0-1c05-4cb1-8e68-1e4a4b8de3e2",
   "metadata": {},
   "outputs": [],
   "source": [
    "def base_loss(left_factor: np.ndarray, top_factor: np.ndarray,\n",
    "              model_probs: np.ndarray) -> float:\n",
    "    \"\"\"\n",
    "    :param left_factor: Current value of the left factor as a 2D ndarray\n",
    "    :param top_factor: Current value of the top factor as a 2D ndarray\n",
    "    :param model_probs: 2D ndarray of returned probabilities from the model.\n",
    "    \n",
    "    :returns: Base component of the loss for the matrix factorization\n",
    "     problem. This component measures the difference between the product\n",
    "     and the target product.\n",
    "    \"\"\"\n",
    "    product = np.matmul(left_factor, top_factor)\n",
    "    \n",
    "    # Original version: L2 norm, i.e. Frobenius norm\n",
    "    return np.linalg.norm(product - model_probs)\n",
    "    \n",
    "    # Alternative: Plain difference.\n",
    "    #return np.sum(np.abs(product - model_probs))\n",
    "\n",
    "def top_factor_loss(x: np.ndarray,\n",
    "                    left_factor: np.ndarray,\n",
    "                    model_probs: np.ndarray,\n",
    "                    top_reg_coeff: float) -> float:\n",
    "    \"\"\"\n",
    "    :param x: The coefficients of the top factor, flattened into a \n",
    "     1D array per the ``scipy.optimize.minimize`` API.\n",
    "    :param left_factor: Current value of the left factor as a 2D ndarray\n",
    "    :param model_probs: 2D ndarray of returned probabilities from the model.\n",
    "    :param top_reg_coeff: Regularization coefficient for the value of the\n",
    "     top factor, which is L2 regularized.\n",
    "\n",
    "    :returns: Total loss for the top factor\n",
    "    \"\"\"\n",
    "    num_subclasses = left_factor.shape[1]\n",
    "    top_factor = x.reshape((num_subclasses, num_classes))\n",
    "    product = np.matmul(left_factor, top_factor)\n",
    "\n",
    "    # We L2-regularlize the top factor to discourage the optimizer from\n",
    "    # picking the identity matrix\n",
    "    top_reg_penalty = top_reg_coeff * np.linalg.norm(top_factor)\n",
    "\n",
    "    return base_loss(left_factor, top_factor, model_probs) + top_reg_penalty\n",
    "\n",
    "\n",
    "def left_factor_loss(x: np.ndarray,\n",
    "                     top_factor: np.ndarray,\n",
    "                     model_probs: np.ndarray,\n",
    "                     left_reg_coeff: float) -> float:\n",
    "    \"\"\"\n",
    "    :param x: The coefficients of the top factor, flattened into a \n",
    "     1D array per the ``scipy.optimize.minimize`` API.\n",
    "    :param top_factor: Current value of the top factor as a 2D ndarray\n",
    "    :param model_probs: 2D ndarray of returned probabilities from the model.\n",
    "    :param left_reg_coeff: L2 regularization coefficient for the value of the\n",
    "     left factor.\n",
    "\n",
    "    :returns: Total loss for the left factor\n",
    "    \"\"\"\n",
    "    num_elements = model_probs.shape[0]\n",
    "    num_subclasses = top_factor.shape[0]\n",
    "    left_factor = x.reshape((num_elements, num_subclasses))\n",
    "    product = np.matmul(left_factor, top_factor)\n",
    "\n",
    "    # We used to L1-regularize the left factor to encourage sparsity.\n",
    "    # But that's not needed if we are constraining the sum of each row!\n",
    "    # Instead we add on L2 regularization.\n",
    "    left_reg_penalty = left_reg_coeff * np.linalg.norm(top_factor)\n",
    "\n",
    "    #return base_loss + left_reg_penalty\n",
    "    return base_loss(left_factor, top_factor, model_probs) + left_reg_penalty"
   ]
  },
  {
   "cell_type": "markdown",
   "id": "9d3ffadd-01fd-476f-961a-c302e395f9a8",
   "metadata": {},
   "source": [
    "#### Constraints\n",
    "\n",
    "Next we define constraints for the the two factors, such that things that are supposed to be probabilities will sum to 1."
   ]
  },
  {
   "cell_type": "code",
   "execution_count": 40,
   "id": "f5aa1fb6-8f5d-423b-9297-f8b13f62765e",
   "metadata": {},
   "outputs": [],
   "source": [
    "# Scipy constraint format is lb <= A.dot(x) <= ub\n",
    "# We need to generate a mask `A` with one row for each constraint.\n",
    "EPSILON = 0.0\n",
    "\n",
    "\n",
    "def top_constraint(num_subclasses: int) -> scipy.optimize.LinearConstraint:\n",
    "    \"\"\"\n",
    "    Constrain each row of the top factor to sum to 1 +/- ``EPSILON``\n",
    "    \"\"\"\n",
    "    masks = []\n",
    "    for subclass_num in range(num_subclasses):\n",
    "        mask = np.zeros((num_subclasses, num_classes))\n",
    "        mask[subclass_num, :] = 1.\n",
    "        masks.append(mask)\n",
    "    masks_matrix = np.stack(masks).reshape((num_subclasses, -1))\n",
    "\n",
    "    return scipy.optimize.LinearConstraint(\n",
    "        # A: {array_like, sparse matrix}, shape (m, n): Matrix defining the\n",
    "        # constraint.\n",
    "        masks_matrix,\n",
    "        # lb: array_like: Lower bounds\n",
    "        np.full(masks_matrix.shape[0], 1. - EPSILON),\n",
    "        # ub: array_like: Upper bounds\n",
    "        np.full(masks_matrix.shape[0], 1. + EPSILON),\n",
    "        keep_feasible=False)\n",
    "\n",
    "\n",
    "def left_constraint(num_elements: int,\n",
    "                    num_subclasses: int) -> scipy.optimize.LinearConstraint:\n",
    "    \"\"\"\n",
    "    Constrain each row of the left factor to sum to 1 +/- ``EPSILON``\n",
    "\n",
    "    :param num_elements: Number of elements in the test set\n",
    "    :param num_subclasses: Number of hidden subclasses\n",
    "    \"\"\"\n",
    "    masks = []\n",
    "    for element_num in range(num_elements):\n",
    "        mask = np.zeros((num_elements, num_subclasses))\n",
    "        mask[element_num, :] = 1.\n",
    "        masks.append(mask)\n",
    "    masks_matrix = np.stack(masks).reshape((num_elements, -1))\n",
    "\n",
    "    return scipy.optimize.LinearConstraint(\n",
    "        # A: {array_like, sparse matrix}, shape (m, n): Matrix defining the\n",
    "        # constraint.\n",
    "        masks_matrix,\n",
    "        # lb: array_like: Lower bounds\n",
    "        np.full(masks_matrix.shape[0], 1. - EPSILON),\n",
    "        # ub: array_like: Upper bounds\n",
    "        np.full(masks_matrix.shape[0], 1. + EPSILON),\n",
    "        keep_feasible=False)"
   ]
  },
  {
   "cell_type": "markdown",
   "id": "bec88425-1a44-494d-99bb-818fa3cb097e",
   "metadata": {},
   "source": [
    "#### Inner loop of ALS\n",
    "\n",
    "Now we can set up the two optimization problems for the alternating phases of ALS."
   ]
  },
  {
   "cell_type": "code",
   "execution_count": 66,
   "id": "55207cf1-6915-4897-85b6-c947b4571430",
   "metadata": {},
   "outputs": [],
   "source": [
    "def no_hessian(x: np.ndarray, *args):\n",
    "    return np.zeros(shape=(x.shape[0], x.shape[0]))\n",
    "\n",
    "def solve_for_top(model_probs: np.ndarray, left_factor: np.ndarray,\n",
    "                  top_reg_coeff: float,\n",
    "                  starting_values: np.ndarray) -> np.ndarray:\n",
    "    \"\"\"\n",
    "    Find the new optimal top factor, given a fixed value for the left factor.\n",
    "\n",
    "    :param model_probs: Matrix that we are factorizing\n",
    "    :param left_factor: Current value of the left-hand factor\n",
    "    :param top_reg_coeff: Regularization coefficient for the L2 \n",
    "     regularization of the top factor.\n",
    "\n",
    "    :returns: Tuple of:\n",
    "              * New value for top factor\n",
    "              * Detailed output of :func:`scipy.optimize.minimize`\n",
    "    \"\"\"\n",
    "    num_subclasses = left_factor.shape[1]\n",
    "\n",
    "    starting_values_flat = starting_values.flatten()\n",
    "\n",
    "    # Massage the problem into the format the scipy.optimize expects\n",
    "    fixed_args = (left_factor, model_probs, top_reg_coeff)\n",
    "    bounds = [(0., 1.) for _ in range(len(starting_values_flat))]\n",
    "    constraints = top_constraint(num_subclasses)\n",
    "\n",
    "    result = scipy.optimize.minimize(top_factor_loss, \n",
    "                                     starting_values_flat,\n",
    "                                     args=fixed_args, bounds=bounds,\n",
    "                                     method=\"trust-constr\",\n",
    "                                     constraints=constraints,\n",
    "                                     hess=no_hessian)\n",
    "    new_top_factor = result.x.reshape(starting_values.shape)\n",
    "    return new_top_factor, result\n",
    "\n",
    "\n",
    "def solve_for_left(model_probs: np.ndarray, top_factor: np.ndarray,\n",
    "                   left_reg_coeff: float,\n",
    "                   starting_values: np.ndarray) -> np.ndarray:\n",
    "    \"\"\"\n",
    "    Find the new optimal left factor, given a fixed value for the top factor.\n",
    "\n",
    "    :param model_probs: Matrix that we are factorizing\n",
    "    :param top_factor: Current value of the top (second) factor\n",
    "    :param left_reg_coeff: Regularization coefficient for the L2 \n",
    "     regularization of the left factor.\n",
    "\n",
    "    :returns: Tuple of:\n",
    "              * New value for left factor\n",
    "              * Detailed output of :func:`scipy.optimize.minimize`\n",
    "    \"\"\"\n",
    "    num_elements, num_subclasses = starting_values.shape\n",
    "    starting_values_flat = starting_values.flatten()\n",
    "\n",
    "    # Massage the problem into the format the scipy.optimize expects\n",
    "    fixed_args = (top_factor, model_probs, left_reg_coeff)\n",
    "    bounds = [(0., 1.) for _ in range(len(starting_values_flat))]\n",
    "    constraints = left_constraint(num_elements, num_subclasses)\n",
    "\n",
    "    result = scipy.optimize.minimize(left_factor_loss,\n",
    "                                     starting_values_flat,\n",
    "                                     args=fixed_args, bounds=bounds,\n",
    "                                     method=\"trust-constr\",\n",
    "                                     constraints=constraints,\n",
    "                                     hess=no_hessian)\n",
    "    new_top_factor = result.x.reshape(starting_values.shape)\n",
    "    return new_top_factor, result"
   ]
  },
  {
   "cell_type": "code",
   "execution_count": 67,
   "id": "a3c4350c-ce92-4f6d-847d-b3921f567455",
   "metadata": {},
   "outputs": [],
   "source": [
    "def make_initial_values(\n",
    "    model_results: pd.DataFrame,\n",
    "    num_subclasses: int,\n",
    "    sample_size: Optional[int] = None\n",
    ") -> Tuple[np.ndarray, np.ndarray, np.ndarray]:\n",
    "    \"\"\"\n",
    "    Create some starting values for the two factors by running K-means\n",
    "    and optionally choosing a sample of the data set.\n",
    "    :param model_results: DataFrame of model results, with one row \n",
    "     per input example. Must contain a column ``probs`` with model output\n",
    "     class probabilities.\n",
    "    :param num_subclasses: Number of hidden subclasses, i.e. shared dimension\n",
    "     of the factors.\n",
    "    :param sample_size: Optional size of the sample to take from the data\n",
    "     set, or ``None`` to use the entire data set.\n",
    "\n",
    "    :returns: Tuple of initial values for left factor and top factor and\n",
    "     (sampled) product\n",
    "    \"\"\"\n",
    "    if sample_size is not None and sample_size > len(model_results.index):\n",
    "        raise ValueError(f\"Too many examples requested\"\n",
    "                         f\"({num_examples} > {len(model_results.index)}\")\n",
    "    elif sample_size is None:\n",
    "        sample_size = len(model_results.index)\n",
    "\n",
    "    # Extract the requested sample of the input\n",
    "    product = model_results.sample(sample_size)[\"probs\"].to_numpy()\n",
    "\n",
    "    # Use kmeans to generate some starting values.\n",
    "    cluster_ids, clusters = make_clusters(product, num_subclasses)\n",
    "\n",
    "    # Dummy-code the cluster IDs from KMeans\n",
    "    left_factor = np.zeros((sample_size, num_subclasses), dtype=np.float32)\n",
    "    left_factor[range(sample_size), cluster_ids] = 1.\n",
    "    top_factor = clusters\n",
    "\n",
    "    return left_factor, top_factor, product"
   ]
  },
  {
   "cell_type": "code",
   "execution_count": 68,
   "id": "335da85e-100d-4e80-8cc6-6f928066f7a0",
   "metadata": {},
   "outputs": [],
   "source": [
    "# Set up the initial conditions and constants for the first round\n",
    "# of tests.\n",
    "num_subclasses = 20\n",
    "sample_size = 100\n",
    "left_reg_coeff = 0\n",
    "top_reg_coeff = 1e-1\n",
    "\n",
    "left_factor, top_factor, product = make_initial_values(\n",
    "    c_test, num_subclasses, sample_size)"
   ]
  },
  {
   "cell_type": "code",
   "execution_count": 69,
   "id": "c93d87ae-05e3-4adb-a6b5-c32bd9d6fa9d",
   "metadata": {},
   "outputs": [
    {
     "name": "stdout",
     "output_type": "stream",
     "text": [
      "CPU times: user 7min 2s, sys: 1min 5s, total: 8min 8s\n",
      "Wall time: 33.5 s\n"
     ]
    },
    {
     "data": {
      "text/plain": [
       "<matplotlib.image.AxesImage at 0x7fc3e8b86a00>"
      ]
     },
     "execution_count": 69,
     "metadata": {},
     "output_type": "execute_result"
    },
    {
     "data": {
      "image/png": "[encoded data removed]",
      "text/plain": [
       "<Figure size 432x288 with 3 Axes>"
      ]
     },
     "metadata": {
      "needs_background": "light"
     },
     "output_type": "display_data"
    }
   ],
   "source": [
    "%%time\n",
    "# Perform one iteration of solving for the top factor\n",
    "next_top, _ = solve_for_top(product, left_factor, top_reg_coeff,\n",
    "                            top_factor)\n",
    "\n",
    "fig, (ax1, ax2, ax3) = plt.subplots(1, 3)\n",
    "ax1.set_title(\"Before\")\n",
    "ax1.imshow(top_factor)\n",
    "ax2.set_title(\"After\")\n",
    "ax2.imshow(next_top)\n",
    "ax3.set_title(\"Diff\")\n",
    "ax3.imshow(top_factor - next_top)"
   ]
  },
  {
   "cell_type": "code",
   "execution_count": 70,
   "id": "3f9bbce4-5b14-4ee9-82f4-a781beb747d6",
   "metadata": {},
   "outputs": [
    {
     "name": "stdout",
     "output_type": "stream",
     "text": [
      "CPU times: user 26min 16s, sys: 4min 5s, total: 30min 21s\n",
      "Wall time: 2min 6s\n"
     ]
    },
    {
     "data": {
      "text/plain": [
       "<matplotlib.image.AxesImage at 0x7fc419e6abe0>"
      ]
     },
     "execution_count": 70,
     "metadata": {},
     "output_type": "execute_result"
    },
    {
     "data": {
      "image/png": "[encoded data removed]",
      "text/plain": [
       "<Figure size 432x288 with 3 Axes>"
      ]
     },
     "metadata": {
      "needs_background": "light"
     },
     "output_type": "display_data"
    }
   ],
   "source": [
    "%%time\n",
    "# Perform one iteration of solving for just the first few rows of the\n",
    "# left factor\n",
    "num_rows = 20\n",
    "\n",
    "product_rows = product[:num_rows]\n",
    "left_factor_rows = left_factor[:num_rows]\n",
    "\n",
    "next_left, _ = solve_for_left(product_rows, top_factor, left_reg_coeff,\n",
    "                              left_factor_rows)\n",
    "\n",
    "fig, (ax1, ax2, ax3) = plt.subplots(1, 3)\n",
    "ax1.set_title(\"Before\")\n",
    "ax1.imshow(left_factor_rows)\n",
    "ax2.set_title(\"After\")\n",
    "ax2.imshow(next_left)\n",
    "ax3.set_title(\"Diff\")\n",
    "ax3.imshow(left_factor_rows - next_left)"
   ]
  },
  {
   "cell_type": "markdown",
   "id": "06fd4e74-7e5e-47b9-a9de-75d537b21e51",
   "metadata": {},
   "source": [
    "Solving for the entire left factor at once doesn't scale with this solver, but we can solve quickly for one row at a time. Here's a function that wraps that approach."
   ]
  },
  {
   "cell_type": "code",
   "execution_count": 71,
   "id": "80f7bd41-22f5-4d90-9c6a-78d2f7ed0a93",
   "metadata": {},
   "outputs": [],
   "source": [
    "def solve_for_left_by_row(model_probs: np.ndarray, \n",
    "                          top_factor: np.ndarray,\n",
    "                          left_reg_coeff: float,\n",
    "                          starting_values: np.ndarray) -> np.ndarray:\n",
    "    \"\"\"\n",
    "    Find the new optimal left factor, given a fixed value for the \n",
    "    top factor. Treats each row of the left factor as an independent\n",
    "    optimization problem.\n",
    "\n",
    "    :param model_probs: Matrix that we are factorizing\n",
    "    :param top_factor: Current value of the top (second) factor\n",
    "    :param left_reg_coeff: Regularization coefficient for the L2 \n",
    "     regularization of the left factor.\n",
    "\n",
    "    :returns: new value for left factor\n",
    "    \"\"\"\n",
    "    num_elements = model_probs.shape[0]\n",
    "    result = np.zeros_like(starting_values)\n",
    "    for row_num in range(num_elements):\n",
    "        # Pull out a pair of (1 x num_subclasses) matrices\n",
    "        model_probs_row = model_probs[row_num:row_num + 1]\n",
    "        starting_values_row = starting_values[row_num:row_num + 1]\n",
    "\n",
    "        next_row_values, _ = solve_for_left(\n",
    "            model_probs_row, top_factor, left_reg_coeff,\n",
    "            starting_values_row)\n",
    "        result[row_num] = next_row_values\n",
    "    return result"
   ]
  },
  {
   "cell_type": "code",
   "execution_count": 72,
   "id": "b92116ee-54a5-4b90-a24f-ea0e76ea4842",
   "metadata": {},
   "outputs": [
    {
     "name": "stdout",
     "output_type": "stream",
     "text": [
      "CPU times: user 1min 7s, sys: 102 ms, total: 1min 7s\n",
      "Wall time: 1min 7s\n"
     ]
    },
    {
     "data": {
      "text/plain": [
       "<matplotlib.image.AxesImage at 0x7fc3d80c7760>"
      ]
     },
     "execution_count": 72,
     "metadata": {},
     "output_type": "execute_result"
    },
    {
     "data": {
      "image/png": "[encoded data removed]",
      "text/plain": [
       "<Figure size 432x288 with 3 Axes>"
      ]
     },
     "metadata": {
      "needs_background": "light"
     },
     "output_type": "display_data"
    }
   ],
   "source": [
    "%%time\n",
    "\n",
    "next_left = solve_for_left_by_row(\n",
    "    product, top_factor, left_reg_coeff, left_factor)\n",
    "\n",
    "fig, (ax1, ax2, ax3) = plt.subplots(1, 3)\n",
    "\n",
    "num_rows_to_display = 50\n",
    "ax1.set_title(\"Before\")\n",
    "ax1.imshow(left_factor[:num_rows_to_display])\n",
    "ax2.set_title(\"After\")\n",
    "ax2.imshow(next_left[:num_rows_to_display])\n",
    "ax3.set_title(\"Diff\")\n",
    "ax3.imshow(left_factor[:num_rows_to_display] - next_left[:num_rows_to_display])"
   ]
  },
  {
   "cell_type": "markdown",
   "id": "4be72d06-e63c-4d19-a55e-3ef457633606",
   "metadata": {},
   "source": [
    "#### Outer loop of ALS\n",
    "\n",
    "Now we can define the outer loop that alternates between solving for the top and left factors."
   ]
  },
  {
   "cell_type": "code",
   "execution_count": 79,
   "id": "ff54d5e9-337c-444c-9a8c-78b9eeb5bdbc",
   "metadata": {},
   "outputs": [],
   "source": [
    "def als_factorize(model_results: pd.DataFrame,\n",
    "                  num_subclasses: int,\n",
    "                  sample_size: int,\n",
    "                  num_iterations: int,\n",
    "                  top_reg_coeff: float,\n",
    "                  left_reg_coeff: float):\n",
    "    \"\"\"\n",
    "    :param model_results: DataFrame of model results, with one row \n",
    "     per input example. Must contain a column ``probs`` with model output\n",
    "     class probabilities.\n",
    "    :param num_subclasses: Number of hidden subclasses, i.e. shared dimension\n",
    "     of the factors.\n",
    "    :param sample_size: Optional size of the sample to take from the data\n",
    "     set, or ``None`` to use the entire data set.\n",
    "    :param num_iterations: Number of iterations of the outer loop to run\n",
    "    :param top_reg_coeff: Regularization coefficient for the L1 regularization\n",
    "     of the top factor\n",
    "    :param left_reg_coeff: Regularization coefficient for the L2 regularization\n",
    "     of the left factor\n",
    "    \"\"\"\n",
    "    left_factor, top_factor, product = make_initial_values(\n",
    "        model_results, num_subclasses, sample_size)\n",
    "    \n",
    "    print(f\"Initial loss: {base_loss(left_factor, top_factor, product)}\")\n",
    "    \n",
    "    # Set up the lists that will track progress across iterations\n",
    "    top_factors = [top_factor]\n",
    "    left_factors = [left_factor]\n",
    "    \n",
    "    for iter_ in range(num_iterations):\n",
    "        start_sec = time.time()\n",
    "        top_factor, _ = solve_for_top(\n",
    "            product, left_factor, top_reg_coeff, top_factor)\n",
    "        top_sec = time.time() - start_sec\n",
    "\n",
    "        left_factor = solve_for_left_by_row(\n",
    "            product, top_factor, left_reg_coeff, left_factor)\n",
    "        left_sec = time.time() - top_sec - start_sec\n",
    "        \n",
    "        top_factors.append(top_factor)\n",
    "        left_factors.append(left_factor)\n",
    "        \n",
    "        # Compute some metrics\n",
    "        actual_product = np.matmul(left_factor, top_factor)\n",
    "        top_reg_penalty = top_reg_coeff * np.linalg.norm(top_factor)\n",
    "        left_reg_penalty = left_reg_penalty = left_reg_coeff * np.linalg.norm(left_factor)\n",
    "        top_change = np.mean(np.abs(top_factors[-1] - top_factors[-2]))\n",
    "        left_change = np.mean(np.abs(left_factors[-1] - left_factors[-2]))\n",
    "        print(textwrap.dedent(f\"\"\"\\\n",
    "            After iteration {iter_}:\n",
    "               Time to compute top: {top_sec:1.1f} sec\n",
    "               Time to compute left: {left_sec:1.1f} sec\n",
    "               Loss: {base_loss(left_factor, top_factor, product)}\n",
    "               Top reg. penalty: {top_reg_penalty}\n",
    "               Left reg. penalty: {left_reg_penalty}\n",
    "               Top change: {top_change}\n",
    "               Left change: {left_change}\"\"\"))\n",
    "    return {\n",
    "        \"product\": product,\n",
    "        \"left\": left_factor,\n",
    "        \"top\": top_factor,\n",
    "        \n",
    "        \"left_history\": left_factors,\n",
    "        \"top_history\": top_factors\n",
    "    }"
   ]
  },
  {
   "cell_type": "code",
   "execution_count": 80,
   "id": "cd618ad3-075c-4abb-864b-54d94dc206b6",
   "metadata": {},
   "outputs": [
    {
     "name": "stdout",
     "output_type": "stream",
     "text": [
      "Initial loss: 2.7618797865763773\n",
      "After iteration 0:\n",
      "   Time to compute top: 51.9 sec\n",
      "   Time to compute left: 581.1 sec\n",
      "   Loss: 0.6560496766250064\n",
      "   Top reg. penalty: 0.3581356320377082\n",
      "   Left reg. penalty: 0.030430652618408202\n",
      "   Top change: 0.0008324048077957449\n",
      "   Left change: 0.009437444619834423\n",
      "After iteration 1:\n",
      "   Time to compute top: 45.4 sec\n",
      "   Time to compute left: 850.7 sec\n",
      "   Loss: 0.27319697463166576\n",
      "   Top reg. penalty: 0.33376883390482726\n",
      "   Left reg. penalty: 0.030277509689331055\n",
      "   Top change: 0.03738409170276357\n",
      "   Left change: 0.0008212859975174069\n",
      "After iteration 2:\n",
      "   Time to compute top: 27.4 sec\n",
      "   Time to compute left: 996.7 sec\n",
      "   Loss: 0.17077801743992652\n",
      "   Top reg. penalty: 0.33030736817653267\n",
      "   Left reg. penalty: 0.030191375732421876\n",
      "   Top change: 0.013093953854232414\n",
      "   Left change: 0.0003928866353817284\n",
      "After iteration 3:\n",
      "   Time to compute top: 20.4 sec\n",
      "   Time to compute left: 1114.1 sec\n",
      "   Loss: 0.12838889833881167\n",
      "   Top reg. penalty: 0.32962795244851034\n",
      "   Left reg. penalty: 0.030136310577392578\n",
      "   Top change: 0.006028601156932376\n",
      "   Left change: 0.0002491844061296433\n",
      "After iteration 4:\n",
      "   Time to compute top: 18.0 sec\n",
      "   Time to compute left: 1190.0 sec\n",
      "   Loss: 0.10729274989188557\n",
      "   Top reg. penalty: 0.32967284384835793\n",
      "   Left reg. penalty: 0.030097270965576173\n",
      "   Top change: 0.0028528245361521556\n",
      "   Left change: 0.00017954671056941152\n",
      "After iteration 5:\n",
      "   Time to compute top: 12.9 sec\n",
      "   Time to compute left: 1237.3 sec\n",
      "   Loss: 0.09788954978832039\n",
      "   Top reg. penalty: 0.3297135633589139\n",
      "   Left reg. penalty: 0.030067344665527344\n",
      "   Top change: 0.0020251894749088364\n",
      "   Left change: 0.0001442776556359604\n",
      "After iteration 6:\n",
      "   Time to compute top: 17.8 sec\n",
      "   Time to compute left: 1275.3 sec\n",
      "   Loss: 0.09787210400936226\n",
      "   Top reg. penalty: 0.32984607034803937\n",
      "   Left reg. penalty: 0.030044031143188477\n",
      "   Top change: 0.001418681390696303\n",
      "   Left change: 0.00013477055472321808\n",
      "After iteration 7:\n",
      "   Time to compute top: 22.3 sec\n",
      "   Time to compute left: 1317.9 sec\n",
      "   Loss: 0.08717456695783378\n",
      "   Top reg. penalty: 0.32999546697268\n",
      "   Left reg. penalty: 0.030024507522583007\n",
      "   Top change: 0.001077815198933065\n",
      "   Left change: 0.0001242565776919946\n",
      "After iteration 8:\n",
      "   Time to compute top: 40.5 sec\n",
      "   Time to compute left: 1395.1 sec\n",
      "   Loss: 0.0808932346065054\n",
      "   Top reg. penalty: 0.3301423718229083\n",
      "   Left reg. penalty: 0.030008378982543944\n",
      "   Top change: 0.0009930927334610708\n",
      "   Left change: 0.0001136911305366084\n",
      "After iteration 9:\n",
      "   Time to compute top: 36.1 sec\n",
      "   Time to compute left: 1333.3 sec\n",
      "   Loss: 0.07606923185928927\n",
      "   Top reg. penalty: 0.3302327733440941\n",
      "   Left reg. penalty: 0.029994796752929688\n",
      "   Top change: 0.0007504270685903774\n",
      "   Left change: 9.579153993399814e-05\n",
      "CPU times: user 4h 7min 23s, sys: 10min 41s, total: 4h 18min 4s\n",
      "Wall time: 3h 13min 4s\n"
     ]
    }
   ],
   "source": [
    "%%time\n",
    "\n",
    "# Set up parameters for a test run\n",
    "num_subclasses = 20\n",
    "sample_size = 1000\n",
    "left_reg_coeff = 1e-3\n",
    "top_reg_coeff = 1e-1\n",
    "num_iterations = 10\n",
    "\n",
    "results = als_factorize(c_test, num_subclasses,\n",
    "                  sample_size,\n",
    "                  num_iterations,\n",
    "                  top_reg_coeff,\n",
    "                  left_reg_coeff)"
   ]
  },
  {
   "cell_type": "code",
   "execution_count": 81,
   "id": "7ae88ae7-62ea-4907-8a95-eb5ea00c10ce",
   "metadata": {},
   "outputs": [
    {
     "data": {
      "text/plain": [
       "<matplotlib.image.AxesImage at 0x7fc429206af0>"
      ]
     },
     "execution_count": 81,
     "metadata": {},
     "output_type": "execute_result"
    },
    {
     "data": {
      "image/png": "[encoded data removed]",
      "text/plain": [
       "<Figure size 720x360 with 2 Axes>"
      ]
     },
     "metadata": {
      "needs_background": "light"
     },
     "output_type": "display_data"
    }
   ],
   "source": [
    "fig, (ax1, ax2) = plt.subplots(1, 2)\n",
    "fig.set_size_inches(10, 5)\n",
    "\n",
    "num_rows_to_display = num_subclasses\n",
    "ax1.set_title(f\"Left Factor (first {num_rows_to_display} rows)\")\n",
    "ax1.imshow(results[\"left\"][:num_rows_to_display])\n",
    "ax2.set_title(\"Top Factor\")\n",
    "ax2.imshow(results[\"top\"])"
   ]
  },
  {
   "cell_type": "markdown",
   "id": "569b851d-9c8d-4045-93fb-c88180a6f0da",
   "metadata": {},
   "source": [
    "### Non-working method: Solve for both factors simulataneously  \n",
    "\n",
    "Haven't been able to make this approach converge at any reasonable scale."
   ]
  },
  {
   "cell_type": "code",
   "execution_count": 51,
   "id": "e8fa225d-88f0-4d92-a01d-9cfd0da4baa2",
   "metadata": {},
   "outputs": [],
   "source": [
    "# def coeffs_to_matrices(x: np.ndarray, num_elements: int, \n",
    "#                        num_subclasses: int) -> Tuple[np.ndarray, np.ndarray]:\n",
    "#     \"\"\"\n",
    "#     :param x: The coefficients of the two factors, concatenated together\n",
    "#      into a single 1D array per the ``scipy.optimize.minimize`` API.\n",
    "#      Left factor first, top factor second.\n",
    "#     :param num_elements\n",
    "#     :param num_subclasses: Number of hidden subclasses to solve for, also\n",
    "#      known as the common dimension of the two factors.\n",
    "\n",
    "#     :returns: Tuple of the left and top factors, extracted from ``x``.\n",
    "#     \"\"\"\n",
    "#     left_factor_size = (num_elements, num_subclasses)\n",
    "#     top_factor_size = (num_subclasses, num_classes)\n",
    "#     left_factor_num_elems = left_factor_size[0] * left_factor_size[1]\n",
    "#     top_factor_num_elems = top_factor_size[0] * top_factor_size[1]\n",
    "\n",
    "#     if len(x) != left_factor_num_elems + top_factor_num_elems:\n",
    "#         # Sanity check\n",
    "#         raise ValueError(\n",
    "#             f\"Unexpected number of elements in x; \"\n",
    "#             f\"got {len(x)}, expected \"\n",
    "#             f\"{left_factor_num_elems + top_factor_num_elems}\")\n",
    "\n",
    "#     left_factor = x[0:left_factor_num_elems].reshape(left_factor_size)\n",
    "#     top_factor = x[left_factor_num_elems:].reshape(top_factor_size)\n",
    "\n",
    "#     return (left_factor, top_factor)\n",
    "\n",
    "\n",
    "# def matrices_to_coeffs(left_factor: np.ndarray, top_factor: np.ndarray) -> np.ndarray:\n",
    "#     \"\"\"\n",
    "#     Inverse of :func:`coeffs_to_matrices`.\n",
    "\n",
    "#     :param left_factor: First operand of the matrix multiply in the\n",
    "#      problem formulation.\n",
    "#     :param top_factor: Second operand of the matrix multiply.\n",
    "\n",
    "#     :returns: Concatenation of the coefficients of ``left_factor`` and \n",
    "#      ``top_factor`` into a single 1D array suitable for the API of\n",
    "#      :func:`scipy.optimize.minimize`\n",
    "#     \"\"\"\n",
    "#     return np.concatenate((left_factor.flatten(), top_factor.flatten()))\n",
    "\n",
    "\n",
    "# def loss_function(x: np.ndarray, \n",
    "#                   model_probs: np.ndarray,\n",
    "#                   num_subclasses: int,\n",
    "#                   left_reg_coeff: float,\n",
    "#                   top_reg_coeff: float) -> float:\n",
    "#     \"\"\"\n",
    "#     :param x: The coefficients of the two factors, concatenated together\n",
    "#      into a single 1D array per the ``scipy.optimize.minimize`` API.\n",
    "#      Left factor first, top factor second.\n",
    "#     :model_probs: Returned probabilities from the model.\n",
    "#     :param num_subclasses: Number of hidden subclasses to solve for, also\n",
    "#      known as the common dimension of the two factors.\n",
    "#     :param left_reg_coeff: Regularization coefficient for the value of the\n",
    "#      left factor, which is L1 regularized.\n",
    "#     :param top_reg_coeff: Regularization coefficient for the value of the\n",
    "#      top factor, which is L2 regularized.\n",
    "\n",
    "#     :returns: Total loss\n",
    "#     \"\"\"\n",
    "#     num_elements = model_probs.shape[0]\n",
    "#     (left_factor, top_factor) = coeffs_to_matrices(x, num_elements,\n",
    "#                                                    num_subclasses)\n",
    "\n",
    "#     product = np.matmul(left_factor, top_factor)\n",
    "\n",
    "#     # Basic loss is L2 norm of the difference between the product of \n",
    "#     # the factors and the model's output probabilities\n",
    "#     base_loss = np.linalg.norm(product - model_probs)\n",
    "\n",
    "#     # We L1-regularize the left factor to encourage sparsity.\n",
    "#     left_reg_penalty = left_reg_coeff * np.sum(left_factor)\n",
    "\n",
    "#     # We L2-regularlize the top factor to discourage the optimizer from\n",
    "#     # picking the identity matrix\n",
    "#     top_reg_penalty = top_reg_coeff * np.linalg.norm(top_factor)\n",
    "\n",
    "#     return base_loss + left_reg_penalty + top_reg_penalty"
   ]
  },
  {
   "cell_type": "code",
   "execution_count": 52,
   "id": "16e13e69-b2ad-48ff-b5f1-3145588ab1e8",
   "metadata": {},
   "outputs": [],
   "source": [
    "# num_subclasses = 20\n",
    "# left_reg_coeff = 0.\n",
    "# top_reg_coeff = 0.\n",
    "\n",
    "# # Optionally sample to make things faster\n",
    "# num_examples = 100\n",
    "# if num_examples > len(c_test.index):\n",
    "#     raise ValueError(f\"Too many examples requested\"\n",
    "#                      f\"({num_examples} > {len(c_test.index)}\")\n",
    "\n",
    "# # Use kmeans to generate some starting values.\n",
    "# model_probs = c_test.sample(num_examples)[\"probs\"].to_numpy()\n",
    "# kmeans = sklearn.cluster.KMeans(n_clusters=num_subclasses)\n",
    "# cluster_ids = kmeans.fit_predict(model_probs)\n",
    "# clusters = kmeans.cluster_centers_\n",
    "\n",
    "# # Dummy-code the cluster IDs from KMeans\n",
    "# left_factor = np.zeros((num_examples, num_subclasses), dtype=np.float32)\n",
    "# left_factor[range(num_examples), cluster_ids] = 1.\n",
    "# top_factor = clusters\n",
    "\n",
    "# starting_values = matrices_to_coeffs(left_factor, top_factor)\n",
    "\n",
    "# initial_loss = loss_function(starting_values, model_probs, num_subclasses, \n",
    "#                              left_reg_coeff, top_reg_coeff)\n",
    "\n",
    "# print(f\"Initial loss: {initial_loss}\")"
   ]
  },
  {
   "cell_type": "code",
   "execution_count": 53,
   "id": "906b3560-202b-483c-8f05-4298093726e1",
   "metadata": {},
   "outputs": [],
   "source": [
    "# # Scipy constraint format is lb <= A.dot(x) <= ub\n",
    "# # We need to generate a mask `A` with one row for each constraint.\n",
    "\n",
    "# # Constrain each row of the top factor to sum to 1 +/- epsilon\n",
    "# epsilon = 0.0\n",
    "\n",
    "# top_masks = []\n",
    "# for subclass_num in range(num_subclasses):\n",
    "#     mask = np.zeros((num_subclasses, num_classes))\n",
    "#     mask[subclass_num, :] = 1.\n",
    "#     top_masks.append(mask)\n",
    "\n",
    "# #np.stack(masks).reshape((num_subclasses, -1))\n",
    "\n",
    "# # Constrain each row of the left factor to sum to 1 +/- epsilon\n",
    "# left_masks = []\n",
    "# for example_num in range(num_examples):\n",
    "#     mask = np.zeros((num_examples, num_subclasses))\n",
    "#     mask[example_num, :] = 1.\n",
    "#     left_masks.append(mask)\n",
    "\n",
    "\n",
    "# # Now we need to pad each mask with the appropriate number of zeros\n",
    "# top_padding = np.zeros((num_examples, num_subclasses))\n",
    "# left_padding = np.zeros((num_subclasses, num_classes))\n",
    "\n",
    "# flat_top_masks = [\n",
    "#     matrices_to_coeffs(top_padding, mask)\n",
    "#     for mask in top_masks]\n",
    "# flat_left_masks = [\n",
    "#     matrices_to_coeffs(mask, left_padding)\n",
    "#     for mask in left_masks]\n",
    "\n",
    "# A = np.stack(flat_top_masks + flat_left_masks)\n",
    "# lb = np.full(A.shape[0], 1. - epsilon)\n",
    "# ub = np.full(A.shape[0], 1. + epsilon)\n",
    "# constraints = scipy.optimize.LinearConstraint(\n",
    "#     # A: {array_like, sparse matrix}, shape (m, n): Matrix defining the constraint.\n",
    "#     A,\n",
    "#     # lb: array_like: Lower bounds\n",
    "#     lb,\n",
    "#     # ub: array_like: Upper bounds\n",
    "#     ub,\n",
    "#     keep_feasible=False)"
   ]
  },
  {
   "cell_type": "code",
   "execution_count": 54,
   "id": "defa5ab4-e5c5-4ba4-b587-1d9b63033354",
   "metadata": {},
   "outputs": [],
   "source": [
    "# Sanity check: Everything should be exactly 1 to start out.\n",
    "# A.dot(starting_values)"
   ]
  },
  {
   "cell_type": "code",
   "execution_count": 55,
   "id": "e202cee6-b85d-4e31-9b39-4be85135570e",
   "metadata": {},
   "outputs": [],
   "source": [
    "# %%time\n",
    "\n",
    "# fixed_args = (model_probs, num_subclasses, left_reg_coeff, top_reg_coeff)\n",
    "# bounds = [(0., 1.) for _ in starting_values]\n",
    "\n",
    "\n",
    "# result = scipy.optimize.minimize(loss_function, starting_values,\n",
    "#                                  args=fixed_args, bounds=bounds,\n",
    "#                                  method=\"trust-constr\",\n",
    "#                                  constraints=constraints\n",
    "#                                  #options={\"maxiter\": 100000}\n",
    "#                                 )\n",
    "\n",
    "#result"
   ]
  },
  {
   "cell_type": "code",
   "execution_count": 56,
   "id": "8a4a377c-4e50-40de-98f2-a45cf0321115",
   "metadata": {},
   "outputs": [],
   "source": [
    "# # Unpack the model outputs\n",
    "# solution = result.x\n",
    "# left_factor, top_factor = coeffs_to_matrices(solution, num_examples, num_subclasses)"
   ]
  },
  {
   "cell_type": "code",
   "execution_count": 57,
   "id": "13ba8628-6adc-4134-9c19-f1381dd2ecc5",
   "metadata": {},
   "outputs": [],
   "source": [
    "# # Compute final loss\n",
    "# loss_function(solution, model_probs, num_subclasses, left_reg_coeff, top_reg_coeff)"
   ]
  },
  {
   "cell_type": "code",
   "execution_count": 58,
   "id": "79848ac2-939c-4864-8ddc-8c54c5bb0ea0",
   "metadata": {},
   "outputs": [],
   "source": [
    "# left_factor[4]"
   ]
  },
  {
   "cell_type": "code",
   "execution_count": 59,
   "id": "a20369c8-6173-4e8b-a119-329f8af5803a",
   "metadata": {},
   "outputs": [],
   "source": [
    "# plt.imshow(np.log(top_factor))"
   ]
  },
  {
   "cell_type": "code",
   "execution_count": 60,
   "id": "bd259418-819e-47c2-b59f-2acd9c423914",
   "metadata": {},
   "outputs": [],
   "source": [
    "# plt.imshow(np.log(left_factor[:15]))"
   ]
  },
  {
   "cell_type": "code",
   "execution_count": null,
   "id": "ff4e601a-b265-47c6-a58a-2ad7406aea7e",
   "metadata": {},
   "outputs": [],
   "source": []
  }
 ],
 "metadata": {
  "kernelspec": {
   "display_name": "Python 3 (ipykernel)",
   "language": "python",
   "name": "python3"
  },
  "language_info": {
   "codemirror_mode": {
    "name": "ipython",
    "version": 3
   },
   "file_extension": ".py",
   "mimetype": "text/x-python",
   "name": "python",
   "nbconvert_exporter": "python",
   "pygments_lexer": "ipython3",
   "version": "3.8.12"
  }
 },
 "nbformat": 4,
 "nbformat_minor": 5
}
